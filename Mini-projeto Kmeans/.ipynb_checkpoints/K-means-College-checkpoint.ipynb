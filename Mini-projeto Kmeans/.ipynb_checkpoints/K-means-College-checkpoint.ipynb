{
 "cells": [
  {
   "cell_type": "markdown",
   "id": "printable-belle",
   "metadata": {},
   "source": [
    "**Alunos: \n",
    "Jefferson Costa, \n",
    "Sávio Berdine, \n",
    "Amanda Lasserre,\n",
    "Kevin Andrews,\n",
    "Nicholas Henrique.**"
   ]
  },
  {
   "cell_type": "code",
   "execution_count": 1,
   "id": "expected-homework",
   "metadata": {},
   "outputs": [],
   "source": [
    "#-*- coding:utf-8 -*-\n",
    "import pandas as pd\n",
    "import numpy as np\n",
    "import seaborn as sns\n",
    "import matplotlib.pyplot as plt\n",
    "from sklearn.cluster import KMeans\n",
    "from sklearn.model_selection import train_test_split\n",
    "from sklearn.metrics import classification_report, accuracy_score"
   ]
  },
  {
   "cell_type": "code",
   "execution_count": 2,
   "id": "adopted-inside",
   "metadata": {},
   "outputs": [
    {
     "data": {
      "text/html": [
       "<div>\n",
       "<style scoped>\n",
       "    .dataframe tbody tr th:only-of-type {\n",
       "        vertical-align: middle;\n",
       "    }\n",
       "\n",
       "    .dataframe tbody tr th {\n",
       "        vertical-align: top;\n",
       "    }\n",
       "\n",
       "    .dataframe thead th {\n",
       "        text-align: right;\n",
       "    }\n",
       "</style>\n",
       "<table border=\"1\" class=\"dataframe\">\n",
       "  <thead>\n",
       "    <tr style=\"text-align: right;\">\n",
       "      <th></th>\n",
       "      <th>College name</th>\n",
       "      <th>Private</th>\n",
       "      <th>Apps</th>\n",
       "      <th>Accept</th>\n",
       "      <th>Enroll</th>\n",
       "      <th>Top10perc</th>\n",
       "      <th>Top25perc</th>\n",
       "      <th>F_Undergrad</th>\n",
       "      <th>P_Undergrad</th>\n",
       "      <th>Outstate</th>\n",
       "      <th>Room_Board</th>\n",
       "      <th>Books</th>\n",
       "      <th>Personal</th>\n",
       "      <th>PhD</th>\n",
       "      <th>Terminal</th>\n",
       "      <th>S_F_Ratio</th>\n",
       "      <th>perc_alumni</th>\n",
       "      <th>Expend</th>\n",
       "      <th>Grad_Rate</th>\n",
       "    </tr>\n",
       "  </thead>\n",
       "  <tbody>\n",
       "    <tr>\n",
       "      <th>0</th>\n",
       "      <td>Abilene Christian University</td>\n",
       "      <td>Yes</td>\n",
       "      <td>1660</td>\n",
       "      <td>1232</td>\n",
       "      <td>721</td>\n",
       "      <td>23</td>\n",
       "      <td>52</td>\n",
       "      <td>2885</td>\n",
       "      <td>537</td>\n",
       "      <td>7440</td>\n",
       "      <td>3300</td>\n",
       "      <td>450</td>\n",
       "      <td>2200</td>\n",
       "      <td>70</td>\n",
       "      <td>78</td>\n",
       "      <td>18.1</td>\n",
       "      <td>12</td>\n",
       "      <td>7041</td>\n",
       "      <td>60</td>\n",
       "    </tr>\n",
       "    <tr>\n",
       "      <th>1</th>\n",
       "      <td>Adelphi University</td>\n",
       "      <td>Yes</td>\n",
       "      <td>2186</td>\n",
       "      <td>1924</td>\n",
       "      <td>512</td>\n",
       "      <td>16</td>\n",
       "      <td>29</td>\n",
       "      <td>2683</td>\n",
       "      <td>1227</td>\n",
       "      <td>12280</td>\n",
       "      <td>6450</td>\n",
       "      <td>750</td>\n",
       "      <td>1500</td>\n",
       "      <td>29</td>\n",
       "      <td>30</td>\n",
       "      <td>12.2</td>\n",
       "      <td>16</td>\n",
       "      <td>10527</td>\n",
       "      <td>56</td>\n",
       "    </tr>\n",
       "    <tr>\n",
       "      <th>2</th>\n",
       "      <td>Adrian College</td>\n",
       "      <td>Yes</td>\n",
       "      <td>1428</td>\n",
       "      <td>1097</td>\n",
       "      <td>336</td>\n",
       "      <td>22</td>\n",
       "      <td>50</td>\n",
       "      <td>1036</td>\n",
       "      <td>99</td>\n",
       "      <td>11250</td>\n",
       "      <td>3750</td>\n",
       "      <td>400</td>\n",
       "      <td>1165</td>\n",
       "      <td>53</td>\n",
       "      <td>66</td>\n",
       "      <td>12.9</td>\n",
       "      <td>30</td>\n",
       "      <td>8735</td>\n",
       "      <td>54</td>\n",
       "    </tr>\n",
       "    <tr>\n",
       "      <th>3</th>\n",
       "      <td>Agnes Scott College</td>\n",
       "      <td>Yes</td>\n",
       "      <td>417</td>\n",
       "      <td>349</td>\n",
       "      <td>137</td>\n",
       "      <td>60</td>\n",
       "      <td>89</td>\n",
       "      <td>510</td>\n",
       "      <td>63</td>\n",
       "      <td>12960</td>\n",
       "      <td>5450</td>\n",
       "      <td>450</td>\n",
       "      <td>875</td>\n",
       "      <td>92</td>\n",
       "      <td>97</td>\n",
       "      <td>7.7</td>\n",
       "      <td>37</td>\n",
       "      <td>19016</td>\n",
       "      <td>59</td>\n",
       "    </tr>\n",
       "    <tr>\n",
       "      <th>4</th>\n",
       "      <td>Alaska Pacific University</td>\n",
       "      <td>Yes</td>\n",
       "      <td>193</td>\n",
       "      <td>146</td>\n",
       "      <td>55</td>\n",
       "      <td>16</td>\n",
       "      <td>44</td>\n",
       "      <td>249</td>\n",
       "      <td>869</td>\n",
       "      <td>7560</td>\n",
       "      <td>4120</td>\n",
       "      <td>800</td>\n",
       "      <td>1500</td>\n",
       "      <td>76</td>\n",
       "      <td>72</td>\n",
       "      <td>11.9</td>\n",
       "      <td>2</td>\n",
       "      <td>10922</td>\n",
       "      <td>15</td>\n",
       "    </tr>\n",
       "  </tbody>\n",
       "</table>\n",
       "</div>"
      ],
      "text/plain": [
       "                   College name Private  Apps  Accept  Enroll  Top10perc  \\\n",
       "0  Abilene Christian University     Yes  1660    1232     721         23   \n",
       "1            Adelphi University     Yes  2186    1924     512         16   \n",
       "2                Adrian College     Yes  1428    1097     336         22   \n",
       "3           Agnes Scott College     Yes   417     349     137         60   \n",
       "4     Alaska Pacific University     Yes   193     146      55         16   \n",
       "\n",
       "   Top25perc  F_Undergrad  P_Undergrad  Outstate  Room_Board  Books  Personal  \\\n",
       "0         52         2885          537      7440        3300    450      2200   \n",
       "1         29         2683         1227     12280        6450    750      1500   \n",
       "2         50         1036           99     11250        3750    400      1165   \n",
       "3         89          510           63     12960        5450    450       875   \n",
       "4         44          249          869      7560        4120    800      1500   \n",
       "\n",
       "   PhD  Terminal  S_F_Ratio  perc_alumni  Expend  Grad_Rate  \n",
       "0   70        78       18.1           12    7041         60  \n",
       "1   29        30       12.2           16   10527         56  \n",
       "2   53        66       12.9           30    8735         54  \n",
       "3   92        97        7.7           37   19016         59  \n",
       "4   76        72       11.9            2   10922         15  "
      ]
     },
     "execution_count": 2,
     "metadata": {},
     "output_type": "execute_result"
    }
   ],
   "source": [
    "data = pd.read_csv(\"College.csv\")\n",
    "#No dataSet original, temos colunas com os nomes separados com um \".\", por exemplo, Grad.Rate, e isso estava nos dando alguns problemas, então resolvemos renomear as colunas e trocar esse \".\" por um \"_\"\n",
    "data = data.rename(columns={'Unnamed: 0':'College name','F.Undergrad':'F_Undergrad','P.Undergrad':'P_Undergrad','Room.Board':'Room_Board','S.F.Ratio':'S_F_Ratio','perc.alumni':'perc_alumni','Grad.Rate':'Grad_Rate'})\n",
    "data.head()"
   ]
  },
  {
   "cell_type": "code",
   "execution_count": 3,
   "id": "loved-rebel",
   "metadata": {},
   "outputs": [
    {
     "name": "stdout",
     "output_type": "stream",
     "text": [
      "<class 'pandas.core.frame.DataFrame'>\n",
      "RangeIndex: 777 entries, 0 to 776\n",
      "Data columns (total 18 columns):\n",
      " #   Column       Non-Null Count  Dtype  \n",
      "---  ------       --------------  -----  \n",
      " 0   Private      777 non-null    object \n",
      " 1   Apps         777 non-null    int64  \n",
      " 2   Accept       777 non-null    int64  \n",
      " 3   Enroll       777 non-null    int64  \n",
      " 4   Top10perc    777 non-null    int64  \n",
      " 5   Top25perc    777 non-null    int64  \n",
      " 6   F_Undergrad  777 non-null    int64  \n",
      " 7   P_Undergrad  777 non-null    int64  \n",
      " 8   Outstate     777 non-null    int64  \n",
      " 9   Room_Board   777 non-null    int64  \n",
      " 10  Books        777 non-null    int64  \n",
      " 11  Personal     777 non-null    int64  \n",
      " 12  PhD          777 non-null    int64  \n",
      " 13  Terminal     777 non-null    int64  \n",
      " 14  S_F_Ratio    777 non-null    float64\n",
      " 15  perc_alumni  777 non-null    int64  \n",
      " 16  Expend       777 non-null    int64  \n",
      " 17  Grad_Rate    777 non-null    int64  \n",
      "dtypes: float64(1), int64(16), object(1)\n",
      "memory usage: 109.4+ KB\n"
     ]
    }
   ],
   "source": [
    "data.drop([\"College name\"], axis=1, inplace=True)\n",
    "data.info()"
   ]
  },
  {
   "cell_type": "markdown",
   "id": "dental-trainer",
   "metadata": {},
   "source": [
    "**Os dados que serão utilizados**<br>\n",
    "    **Private** A factor with levels No and Yes indicating private or public university     \n",
    "    **Apps** Number of applications received     \n",
    "    **Accept** Number of applications accepted     \n",
    "    **Enroll Number** of new students enrolled     \n",
    "    **Top10perc** Pct. new students from top 10% of H.S. class     \n",
    "    **Top25perc** Pct. new students from top 25% of H.S. class     \n",
    "    **F_Undergrad** Number of fulltime undergraduates     \n",
    "    **P_Undergrad** Number of parttime undergraduates     \n",
    "    **Outstate** Out-of-state tuition     \n",
    "    **Room_Board** Room and board costs     \n",
    "    **Books** Estimated book costs     \n",
    "    **Personal** Estimated personal spending     \n",
    "    **PhD Pct.** of faculty with Ph.D.’s     \n",
    "    **Terminal Pct.** of faculty with terminal degree     \n",
    "    **S_F_Ratio** Student/faculty ratio     \n",
    "    **perc_alumni** Pct. alumni who donate     \n",
    "    **Expend Instructional** expenditure per student     \n",
    "    **Grad_Rate** Graduation rate<br>\n",
    "**Observe que temos 18 variáveis**"
   ]
  },
  {
   "cell_type": "markdown",
   "id": "assisted-twenty",
   "metadata": {},
   "source": [
    "### **Explorando o banco de dados**"
   ]
  },
  {
   "cell_type": "markdown",
   "id": "compatible-branch",
   "metadata": {},
   "source": [
    "**Uma comparação entre o número de estudantes \"fulltime\" e \"parttime\" de universidade privadas e universidades públicas.**"
   ]
  },
  {
   "cell_type": "code",
   "execution_count": 4,
   "id": "consistent-masters",
   "metadata": {},
   "outputs": [
    {
     "data": {
      "text/plain": [
       "<matplotlib.legend.Legend at 0x1f7c0966e50>"
      ]
     },
     "execution_count": 4,
     "metadata": {},
     "output_type": "execute_result"
    },
    {
     "data": {
      "image/png": "[encoded data removed]",
      "text/plain": [
       "<Figure size 864x576 with 1 Axes>"
      ]
     },
     "metadata": {
      "needs_background": "light"
     },
     "output_type": "display_data"
    }
   ],
   "source": [
    "plt.figure(figsize=(12, 8))\n",
    "\n",
    "data.loc[data.Private == 'Yes', 'F_Undergrad'].hist(label=\"Universidades privadas F_Undergrad\", bins=30)\n",
    "data.loc[data.Private == 'Yes', 'P_Undergrad'].hist(label=\"Universidades privadas P_Undergrad\", bins=30)\n",
    "data.loc[data.Private == 'No', 'F_Undergrad'].hist(label=\"Universidades públicas F_Undergrad\", bins=30)\n",
    "data.loc[data.Private == 'No', 'P_Undergrad'].hist(label=\"Universidades privadas P_Undergrad\", bins=30)\n",
    "\n",
    "plt.xlabel('F_Undergrad vs P_Undergrad')\n",
    "plt.legend()\n"
   ]
  },
  {
   "cell_type": "code",
   "execution_count": 5,
   "id": "seven-challenge",
   "metadata": {},
   "outputs": [
    {
     "name": "stdout",
     "output_type": "stream",
     "text": [
      "Yes    565\n",
      "No     212\n",
      "Name: Private, dtype: int64\n"
     ]
    }
   ],
   "source": [
    "result = data['Private'].value_counts()\n",
    "print(result)"
   ]
  },
  {
   "cell_type": "markdown",
   "id": "dependent-protocol",
   "metadata": {},
   "source": [
    "**Uma comparação entre a taxa de graduação em universidades privadas e universidades públicas**"
   ]
  },
  {
   "cell_type": "code",
   "execution_count": 6,
   "id": "express-communication",
   "metadata": {},
   "outputs": [
    {
     "data": {
      "text/plain": [
       "<matplotlib.legend.Legend at 0x1f7c30f6400>"
      ]
     },
     "execution_count": 6,
     "metadata": {},
     "output_type": "execute_result"
    },
    {
     "data": {
      "image/png": "[encoded data removed]",
      "text/plain": [
       "<Figure size 864x576 with 1 Axes>"
      ]
     },
     "metadata": {
      "needs_background": "light"
     },
     "output_type": "display_data"
    }
   ],
   "source": [
    "plt.figure(figsize=(12, 8))\n",
    "\n",
    "data.loc[data.Private == 'Yes', 'Grad_Rate'].hist(label=\"Universidades privadas\", bins=30)\n",
    "data.loc[data.Private == 'No', 'Grad_Rate'].hist(label=\"Universidades públicas\", bins=30)\n",
    "\n",
    "plt.xlabel('Taxa de graduação')\n",
    "plt.legend()"
   ]
  },
  {
   "cell_type": "markdown",
   "id": "advance-terrorist",
   "metadata": {},
   "source": [
    "Ao analisar o histograma, percebemos que tem uma universidade com uma taxa de graduação acima de 100%. Temos que saber qual é essa universidade e \"setar\" que a taxa de graduação é de 100%, pois isso faz mais sentido para nossa análise.\n"
   ]
  },
  {
   "cell_type": "code",
   "execution_count": 7,
   "id": "prospective-thanks",
   "metadata": {},
   "outputs": [
    {
     "data": {
      "text/html": [
       "<div>\n",
       "<style scoped>\n",
       "    .dataframe tbody tr th:only-of-type {\n",
       "        vertical-align: middle;\n",
       "    }\n",
       "\n",
       "    .dataframe tbody tr th {\n",
       "        vertical-align: top;\n",
       "    }\n",
       "\n",
       "    .dataframe thead th {\n",
       "        text-align: right;\n",
       "    }\n",
       "</style>\n",
       "<table border=\"1\" class=\"dataframe\">\n",
       "  <thead>\n",
       "    <tr style=\"text-align: right;\">\n",
       "      <th></th>\n",
       "      <th>Private</th>\n",
       "      <th>Apps</th>\n",
       "      <th>Accept</th>\n",
       "      <th>Enroll</th>\n",
       "      <th>Top10perc</th>\n",
       "      <th>Top25perc</th>\n",
       "      <th>F_Undergrad</th>\n",
       "      <th>P_Undergrad</th>\n",
       "      <th>Outstate</th>\n",
       "      <th>Room_Board</th>\n",
       "      <th>Books</th>\n",
       "      <th>Personal</th>\n",
       "      <th>PhD</th>\n",
       "      <th>Terminal</th>\n",
       "      <th>S_F_Ratio</th>\n",
       "      <th>perc_alumni</th>\n",
       "      <th>Expend</th>\n",
       "      <th>Grad_Rate</th>\n",
       "    </tr>\n",
       "  </thead>\n",
       "  <tbody>\n",
       "    <tr>\n",
       "      <th>95</th>\n",
       "      <td>Yes</td>\n",
       "      <td>3847</td>\n",
       "      <td>3433</td>\n",
       "      <td>527</td>\n",
       "      <td>9</td>\n",
       "      <td>35</td>\n",
       "      <td>1010</td>\n",
       "      <td>12</td>\n",
       "      <td>9384</td>\n",
       "      <td>4840</td>\n",
       "      <td>600</td>\n",
       "      <td>500</td>\n",
       "      <td>22</td>\n",
       "      <td>47</td>\n",
       "      <td>14.3</td>\n",
       "      <td>20</td>\n",
       "      <td>7697</td>\n",
       "      <td>118</td>\n",
       "    </tr>\n",
       "  </tbody>\n",
       "</table>\n",
       "</div>"
      ],
      "text/plain": [
       "   Private  Apps  Accept  Enroll  Top10perc  Top25perc  F_Undergrad  \\\n",
       "95     Yes  3847    3433     527          9         35         1010   \n",
       "\n",
       "    P_Undergrad  Outstate  Room_Board  Books  Personal  PhD  Terminal  \\\n",
       "95           12      9384        4840    600       500   22        47   \n",
       "\n",
       "    S_F_Ratio  perc_alumni  Expend  Grad_Rate  \n",
       "95       14.3           20    7697        118  "
      ]
     },
     "execution_count": 7,
     "metadata": {},
     "output_type": "execute_result"
    }
   ],
   "source": [
    "data.loc[data.Grad_Rate > 100]"
   ]
  },
  {
   "cell_type": "markdown",
   "id": "black-representation",
   "metadata": {},
   "source": [
    "Ao fazer a busca, temos que a *Cazenovia College* é a universidade pela qual estamos procurando, então iremos 'setar' a taxa de graduação dela pra 100%.\n"
   ]
  },
  {
   "cell_type": "code",
   "execution_count": 8,
   "id": "colonial-national",
   "metadata": {},
   "outputs": [],
   "source": [
    "data.loc[data.Grad_Rate > 100, 'Grad_Rate'] = 100"
   ]
  },
  {
   "cell_type": "markdown",
   "id": "electric-logistics",
   "metadata": {},
   "source": [
    "**E agora faremos a comparação novamente**"
   ]
  },
  {
   "cell_type": "code",
   "execution_count": 9,
   "id": "little-hardwood",
   "metadata": {},
   "outputs": [
    {
     "data": {
      "text/plain": [
       "<matplotlib.legend.Legend at 0x1f7c2c9eb50>"
      ]
     },
     "execution_count": 9,
     "metadata": {},
     "output_type": "execute_result"
    },
    {
     "data": {
      "image/png": "[encoded data removed]",
      "text/plain": [
       "<Figure size 864x576 with 1 Axes>"
      ]
     },
     "metadata": {
      "needs_background": "light"
     },
     "output_type": "display_data"
    }
   ],
   "source": [
    "plt.figure(figsize=(12, 8))\n",
    "\n",
    "data.loc[data.Private == 'Yes', 'Grad_Rate'].hist(label=\"Universidades privadas\", bins=30)\n",
    "data.loc[data.Private == 'No', 'Grad_Rate'].hist(label=\"Universidades públicas\", bins=30)\n",
    "\n",
    "plt.xlabel('Taxa de graduação')\n",
    "plt.legend()"
   ]
  },
  {
   "cell_type": "markdown",
   "id": "stretch-ebony",
   "metadata": {},
   "source": [
    "### Experimentos:"
   ]
  },
  {
   "cell_type": "markdown",
   "id": "spectacular-floating",
   "metadata": {},
   "source": [
    "#### Para os experimentos serão utilizados os seguintes parâmetros da função \"*KMeans*\": *n_clusters, init, n_init, max_iter e random_state*."
   ]
  },
  {
   "cell_type": "markdown",
   "id": "valid-guidance",
   "metadata": {},
   "source": [
    "*n_clusters*: Número de centróides que serão gerados. Padrão = 8.\n",
    "\n",
    "*init*: Método para inicialização. Pode ser do tipo \"*k_means++*\", onde seleciona de maneira inteligente os centróides iniciais para acelerar a convergência, e do tipo \"*random*\", onde é escolhido aleatoriamente \"*n_clusters*\" linhas do banco de dados para serem os centróides iniciais. Padrão = \"*k_means++*\".\n",
    "\n",
    "*n_init*: Número de vezes que o algoritmo K-Means executará com diferentes centróides iniciais. Padrão = 10.\n",
    "\n",
    "*max_iter*: Número máximo de iterações que o algoritmo K-Means irá executar. Padrão = 300.\n",
    "\n",
    "*random_state*: Número aleatório para geração inicial dos centróides. Padrão = *None*."
   ]
  },
  {
   "cell_type": "code",
   "execution_count": 10,
   "id": "human-reporter",
   "metadata": {},
   "outputs": [],
   "source": [
    "#Transformando a columa em 1 pra Yes e 0 pra No\n",
    "data['Private'].replace(['Yes','No'],[1,0],inplace=True)"
   ]
  },
  {
   "cell_type": "code",
   "execution_count": 11,
   "id": "ruled-classroom",
   "metadata": {},
   "outputs": [],
   "source": [
    "#Para nossa análise não estamos considerando a coluna que diz se a universidade é privada ou não.\n",
    "X = data.iloc[:, [1,2,3,4,5,6,7,8,9,10,11,12,13,14,15,16,17]].values"
   ]
  },
  {
   "cell_type": "markdown",
   "id": "declared-judge",
   "metadata": {},
   "source": [
    "**Criando uma instância do k-means com k = 2**"
   ]
  },
  {
   "cell_type": "code",
   "execution_count": 12,
   "id": "ambient-prototype",
   "metadata": {},
   "outputs": [],
   "source": [
    "kmeans = KMeans(n_clusters = 2)\n",
    "#ajustando o k-means\n",
    "y_kmeans = kmeans.fit_predict(X)"
   ]
  },
  {
   "cell_type": "code",
   "execution_count": 13,
   "id": "restricted-accounting",
   "metadata": {},
   "outputs": [
    {
     "name": "stdout",
     "output_type": "stream",
     "text": [
      "              precision    recall  f1-score   support\n",
      "\n",
      "           0       0.21      0.65      0.31       212\n",
      "           1       0.31      0.06      0.10       565\n",
      "\n",
      "    accuracy                           0.22       777\n",
      "   macro avg       0.26      0.36      0.21       777\n",
      "weighted avg       0.29      0.22      0.16       777\n",
      "\n"
     ]
    }
   ],
   "source": [
    "print(classification_report(data.Private, kmeans.labels_))"
   ]
  },
  {
   "cell_type": "markdown",
   "id": "sixth-headline",
   "metadata": {},
   "source": [
    "Com esssa primeira instância do K-means, com o K = 2, não obtivemos um resultado muito bom. Faremos outros experimentos, para verificar o que acontece com o *precision*, *recall* e *accuracy*."
   ]
  },
  {
   "cell_type": "code",
   "execution_count": 14,
   "id": "published-assault",
   "metadata": {},
   "outputs": [
    {
     "data": {
      "image/png": "[encoded data removed]",
      "text/plain": [
       "<Figure size 1296x504 with 1 Axes>"
      ]
     },
     "metadata": {
      "needs_background": "light"
     },
     "output_type": "display_data"
    },
    {
     "data": {
      "image/png": "[encoded data removed]",
      "text/plain": [
       "<Figure size 1296x504 with 1 Axes>"
      ]
     },
     "metadata": {
      "needs_background": "light"
     },
     "output_type": "display_data"
    },
    {
     "data": {
      "image/png": "[encoded data removed]",
      "text/plain": [
       "<Figure size 1296x504 with 1 Axes>"
      ]
     },
     "metadata": {
      "needs_background": "light"
     },
     "output_type": "display_data"
    },
    {
     "data": {
      "image/png": "[encoded data removed]",
      "text/plain": [
       "<Figure size 1296x504 with 1 Axes>"
      ]
     },
     "metadata": {
      "needs_background": "light"
     },
     "output_type": "display_data"
    },
    {
     "data": {
      "image/png": "[encoded data removed]",
      "text/plain": [
       "<Figure size 1296x504 with 1 Axes>"
      ]
     },
     "metadata": {
      "needs_background": "light"
     },
     "output_type": "display_data"
    },
    {
     "data": {
      "image/png": "[encoded data removed]",
      "text/plain": [
       "<Figure size 1296x504 with 1 Axes>"
      ]
     },
     "metadata": {
      "needs_background": "light"
     },
     "output_type": "display_data"
    }
   ],
   "source": [
    "from sklearn.metrics import silhouette_samples, silhouette_score\n",
    "# data_investigation = pd.read_csv(\"College.csv\")\n",
    "# #No dataSet original, temos colunas com os nomes separados com um \".\", por exemplo, Grad.Rate, e isso estava nos dando alguns problemas, então resolvemos renomear as colunas e trocar esse \".\" por um \"_\"\n",
    "# data_investigation = data_investigation.rename(columns={'Unnamed: 0':'College name','F.Undergrad':'F_Undergrad','P.Undergrad':'P_Undergrad','Room.Board':'Room_Board','S.F.Ratio':'S_F_Ratio','perc.alumni':'perc_alumni','Grad.Rate':'Grad_Rate'})\n",
    "# #Removendo a coluna que classifica as universidades\n",
    "# data_investigation.drop('Private', axis='columns', inplace=True)\n",
    "# X = data_investigation.iloc[:, [1,2,3,4,5,6,7,8,9,10,11,12,13,14,15,16,17]].values\n",
    "for i, k in enumerate([2, 3, 4, 5, 6, 7]):\n",
    "    fig, (ax1) = plt.subplots(1)\n",
    "    fig.set_size_inches(18, 7)\n",
    "    \n",
    "    # Run the Kmeans algorithm\n",
    "    km = KMeans(n_clusters=k)\n",
    "    labels = km.fit_predict(X)\n",
    "    centroids = km.cluster_centers_\n",
    "\n",
    "    # Get silhouette samples\n",
    "    silhouette_vals = silhouette_samples(X, labels)\n",
    "\n",
    "    # Silhouette plot\n",
    "    y_ticks = []\n",
    "    y_lower, y_upper = 0, 0\n",
    "    for i, cluster in enumerate(np.unique(labels)):\n",
    "        cluster_silhouette_vals = silhouette_vals[labels == cluster]\n",
    "        cluster_silhouette_vals.sort()\n",
    "        y_upper += len(cluster_silhouette_vals)\n",
    "        ax1.barh(range(y_lower, y_upper), cluster_silhouette_vals, edgecolor='none', height=1)\n",
    "        ax1.text(-0.03, (y_lower + y_upper) / 2, str(i + 1))\n",
    "        y_lower += len(cluster_silhouette_vals)\n",
    "\n",
    "    # Get the average silhouette score and plot it\n",
    "    avg_score = np.mean(silhouette_vals)\n",
    "    ax1.axvline(avg_score, linestyle='--', linewidth=2, color='green')\n",
    "    ax1.set_yticks([])\n",
    "    ax1.set_xlim([-0.1, 1])\n",
    "    ax1.set_xlabel('Silhouette coefficient values')\n",
    "    ax1.set_ylabel('Cluster labels')\n",
    "    ax1.set_title('Silhouette plot for the various clusters', y=1.02);\n",
    "    \n",
    "    plt.tight_layout\n",
    "    plt.suptitle(f'Silhouette analysis using k = {k}',\n",
    "                 fontsize=16, fontweight='semibold', y=1.05);"
   ]
  },
  {
   "cell_type": "markdown",
   "id": "molecular-trout",
   "metadata": {},
   "source": [
    "Consideramos que a quantidade de clusters ideal tem todos os clusters acima da média do silhouette score e um silhouette socore médio acima de 0.5. Fica claro que com dois clusters o silhouette socore médio tem o melhor resultado, ficando próximo a 0.6, entretanto um dos clusters tem o score sempre menor que a média, o que não é o ideal. Mais investigação deve ser feita sobre o data set."
   ]
  },
  {
   "cell_type": "markdown",
   "id": "painted-exhibition",
   "metadata": {},
   "source": [
    "#### Para os experimentos também serão utilizados os seguintes parâmetros da função \"*train_test_split*\": *train_size* e *random_state*."
   ]
  },
  {
   "cell_type": "markdown",
   "id": "genuine-secretary",
   "metadata": {},
   "source": [
    "*train_size*: Representa a porcentagem do banco de dados utilizada para treinamento, o restante fica alocado para teste. Padrão: *None*.\n",
    "\n",
    "*random_state*: Número para aleatorizar as observações selecionadas do banco de dados *x* e *y*. Padrão: *None*."
   ]
  },
  {
   "cell_type": "code",
   "execution_count": 15,
   "id": "indonesian-blind",
   "metadata": {},
   "outputs": [
    {
     "data": {
      "text/plain": [
       "1    565\n",
       "0    212\n",
       "Name: Private, dtype: int64"
      ]
     },
     "execution_count": 15,
     "metadata": {},
     "output_type": "execute_result"
    }
   ],
   "source": [
    "x = data.drop(['Private'],axis=1)\n",
    "y = data[\"Private\"]\n",
    "y.value_counts()"
   ]
  },
  {
   "cell_type": "markdown",
   "id": "abstract-movie",
   "metadata": {},
   "source": [
    "#### Variando *train_size*:"
   ]
  },
  {
   "cell_type": "code",
   "execution_count": 16,
   "id": "grateful-promise",
   "metadata": {},
   "outputs": [
    {
     "name": "stdout",
     "output_type": "stream",
     "text": [
      "0.056555269922879174\n",
      "              precision    recall  f1-score   support\n",
      "\n",
      "           0       0.16      0.18      0.17       113\n",
      "           1       0.07      0.01      0.01       276\n",
      "           2       0.00      0.00      0.00         0\n",
      "           3       0.00      0.00      0.00         0\n",
      "           5       0.00      0.00      0.00         0\n",
      "           6       0.00      0.00      0.00         0\n",
      "           7       0.00      0.00      0.00         0\n",
      "\n",
      "    accuracy                           0.06       389\n",
      "   macro avg       0.03      0.03      0.03       389\n",
      "weighted avg       0.09      0.06      0.06       389\n",
      "\n"
     ]
    },
    {
     "name": "stderr",
     "output_type": "stream",
     "text": [
      "c:\\users\\jeff\\appdata\\local\\programs\\python\\python39\\lib\\site-packages\\sklearn\\metrics\\_classification.py:1245: UndefinedMetricWarning: Recall and F-score are ill-defined and being set to 0.0 in labels with no true samples. Use `zero_division` parameter to control this behavior.\n",
      "  _warn_prf(average, modifier, msg_start, len(result))\n",
      "c:\\users\\jeff\\appdata\\local\\programs\\python\\python39\\lib\\site-packages\\sklearn\\metrics\\_classification.py:1245: UndefinedMetricWarning: Recall and F-score are ill-defined and being set to 0.0 in labels with no true samples. Use `zero_division` parameter to control this behavior.\n",
      "  _warn_prf(average, modifier, msg_start, len(result))\n",
      "c:\\users\\jeff\\appdata\\local\\programs\\python\\python39\\lib\\site-packages\\sklearn\\metrics\\_classification.py:1245: UndefinedMetricWarning: Recall and F-score are ill-defined and being set to 0.0 in labels with no true samples. Use `zero_division` parameter to control this behavior.\n",
      "  _warn_prf(average, modifier, msg_start, len(result))\n"
     ]
    }
   ],
   "source": [
    "x_train, x_test, y_train, y_test = train_test_split(x, y, train_size=0.50, random_state=None)\n",
    "kmeans = KMeans(n_clusters=8, init=\"k-means++\", n_init=10, max_iter=300, random_state = None)\n",
    "kmeans.fit(x_train)\n",
    "predicted = kmeans.predict(x_test)\n",
    "print(accuracy_score(y_test, predicted))\n",
    "print(classification_report(y_test,predicted))"
   ]
  },
  {
   "cell_type": "markdown",
   "id": "subtle-scholarship",
   "metadata": {},
   "source": [
    "Obtiveram-se esses *warnings* pois como foi passado *n_clusters=8*, o algoritmo \"*KMeans*\" tentará segregar o banco de dados que o foi passado em 8 diferentes classificações, entretanto o banco de dados utilizado possui apenas 2 classificações, \"1\" para faculadade privada e \"0\" para faculdade pública, logo, deve-se utilizar *n_clusters=2* para os experimentos."
   ]
  },
  {
   "cell_type": "code",
   "execution_count": 17,
   "id": "comfortable-dakota",
   "metadata": {},
   "outputs": [
    {
     "name": "stdout",
     "output_type": "stream",
     "text": [
      "0.15167095115681234\n",
      "              precision    recall  f1-score   support\n",
      "\n",
      "           0       0.16      0.56      0.25        97\n",
      "           1       0.10      0.02      0.03       292\n",
      "\n",
      "    accuracy                           0.15       389\n",
      "   macro avg       0.13      0.29      0.14       389\n",
      "weighted avg       0.12      0.15      0.08       389\n",
      "\n"
     ]
    }
   ],
   "source": [
    "x_train, x_test, y_train, y_test = train_test_split(x, y, train_size=0.50, random_state=None)\n",
    "kmeans = KMeans(n_clusters=2, init=\"k-means++\", n_init=10, max_iter=300, random_state = None)\n",
    "kmeans.fit(x_train)\n",
    "predicted = kmeans.predict(x_test)\n",
    "print(accuracy_score(y_test, predicted))\n",
    "print(classification_report(y_test,predicted))"
   ]
  },
  {
   "cell_type": "code",
   "execution_count": 18,
   "id": "reliable-limitation",
   "metadata": {},
   "outputs": [
    {
     "name": "stdout",
     "output_type": "stream",
     "text": [
      "0.22508038585209003\n",
      "              precision    recall  f1-score   support\n",
      "\n",
      "           0       0.22      0.67      0.33        89\n",
      "           1       0.26      0.05      0.08       222\n",
      "\n",
      "    accuracy                           0.23       311\n",
      "   macro avg       0.24      0.36      0.20       311\n",
      "weighted avg       0.25      0.23      0.15       311\n",
      "\n"
     ]
    }
   ],
   "source": [
    "x_train, x_test, y_train, y_test = train_test_split(x, y, train_size=0.6, random_state=None)\n",
    "kmeans = KMeans(n_clusters=2, init=\"k-means++\", n_init=10, max_iter=300, random_state = None)\n",
    "kmeans.fit(x_train)\n",
    "predicted = kmeans.predict(x_test)\n",
    "print(accuracy_score(y_test, predicted))\n",
    "print(classification_report(y_test,predicted))"
   ]
  },
  {
   "cell_type": "code",
   "execution_count": 19,
   "id": "public-spain",
   "metadata": {},
   "outputs": [
    {
     "name": "stdout",
     "output_type": "stream",
     "text": [
      "0.7692307692307693\n",
      "              precision    recall  f1-score   support\n",
      "\n",
      "           0       0.63      0.36      0.46        53\n",
      "           1       0.79      0.92      0.85       142\n",
      "\n",
      "    accuracy                           0.77       195\n",
      "   macro avg       0.71      0.64      0.66       195\n",
      "weighted avg       0.75      0.77      0.75       195\n",
      "\n"
     ]
    }
   ],
   "source": [
    "x_train, x_test, y_train, y_test = train_test_split(x, y, train_size=0.75, random_state=None)\n",
    "kmeans = KMeans(n_clusters=2, init=\"k-means++\", n_init=10, max_iter=300, random_state = None)\n",
    "kmeans.fit(x_train)\n",
    "predicted = kmeans.predict(x_test)\n",
    "print(accuracy_score(y_test, predicted))\n",
    "print(classification_report(y_test,predicted))"
   ]
  },
  {
   "cell_type": "markdown",
   "id": "numeric-prototype",
   "metadata": {},
   "source": [
    "*train_size=0.75* apresentou o melhor resultado."
   ]
  },
  {
   "cell_type": "markdown",
   "id": "catholic-mason",
   "metadata": {},
   "source": [
    "#### Variando *random_state* de *train_test_split*:"
   ]
  },
  {
   "cell_type": "code",
   "execution_count": 20,
   "id": "southeast-monthly",
   "metadata": {},
   "outputs": [
    {
     "name": "stdout",
     "output_type": "stream",
     "text": [
      "0.19487179487179487\n",
      "              precision    recall  f1-score   support\n",
      "\n",
      "           0       0.19      0.62      0.30        53\n",
      "           1       0.20      0.04      0.06       142\n",
      "\n",
      "    accuracy                           0.19       195\n",
      "   macro avg       0.20      0.33      0.18       195\n",
      "weighted avg       0.20      0.19      0.12       195\n",
      "\n"
     ]
    }
   ],
   "source": [
    "x_train, x_test, y_train, y_test = train_test_split(x, y, train_size=0.75, random_state=0)\n",
    "kmeans = KMeans(n_clusters=2, init=\"k-means++\", n_init=10, max_iter=300, random_state = None)\n",
    "kmeans.fit(x_train)\n",
    "predicted = kmeans.predict(x_test)\n",
    "print(accuracy_score(y_test, predicted))\n",
    "print(classification_report(y_test,predicted))"
   ]
  },
  {
   "cell_type": "code",
   "execution_count": 21,
   "id": "integrated-subdivision",
   "metadata": {},
   "outputs": [
    {
     "name": "stdout",
     "output_type": "stream",
     "text": [
      "0.23076923076923078\n",
      "              precision    recall  f1-score   support\n",
      "\n",
      "           0       0.21      0.71      0.32        51\n",
      "           1       0.38      0.06      0.11       144\n",
      "\n",
      "    accuracy                           0.23       195\n",
      "   macro avg       0.29      0.38      0.22       195\n",
      "weighted avg       0.33      0.23      0.16       195\n",
      "\n"
     ]
    }
   ],
   "source": [
    "x_train, x_test, y_train, y_test = train_test_split(x, y, train_size=0.75, random_state=1)\n",
    "kmeans = KMeans(n_clusters=2, init=\"k-means++\", n_init=10, max_iter=300, random_state = None)\n",
    "kmeans.fit(x_train)\n",
    "predicted = kmeans.predict(x_test)\n",
    "print(accuracy_score(y_test, predicted))\n",
    "print(classification_report(y_test,predicted))"
   ]
  },
  {
   "cell_type": "code",
   "execution_count": 22,
   "id": "lovely-fireplace",
   "metadata": {},
   "outputs": [
    {
     "name": "stdout",
     "output_type": "stream",
     "text": [
      "0.22564102564102564\n",
      "              precision    recall  f1-score   support\n",
      "\n",
      "           0       0.22      0.62      0.32        58\n",
      "           1       0.27      0.06      0.10       137\n",
      "\n",
      "    accuracy                           0.23       195\n",
      "   macro avg       0.24      0.34      0.21       195\n",
      "weighted avg       0.25      0.23      0.16       195\n",
      "\n"
     ]
    }
   ],
   "source": [
    "x_train, x_test, y_train, y_test = train_test_split(x, y, train_size=0.75, random_state=15)\n",
    "kmeans = KMeans(n_clusters=2, init=\"k-means++\", n_init=10, max_iter=300, random_state = None)\n",
    "kmeans.fit(x_train)\n",
    "predicted = kmeans.predict(x_test)\n",
    "print(accuracy_score(y_test, predicted))\n",
    "print(classification_report(y_test,predicted))"
   ]
  },
  {
   "cell_type": "code",
   "execution_count": 23,
   "id": "incident-production",
   "metadata": {},
   "outputs": [
    {
     "name": "stdout",
     "output_type": "stream",
     "text": [
      "0.21025641025641026\n",
      "              precision    recall  f1-score   support\n",
      "\n",
      "           0       0.21      0.59      0.31        58\n",
      "           1       0.23      0.05      0.08       137\n",
      "\n",
      "    accuracy                           0.21       195\n",
      "   macro avg       0.22      0.32      0.19       195\n",
      "weighted avg       0.22      0.21      0.15       195\n",
      "\n"
     ]
    }
   ],
   "source": [
    "x_train, x_test, y_train, y_test = train_test_split(x, y, train_size=0.75, random_state=42)\n",
    "kmeans = KMeans(n_clusters=2, init=\"k-means++\", n_init=10, max_iter=300, random_state = None)\n",
    "kmeans.fit(x_train)\n",
    "predicted = kmeans.predict(x_test)\n",
    "print(accuracy_score(y_test, predicted))\n",
    "print(classification_report(y_test,predicted))"
   ]
  },
  {
   "cell_type": "markdown",
   "id": "printable-journal",
   "metadata": {},
   "source": [
    "O *random_state=0* apresentou os melhores resultados."
   ]
  },
  {
   "cell_type": "markdown",
   "id": "approximate-basin",
   "metadata": {},
   "source": [
    "#### Variando *init*:"
   ]
  },
  {
   "cell_type": "code",
   "execution_count": 24,
   "id": "operating-panel",
   "metadata": {},
   "outputs": [
    {
     "name": "stdout",
     "output_type": "stream",
     "text": [
      "0.8051282051282052\n",
      "              precision    recall  f1-score   support\n",
      "\n",
      "           0       0.80      0.38      0.51        53\n",
      "           1       0.81      0.96      0.88       142\n",
      "\n",
      "    accuracy                           0.81       195\n",
      "   macro avg       0.80      0.67      0.70       195\n",
      "weighted avg       0.80      0.81      0.78       195\n",
      "\n"
     ]
    }
   ],
   "source": [
    "x_train, x_test, y_train, y_test = train_test_split(x, y, train_size=0.75, random_state=0)\n",
    "kmeans = KMeans(n_clusters=2, init=\"random\", n_init=10, max_iter=300, random_state = None)\n",
    "kmeans.fit(x_train)\n",
    "predicted = kmeans.predict(x_test)\n",
    "print(accuracy_score(y_test, predicted))\n",
    "print(classification_report(y_test,predicted))"
   ]
  },
  {
   "cell_type": "markdown",
   "id": "transsexual-review",
   "metadata": {},
   "source": [
    "Obtiveram-se os mesmos resultados."
   ]
  },
  {
   "cell_type": "markdown",
   "id": "forbidden-saver",
   "metadata": {},
   "source": [
    "#### Variando *n_init*:"
   ]
  },
  {
   "cell_type": "code",
   "execution_count": 25,
   "id": "composite-stable",
   "metadata": {},
   "outputs": [
    {
     "name": "stdout",
     "output_type": "stream",
     "text": [
      "0.19487179487179487\n",
      "              precision    recall  f1-score   support\n",
      "\n",
      "           0       0.19      0.62      0.30        53\n",
      "           1       0.20      0.04      0.06       142\n",
      "\n",
      "    accuracy                           0.19       195\n",
      "   macro avg       0.20      0.33      0.18       195\n",
      "weighted avg       0.20      0.19      0.12       195\n",
      "\n"
     ]
    }
   ],
   "source": [
    "x_train, x_test, y_train, y_test = train_test_split(x, y, train_size=0.75, random_state=0)\n",
    "kmeans = KMeans(n_clusters=2, init=\"k-means++\", n_init=5, max_iter=300, random_state = None)\n",
    "kmeans.fit(x_train)\n",
    "predicted = kmeans.predict(x_test)\n",
    "print(accuracy_score(y_test, predicted))\n",
    "print(classification_report(y_test,predicted))"
   ]
  },
  {
   "cell_type": "code",
   "execution_count": 26,
   "id": "detected-thumb",
   "metadata": {},
   "outputs": [
    {
     "name": "stdout",
     "output_type": "stream",
     "text": [
      "0.19487179487179487\n",
      "              precision    recall  f1-score   support\n",
      "\n",
      "           0       0.19      0.62      0.30        53\n",
      "           1       0.20      0.04      0.06       142\n",
      "\n",
      "    accuracy                           0.19       195\n",
      "   macro avg       0.20      0.33      0.18       195\n",
      "weighted avg       0.20      0.19      0.12       195\n",
      "\n"
     ]
    }
   ],
   "source": [
    "x_train, x_test, y_train, y_test = train_test_split(x, y, train_size=0.75, random_state=0)\n",
    "kmeans = KMeans(n_clusters=2, init=\"k-means++\", n_init=15, max_iter=300, random_state = None)\n",
    "kmeans.fit(x_train)\n",
    "predicted = kmeans.predict(x_test)\n",
    "print(accuracy_score(y_test, predicted))\n",
    "print(classification_report(y_test,predicted))"
   ]
  },
  {
   "cell_type": "markdown",
   "id": "recovered-density",
   "metadata": {},
   "source": [
    "A alteração de *n_init* não proporcionou uma melhora no resultado."
   ]
  },
  {
   "cell_type": "markdown",
   "id": "regulation-choice",
   "metadata": {},
   "source": [
    "#### Variando *max_iter*:"
   ]
  },
  {
   "cell_type": "code",
   "execution_count": 27,
   "id": "unexpected-joining",
   "metadata": {},
   "outputs": [
    {
     "name": "stdout",
     "output_type": "stream",
     "text": [
      "0.19487179487179487\n",
      "              precision    recall  f1-score   support\n",
      "\n",
      "           0       0.19      0.62      0.30        53\n",
      "           1       0.20      0.04      0.06       142\n",
      "\n",
      "    accuracy                           0.19       195\n",
      "   macro avg       0.20      0.33      0.18       195\n",
      "weighted avg       0.20      0.19      0.12       195\n",
      "\n"
     ]
    }
   ],
   "source": [
    "x_train, x_test, y_train, y_test = train_test_split(x, y, train_size=0.75, random_state=0)\n",
    "kmeans = KMeans(n_clusters=2, init=\"k-means++\", n_init=10, max_iter=50, random_state = None)\n",
    "kmeans.fit(x_train)\n",
    "predicted = kmeans.predict(x_test)\n",
    "print(accuracy_score(y_test, predicted))\n",
    "print(classification_report(y_test,predicted))"
   ]
  },
  {
   "cell_type": "code",
   "execution_count": 28,
   "id": "virtual-timothy",
   "metadata": {},
   "outputs": [
    {
     "name": "stdout",
     "output_type": "stream",
     "text": [
      "0.19487179487179487\n",
      "              precision    recall  f1-score   support\n",
      "\n",
      "           0       0.19      0.62      0.30        53\n",
      "           1       0.20      0.04      0.06       142\n",
      "\n",
      "    accuracy                           0.19       195\n",
      "   macro avg       0.20      0.33      0.18       195\n",
      "weighted avg       0.20      0.19      0.12       195\n",
      "\n"
     ]
    }
   ],
   "source": [
    "x_train, x_test, y_train, y_test = train_test_split(x, y, train_size=0.75, random_state=0)\n",
    "kmeans = KMeans(n_clusters=2, init=\"k-means++\", n_init=10, max_iter=100, random_state = None)\n",
    "kmeans.fit(x_train)\n",
    "predicted = kmeans.predict(x_test)\n",
    "print(accuracy_score(y_test, predicted))\n",
    "print(classification_report(y_test,predicted))"
   ]
  },
  {
   "cell_type": "code",
   "execution_count": 29,
   "id": "australian-yahoo",
   "metadata": {},
   "outputs": [
    {
     "name": "stdout",
     "output_type": "stream",
     "text": [
      "0.19487179487179487\n",
      "              precision    recall  f1-score   support\n",
      "\n",
      "           0       0.19      0.62      0.30        53\n",
      "           1       0.20      0.04      0.06       142\n",
      "\n",
      "    accuracy                           0.19       195\n",
      "   macro avg       0.20      0.33      0.18       195\n",
      "weighted avg       0.20      0.19      0.12       195\n",
      "\n"
     ]
    }
   ],
   "source": [
    "x_train, x_test, y_train, y_test = train_test_split(x, y, train_size=0.75, random_state=0)\n",
    "kmeans = KMeans(n_clusters=2, init=\"k-means++\", n_init=10, max_iter=400, random_state = None)\n",
    "kmeans.fit(x_train)\n",
    "predicted = kmeans.predict(x_test)\n",
    "print(accuracy_score(y_test, predicted))\n",
    "print(classification_report(y_test,predicted))"
   ]
  },
  {
   "cell_type": "code",
   "execution_count": 30,
   "id": "ready-rugby",
   "metadata": {},
   "outputs": [
    {
     "name": "stdout",
     "output_type": "stream",
     "text": [
      "0.19487179487179487\n",
      "              precision    recall  f1-score   support\n",
      "\n",
      "           0       0.19      0.62      0.30        53\n",
      "           1       0.20      0.04      0.06       142\n",
      "\n",
      "    accuracy                           0.19       195\n",
      "   macro avg       0.20      0.33      0.18       195\n",
      "weighted avg       0.20      0.19      0.12       195\n",
      "\n"
     ]
    }
   ],
   "source": [
    "x_train, x_test, y_train, y_test = train_test_split(x, y, train_size=0.75, random_state=0)\n",
    "kmeans = KMeans(n_clusters=2, init=\"k-means++\", n_init=10, max_iter=500, random_state = None)\n",
    "kmeans.fit(x_train)\n",
    "predicted = kmeans.predict(x_test)\n",
    "print(accuracy_score(y_test, predicted))\n",
    "print(classification_report(y_test,predicted))"
   ]
  },
  {
   "cell_type": "markdown",
   "id": "corrected-channel",
   "metadata": {},
   "source": [
    "Um aumento no valor de *max_iter* resultou em uma piora dos resultados."
   ]
  },
  {
   "cell_type": "markdown",
   "id": "compressed-sucking",
   "metadata": {},
   "source": [
    "#### Variando *random_state* da função \"*KMeans*\":"
   ]
  },
  {
   "cell_type": "code",
   "execution_count": 31,
   "id": "polished-stylus",
   "metadata": {},
   "outputs": [
    {
     "name": "stdout",
     "output_type": "stream",
     "text": [
      "0.19487179487179487\n",
      "              precision    recall  f1-score   support\n",
      "\n",
      "           0       0.19      0.62      0.30        53\n",
      "           1       0.20      0.04      0.06       142\n",
      "\n",
      "    accuracy                           0.19       195\n",
      "   macro avg       0.20      0.33      0.18       195\n",
      "weighted avg       0.20      0.19      0.12       195\n",
      "\n"
     ]
    }
   ],
   "source": [
    "x_train, x_test, y_train, y_test = train_test_split(x, y, train_size=0.75, random_state=0)\n",
    "kmeans = KMeans(n_clusters=2, init=\"k-means++\", n_init=10, max_iter=300, random_state = 0)\n",
    "kmeans.fit(x_train)\n",
    "predicted = kmeans.predict(x_test)\n",
    "print(accuracy_score(y_test, predicted))\n",
    "print(classification_report(y_test,predicted))"
   ]
  },
  {
   "cell_type": "code",
   "execution_count": 32,
   "id": "racial-silence",
   "metadata": {},
   "outputs": [
    {
     "name": "stdout",
     "output_type": "stream",
     "text": [
      "0.19487179487179487\n",
      "              precision    recall  f1-score   support\n",
      "\n",
      "           0       0.19      0.62      0.30        53\n",
      "           1       0.20      0.04      0.06       142\n",
      "\n",
      "    accuracy                           0.19       195\n",
      "   macro avg       0.20      0.33      0.18       195\n",
      "weighted avg       0.20      0.19      0.12       195\n",
      "\n"
     ]
    }
   ],
   "source": [
    "x_train, x_test, y_train, y_test = train_test_split(x, y, train_size=0.75, random_state=0)\n",
    "kmeans = KMeans(n_clusters=2, init=\"k-means++\", n_init=10, max_iter=300, random_state = 1)\n",
    "kmeans.fit(x_train)\n",
    "predicted = kmeans.predict(x_test)\n",
    "print(accuracy_score(y_test, predicted))\n",
    "print(classification_report(y_test,predicted))"
   ]
  },
  {
   "cell_type": "code",
   "execution_count": 33,
   "id": "insured-airline",
   "metadata": {},
   "outputs": [
    {
     "name": "stdout",
     "output_type": "stream",
     "text": [
      "0.19487179487179487\n",
      "              precision    recall  f1-score   support\n",
      "\n",
      "           0       0.19      0.62      0.30        53\n",
      "           1       0.20      0.04      0.06       142\n",
      "\n",
      "    accuracy                           0.19       195\n",
      "   macro avg       0.20      0.33      0.18       195\n",
      "weighted avg       0.20      0.19      0.12       195\n",
      "\n"
     ]
    }
   ],
   "source": [
    "x_train, x_test, y_train, y_test = train_test_split(x, y, train_size=0.75, random_state=0)\n",
    "kmeans = KMeans(n_clusters=2, init=\"k-means++\", n_init=10, max_iter=300, random_state = 15)\n",
    "kmeans.fit(x_train)\n",
    "predicted = kmeans.predict(x_test)\n",
    "print(accuracy_score(y_test, predicted))\n",
    "print(classification_report(y_test,predicted))"
   ]
  },
  {
   "cell_type": "code",
   "execution_count": 34,
   "id": "subject-republican",
   "metadata": {},
   "outputs": [
    {
     "name": "stdout",
     "output_type": "stream",
     "text": [
      "0.19487179487179487\n",
      "              precision    recall  f1-score   support\n",
      "\n",
      "           0       0.19      0.62      0.30        53\n",
      "           1       0.20      0.04      0.06       142\n",
      "\n",
      "    accuracy                           0.19       195\n",
      "   macro avg       0.20      0.33      0.18       195\n",
      "weighted avg       0.20      0.19      0.12       195\n",
      "\n"
     ]
    }
   ],
   "source": [
    "x_train, x_test, y_train, y_test = train_test_split(x, y, train_size=0.75, random_state=0)\n",
    "kmeans = KMeans(n_clusters=2, init=\"k-means++\", n_init=10, max_iter=300, random_state = 42)\n",
    "kmeans.fit(x_train)\n",
    "predicted = kmeans.predict(x_test)\n",
    "print(accuracy_score(y_test, predicted))\n",
    "print(classification_report(y_test,predicted))"
   ]
  },
  {
   "cell_type": "markdown",
   "id": "fallen-furniture",
   "metadata": {},
   "source": [
    "Os resultados de *random_state=None* apresentaram-se os melhores entre os testados. O valor *None* significa que será usado a instância de estado aleatório global de *numpy.random*."
   ]
  },
  {
   "cell_type": "markdown",
   "id": "protected-consumption",
   "metadata": {},
   "source": [
    "Portanto, os melhores resultados foram obtidos quando foram utilizados os parâmetros: *train_size=0.75*, *random_state* de *train_test_split* igual a 0 e *n_clusters=2*, *init=k-means++*, *n_init=10*, *max_iter=300* e *random_state* de *KMeans* igual a *None*."
   ]
  },
  {
   "cell_type": "markdown",
   "id": "spatial-nudist",
   "metadata": {},
   "source": [
    "### Tenta-se agora descobrir quais são as melhores variáveis para utilizar no banco de dados para tentar maximizar os resultados."
   ]
  },
  {
   "cell_type": "code",
   "execution_count": 35,
   "id": "independent-pioneer",
   "metadata": {},
   "outputs": [
    {
     "data": {
      "image/png": "[encoded data removed]",
      "text/plain": [
       "<Figure size 432x288 with 1 Axes>"
      ]
     },
     "metadata": {
      "needs_background": "light"
     },
     "output_type": "display_data"
    }
   ],
   "source": [
    "from sklearn.ensemble import ExtraTreesClassifier\n",
    "import matplotlib.pyplot as plt\n",
    "model = ExtraTreesClassifier()\n",
    "model.fit(x,y)\n",
    "feat_importances = pd.Series(model.feature_importances_, index=x.columns)\n",
    "feat_importances.nlargest(12).plot(kind='barh')\n",
    "plt.show()"
   ]
  },
  {
   "cell_type": "markdown",
   "id": "answering-correction",
   "metadata": {},
   "source": [
    "### Irão ser utilizados somente as colunas \"*F.Undergrad*\", \"*Outstate*\" e \"*Enroll*\"."
   ]
  },
  {
   "cell_type": "code",
   "execution_count": 36,
   "id": "isolated-metadata",
   "metadata": {},
   "outputs": [],
   "source": [
    "data2 = pd.read_csv(\"College.csv\")\n",
    "data2.drop([\"Unnamed: 0\", \"Top10perc\", \"Expend\", \"Grad.Rate\", \"P.Undergrad\", \"Room.Board\", \"perc.alumni\", \"Accept\", \"Apps\", \"S.F.Ratio\"], axis=1, inplace=True)\n",
    "data2[\"Private\"].replace([\"Yes\", \"No\"], [1,0], inplace=True)\n",
    "x2 = data.drop(['Private'],axis=1)\n",
    "y2 = data[\"Private\"]"
   ]
  },
  {
   "cell_type": "markdown",
   "id": "usual-packet",
   "metadata": {},
   "source": [
    "### Realiza-se o experimento com os melhores parâmetros que foram obtidos anteriormente:"
   ]
  },
  {
   "cell_type": "code",
   "execution_count": 37,
   "id": "formal-airplane",
   "metadata": {},
   "outputs": [
    {
     "name": "stdout",
     "output_type": "stream",
     "text": [
      "0.19487179487179487\n",
      "              precision    recall  f1-score   support\n",
      "\n",
      "           0       0.19      0.62      0.30        53\n",
      "           1       0.20      0.04      0.06       142\n",
      "\n",
      "    accuracy                           0.19       195\n",
      "   macro avg       0.20      0.33      0.18       195\n",
      "weighted avg       0.20      0.19      0.12       195\n",
      "\n"
     ]
    }
   ],
   "source": [
    "x2_train, x2_test, y2_train, y2_test = train_test_split(x2, y2, train_size=0.75, random_state=0)\n",
    "kmeans2 = KMeans(n_clusters=2, init=\"k-means++\", n_init=10, max_iter=300, random_state = None)\n",
    "kmeans2.fit(x2_train)\n",
    "predicted2 = kmeans.predict(x2_test)\n",
    "print(accuracy_score(y2_test, predicted2))\n",
    "print(classification_report(y2_test,predicted2))"
   ]
  },
  {
   "cell_type": "markdown",
   "id": "interim-terry",
   "metadata": {},
   "source": [
    "Infelizmente com esse novo banco de dados não foi possível melhorar os resultados."
   ]
  },
  {
   "cell_type": "markdown",
   "id": "moral-satellite",
   "metadata": {},
   "source": [
    "# Data Normalize\n",
    "\n",
    "Nesse experimento variamos o valor de k de 1 a 9 com uma normalização padrão dos dados (Norm = L2)\n"
   ]
  },
  {
   "cell_type": "code",
   "execution_count": 38,
   "id": "widespread-pound",
   "metadata": {},
   "outputs": [],
   "source": [
    "from sklearn.model_selection import train_test_split\n",
    "from sklearn.metrics import adjusted_rand_score, adjusted_mutual_info_score\n",
    "from sklearn.preprocessing import Normalizer\n",
    "norm = Normalizer()\n",
    "\n",
    "y = data.Private.values\n",
    "X = data.iloc[:, [1,2,3,4,5,6,7,8,9,10,11,12,13,14,15,16,17]].values\n",
    "\n",
    "X_train, X_test, y_train, y_test = train_test_split(X, y, test_size=0.25, random_state=42)\n",
    "\n",
    "X_train = norm.fit_transform(X_train)\n",
    "X_test  = norm.transform(X_test)"
   ]
  },
  {
   "cell_type": "code",
   "execution_count": 39,
   "id": "ceramic-parade",
   "metadata": {},
   "outputs": [
    {
     "name": "stdout",
     "output_type": "stream",
     "text": [
      "k= 1, Ajd Rand Score= 0.000, Adj Mutual Info Score= 0.000, inertia=68.03\n",
      "k= 2, Ajd Rand Score= 0.597, Adj Mutual Info Score= 0.458, inertia=27.86\n",
      "k= 3, Ajd Rand Score= 0.522, Adj Mutual Info Score= 0.420, inertia=22.93\n",
      "k= 4, Ajd Rand Score= 0.445, Adj Mutual Info Score= 0.366, inertia=19.27\n",
      "k= 5, Ajd Rand Score= 0.373, Adj Mutual Info Score= 0.321, inertia=17.45\n",
      "k= 6, Ajd Rand Score= 0.241, Adj Mutual Info Score= 0.285, inertia=16.01\n",
      "k= 7, Ajd Rand Score= 0.235, Adj Mutual Info Score= 0.276, inertia=14.68\n",
      "k= 8, Ajd Rand Score= 0.227, Adj Mutual Info Score= 0.275, inertia=13.91\n",
      "k= 9, Ajd Rand Score= 0.177, Adj Mutual Info Score= 0.281, inertia=13.09\n"
     ]
    }
   ],
   "source": [
    "models  = []\n",
    "inertia = []\n",
    "arss    = []\n",
    "\n",
    "for k in range(1, 10):\n",
    "    kmeans = KMeans(n_clusters=k)\n",
    "    kmeans.fit(X_train)\n",
    "    y_pred = kmeans.predict(X_test)\n",
    "    ars = adjusted_rand_score(y_test, y_pred)\n",
    "    amis = adjusted_mutual_info_score(y_test, y_pred)\n",
    "    \n",
    "    models.append(kmeans)\n",
    "    inertia.append(kmeans.inertia_)\n",
    "    arss.append(ars)\n",
    "    print(f\"{k= }, Ajd Rand Score= {ars:0.3f}, Adj Mutual Info Score= {amis:0.3f}, inertia={kmeans.inertia_:0.2f}\")"
   ]
  },
  {
   "cell_type": "code",
   "execution_count": 40,
   "id": "simple-focus",
   "metadata": {},
   "outputs": [
    {
     "data": {
      "text/plain": [
       "Text(0, 0.5, 'Sum of squared distance')"
      ]
     },
     "execution_count": 40,
     "metadata": {},
     "output_type": "execute_result"
    },
    {
     "data": {
      "image/png": "[encoded data removed]",
      "text/plain": [
       "<Figure size 432x288 with 1 Axes>"
      ]
     },
     "metadata": {},
     "output_type": "display_data"
    }
   ],
   "source": [
    "sns.set_theme()\n",
    "\n",
    "plt.figure()\n",
    "plt.plot(range(1, 10),inertia)\n",
    "plt.title(\"Elbow Method\")\n",
    "plt.xlabel(\"Number of clusters\")\n",
    "plt.ylabel(\"Sum of squared distance\")"
   ]
  },
  {
   "cell_type": "markdown",
   "id": "flying-extraction",
   "metadata": {},
   "source": [
    "Tanto a métrica adjusted randon score quanto a adjusted info score, obtiveram um melhor resultado para a configuração com k = 2"
   ]
  },
  {
   "cell_type": "markdown",
   "id": "coral-vatican",
   "metadata": {},
   "source": [
    "# Feature Analysis\n",
    "\n",
    "Utilizamos o valor de correlação entre os dados para filtrar apenas as fetures mais relevantes para o problema dado. "
   ]
  },
  {
   "cell_type": "code",
   "execution_count": 41,
   "id": "crude-advantage",
   "metadata": {},
   "outputs": [
    {
     "name": "stdout",
     "output_type": "stream",
     "text": [
      "Inicialmente o conjunto de dados contém 17 features\n"
     ]
    }
   ],
   "source": [
    "print(\"Inicialmente o conjunto de dados contém\", X.shape[1],\"features\")"
   ]
  },
  {
   "cell_type": "code",
   "execution_count": 42,
   "id": "seeing-nowhere",
   "metadata": {},
   "outputs": [
    {
     "data": {
      "text/html": [
       "<style  type=\"text/css\" >\n",
       "#T_2a738_row0_col0,#T_2a738_row1_col1,#T_2a738_row2_col2,#T_2a738_row3_col3,#T_2a738_row4_col4,#T_2a738_row5_col5,#T_2a738_row6_col6,#T_2a738_row7_col7,#T_2a738_row8_col8,#T_2a738_row9_col9,#T_2a738_row10_col10,#T_2a738_row11_col11,#T_2a738_row12_col12,#T_2a738_row13_col13,#T_2a738_row14_col14,#T_2a738_row15_col15,#T_2a738_row16_col16,#T_2a738_row17_col17{\n",
       "            background-color:  #b40426;\n",
       "            color:  #f1f1f1;\n",
       "        }#T_2a738_row0_col1{\n",
       "            background-color:  #c83836;\n",
       "            color:  #f1f1f1;\n",
       "        }#T_2a738_row0_col2{\n",
       "            background-color:  #e57058;\n",
       "            color:  #000000;\n",
       "        }#T_2a738_row0_col3,#T_2a738_row2_col10,#T_2a738_row4_col13,#T_2a738_row16_col12{\n",
       "            background-color:  #94b6ff;\n",
       "            color:  #000000;\n",
       "        }#T_2a738_row0_col4,#T_2a738_row11_col2,#T_2a738_row17_col8{\n",
       "            background-color:  #a3c2fe;\n",
       "            color:  #000000;\n",
       "        }#T_2a738_row0_col5{\n",
       "            background-color:  #ec7f63;\n",
       "            color:  #000000;\n",
       "        }#T_2a738_row0_col6,#T_2a738_row3_col13,#T_2a738_row6_col0,#T_2a738_row11_col7{\n",
       "            background-color:  #b5cdfa;\n",
       "            color:  #000000;\n",
       "        }#T_2a738_row0_col7,#T_2a738_row11_col9{\n",
       "            background-color:  #4257c9;\n",
       "            color:  #f1f1f1;\n",
       "        }#T_2a738_row0_col8,#T_2a738_row0_col9,#T_2a738_row12_col13{\n",
       "            background-color:  #6384eb;\n",
       "            color:  #000000;\n",
       "        }#T_2a738_row0_col10,#T_2a738_row3_col1,#T_2a738_row9_col10{\n",
       "            background-color:  #7093f3;\n",
       "            color:  #000000;\n",
       "        }#T_2a738_row0_col11,#T_2a738_row14_col4,#T_2a738_row14_col13{\n",
       "            background-color:  #bbd1f8;\n",
       "            color:  #000000;\n",
       "        }#T_2a738_row0_col12,#T_2a738_row1_col11,#T_2a738_row12_col8{\n",
       "            background-color:  #afcafc;\n",
       "            color:  #000000;\n",
       "        }#T_2a738_row0_col13,#T_2a738_row1_col16,#T_2a738_row6_col15,#T_2a738_row9_col4{\n",
       "            background-color:  #4e68d8;\n",
       "            color:  #000000;\n",
       "        }#T_2a738_row0_col14,#T_2a738_row1_col8,#T_2a738_row5_col3,#T_2a738_row8_col5{\n",
       "            background-color:  #4a63d3;\n",
       "            color:  #f1f1f1;\n",
       "        }#T_2a738_row0_col15,#T_2a738_row14_col12,#T_2a738_row15_col17,#T_2a738_row17_col15{\n",
       "            background-color:  #8badfd;\n",
       "            color:  #000000;\n",
       "        }#T_2a738_row0_col16,#T_2a738_row2_col14,#T_2a738_row3_col17,#T_2a738_row17_col11{\n",
       "            background-color:  #688aef;\n",
       "            color:  #000000;\n",
       "        }#T_2a738_row0_col17,#T_2a738_row15_col12,#T_2a738_row17_col6{\n",
       "            background-color:  #c6d6f1;\n",
       "            color:  #000000;\n",
       "        }#T_2a738_row1_col0{\n",
       "            background-color:  #ca3b37;\n",
       "            color:  #f1f1f1;\n",
       "        }#T_2a738_row1_col2,#T_2a738_row2_col1{\n",
       "            background-color:  #d44e41;\n",
       "            color:  #000000;\n",
       "        }#T_2a738_row1_col3,#T_2a738_row1_col15,#T_2a738_row10_col13{\n",
       "            background-color:  #5b7ae5;\n",
       "            color:  #000000;\n",
       "        }#T_2a738_row1_col4{\n",
       "            background-color:  #7da0f9;\n",
       "            color:  #000000;\n",
       "        }#T_2a738_row1_col5{\n",
       "            background-color:  #de614d;\n",
       "            color:  #000000;\n",
       "        }#T_2a738_row1_col6,#T_2a738_row14_col15{\n",
       "            background-color:  #c3d5f4;\n",
       "            color:  #000000;\n",
       "        }#T_2a738_row1_col7,#T_2a738_row2_col8,#T_2a738_row4_col6,#T_2a738_row5_col15,#T_2a738_row6_col4,#T_2a738_row7_col0,#T_2a738_row7_col1,#T_2a738_row9_col13,#T_2a738_row9_col14,#T_2a738_row9_col16,#T_2a738_row9_col17,#T_2a738_row10_col3,#T_2a738_row10_col11,#T_2a738_row10_col12,#T_2a738_row11_col10,#T_2a738_row15_col5,#T_2a738_row16_col2,#T_2a738_row16_col9{\n",
       "            background-color:  #3b4cc0;\n",
       "            color:  #f1f1f1;\n",
       "        }#T_2a738_row1_col9,#T_2a738_row2_col9,#T_2a738_row12_col17,#T_2a738_row15_col9{\n",
       "            background-color:  #5d7ce6;\n",
       "            color:  #000000;\n",
       "        }#T_2a738_row1_col10,#T_2a738_row5_col7{\n",
       "            background-color:  #799cf8;\n",
       "            color:  #000000;\n",
       "        }#T_2a738_row1_col12,#T_2a738_row4_col0,#T_2a738_row12_col1{\n",
       "            background-color:  #a5c3fe;\n",
       "            color:  #000000;\n",
       "        }#T_2a738_row1_col13{\n",
       "            background-color:  #6a8bef;\n",
       "            color:  #000000;\n",
       "        }#T_2a738_row1_col14,#T_2a738_row3_col5{\n",
       "            background-color:  #6180e9;\n",
       "            color:  #000000;\n",
       "        }#T_2a738_row1_col17{\n",
       "            background-color:  #d4dbe6;\n",
       "            color:  #000000;\n",
       "        }#T_2a738_row2_col0{\n",
       "            background-color:  #e67259;\n",
       "            color:  #000000;\n",
       "        }#T_2a738_row2_col3,#T_2a738_row9_col15{\n",
       "            background-color:  #5875e1;\n",
       "            color:  #000000;\n",
       "        }#T_2a738_row2_col4,#T_2a738_row10_col1{\n",
       "            background-color:  #7597f6;\n",
       "            color:  #000000;\n",
       "        }#T_2a738_row2_col5,#T_2a738_row5_col2{\n",
       "            background-color:  #c12b30;\n",
       "            color:  #f1f1f1;\n",
       "        }#T_2a738_row2_col6{\n",
       "            background-color:  #d9dce1;\n",
       "            color:  #000000;\n",
       "        }#T_2a738_row2_col7,#T_2a738_row7_col2,#T_2a738_row10_col0,#T_2a738_row13_col12{\n",
       "            background-color:  #6485ec;\n",
       "            color:  #000000;\n",
       "        }#T_2a738_row2_col11,#T_2a738_row8_col11,#T_2a738_row13_col3,#T_2a738_row16_col17{\n",
       "            background-color:  #a6c4fe;\n",
       "            color:  #000000;\n",
       "        }#T_2a738_row2_col12,#T_2a738_row12_col5{\n",
       "            background-color:  #9abbff;\n",
       "            color:  #000000;\n",
       "        }#T_2a738_row2_col13,#T_2a738_row7_col6,#T_2a738_row14_col5{\n",
       "            background-color:  #80a3fa;\n",
       "            color:  #000000;\n",
       "        }#T_2a738_row2_col15,#T_2a738_row15_col2,#T_2a738_row17_col4{\n",
       "            background-color:  #485fd1;\n",
       "            color:  #f1f1f1;\n",
       "        }#T_2a738_row2_col16,#T_2a738_row6_col8,#T_2a738_row12_col10{\n",
       "            background-color:  #4055c8;\n",
       "            color:  #f1f1f1;\n",
       "        }#T_2a738_row2_col17,#T_2a738_row6_col5,#T_2a738_row16_col7{\n",
       "            background-color:  #ebd3c6;\n",
       "            color:  #000000;\n",
       "        }#T_2a738_row3_col0,#T_2a738_row4_col8,#T_2a738_row10_col5,#T_2a738_row11_col8,#T_2a738_row16_col11{\n",
       "            background-color:  #9fbfff;\n",
       "            color:  #000000;\n",
       "        }#T_2a738_row3_col2,#T_2a738_row14_col2{\n",
       "            background-color:  #6e90f2;\n",
       "            color:  #000000;\n",
       "        }#T_2a738_row3_col4{\n",
       "            background-color:  #da5a49;\n",
       "            color:  #000000;\n",
       "        }#T_2a738_row3_col6{\n",
       "            background-color:  #4b64d5;\n",
       "            color:  #f1f1f1;\n",
       "        }#T_2a738_row3_col7,#T_2a738_row7_col14{\n",
       "            background-color:  #e9d5cb;\n",
       "            color:  #000000;\n",
       "        }#T_2a738_row3_col8{\n",
       "            background-color:  #aec9fc;\n",
       "            color:  #000000;\n",
       "        }#T_2a738_row3_col9,#T_2a738_row8_col0,#T_2a738_row13_col11{\n",
       "            background-color:  #5f7fe8;\n",
       "            color:  #000000;\n",
       "        }#T_2a738_row3_col10{\n",
       "            background-color:  #5470de;\n",
       "            color:  #000000;\n",
       "        }#T_2a738_row3_col11{\n",
       "            background-color:  #e3d9d3;\n",
       "            color:  #000000;\n",
       "        }#T_2a738_row3_col12,#T_2a738_row4_col7{\n",
       "            background-color:  #d6dce4;\n",
       "            color:  #000000;\n",
       "        }#T_2a738_row3_col14{\n",
       "            background-color:  #cad8ef;\n",
       "            color:  #000000;\n",
       "        }#T_2a738_row3_col15{\n",
       "            background-color:  #f7bca1;\n",
       "            color:  #000000;\n",
       "        }#T_2a738_row3_col16,#T_2a738_row12_col4{\n",
       "            background-color:  #dcdddd;\n",
       "            color:  #000000;\n",
       "        }#T_2a738_row4_col1{\n",
       "            background-color:  #85a8fc;\n",
       "            color:  #000000;\n",
       "        }#T_2a738_row4_col2,#T_2a738_row6_col13{\n",
       "            background-color:  #7ea1fa;\n",
       "            color:  #000000;\n",
       "        }#T_2a738_row4_col3{\n",
       "            background-color:  #dc5d4a;\n",
       "            color:  #000000;\n",
       "        }#T_2a738_row4_col5{\n",
       "            background-color:  #7699f6;\n",
       "            color:  #000000;\n",
       "        }#T_2a738_row4_col9,#T_2a738_row5_col9,#T_2a738_row6_col12{\n",
       "            background-color:  #5e7de7;\n",
       "            color:  #000000;\n",
       "        }#T_2a738_row4_col10,#T_2a738_row9_col12{\n",
       "            background-color:  #506bda;\n",
       "            color:  #000000;\n",
       "        }#T_2a738_row4_col11,#T_2a738_row7_col13,#T_2a738_row17_col7{\n",
       "            background-color:  #e7d7ce;\n",
       "            color:  #000000;\n",
       "        }#T_2a738_row4_col12{\n",
       "            background-color:  #dfdbd9;\n",
       "            color:  #000000;\n",
       "        }#T_2a738_row4_col14,#T_2a738_row12_col7,#T_2a738_row15_col14,#T_2a738_row15_col16{\n",
       "            background-color:  #bed2f6;\n",
       "            color:  #000000;\n",
       "        }#T_2a738_row4_col15,#T_2a738_row7_col3{\n",
       "            background-color:  #e1dad6;\n",
       "            color:  #000000;\n",
       "        }#T_2a738_row4_col16{\n",
       "            background-color:  #d7dce3;\n",
       "            color:  #000000;\n",
       "        }#T_2a738_row4_col17,#T_2a738_row6_col9,#T_2a738_row10_col15{\n",
       "            background-color:  #536edd;\n",
       "            color:  #000000;\n",
       "        }#T_2a738_row5_col0{\n",
       "            background-color:  #ec8165;\n",
       "            color:  #000000;\n",
       "        }#T_2a738_row5_col1{\n",
       "            background-color:  #df634e;\n",
       "            color:  #000000;\n",
       "        }#T_2a738_row5_col4,#T_2a738_row13_col1{\n",
       "            background-color:  #6b8df0;\n",
       "            color:  #000000;\n",
       "        }#T_2a738_row5_col6,#T_2a738_row7_col17,#T_2a738_row13_col7{\n",
       "            background-color:  #e8d6cc;\n",
       "            color:  #000000;\n",
       "        }#T_2a738_row5_col8,#T_2a738_row9_col3,#T_2a738_row9_col6,#T_2a738_row10_col4{\n",
       "            background-color:  #4358cb;\n",
       "            color:  #f1f1f1;\n",
       "        }#T_2a738_row5_col10,#T_2a738_row5_col11,#T_2a738_row6_col10,#T_2a738_row11_col16{\n",
       "            background-color:  #a2c1ff;\n",
       "            color:  #000000;\n",
       "        }#T_2a738_row5_col12,#T_2a738_row10_col7,#T_2a738_row14_col10{\n",
       "            background-color:  #97b8ff;\n",
       "            color:  #000000;\n",
       "        }#T_2a738_row5_col13,#T_2a738_row6_col16,#T_2a738_row10_col14,#T_2a738_row13_col4{\n",
       "            background-color:  #8fb1fe;\n",
       "            color:  #000000;\n",
       "        }#T_2a738_row5_col14{\n",
       "            background-color:  #7a9df8;\n",
       "            color:  #000000;\n",
       "        }#T_2a738_row5_col16,#T_2a738_row17_col3{\n",
       "            background-color:  #516ddb;\n",
       "            color:  #000000;\n",
       "        }#T_2a738_row5_col17,#T_2a738_row17_col5{\n",
       "            background-color:  #f2c9b4;\n",
       "            color:  #000000;\n",
       "        }#T_2a738_row6_col1,#T_2a738_row12_col15,#T_2a738_row15_col11{\n",
       "            background-color:  #c9d7f0;\n",
       "            color:  #000000;\n",
       "        }#T_2a738_row6_col2,#T_2a738_row15_col4{\n",
       "            background-color:  #dddcdc;\n",
       "            color:  #000000;\n",
       "        }#T_2a738_row6_col3,#T_2a738_row9_col7{\n",
       "            background-color:  #3e51c5;\n",
       "            color:  #f1f1f1;\n",
       "        }#T_2a738_row6_col7{\n",
       "            background-color:  #86a9fc;\n",
       "            color:  #000000;\n",
       "        }#T_2a738_row6_col11,#T_2a738_row14_col1{\n",
       "            background-color:  #6687ed;\n",
       "            color:  #000000;\n",
       "        }#T_2a738_row6_col14{\n",
       "            background-color:  #8db0fe;\n",
       "            color:  #000000;\n",
       "        }#T_2a738_row6_col17{\n",
       "            background-color:  #cdd9ec;\n",
       "            color:  #000000;\n",
       "        }#T_2a738_row7_col4{\n",
       "            background-color:  #d2dbe8;\n",
       "            color:  #000000;\n",
       "        }#T_2a738_row7_col5{\n",
       "            background-color:  #7b9ff9;\n",
       "            color:  #000000;\n",
       "        }#T_2a738_row7_col8{\n",
       "            background-color:  #f5c0a7;\n",
       "            color:  #000000;\n",
       "        }#T_2a738_row7_col9{\n",
       "            background-color:  #455cce;\n",
       "            color:  #f1f1f1;\n",
       "        }#T_2a738_row7_col10,#T_2a738_row10_col17,#T_2a738_row12_col2{\n",
       "            background-color:  #9bbcff;\n",
       "            color:  #000000;\n",
       "        }#T_2a738_row7_col11,#T_2a738_row13_col14{\n",
       "            background-color:  #b9d0f9;\n",
       "            color:  #000000;\n",
       "        }#T_2a738_row7_col12,#T_2a738_row17_col14{\n",
       "            background-color:  #bcd2f7;\n",
       "            color:  #000000;\n",
       "        }#T_2a738_row7_col15,#T_2a738_row15_col7{\n",
       "            background-color:  #f7b89c;\n",
       "            color:  #000000;\n",
       "        }#T_2a738_row7_col16{\n",
       "            background-color:  #edd1c2;\n",
       "            color:  #000000;\n",
       "        }#T_2a738_row8_col1{\n",
       "            background-color:  #4f69d9;\n",
       "            color:  #000000;\n",
       "        }#T_2a738_row8_col2,#T_2a738_row9_col11,#T_2a738_row17_col9{\n",
       "            background-color:  #3f53c6;\n",
       "            color:  #f1f1f1;\n",
       "        }#T_2a738_row8_col3,#T_2a738_row11_col5,#T_2a738_row13_col16{\n",
       "            background-color:  #a1c0ff;\n",
       "            color:  #000000;\n",
       "        }#T_2a738_row8_col4,#T_2a738_row12_col16,#T_2a738_row17_col10{\n",
       "            background-color:  #9dbdff;\n",
       "            color:  #000000;\n",
       "        }#T_2a738_row8_col6{\n",
       "            background-color:  #3d50c3;\n",
       "            color:  #f1f1f1;\n",
       "        }#T_2a738_row8_col7{\n",
       "            background-color:  #f6bea4;\n",
       "            color:  #000000;\n",
       "        }#T_2a738_row8_col9,#T_2a738_row13_col10{\n",
       "            background-color:  #6282ea;\n",
       "            color:  #000000;\n",
       "        }#T_2a738_row8_col10,#T_2a738_row13_col6{\n",
       "            background-color:  #779af7;\n",
       "            color:  #000000;\n",
       "        }#T_2a738_row8_col12{\n",
       "            background-color:  #b1cbfc;\n",
       "            color:  #000000;\n",
       "        }#T_2a738_row8_col13{\n",
       "            background-color:  #adc9fd;\n",
       "            color:  #000000;\n",
       "        }#T_2a738_row8_col14,#T_2a738_row14_col6,#T_2a738_row14_col8,#T_2a738_row14_col11{\n",
       "            background-color:  #89acfd;\n",
       "            color:  #000000;\n",
       "        }#T_2a738_row8_col15,#T_2a738_row14_col16{\n",
       "            background-color:  #dbdcde;\n",
       "            color:  #000000;\n",
       "        }#T_2a738_row8_col16,#T_2a738_row11_col15{\n",
       "            background-color:  #c7d7f0;\n",
       "            color:  #000000;\n",
       "        }#T_2a738_row8_col17{\n",
       "            background-color:  #a7c5fe;\n",
       "            color:  #000000;\n",
       "        }#T_2a738_row9_col0,#T_2a738_row15_col10{\n",
       "            background-color:  #5572df;\n",
       "            color:  #000000;\n",
       "        }#T_2a738_row9_col1,#T_2a738_row9_col2,#T_2a738_row9_col8,#T_2a738_row12_col6{\n",
       "            background-color:  #5673e0;\n",
       "            color:  #000000;\n",
       "        }#T_2a738_row9_col5,#T_2a738_row11_col6,#T_2a738_row12_col9{\n",
       "            background-color:  #5977e3;\n",
       "            color:  #000000;\n",
       "        }#T_2a738_row10_col2{\n",
       "            background-color:  #92b4fe;\n",
       "            color:  #000000;\n",
       "        }#T_2a738_row10_col6,#T_2a738_row16_col13{\n",
       "            background-color:  #98b9ff;\n",
       "            color:  #000000;\n",
       "        }#T_2a738_row10_col8{\n",
       "            background-color:  #6f92f3;\n",
       "            color:  #000000;\n",
       "        }#T_2a738_row10_col9{\n",
       "            background-color:  #7396f5;\n",
       "            color:  #000000;\n",
       "        }#T_2a738_row10_col16,#T_2a738_row13_col5{\n",
       "            background-color:  #93b5fe;\n",
       "            color:  #000000;\n",
       "        }#T_2a738_row11_col0{\n",
       "            background-color:  #b2ccfb;\n",
       "            color:  #000000;\n",
       "        }#T_2a738_row11_col1,#T_2a738_row12_col0,#T_2a738_row17_col16{\n",
       "            background-color:  #abc8fd;\n",
       "            color:  #000000;\n",
       "        }#T_2a738_row11_col3,#T_2a738_row15_col8{\n",
       "            background-color:  #d8dce2;\n",
       "            color:  #000000;\n",
       "        }#T_2a738_row11_col4{\n",
       "            background-color:  #e2dad5;\n",
       "            color:  #000000;\n",
       "        }#T_2a738_row11_col12{\n",
       "            background-color:  #e46e56;\n",
       "            color:  #000000;\n",
       "        }#T_2a738_row11_col13,#T_2a738_row15_col1,#T_2a738_row16_col0,#T_2a738_row17_col12{\n",
       "            background-color:  #5a78e4;\n",
       "            color:  #000000;\n",
       "        }#T_2a738_row11_col14,#T_2a738_row16_col6{\n",
       "            background-color:  #81a4fb;\n",
       "            color:  #000000;\n",
       "        }#T_2a738_row11_col17{\n",
       "            background-color:  #6788ee;\n",
       "            color:  #000000;\n",
       "        }#T_2a738_row12_col3{\n",
       "            background-color:  #ccd9ed;\n",
       "            color:  #000000;\n",
       "        }#T_2a738_row12_col11{\n",
       "            background-color:  #e36c55;\n",
       "            color:  #000000;\n",
       "        }#T_2a738_row12_col14{\n",
       "            background-color:  #88abfd;\n",
       "            color:  #000000;\n",
       "        }#T_2a738_row13_col0{\n",
       "            background-color:  #4961d2;\n",
       "            color:  #f1f1f1;\n",
       "        }#T_2a738_row13_col2,#T_2a738_row15_col0{\n",
       "            background-color:  #82a6fb;\n",
       "            color:  #000000;\n",
       "        }#T_2a738_row13_col8{\n",
       "            background-color:  #aac7fd;\n",
       "            color:  #000000;\n",
       "        }#T_2a738_row13_col9,#T_2a738_row15_col6{\n",
       "            background-color:  #445acc;\n",
       "            color:  #f1f1f1;\n",
       "        }#T_2a738_row13_col15{\n",
       "            background-color:  #eed0c0;\n",
       "            color:  #000000;\n",
       "        }#T_2a738_row13_col17,#T_2a738_row17_col1{\n",
       "            background-color:  #d3dbe7;\n",
       "            color:  #000000;\n",
       "        }#T_2a738_row14_col0,#T_2a738_row14_col9,#T_2a738_row16_col1{\n",
       "            background-color:  #465ecf;\n",
       "            color:  #f1f1f1;\n",
       "        }#T_2a738_row14_col3,#T_2a738_row16_col8,#T_2a738_row17_col0{\n",
       "            background-color:  #c0d4f5;\n",
       "            color:  #000000;\n",
       "        }#T_2a738_row14_col7,#T_2a738_row17_col2{\n",
       "            background-color:  #ead4c8;\n",
       "            color:  #000000;\n",
       "        }#T_2a738_row14_col17{\n",
       "            background-color:  #c1d4f4;\n",
       "            color:  #000000;\n",
       "        }#T_2a738_row15_col3{\n",
       "            background-color:  #f5c4ac;\n",
       "            color:  #000000;\n",
       "        }#T_2a738_row15_col13{\n",
       "            background-color:  #edd2c3;\n",
       "            color:  #000000;\n",
       "        }#T_2a738_row16_col3{\n",
       "            background-color:  #cedaeb;\n",
       "            color:  #000000;\n",
       "        }#T_2a738_row16_col4{\n",
       "            background-color:  #cfdaea;\n",
       "            color:  #000000;\n",
       "        }#T_2a738_row16_col5{\n",
       "            background-color:  #4c66d6;\n",
       "            color:  #000000;\n",
       "        }#T_2a738_row16_col10{\n",
       "            background-color:  #90b2fe;\n",
       "            color:  #000000;\n",
       "        }#T_2a738_row16_col14{\n",
       "            background-color:  #d5dbe5;\n",
       "            color:  #000000;\n",
       "        }#T_2a738_row16_col15{\n",
       "            background-color:  #bad0f8;\n",
       "            color:  #000000;\n",
       "        }#T_2a738_row17_col13{\n",
       "            background-color:  #d1dae9;\n",
       "            color:  #000000;\n",
       "        }</style><table id=\"T_2a738_\" ><thead>    <tr>        <th class=\"blank level0\" ></th>        <th class=\"col_heading level0 col0\" >0</th>        <th class=\"col_heading level0 col1\" >1</th>        <th class=\"col_heading level0 col2\" >2</th>        <th class=\"col_heading level0 col3\" >3</th>        <th class=\"col_heading level0 col4\" >4</th>        <th class=\"col_heading level0 col5\" >5</th>        <th class=\"col_heading level0 col6\" >6</th>        <th class=\"col_heading level0 col7\" >7</th>        <th class=\"col_heading level0 col8\" >8</th>        <th class=\"col_heading level0 col9\" >9</th>        <th class=\"col_heading level0 col10\" >10</th>        <th class=\"col_heading level0 col11\" >11</th>        <th class=\"col_heading level0 col12\" >12</th>        <th class=\"col_heading level0 col13\" >13</th>        <th class=\"col_heading level0 col14\" >14</th>        <th class=\"col_heading level0 col15\" >15</th>        <th class=\"col_heading level0 col16\" >16</th>        <th class=\"col_heading level0 col17\" >17</th>    </tr></thead><tbody>\n",
       "                <tr>\n",
       "                        <th id=\"T_2a738_level0_row0\" class=\"row_heading level0 row0\" >0</th>\n",
       "                        <td id=\"T_2a738_row0_col0\" class=\"data row0 col0\" >1.000000</td>\n",
       "                        <td id=\"T_2a738_row0_col1\" class=\"data row0 col1\" >0.943451</td>\n",
       "                        <td id=\"T_2a738_row0_col2\" class=\"data row0 col2\" >0.846822</td>\n",
       "                        <td id=\"T_2a738_row0_col3\" class=\"data row0 col3\" >0.338834</td>\n",
       "                        <td id=\"T_2a738_row0_col4\" class=\"data row0 col4\" >0.351640</td>\n",
       "                        <td id=\"T_2a738_row0_col5\" class=\"data row0 col5\" >0.814491</td>\n",
       "                        <td id=\"T_2a738_row0_col6\" class=\"data row0 col6\" >0.398264</td>\n",
       "                        <td id=\"T_2a738_row0_col7\" class=\"data row0 col7\" >0.050159</td>\n",
       "                        <td id=\"T_2a738_row0_col8\" class=\"data row0 col8\" >0.164939</td>\n",
       "                        <td id=\"T_2a738_row0_col9\" class=\"data row0 col9\" >0.132559</td>\n",
       "                        <td id=\"T_2a738_row0_col10\" class=\"data row0 col10\" >0.178731</td>\n",
       "                        <td id=\"T_2a738_row0_col11\" class=\"data row0 col11\" >0.390697</td>\n",
       "                        <td id=\"T_2a738_row0_col12\" class=\"data row0 col12\" >0.369491</td>\n",
       "                        <td id=\"T_2a738_row0_col13\" class=\"data row0 col13\" >0.095633</td>\n",
       "                        <td id=\"T_2a738_row0_col14\" class=\"data row0 col14\" >0.090226</td>\n",
       "                        <td id=\"T_2a738_row0_col15\" class=\"data row0 col15\" >0.259592</td>\n",
       "                        <td id=\"T_2a738_row0_col16\" class=\"data row0 col16\" >0.146964</td>\n",
       "                        <td id=\"T_2a738_row0_col17\" class=\"data row0 col17\" >0.432095</td>\n",
       "            </tr>\n",
       "            <tr>\n",
       "                        <th id=\"T_2a738_level0_row1\" class=\"row_heading level0 row1\" >1</th>\n",
       "                        <td id=\"T_2a738_row1_col0\" class=\"data row1 col0\" >0.943451</td>\n",
       "                        <td id=\"T_2a738_row1_col1\" class=\"data row1 col1\" >1.000000</td>\n",
       "                        <td id=\"T_2a738_row1_col2\" class=\"data row1 col2\" >0.911637</td>\n",
       "                        <td id=\"T_2a738_row1_col3\" class=\"data row1 col3\" >0.192447</td>\n",
       "                        <td id=\"T_2a738_row1_col4\" class=\"data row1 col4\" >0.247476</td>\n",
       "                        <td id=\"T_2a738_row1_col5\" class=\"data row1 col5\" >0.874223</td>\n",
       "                        <td id=\"T_2a738_row1_col6\" class=\"data row1 col6\" >0.441271</td>\n",
       "                        <td id=\"T_2a738_row1_col7\" class=\"data row1 col7\" >0.025755</td>\n",
       "                        <td id=\"T_2a738_row1_col8\" class=\"data row1 col8\" >0.090899</td>\n",
       "                        <td id=\"T_2a738_row1_col9\" class=\"data row1 col9\" >0.113525</td>\n",
       "                        <td id=\"T_2a738_row1_col10\" class=\"data row1 col10\" >0.200989</td>\n",
       "                        <td id=\"T_2a738_row1_col11\" class=\"data row1 col11\" >0.355758</td>\n",
       "                        <td id=\"T_2a738_row1_col12\" class=\"data row1 col12\" >0.337583</td>\n",
       "                        <td id=\"T_2a738_row1_col13\" class=\"data row1 col13\" >0.176229</td>\n",
       "                        <td id=\"T_2a738_row1_col14\" class=\"data row1 col14\" >0.159990</td>\n",
       "                        <td id=\"T_2a738_row1_col15\" class=\"data row1 col15\" >0.124717</td>\n",
       "                        <td id=\"T_2a738_row1_col16\" class=\"data row1 col16\" >0.066762</td>\n",
       "                        <td id=\"T_2a738_row1_col17\" class=\"data row1 col17\" >0.475252</td>\n",
       "            </tr>\n",
       "            <tr>\n",
       "                        <th id=\"T_2a738_level0_row2\" class=\"row_heading level0 row2\" >2</th>\n",
       "                        <td id=\"T_2a738_row2_col0\" class=\"data row2 col0\" >0.846822</td>\n",
       "                        <td id=\"T_2a738_row2_col1\" class=\"data row2 col1\" >0.911637</td>\n",
       "                        <td id=\"T_2a738_row2_col2\" class=\"data row2 col2\" >1.000000</td>\n",
       "                        <td id=\"T_2a738_row2_col3\" class=\"data row2 col3\" >0.181294</td>\n",
       "                        <td id=\"T_2a738_row2_col4\" class=\"data row2 col4\" >0.226745</td>\n",
       "                        <td id=\"T_2a738_row2_col5\" class=\"data row2 col5\" >0.964640</td>\n",
       "                        <td id=\"T_2a738_row2_col6\" class=\"data row2 col6\" >0.513069</td>\n",
       "                        <td id=\"T_2a738_row2_col7\" class=\"data row2 col7\" >0.155477</td>\n",
       "                        <td id=\"T_2a738_row2_col8\" class=\"data row2 col8\" >0.040232</td>\n",
       "                        <td id=\"T_2a738_row2_col9\" class=\"data row2 col9\" >0.112711</td>\n",
       "                        <td id=\"T_2a738_row2_col10\" class=\"data row2 col10\" >0.280929</td>\n",
       "                        <td id=\"T_2a738_row2_col11\" class=\"data row2 col11\" >0.331469</td>\n",
       "                        <td id=\"T_2a738_row2_col12\" class=\"data row2 col12\" >0.308274</td>\n",
       "                        <td id=\"T_2a738_row2_col13\" class=\"data row2 col13\" >0.237271</td>\n",
       "                        <td id=\"T_2a738_row2_col14\" class=\"data row2 col14\" >0.180794</td>\n",
       "                        <td id=\"T_2a738_row2_col15\" class=\"data row2 col15\" >0.064169</td>\n",
       "                        <td id=\"T_2a738_row2_col16\" class=\"data row2 col16\" >0.022049</td>\n",
       "                        <td id=\"T_2a738_row2_col17\" class=\"data row2 col17\" >0.567908</td>\n",
       "            </tr>\n",
       "            <tr>\n",
       "                        <th id=\"T_2a738_level0_row3\" class=\"row_heading level0 row3\" >3</th>\n",
       "                        <td id=\"T_2a738_row3_col0\" class=\"data row3 col0\" >0.338834</td>\n",
       "                        <td id=\"T_2a738_row3_col1\" class=\"data row3 col1\" >0.192447</td>\n",
       "                        <td id=\"T_2a738_row3_col2\" class=\"data row3 col2\" >0.181294</td>\n",
       "                        <td id=\"T_2a738_row3_col3\" class=\"data row3 col3\" >1.000000</td>\n",
       "                        <td id=\"T_2a738_row3_col4\" class=\"data row3 col4\" >0.891995</td>\n",
       "                        <td id=\"T_2a738_row3_col5\" class=\"data row3 col5\" >0.141289</td>\n",
       "                        <td id=\"T_2a738_row3_col6\" class=\"data row3 col6\" >0.105356</td>\n",
       "                        <td id=\"T_2a738_row3_col7\" class=\"data row3 col7\" >0.562331</td>\n",
       "                        <td id=\"T_2a738_row3_col8\" class=\"data row3 col8\" >0.371480</td>\n",
       "                        <td id=\"T_2a738_row3_col9\" class=\"data row3 col9\" >0.118858</td>\n",
       "                        <td id=\"T_2a738_row3_col10\" class=\"data row3 col10\" >0.093316</td>\n",
       "                        <td id=\"T_2a738_row3_col11\" class=\"data row3 col11\" >0.531828</td>\n",
       "                        <td id=\"T_2a738_row3_col12\" class=\"data row3 col12\" >0.491135</td>\n",
       "                        <td id=\"T_2a738_row3_col13\" class=\"data row3 col13\" >0.384875</td>\n",
       "                        <td id=\"T_2a738_row3_col14\" class=\"data row3 col14\" >0.455485</td>\n",
       "                        <td id=\"T_2a738_row3_col15\" class=\"data row3 col15\" >0.660913</td>\n",
       "                        <td id=\"T_2a738_row3_col16\" class=\"data row3 col16\" >0.498118</td>\n",
       "                        <td id=\"T_2a738_row3_col17\" class=\"data row3 col17\" >0.164132</td>\n",
       "            </tr>\n",
       "            <tr>\n",
       "                        <th id=\"T_2a738_level0_row4\" class=\"row_heading level0 row4\" >4</th>\n",
       "                        <td id=\"T_2a738_row4_col0\" class=\"data row4 col0\" >0.351640</td>\n",
       "                        <td id=\"T_2a738_row4_col1\" class=\"data row4 col1\" >0.247476</td>\n",
       "                        <td id=\"T_2a738_row4_col2\" class=\"data row4 col2\" >0.226745</td>\n",
       "                        <td id=\"T_2a738_row4_col3\" class=\"data row4 col3\" >0.891995</td>\n",
       "                        <td id=\"T_2a738_row4_col4\" class=\"data row4 col4\" >1.000000</td>\n",
       "                        <td id=\"T_2a738_row4_col5\" class=\"data row4 col5\" >0.199445</td>\n",
       "                        <td id=\"T_2a738_row4_col6\" class=\"data row4 col6\" >0.053577</td>\n",
       "                        <td id=\"T_2a738_row4_col7\" class=\"data row4 col7\" >0.489394</td>\n",
       "                        <td id=\"T_2a738_row4_col8\" class=\"data row4 col8\" >0.331490</td>\n",
       "                        <td id=\"T_2a738_row4_col9\" class=\"data row4 col9\" >0.115527</td>\n",
       "                        <td id=\"T_2a738_row4_col10\" class=\"data row4 col10\" >0.080810</td>\n",
       "                        <td id=\"T_2a738_row4_col11\" class=\"data row4 col11\" >0.545862</td>\n",
       "                        <td id=\"T_2a738_row4_col12\" class=\"data row4 col12\" >0.524749</td>\n",
       "                        <td id=\"T_2a738_row4_col13\" class=\"data row4 col13\" >0.294629</td>\n",
       "                        <td id=\"T_2a738_row4_col14\" class=\"data row4 col14\" >0.417864</td>\n",
       "                        <td id=\"T_2a738_row4_col15\" class=\"data row4 col15\" >0.527447</td>\n",
       "                        <td id=\"T_2a738_row4_col16\" class=\"data row4 col16\" >0.480346</td>\n",
       "                        <td id=\"T_2a738_row4_col17\" class=\"data row4 col17\" >0.095752</td>\n",
       "            </tr>\n",
       "            <tr>\n",
       "                        <th id=\"T_2a738_level0_row5\" class=\"row_heading level0 row5\" >5</th>\n",
       "                        <td id=\"T_2a738_row5_col0\" class=\"data row5 col0\" >0.814491</td>\n",
       "                        <td id=\"T_2a738_row5_col1\" class=\"data row5 col1\" >0.874223</td>\n",
       "                        <td id=\"T_2a738_row5_col2\" class=\"data row5 col2\" >0.964640</td>\n",
       "                        <td id=\"T_2a738_row5_col3\" class=\"data row5 col3\" >0.141289</td>\n",
       "                        <td id=\"T_2a738_row5_col4\" class=\"data row5 col4\" >0.199445</td>\n",
       "                        <td id=\"T_2a738_row5_col5\" class=\"data row5 col5\" >1.000000</td>\n",
       "                        <td id=\"T_2a738_row5_col6\" class=\"data row5 col6\" >0.570512</td>\n",
       "                        <td id=\"T_2a738_row5_col7\" class=\"data row5 col7\" >0.215742</td>\n",
       "                        <td id=\"T_2a738_row5_col8\" class=\"data row5 col8\" >0.068890</td>\n",
       "                        <td id=\"T_2a738_row5_col9\" class=\"data row5 col9\" >0.115550</td>\n",
       "                        <td id=\"T_2a738_row5_col10\" class=\"data row5 col10\" >0.317200</td>\n",
       "                        <td id=\"T_2a738_row5_col11\" class=\"data row5 col11\" >0.318337</td>\n",
       "                        <td id=\"T_2a738_row5_col12\" class=\"data row5 col12\" >0.300019</td>\n",
       "                        <td id=\"T_2a738_row5_col13\" class=\"data row5 col13\" >0.279703</td>\n",
       "                        <td id=\"T_2a738_row5_col14\" class=\"data row5 col14\" >0.229462</td>\n",
       "                        <td id=\"T_2a738_row5_col15\" class=\"data row5 col15\" >0.018652</td>\n",
       "                        <td id=\"T_2a738_row5_col16\" class=\"data row5 col16\" >0.078293</td>\n",
       "                        <td id=\"T_2a738_row5_col17\" class=\"data row5 col17\" >0.615561</td>\n",
       "            </tr>\n",
       "            <tr>\n",
       "                        <th id=\"T_2a738_level0_row6\" class=\"row_heading level0 row6\" >6</th>\n",
       "                        <td id=\"T_2a738_row6_col0\" class=\"data row6 col0\" >0.398264</td>\n",
       "                        <td id=\"T_2a738_row6_col1\" class=\"data row6 col1\" >0.441271</td>\n",
       "                        <td id=\"T_2a738_row6_col2\" class=\"data row6 col2\" >0.513069</td>\n",
       "                        <td id=\"T_2a738_row6_col3\" class=\"data row6 col3\" >0.105356</td>\n",
       "                        <td id=\"T_2a738_row6_col4\" class=\"data row6 col4\" >0.053577</td>\n",
       "                        <td id=\"T_2a738_row6_col5\" class=\"data row6 col5\" >0.570512</td>\n",
       "                        <td id=\"T_2a738_row6_col6\" class=\"data row6 col6\" >1.000000</td>\n",
       "                        <td id=\"T_2a738_row6_col7\" class=\"data row6 col7\" >0.253512</td>\n",
       "                        <td id=\"T_2a738_row6_col8\" class=\"data row6 col8\" >0.061326</td>\n",
       "                        <td id=\"T_2a738_row6_col9\" class=\"data row6 col9\" >0.081200</td>\n",
       "                        <td id=\"T_2a738_row6_col10\" class=\"data row6 col10\" >0.319882</td>\n",
       "                        <td id=\"T_2a738_row6_col11\" class=\"data row6 col11\" >0.149114</td>\n",
       "                        <td id=\"T_2a738_row6_col12\" class=\"data row6 col12\" >0.141904</td>\n",
       "                        <td id=\"T_2a738_row6_col13\" class=\"data row6 col13\" >0.232531</td>\n",
       "                        <td id=\"T_2a738_row6_col14\" class=\"data row6 col14\" >0.280792</td>\n",
       "                        <td id=\"T_2a738_row6_col15\" class=\"data row6 col15\" >0.083568</td>\n",
       "                        <td id=\"T_2a738_row6_col16\" class=\"data row6 col16\" >0.257135</td>\n",
       "                        <td id=\"T_2a738_row6_col17\" class=\"data row6 col17\" >0.452088</td>\n",
       "            </tr>\n",
       "            <tr>\n",
       "                        <th id=\"T_2a738_level0_row7\" class=\"row_heading level0 row7\" >7</th>\n",
       "                        <td id=\"T_2a738_row7_col0\" class=\"data row7 col0\" >0.050159</td>\n",
       "                        <td id=\"T_2a738_row7_col1\" class=\"data row7 col1\" >0.025755</td>\n",
       "                        <td id=\"T_2a738_row7_col2\" class=\"data row7 col2\" >0.155477</td>\n",
       "                        <td id=\"T_2a738_row7_col3\" class=\"data row7 col3\" >0.562331</td>\n",
       "                        <td id=\"T_2a738_row7_col4\" class=\"data row7 col4\" >0.489394</td>\n",
       "                        <td id=\"T_2a738_row7_col5\" class=\"data row7 col5\" >0.215742</td>\n",
       "                        <td id=\"T_2a738_row7_col6\" class=\"data row7 col6\" >0.253512</td>\n",
       "                        <td id=\"T_2a738_row7_col7\" class=\"data row7 col7\" >1.000000</td>\n",
       "                        <td id=\"T_2a738_row7_col8\" class=\"data row7 col8\" >0.654256</td>\n",
       "                        <td id=\"T_2a738_row7_col9\" class=\"data row7 col9\" >0.038855</td>\n",
       "                        <td id=\"T_2a738_row7_col10\" class=\"data row7 col10\" >0.299087</td>\n",
       "                        <td id=\"T_2a738_row7_col11\" class=\"data row7 col11\" >0.382982</td>\n",
       "                        <td id=\"T_2a738_row7_col12\" class=\"data row7 col12\" >0.407983</td>\n",
       "                        <td id=\"T_2a738_row7_col13\" class=\"data row7 col13\" >0.554821</td>\n",
       "                        <td id=\"T_2a738_row7_col14\" class=\"data row7 col14\" >0.566262</td>\n",
       "                        <td id=\"T_2a738_row7_col15\" class=\"data row7 col15\" >0.672779</td>\n",
       "                        <td id=\"T_2a738_row7_col16\" class=\"data row7 col16\" >0.573612</td>\n",
       "                        <td id=\"T_2a738_row7_col17\" class=\"data row7 col17\" >0.552650</td>\n",
       "            </tr>\n",
       "            <tr>\n",
       "                        <th id=\"T_2a738_level0_row8\" class=\"row_heading level0 row8\" >8</th>\n",
       "                        <td id=\"T_2a738_row8_col0\" class=\"data row8 col0\" >0.164939</td>\n",
       "                        <td id=\"T_2a738_row8_col1\" class=\"data row8 col1\" >0.090899</td>\n",
       "                        <td id=\"T_2a738_row8_col2\" class=\"data row8 col2\" >0.040232</td>\n",
       "                        <td id=\"T_2a738_row8_col3\" class=\"data row8 col3\" >0.371480</td>\n",
       "                        <td id=\"T_2a738_row8_col4\" class=\"data row8 col4\" >0.331490</td>\n",
       "                        <td id=\"T_2a738_row8_col5\" class=\"data row8 col5\" >0.068890</td>\n",
       "                        <td id=\"T_2a738_row8_col6\" class=\"data row8 col6\" >0.061326</td>\n",
       "                        <td id=\"T_2a738_row8_col7\" class=\"data row8 col7\" >0.654256</td>\n",
       "                        <td id=\"T_2a738_row8_col8\" class=\"data row8 col8\" >1.000000</td>\n",
       "                        <td id=\"T_2a738_row8_col9\" class=\"data row8 col9\" >0.127963</td>\n",
       "                        <td id=\"T_2a738_row8_col10\" class=\"data row8 col10\" >0.199428</td>\n",
       "                        <td id=\"T_2a738_row8_col11\" class=\"data row8 col11\" >0.329202</td>\n",
       "                        <td id=\"T_2a738_row8_col12\" class=\"data row8 col12\" >0.374540</td>\n",
       "                        <td id=\"T_2a738_row8_col13\" class=\"data row8 col13\" >0.362628</td>\n",
       "                        <td id=\"T_2a738_row8_col14\" class=\"data row8 col14\" >0.272363</td>\n",
       "                        <td id=\"T_2a738_row8_col15\" class=\"data row8 col15\" >0.501739</td>\n",
       "                        <td id=\"T_2a738_row8_col16\" class=\"data row8 col16\" >0.425808</td>\n",
       "                        <td id=\"T_2a738_row8_col17\" class=\"data row8 col17\" >0.340532</td>\n",
       "            </tr>\n",
       "            <tr>\n",
       "                        <th id=\"T_2a738_level0_row9\" class=\"row_heading level0 row9\" >9</th>\n",
       "                        <td id=\"T_2a738_row9_col0\" class=\"data row9 col0\" >0.132559</td>\n",
       "                        <td id=\"T_2a738_row9_col1\" class=\"data row9 col1\" >0.113525</td>\n",
       "                        <td id=\"T_2a738_row9_col2\" class=\"data row9 col2\" >0.112711</td>\n",
       "                        <td id=\"T_2a738_row9_col3\" class=\"data row9 col3\" >0.118858</td>\n",
       "                        <td id=\"T_2a738_row9_col4\" class=\"data row9 col4\" >0.115527</td>\n",
       "                        <td id=\"T_2a738_row9_col5\" class=\"data row9 col5\" >0.115550</td>\n",
       "                        <td id=\"T_2a738_row9_col6\" class=\"data row9 col6\" >0.081200</td>\n",
       "                        <td id=\"T_2a738_row9_col7\" class=\"data row9 col7\" >0.038855</td>\n",
       "                        <td id=\"T_2a738_row9_col8\" class=\"data row9 col8\" >0.127963</td>\n",
       "                        <td id=\"T_2a738_row9_col9\" class=\"data row9 col9\" >1.000000</td>\n",
       "                        <td id=\"T_2a738_row9_col10\" class=\"data row9 col10\" >0.179295</td>\n",
       "                        <td id=\"T_2a738_row9_col11\" class=\"data row9 col11\" >0.026906</td>\n",
       "                        <td id=\"T_2a738_row9_col12\" class=\"data row9 col12\" >0.099955</td>\n",
       "                        <td id=\"T_2a738_row9_col13\" class=\"data row9 col13\" >0.031929</td>\n",
       "                        <td id=\"T_2a738_row9_col14\" class=\"data row9 col14\" >0.040208</td>\n",
       "                        <td id=\"T_2a738_row9_col15\" class=\"data row9 col15\" >0.112409</td>\n",
       "                        <td id=\"T_2a738_row9_col16\" class=\"data row9 col16\" >0.000649</td>\n",
       "                        <td id=\"T_2a738_row9_col17\" class=\"data row9 col17\" >0.018549</td>\n",
       "            </tr>\n",
       "            <tr>\n",
       "                        <th id=\"T_2a738_level0_row10\" class=\"row_heading level0 row10\" >10</th>\n",
       "                        <td id=\"T_2a738_row10_col0\" class=\"data row10 col0\" >0.178731</td>\n",
       "                        <td id=\"T_2a738_row10_col1\" class=\"data row10 col1\" >0.200989</td>\n",
       "                        <td id=\"T_2a738_row10_col2\" class=\"data row10 col2\" >0.280929</td>\n",
       "                        <td id=\"T_2a738_row10_col3\" class=\"data row10 col3\" >0.093316</td>\n",
       "                        <td id=\"T_2a738_row10_col4\" class=\"data row10 col4\" >0.080810</td>\n",
       "                        <td id=\"T_2a738_row10_col5\" class=\"data row10 col5\" >0.317200</td>\n",
       "                        <td id=\"T_2a738_row10_col6\" class=\"data row10 col6\" >0.319882</td>\n",
       "                        <td id=\"T_2a738_row10_col7\" class=\"data row10 col7\" >0.299087</td>\n",
       "                        <td id=\"T_2a738_row10_col8\" class=\"data row10 col8\" >0.199428</td>\n",
       "                        <td id=\"T_2a738_row10_col9\" class=\"data row10 col9\" >0.179295</td>\n",
       "                        <td id=\"T_2a738_row10_col10\" class=\"data row10 col10\" >1.000000</td>\n",
       "                        <td id=\"T_2a738_row10_col11\" class=\"data row10 col11\" >0.010936</td>\n",
       "                        <td id=\"T_2a738_row10_col12\" class=\"data row10 col12\" >0.030613</td>\n",
       "                        <td id=\"T_2a738_row10_col13\" class=\"data row10 col13\" >0.136345</td>\n",
       "                        <td id=\"T_2a738_row10_col14\" class=\"data row10 col14\" >0.285968</td>\n",
       "                        <td id=\"T_2a738_row10_col15\" class=\"data row10 col15\" >0.097892</td>\n",
       "                        <td id=\"T_2a738_row10_col16\" class=\"data row10 col16\" >0.268588</td>\n",
       "                        <td id=\"T_2a738_row10_col17\" class=\"data row10 col17\" >0.304485</td>\n",
       "            </tr>\n",
       "            <tr>\n",
       "                        <th id=\"T_2a738_level0_row11\" class=\"row_heading level0 row11\" >11</th>\n",
       "                        <td id=\"T_2a738_row11_col0\" class=\"data row11 col0\" >0.390697</td>\n",
       "                        <td id=\"T_2a738_row11_col1\" class=\"data row11 col1\" >0.355758</td>\n",
       "                        <td id=\"T_2a738_row11_col2\" class=\"data row11 col2\" >0.331469</td>\n",
       "                        <td id=\"T_2a738_row11_col3\" class=\"data row11 col3\" >0.531828</td>\n",
       "                        <td id=\"T_2a738_row11_col4\" class=\"data row11 col4\" >0.545862</td>\n",
       "                        <td id=\"T_2a738_row11_col5\" class=\"data row11 col5\" >0.318337</td>\n",
       "                        <td id=\"T_2a738_row11_col6\" class=\"data row11 col6\" >0.149114</td>\n",
       "                        <td id=\"T_2a738_row11_col7\" class=\"data row11 col7\" >0.382982</td>\n",
       "                        <td id=\"T_2a738_row11_col8\" class=\"data row11 col8\" >0.329202</td>\n",
       "                        <td id=\"T_2a738_row11_col9\" class=\"data row11 col9\" >0.026906</td>\n",
       "                        <td id=\"T_2a738_row11_col10\" class=\"data row11 col10\" >0.010936</td>\n",
       "                        <td id=\"T_2a738_row11_col11\" class=\"data row11 col11\" >1.000000</td>\n",
       "                        <td id=\"T_2a738_row11_col12\" class=\"data row11 col12\" >0.849587</td>\n",
       "                        <td id=\"T_2a738_row11_col13\" class=\"data row11 col13\" >0.130530</td>\n",
       "                        <td id=\"T_2a738_row11_col14\" class=\"data row11 col14\" >0.249009</td>\n",
       "                        <td id=\"T_2a738_row11_col15\" class=\"data row11 col15\" >0.432762</td>\n",
       "                        <td id=\"T_2a738_row11_col16\" class=\"data row11 col16\" >0.310292</td>\n",
       "                        <td id=\"T_2a738_row11_col17\" class=\"data row11 col17\" >0.156714</td>\n",
       "            </tr>\n",
       "            <tr>\n",
       "                        <th id=\"T_2a738_level0_row12\" class=\"row_heading level0 row12\" >12</th>\n",
       "                        <td id=\"T_2a738_row12_col0\" class=\"data row12 col0\" >0.369491</td>\n",
       "                        <td id=\"T_2a738_row12_col1\" class=\"data row12 col1\" >0.337583</td>\n",
       "                        <td id=\"T_2a738_row12_col2\" class=\"data row12 col2\" >0.308274</td>\n",
       "                        <td id=\"T_2a738_row12_col3\" class=\"data row12 col3\" >0.491135</td>\n",
       "                        <td id=\"T_2a738_row12_col4\" class=\"data row12 col4\" >0.524749</td>\n",
       "                        <td id=\"T_2a738_row12_col5\" class=\"data row12 col5\" >0.300019</td>\n",
       "                        <td id=\"T_2a738_row12_col6\" class=\"data row12 col6\" >0.141904</td>\n",
       "                        <td id=\"T_2a738_row12_col7\" class=\"data row12 col7\" >0.407983</td>\n",
       "                        <td id=\"T_2a738_row12_col8\" class=\"data row12 col8\" >0.374540</td>\n",
       "                        <td id=\"T_2a738_row12_col9\" class=\"data row12 col9\" >0.099955</td>\n",
       "                        <td id=\"T_2a738_row12_col10\" class=\"data row12 col10\" >0.030613</td>\n",
       "                        <td id=\"T_2a738_row12_col11\" class=\"data row12 col11\" >0.849587</td>\n",
       "                        <td id=\"T_2a738_row12_col12\" class=\"data row12 col12\" >1.000000</td>\n",
       "                        <td id=\"T_2a738_row12_col13\" class=\"data row12 col13\" >0.160104</td>\n",
       "                        <td id=\"T_2a738_row12_col14\" class=\"data row12 col14\" >0.267130</td>\n",
       "                        <td id=\"T_2a738_row12_col15\" class=\"data row12 col15\" >0.438799</td>\n",
       "                        <td id=\"T_2a738_row12_col16\" class=\"data row12 col16\" >0.293533</td>\n",
       "                        <td id=\"T_2a738_row12_col17\" class=\"data row12 col17\" >0.129620</td>\n",
       "            </tr>\n",
       "            <tr>\n",
       "                        <th id=\"T_2a738_level0_row13\" class=\"row_heading level0 row13\" >13</th>\n",
       "                        <td id=\"T_2a738_row13_col0\" class=\"data row13 col0\" >0.095633</td>\n",
       "                        <td id=\"T_2a738_row13_col1\" class=\"data row13 col1\" >0.176229</td>\n",
       "                        <td id=\"T_2a738_row13_col2\" class=\"data row13 col2\" >0.237271</td>\n",
       "                        <td id=\"T_2a738_row13_col3\" class=\"data row13 col3\" >0.384875</td>\n",
       "                        <td id=\"T_2a738_row13_col4\" class=\"data row13 col4\" >0.294629</td>\n",
       "                        <td id=\"T_2a738_row13_col5\" class=\"data row13 col5\" >0.279703</td>\n",
       "                        <td id=\"T_2a738_row13_col6\" class=\"data row13 col6\" >0.232531</td>\n",
       "                        <td id=\"T_2a738_row13_col7\" class=\"data row13 col7\" >0.554821</td>\n",
       "                        <td id=\"T_2a738_row13_col8\" class=\"data row13 col8\" >0.362628</td>\n",
       "                        <td id=\"T_2a738_row13_col9\" class=\"data row13 col9\" >0.031929</td>\n",
       "                        <td id=\"T_2a738_row13_col10\" class=\"data row13 col10\" >0.136345</td>\n",
       "                        <td id=\"T_2a738_row13_col11\" class=\"data row13 col11\" >0.130530</td>\n",
       "                        <td id=\"T_2a738_row13_col12\" class=\"data row13 col12\" >0.160104</td>\n",
       "                        <td id=\"T_2a738_row13_col13\" class=\"data row13 col13\" >1.000000</td>\n",
       "                        <td id=\"T_2a738_row13_col14\" class=\"data row13 col14\" >0.402929</td>\n",
       "                        <td id=\"T_2a738_row13_col15\" class=\"data row13 col15\" >0.583832</td>\n",
       "                        <td id=\"T_2a738_row13_col16\" class=\"data row13 col16\" >0.307838</td>\n",
       "                        <td id=\"T_2a738_row13_col17\" class=\"data row13 col17\" >0.472205</td>\n",
       "            </tr>\n",
       "            <tr>\n",
       "                        <th id=\"T_2a738_level0_row14\" class=\"row_heading level0 row14\" >14</th>\n",
       "                        <td id=\"T_2a738_row14_col0\" class=\"data row14 col0\" >0.090226</td>\n",
       "                        <td id=\"T_2a738_row14_col1\" class=\"data row14 col1\" >0.159990</td>\n",
       "                        <td id=\"T_2a738_row14_col2\" class=\"data row14 col2\" >0.180794</td>\n",
       "                        <td id=\"T_2a738_row14_col3\" class=\"data row14 col3\" >0.455485</td>\n",
       "                        <td id=\"T_2a738_row14_col4\" class=\"data row14 col4\" >0.417864</td>\n",
       "                        <td id=\"T_2a738_row14_col5\" class=\"data row14 col5\" >0.229462</td>\n",
       "                        <td id=\"T_2a738_row14_col6\" class=\"data row14 col6\" >0.280792</td>\n",
       "                        <td id=\"T_2a738_row14_col7\" class=\"data row14 col7\" >0.566262</td>\n",
       "                        <td id=\"T_2a738_row14_col8\" class=\"data row14 col8\" >0.272363</td>\n",
       "                        <td id=\"T_2a738_row14_col9\" class=\"data row14 col9\" >0.040208</td>\n",
       "                        <td id=\"T_2a738_row14_col10\" class=\"data row14 col10\" >0.285968</td>\n",
       "                        <td id=\"T_2a738_row14_col11\" class=\"data row14 col11\" >0.249009</td>\n",
       "                        <td id=\"T_2a738_row14_col12\" class=\"data row14 col12\" >0.267130</td>\n",
       "                        <td id=\"T_2a738_row14_col13\" class=\"data row14 col13\" >0.402929</td>\n",
       "                        <td id=\"T_2a738_row14_col14\" class=\"data row14 col14\" >1.000000</td>\n",
       "                        <td id=\"T_2a738_row14_col15\" class=\"data row14 col15\" >0.417712</td>\n",
       "                        <td id=\"T_2a738_row14_col16\" class=\"data row14 col16\" >0.492887</td>\n",
       "                        <td id=\"T_2a738_row14_col17\" class=\"data row14 col17\" >0.414775</td>\n",
       "            </tr>\n",
       "            <tr>\n",
       "                        <th id=\"T_2a738_level0_row15\" class=\"row_heading level0 row15\" >15</th>\n",
       "                        <td id=\"T_2a738_row15_col0\" class=\"data row15 col0\" >0.259592</td>\n",
       "                        <td id=\"T_2a738_row15_col1\" class=\"data row15 col1\" >0.124717</td>\n",
       "                        <td id=\"T_2a738_row15_col2\" class=\"data row15 col2\" >0.064169</td>\n",
       "                        <td id=\"T_2a738_row15_col3\" class=\"data row15 col3\" >0.660913</td>\n",
       "                        <td id=\"T_2a738_row15_col4\" class=\"data row15 col4\" >0.527447</td>\n",
       "                        <td id=\"T_2a738_row15_col5\" class=\"data row15 col5\" >0.018652</td>\n",
       "                        <td id=\"T_2a738_row15_col6\" class=\"data row15 col6\" >0.083568</td>\n",
       "                        <td id=\"T_2a738_row15_col7\" class=\"data row15 col7\" >0.672779</td>\n",
       "                        <td id=\"T_2a738_row15_col8\" class=\"data row15 col8\" >0.501739</td>\n",
       "                        <td id=\"T_2a738_row15_col9\" class=\"data row15 col9\" >0.112409</td>\n",
       "                        <td id=\"T_2a738_row15_col10\" class=\"data row15 col10\" >0.097892</td>\n",
       "                        <td id=\"T_2a738_row15_col11\" class=\"data row15 col11\" >0.432762</td>\n",
       "                        <td id=\"T_2a738_row15_col12\" class=\"data row15 col12\" >0.438799</td>\n",
       "                        <td id=\"T_2a738_row15_col13\" class=\"data row15 col13\" >0.583832</td>\n",
       "                        <td id=\"T_2a738_row15_col14\" class=\"data row15 col14\" >0.417712</td>\n",
       "                        <td id=\"T_2a738_row15_col15\" class=\"data row15 col15\" >1.000000</td>\n",
       "                        <td id=\"T_2a738_row15_col16\" class=\"data row15 col16\" >0.392195</td>\n",
       "                        <td id=\"T_2a738_row15_col17\" class=\"data row15 col17\" >0.258461</td>\n",
       "            </tr>\n",
       "            <tr>\n",
       "                        <th id=\"T_2a738_level0_row16\" class=\"row_heading level0 row16\" >16</th>\n",
       "                        <td id=\"T_2a738_row16_col0\" class=\"data row16 col0\" >0.146964</td>\n",
       "                        <td id=\"T_2a738_row16_col1\" class=\"data row16 col1\" >0.066762</td>\n",
       "                        <td id=\"T_2a738_row16_col2\" class=\"data row16 col2\" >0.022049</td>\n",
       "                        <td id=\"T_2a738_row16_col3\" class=\"data row16 col3\" >0.498118</td>\n",
       "                        <td id=\"T_2a738_row16_col4\" class=\"data row16 col4\" >0.480346</td>\n",
       "                        <td id=\"T_2a738_row16_col5\" class=\"data row16 col5\" >0.078293</td>\n",
       "                        <td id=\"T_2a738_row16_col6\" class=\"data row16 col6\" >0.257135</td>\n",
       "                        <td id=\"T_2a738_row16_col7\" class=\"data row16 col7\" >0.573612</td>\n",
       "                        <td id=\"T_2a738_row16_col8\" class=\"data row16 col8\" >0.425808</td>\n",
       "                        <td id=\"T_2a738_row16_col9\" class=\"data row16 col9\" >0.000649</td>\n",
       "                        <td id=\"T_2a738_row16_col10\" class=\"data row16 col10\" >0.268588</td>\n",
       "                        <td id=\"T_2a738_row16_col11\" class=\"data row16 col11\" >0.310292</td>\n",
       "                        <td id=\"T_2a738_row16_col12\" class=\"data row16 col12\" >0.293533</td>\n",
       "                        <td id=\"T_2a738_row16_col13\" class=\"data row16 col13\" >0.307838</td>\n",
       "                        <td id=\"T_2a738_row16_col14\" class=\"data row16 col14\" >0.492887</td>\n",
       "                        <td id=\"T_2a738_row16_col15\" class=\"data row16 col15\" >0.392195</td>\n",
       "                        <td id=\"T_2a738_row16_col16\" class=\"data row16 col16\" >1.000000</td>\n",
       "                        <td id=\"T_2a738_row16_col17\" class=\"data row16 col17\" >0.336490</td>\n",
       "            </tr>\n",
       "            <tr>\n",
       "                        <th id=\"T_2a738_level0_row17\" class=\"row_heading level0 row17\" >17</th>\n",
       "                        <td id=\"T_2a738_row17_col0\" class=\"data row17 col0\" >0.432095</td>\n",
       "                        <td id=\"T_2a738_row17_col1\" class=\"data row17 col1\" >0.475252</td>\n",
       "                        <td id=\"T_2a738_row17_col2\" class=\"data row17 col2\" >0.567908</td>\n",
       "                        <td id=\"T_2a738_row17_col3\" class=\"data row17 col3\" >0.164132</td>\n",
       "                        <td id=\"T_2a738_row17_col4\" class=\"data row17 col4\" >0.095752</td>\n",
       "                        <td id=\"T_2a738_row17_col5\" class=\"data row17 col5\" >0.615561</td>\n",
       "                        <td id=\"T_2a738_row17_col6\" class=\"data row17 col6\" >0.452088</td>\n",
       "                        <td id=\"T_2a738_row17_col7\" class=\"data row17 col7\" >0.552650</td>\n",
       "                        <td id=\"T_2a738_row17_col8\" class=\"data row17 col8\" >0.340532</td>\n",
       "                        <td id=\"T_2a738_row17_col9\" class=\"data row17 col9\" >0.018549</td>\n",
       "                        <td id=\"T_2a738_row17_col10\" class=\"data row17 col10\" >0.304485</td>\n",
       "                        <td id=\"T_2a738_row17_col11\" class=\"data row17 col11\" >0.156714</td>\n",
       "                        <td id=\"T_2a738_row17_col12\" class=\"data row17 col12\" >0.129620</td>\n",
       "                        <td id=\"T_2a738_row17_col13\" class=\"data row17 col13\" >0.472205</td>\n",
       "                        <td id=\"T_2a738_row17_col14\" class=\"data row17 col14\" >0.414775</td>\n",
       "                        <td id=\"T_2a738_row17_col15\" class=\"data row17 col15\" >0.258461</td>\n",
       "                        <td id=\"T_2a738_row17_col16\" class=\"data row17 col16\" >0.336490</td>\n",
       "                        <td id=\"T_2a738_row17_col17\" class=\"data row17 col17\" >1.000000</td>\n",
       "            </tr>\n",
       "    </tbody></table>"
      ],
      "text/plain": [
       "<pandas.io.formats.style.Styler at 0x1f7c681d3d0>"
      ]
     },
     "execution_count": 42,
     "metadata": {},
     "output_type": "execute_result"
    }
   ],
   "source": [
    "data_fa = np.concatenate((X,y[:,None]), axis=1)\n",
    "df = pd.DataFrame(data_fa)\n",
    "corr = abs(df.corr())\n",
    "corr.style.background_gradient(cmap='coolwarm')"
   ]
  },
  {
   "cell_type": "code",
   "execution_count": 43,
   "id": "continental-genetics",
   "metadata": {},
   "outputs": [
    {
     "name": "stdout",
     "output_type": "stream",
     "text": [
      "Novo número de features após a filtragem:  5 \n",
      " [3, 4, 7, 8, 14]\n"
     ]
    }
   ],
   "source": [
    "threshold = 0.4\n",
    "new_feat_idx = [idx for idx in range(16) if (corr[16].values[idx] > threshold) ]\n",
    "print(\"Novo número de features após a filtragem: \", len(new_feat_idx), '\\n', new_feat_idx)"
   ]
  },
  {
   "cell_type": "code",
   "execution_count": 44,
   "id": "turned-joining",
   "metadata": {},
   "outputs": [],
   "source": [
    "Xf = df[new_feat_idx].values\n",
    "X_train, X_test, y_train, y_test = train_test_split(Xf, y, test_size=0.25, random_state=42)\n",
    "\n",
    "X_train = norm.fit_transform(X_train)\n",
    "X_test  = norm.transform(X_test)"
   ]
  },
  {
   "cell_type": "code",
   "execution_count": 45,
   "id": "ahead-morgan",
   "metadata": {},
   "outputs": [
    {
     "name": "stdout",
     "output_type": "stream",
     "text": [
      "Filter, k= 1, Ajd Rand Score= 0.000, Adj Mutual Info Score= 0.000, inertia=7.27\n",
      "Filter, k= 2, Ajd Rand Score= 0.240, Adj Mutual Info Score= 0.170, inertia=2.65\n",
      "Filter, k= 3, Ajd Rand Score= 0.127, Adj Mutual Info Score= 0.127, inertia=1.44\n",
      "Filter, k= 4, Ajd Rand Score= 0.154, Adj Mutual Info Score= 0.147, inertia=0.90\n",
      "Filter, k= 5, Ajd Rand Score= 0.086, Adj Mutual Info Score= 0.101, inertia=0.58\n",
      "Filter, k= 6, Ajd Rand Score= 0.059, Adj Mutual Info Score= 0.099, inertia=0.41\n",
      "Filter, k= 7, Ajd Rand Score= 0.068, Adj Mutual Info Score= 0.113, inertia=0.28\n",
      "Filter, k= 8, Ajd Rand Score= 0.051, Adj Mutual Info Score= 0.102, inertia=0.23\n",
      "Filter, k= 9, Ajd Rand Score= 0.060, Adj Mutual Info Score= 0.101, inertia=0.19\n"
     ]
    }
   ],
   "source": [
    "models  = []\n",
    "inertia = []\n",
    "arss    = []\n",
    "\n",
    "for k in range(1, 10):\n",
    "    kmeans = KMeans(n_clusters=k)\n",
    "    kmeans.fit(X_train)\n",
    "    y_pred = kmeans.predict(X_test)\n",
    "    ars = adjusted_rand_score(y_test, y_pred)\n",
    "    amis = adjusted_mutual_info_score(y_test, y_pred)\n",
    "    \n",
    "    models.append(kmeans)\n",
    "    inertia.append(kmeans.inertia_)\n",
    "    arss.append(ars)\n",
    "    print(f\"Filter, {k= }, Ajd Rand Score= {ars:0.3f}, Adj Mutual Info Score= {amis:0.3f}, inertia={kmeans.inertia_:0.2f}\")"
   ]
  },
  {
   "cell_type": "code",
   "execution_count": 46,
   "id": "vocal-marshall",
   "metadata": {},
   "outputs": [
    {
     "data": {
      "text/plain": [
       "Text(0, 0.5, 'Sum of squared distance')"
      ]
     },
     "execution_count": 46,
     "metadata": {},
     "output_type": "execute_result"
    },
    {
     "data": {
      "image/png": "[encoded data removed]",
      "text/plain": [
       "<Figure size 432x288 with 1 Axes>"
      ]
     },
     "metadata": {},
     "output_type": "display_data"
    }
   ],
   "source": [
    "sns.set_theme()\n",
    "\n",
    "plt.figure()\n",
    "plt.plot(range(1, 10),inertia)\n",
    "plt.title(\"Elbow Method with filter features\")\n",
    "plt.xlabel(\"Number of clusters\")\n",
    "plt.ylabel(\"Sum of squared distance\")"
   ]
  },
  {
   "cell_type": "markdown",
   "id": "special-effort",
   "metadata": {
    "tags": []
   },
   "source": [
    "Após esse experimento, concluímos que fazer a seleção de filters não nos ajudou a melhorar a performance do modelo testado vide k = 2."
   ]
  }
 ],
 "metadata": {
  "kernelspec": {
   "display_name": "Python 3",
   "language": "python",
   "name": "python3"
  },
  "language_info": {
   "codemirror_mode": {
    "name": "ipython",
    "version": 3
   },
   "file_extension": ".py",
   "mimetype": "text/x-python",
   "name": "python",
   "nbconvert_exporter": "python",
   "pygments_lexer": "ipython3",
   "version": "3.9.1"
  }
 },
 "nbformat": 4,
 "nbformat_minor": 5
}
