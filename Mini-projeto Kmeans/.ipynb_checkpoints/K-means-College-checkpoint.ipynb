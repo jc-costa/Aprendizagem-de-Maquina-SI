{
 "cells": [
  {
   "cell_type": "markdown",
   "id": "cfbb1c34-18ec-4ac4-9640-840c68e722b2",
   "metadata": {},
   "source": [
    "**Alunos: \n",
    "Jefferson Costa, \n",
    "Sávio Berdine, \n",
    "Amanda Lasserre,\n",
    "Kevin Andrews,\n",
    "Nicholas Henrique.**"
   ]
  },
  {
   "cell_type": "code",
   "execution_count": 1,
   "id": "f111f6db-494d-4f4e-886b-ca5c8d333daa",
   "metadata": {},
   "outputs": [],
   "source": [
    "#-*- coding:utf-8 -*-\n",
    "import pandas as pd\n",
    "import numpy as np\n",
    "import seaborn as sns\n",
    "import matplotlib.pyplot as plt\n",
    "from sklearn.cluster import KMeans\n",
    "from sklearn.metrics import classification_report"
   ]
  },
  {
   "cell_type": "code",
   "execution_count": 2,
   "id": "c98840e5-1fd3-4af7-bde0-8c8055345539",
   "metadata": {},
   "outputs": [
    {
     "data": {
      "text/html": [
       "<div>\n",
       "<style scoped>\n",
       "    .dataframe tbody tr th:only-of-type {\n",
       "        vertical-align: middle;\n",
       "    }\n",
       "\n",
       "    .dataframe tbody tr th {\n",
       "        vertical-align: top;\n",
       "    }\n",
       "\n",
       "    .dataframe thead th {\n",
       "        text-align: right;\n",
       "    }\n",
       "</style>\n",
       "<table border=\"1\" class=\"dataframe\">\n",
       "  <thead>\n",
       "    <tr style=\"text-align: right;\">\n",
       "      <th></th>\n",
       "      <th>College name</th>\n",
       "      <th>Private</th>\n",
       "      <th>Apps</th>\n",
       "      <th>Accept</th>\n",
       "      <th>Enroll</th>\n",
       "      <th>Top10perc</th>\n",
       "      <th>Top25perc</th>\n",
       "      <th>F_Undergrad</th>\n",
       "      <th>P_Undergrad</th>\n",
       "      <th>Outstate</th>\n",
       "      <th>Room_Board</th>\n",
       "      <th>Books</th>\n",
       "      <th>Personal</th>\n",
       "      <th>PhD</th>\n",
       "      <th>Terminal</th>\n",
       "      <th>S_F_Ratio</th>\n",
       "      <th>perc_alumni</th>\n",
       "      <th>Expend</th>\n",
       "      <th>Grad_Rate</th>\n",
       "    </tr>\n",
       "  </thead>\n",
       "  <tbody>\n",
       "    <tr>\n",
       "      <th>0</th>\n",
       "      <td>Abilene Christian University</td>\n",
       "      <td>Yes</td>\n",
       "      <td>1660</td>\n",
       "      <td>1232</td>\n",
       "      <td>721</td>\n",
       "      <td>23</td>\n",
       "      <td>52</td>\n",
       "      <td>2885</td>\n",
       "      <td>537</td>\n",
       "      <td>7440</td>\n",
       "      <td>3300</td>\n",
       "      <td>450</td>\n",
       "      <td>2200</td>\n",
       "      <td>70</td>\n",
       "      <td>78</td>\n",
       "      <td>18.1</td>\n",
       "      <td>12</td>\n",
       "      <td>7041</td>\n",
       "      <td>60</td>\n",
       "    </tr>\n",
       "    <tr>\n",
       "      <th>1</th>\n",
       "      <td>Adelphi University</td>\n",
       "      <td>Yes</td>\n",
       "      <td>2186</td>\n",
       "      <td>1924</td>\n",
       "      <td>512</td>\n",
       "      <td>16</td>\n",
       "      <td>29</td>\n",
       "      <td>2683</td>\n",
       "      <td>1227</td>\n",
       "      <td>12280</td>\n",
       "      <td>6450</td>\n",
       "      <td>750</td>\n",
       "      <td>1500</td>\n",
       "      <td>29</td>\n",
       "      <td>30</td>\n",
       "      <td>12.2</td>\n",
       "      <td>16</td>\n",
       "      <td>10527</td>\n",
       "      <td>56</td>\n",
       "    </tr>\n",
       "    <tr>\n",
       "      <th>2</th>\n",
       "      <td>Adrian College</td>\n",
       "      <td>Yes</td>\n",
       "      <td>1428</td>\n",
       "      <td>1097</td>\n",
       "      <td>336</td>\n",
       "      <td>22</td>\n",
       "      <td>50</td>\n",
       "      <td>1036</td>\n",
       "      <td>99</td>\n",
       "      <td>11250</td>\n",
       "      <td>3750</td>\n",
       "      <td>400</td>\n",
       "      <td>1165</td>\n",
       "      <td>53</td>\n",
       "      <td>66</td>\n",
       "      <td>12.9</td>\n",
       "      <td>30</td>\n",
       "      <td>8735</td>\n",
       "      <td>54</td>\n",
       "    </tr>\n",
       "    <tr>\n",
       "      <th>3</th>\n",
       "      <td>Agnes Scott College</td>\n",
       "      <td>Yes</td>\n",
       "      <td>417</td>\n",
       "      <td>349</td>\n",
       "      <td>137</td>\n",
       "      <td>60</td>\n",
       "      <td>89</td>\n",
       "      <td>510</td>\n",
       "      <td>63</td>\n",
       "      <td>12960</td>\n",
       "      <td>5450</td>\n",
       "      <td>450</td>\n",
       "      <td>875</td>\n",
       "      <td>92</td>\n",
       "      <td>97</td>\n",
       "      <td>7.7</td>\n",
       "      <td>37</td>\n",
       "      <td>19016</td>\n",
       "      <td>59</td>\n",
       "    </tr>\n",
       "    <tr>\n",
       "      <th>4</th>\n",
       "      <td>Alaska Pacific University</td>\n",
       "      <td>Yes</td>\n",
       "      <td>193</td>\n",
       "      <td>146</td>\n",
       "      <td>55</td>\n",
       "      <td>16</td>\n",
       "      <td>44</td>\n",
       "      <td>249</td>\n",
       "      <td>869</td>\n",
       "      <td>7560</td>\n",
       "      <td>4120</td>\n",
       "      <td>800</td>\n",
       "      <td>1500</td>\n",
       "      <td>76</td>\n",
       "      <td>72</td>\n",
       "      <td>11.9</td>\n",
       "      <td>2</td>\n",
       "      <td>10922</td>\n",
       "      <td>15</td>\n",
       "    </tr>\n",
       "  </tbody>\n",
       "</table>\n",
       "</div>"
      ],
      "text/plain": [
       "                   College name Private  Apps  Accept  Enroll  Top10perc  \\\n",
       "0  Abilene Christian University     Yes  1660    1232     721         23   \n",
       "1            Adelphi University     Yes  2186    1924     512         16   \n",
       "2                Adrian College     Yes  1428    1097     336         22   \n",
       "3           Agnes Scott College     Yes   417     349     137         60   \n",
       "4     Alaska Pacific University     Yes   193     146      55         16   \n",
       "\n",
       "   Top25perc  F_Undergrad  P_Undergrad  Outstate  Room_Board  Books  Personal  \\\n",
       "0         52         2885          537      7440        3300    450      2200   \n",
       "1         29         2683         1227     12280        6450    750      1500   \n",
       "2         50         1036           99     11250        3750    400      1165   \n",
       "3         89          510           63     12960        5450    450       875   \n",
       "4         44          249          869      7560        4120    800      1500   \n",
       "\n",
       "   PhD  Terminal  S_F_Ratio  perc_alumni  Expend  Grad_Rate  \n",
       "0   70        78       18.1           12    7041         60  \n",
       "1   29        30       12.2           16   10527         56  \n",
       "2   53        66       12.9           30    8735         54  \n",
       "3   92        97        7.7           37   19016         59  \n",
       "4   76        72       11.9            2   10922         15  "
      ]
     },
     "execution_count": 2,
     "metadata": {},
     "output_type": "execute_result"
    }
   ],
   "source": [
    "data = pd.read_csv(\"College.csv\")\n",
    "#No dataSet original, temos colunas com os nomes separados com um \".\", por exemplo, Grad.Rate, e isso estava nos dando alguns problemas, então resolvemos renomear as colunas e trocar esse \".\" por um \"_\"\n",
    "data = data.rename(columns={'Unnamed: 0':'College name','F.Undergrad':'F_Undergrad','P.Undergrad':'P_Undergrad','Room.Board':'Room_Board','S.F.Ratio':'S_F_Ratio','perc.alumni':'perc_alumni','Grad.Rate':'Grad_Rate'})\n",
    "data.head()"
   ]
  },
  {
   "cell_type": "markdown",
   "id": "f95d1f7a-a4da-4985-9b96-8c71ae86b8ce",
   "metadata": {},
   "source": [
    "**Os dados que serão utilizados**<br>\n",
    "    **Private** A factor with levels No and Yes indicating private or public university     \n",
    "    **Apps** Number of applications received     \n",
    "    **Accept** Number of applications accepted     \n",
    "    **Enroll Number** of new students enrolled     \n",
    "    **Top10perc** Pct. new students from top 10% of H.S. class     \n",
    "    **Top25perc** Pct. new students from top 25% of H.S. class     \n",
    "    **F_Undergrad** Number of fulltime undergraduates     \n",
    "    **P_Undergrad** Number of parttime undergraduates     \n",
    "    **Outstate** Out-of-state tuition     \n",
    "    **Room_Board** Room and board costs     \n",
    "    **Books** Estimated book costs     \n",
    "    **Personal** Estimated personal spending     \n",
    "    **PhD Pct.** of faculty with Ph.D.’s     \n",
    "    **Terminal Pct.** of faculty with terminal degree     \n",
    "    **S_F_Ratio** Student/faculty ratio     \n",
    "    **perc_alumni** Pct. alumni who donate     \n",
    "    **Expend Instructional** expenditure per student     \n",
    "    **Grad_Rate** Graduation rate<br>\n",
    "**Observe que temos 18 variáveis**"
   ]
  },
  {
   "cell_type": "markdown",
   "id": "585497ef-7899-478f-8896-736d860e5824",
   "metadata": {},
   "source": [
    "### **Explorando o banco de dados**"
   ]
  },
  {
   "cell_type": "markdown",
   "id": "bf6c8346-087c-4ccb-8569-1d7fad213fc7",
   "metadata": {},
   "source": [
    "**Uma comparação entre o número de estudantes \"fulltime\" e \"parttime\" de universidade privadas e universidades públicas.**"
   ]
  },
  {
   "cell_type": "code",
   "execution_count": 3,
   "id": "88d60095-cee5-4fd3-950d-c0a501a5cebd",
   "metadata": {},
   "outputs": [
    {
     "data": {
      "text/plain": [
       "<matplotlib.legend.Legend at 0x7f5c892b1c10>"
      ]
     },
     "execution_count": 3,
     "metadata": {},
     "output_type": "execute_result"
    },
    {
     "data": {
      "image/png": "[encoded data removed]",
      "text/plain": [
       "<Figure size 864x576 with 1 Axes>"
      ]
     },
     "metadata": {
      "needs_background": "light"
     },
     "output_type": "display_data"
    }
   ],
   "source": [
    "plt.figure(figsize=(12, 8))\n",
    "\n",
    "data.loc[data.Private == 'Yes', 'F_Undergrad'].hist(label=\"Universidades privadas F_Undergrad\", bins=30)\n",
    "data.loc[data.Private == 'Yes', 'P_Undergrad'].hist(label=\"Universidades privadas P_Undergrad\", bins=30)\n",
    "data.loc[data.Private == 'No', 'F_Undergrad'].hist(label=\"Universidades públicas F_Undergrad\", bins=30)\n",
    "data.loc[data.Private == 'No', 'P_Undergrad'].hist(label=\"Universidades privadas P_Undergrad\", bins=30)\n",
    "\n",
    "plt.xlabel('F_Undergrad vs P_Undergrad')\n",
    "plt.legend()\n"
   ]
  },
  {
   "cell_type": "code",
   "execution_count": 4,
   "id": "792b3cc5-b913-4943-b951-c300cae7bb70",
   "metadata": {},
   "outputs": [
    {
     "name": "stdout",
     "output_type": "stream",
     "text": [
      "Yes    565\n",
      "No     212\n",
      "Name: Private, dtype: int64\n"
     ]
    }
   ],
   "source": [
    "result = data['Private'].value_counts()\n",
    "print(result)"
   ]
  },
  {
   "cell_type": "markdown",
   "id": "1f319feb-67cc-4c01-baaa-3c43a0c52181",
   "metadata": {},
   "source": [
    "**Uma comparação entre a taxa de graduação em universidades privadas e universidades públicas**"
   ]
  },
  {
   "cell_type": "code",
   "execution_count": 5,
   "id": "1d1063ff-299a-4d1e-83e8-424fdc914e75",
   "metadata": {},
   "outputs": [
    {
     "data": {
      "text/plain": [
       "<matplotlib.legend.Legend at 0x7f5c89274700>"
      ]
     },
     "execution_count": 5,
     "metadata": {},
     "output_type": "execute_result"
    },
    {
     "data": {
      "image/png": "[encoded data removed]",
      "text/plain": [
       "<Figure size 864x576 with 1 Axes>"
      ]
     },
     "metadata": {
      "needs_background": "light"
     },
     "output_type": "display_data"
    }
   ],
   "source": [
    "plt.figure(figsize=(12, 8))\n",
    "\n",
    "data.loc[data.Private == 'Yes', 'Grad_Rate'].hist(label=\"Universidades privadas\", bins=30)\n",
    "data.loc[data.Private == 'No', 'Grad_Rate'].hist(label=\"Universidades públicas\", bins=30)\n",
    "\n",
    "plt.xlabel('Taxa de graduação')\n",
    "plt.legend()"
   ]
  },
  {
   "cell_type": "markdown",
   "id": "cd7e0bd3-565e-49a0-af32-52d311f81918",
   "metadata": {},
   "source": [
    "Ao analisar o histograma, percebemos que tem uma universidade com uma taxa de graduação acima de 100%. Temos que saber qual é essa universidade e \"setar\" que a taxa de graduação é de 100%, pois isso faz mais sentido para nossa análise.\n"
   ]
  },
  {
   "cell_type": "code",
   "execution_count": 6,
   "id": "31cd6b39-0059-42da-88ac-d6e45aedfd6a",
   "metadata": {},
   "outputs": [
    {
     "data": {
      "text/html": [
       "<div>\n",
       "<style scoped>\n",
       "    .dataframe tbody tr th:only-of-type {\n",
       "        vertical-align: middle;\n",
       "    }\n",
       "\n",
       "    .dataframe tbody tr th {\n",
       "        vertical-align: top;\n",
       "    }\n",
       "\n",
       "    .dataframe thead th {\n",
       "        text-align: right;\n",
       "    }\n",
       "</style>\n",
       "<table border=\"1\" class=\"dataframe\">\n",
       "  <thead>\n",
       "    <tr style=\"text-align: right;\">\n",
       "      <th></th>\n",
       "      <th>College name</th>\n",
       "      <th>Private</th>\n",
       "      <th>Apps</th>\n",
       "      <th>Accept</th>\n",
       "      <th>Enroll</th>\n",
       "      <th>Top10perc</th>\n",
       "      <th>Top25perc</th>\n",
       "      <th>F_Undergrad</th>\n",
       "      <th>P_Undergrad</th>\n",
       "      <th>Outstate</th>\n",
       "      <th>Room_Board</th>\n",
       "      <th>Books</th>\n",
       "      <th>Personal</th>\n",
       "      <th>PhD</th>\n",
       "      <th>Terminal</th>\n",
       "      <th>S_F_Ratio</th>\n",
       "      <th>perc_alumni</th>\n",
       "      <th>Expend</th>\n",
       "      <th>Grad_Rate</th>\n",
       "    </tr>\n",
       "  </thead>\n",
       "  <tbody>\n",
       "    <tr>\n",
       "      <th>95</th>\n",
       "      <td>Cazenovia College</td>\n",
       "      <td>Yes</td>\n",
       "      <td>3847</td>\n",
       "      <td>3433</td>\n",
       "      <td>527</td>\n",
       "      <td>9</td>\n",
       "      <td>35</td>\n",
       "      <td>1010</td>\n",
       "      <td>12</td>\n",
       "      <td>9384</td>\n",
       "      <td>4840</td>\n",
       "      <td>600</td>\n",
       "      <td>500</td>\n",
       "      <td>22</td>\n",
       "      <td>47</td>\n",
       "      <td>14.3</td>\n",
       "      <td>20</td>\n",
       "      <td>7697</td>\n",
       "      <td>118</td>\n",
       "    </tr>\n",
       "  </tbody>\n",
       "</table>\n",
       "</div>"
      ],
      "text/plain": [
       "         College name Private  Apps  Accept  Enroll  Top10perc  Top25perc  \\\n",
       "95  Cazenovia College     Yes  3847    3433     527          9         35   \n",
       "\n",
       "    F_Undergrad  P_Undergrad  Outstate  Room_Board  Books  Personal  PhD  \\\n",
       "95         1010           12      9384        4840    600       500   22   \n",
       "\n",
       "    Terminal  S_F_Ratio  perc_alumni  Expend  Grad_Rate  \n",
       "95        47       14.3           20    7697        118  "
      ]
     },
     "execution_count": 6,
     "metadata": {},
     "output_type": "execute_result"
    }
   ],
   "source": [
    "data.loc[data.Grad_Rate > 100]"
   ]
  },
  {
   "cell_type": "markdown",
   "id": "2de32043-bf93-4ab2-bce6-8dcb5b9b48fa",
   "metadata": {},
   "source": [
    "Ao fazer a busca, temos que a *Cazenovia College* é a universidade pela qual estamos procurando, então iremos 'setar' a taxa de graduação dela pra 100%.\n"
   ]
  },
  {
   "cell_type": "code",
   "execution_count": 7,
   "id": "540c2138-796d-4b43-8cc3-02106fd3d40e",
   "metadata": {},
   "outputs": [],
   "source": [
    "data.loc[data.Grad_Rate > 100, 'Grad_Rate'] = 100"
   ]
  },
  {
   "cell_type": "markdown",
   "id": "fab6a71e-dc49-4509-9cc4-c7894058524b",
   "metadata": {},
   "source": [
    "**E agora faremos a comparação novamente**"
   ]
  },
  {
   "cell_type": "code",
   "execution_count": 8,
   "id": "1c440375-495a-4883-bdbf-3dda2570205a",
   "metadata": {},
   "outputs": [
    {
     "data": {
      "text/plain": [
       "<matplotlib.legend.Legend at 0x7f5cb6d04220>"
      ]
     },
     "execution_count": 8,
     "metadata": {},
     "output_type": "execute_result"
    },
    {
     "data": {
      "image/png": "[encoded data removed]",
      "text/plain": [
       "<Figure size 864x576 with 1 Axes>"
      ]
     },
     "metadata": {
      "needs_background": "light"
     },
     "output_type": "display_data"
    }
   ],
   "source": [
    "plt.figure(figsize=(12, 8))\n",
    "\n",
    "data.loc[data.Private == 'Yes', 'Grad_Rate'].hist(label=\"Universidades privadas\", bins=30)\n",
    "data.loc[data.Private == 'No', 'Grad_Rate'].hist(label=\"Universidades públicas\", bins=30)\n",
    "\n",
    "plt.xlabel('Taxa de graduação')\n",
    "plt.legend()"
   ]
  },
  {
   "cell_type": "code",
   "execution_count": 9,
   "id": "0b351f72-f55b-4342-a983-b86643b3cdb9",
   "metadata": {},
   "outputs": [],
   "source": [
    "#Transformando a columa em 1 pra yes e 0 pra no\n",
    "data['Private'].replace(['Yes','No'],[1,0],inplace=True)"
   ]
  },
  {
   "cell_type": "code",
   "execution_count": 10,
   "id": "9773e939-9ec8-452b-b92a-4bbeda026271",
   "metadata": {},
   "outputs": [],
   "source": [
    "#selecionando apenas as colunas com valores numéricos\n",
    "X = data.iloc[:, [1,2,3,4,5,6,7,8,9,10,11,12,13,14,15,16,17]].values"
   ]
  },
  {
   "cell_type": "markdown",
   "id": "b389c2eb-5f0d-4424-92b8-2009e711b65a",
   "metadata": {},
   "source": [
    "**Criando uma instância do k-means com k = 2**"
   ]
  },
  {
   "cell_type": "code",
   "execution_count": 11,
   "id": "4561c2d2-72d9-459b-a711-905c49f7c877",
   "metadata": {},
   "outputs": [],
   "source": [
    "kmeans = KMeans(n_clusters = 2)\n",
    "#ajustando o k-means\n",
    "y_kmeans = kmeans.fit_predict(X)"
   ]
  },
  {
   "cell_type": "code",
   "execution_count": 12,
   "id": "1f97471c-f9a9-4da3-b43f-3aa434cdb423",
   "metadata": {},
   "outputs": [
    {
     "name": "stdout",
     "output_type": "stream",
     "text": [
      "              precision    recall  f1-score   support\n",
      "\n",
      "           0       0.69      0.35      0.46       212\n",
      "           1       0.79      0.94      0.86       565\n",
      "\n",
      "    accuracy                           0.78       777\n",
      "   macro avg       0.74      0.64      0.66       777\n",
      "weighted avg       0.76      0.78      0.75       777\n",
      "\n"
     ]
    }
   ],
   "source": [
    "print(classification_report(data.Private, kmeans.labels_))"
   ]
  },
  {
   "cell_type": "markdown",
   "id": "f0fb43f9-7ce1-420e-b523-c73f96649690",
   "metadata": {},
   "source": [
    "Com esssa primeira instância do K-means, com o K = 2, não obtivemos um resultado muito bom. Faremos outros experimentos, para verificar o que acontece com o *precision*, *recall* e *accuracy*."
   ]
  }
 ],
 "metadata": {
  "kernelspec": {
   "display_name": "Python 3",
   "language": "python",
   "name": "python3"
  },
  "language_info": {
   "codemirror_mode": {
    "name": "ipython",
    "version": 3
   },
   "file_extension": ".py",
   "mimetype": "text/x-python",
   "name": "python",
   "nbconvert_exporter": "python",
   "pygments_lexer": "ipython3",
   "version": "3.9.2"
  }
 },
 "nbformat": 4,
 "nbformat_minor": 5
}
