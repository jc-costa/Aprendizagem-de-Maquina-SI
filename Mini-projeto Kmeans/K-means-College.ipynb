{
 "cells": [
  {
   "cell_type": "markdown",
   "id": "artificial-driver",
   "metadata": {},
   "source": [
    "**Alunos: \n",
    "Jefferson Costa, \n",
    "Sávio Berdine, \n",
    "Amanda Lasserre,\n",
    "Kevin Andrews,\n",
    "Nicholas Henrique.**"
   ]
  },
  {
   "cell_type": "code",
   "execution_count": 1,
   "id": "honest-intervention",
   "metadata": {},
   "outputs": [],
   "source": [
    "#-*- coding:utf-8 -*-\n",
    "import pandas as pd\n",
    "import numpy as np\n",
    "import seaborn as sns\n",
    "import matplotlib.pyplot as plt\n",
    "from sklearn.cluster import KMeans\n",
    "from sklearn.model_selection import train_test_split\n",
    "from sklearn.metrics import classification_report, accuracy_score"
   ]
  },
  {
   "cell_type": "code",
   "execution_count": 2,
   "id": "naked-match",
   "metadata": {},
   "outputs": [
    {
     "data": {
      "text/html": [
       "<div>\n",
       "<style scoped>\n",
       "    .dataframe tbody tr th:only-of-type {\n",
       "        vertical-align: middle;\n",
       "    }\n",
       "\n",
       "    .dataframe tbody tr th {\n",
       "        vertical-align: top;\n",
       "    }\n",
       "\n",
       "    .dataframe thead th {\n",
       "        text-align: right;\n",
       "    }\n",
       "</style>\n",
       "<table border=\"1\" class=\"dataframe\">\n",
       "  <thead>\n",
       "    <tr style=\"text-align: right;\">\n",
       "      <th></th>\n",
       "      <th>College name</th>\n",
       "      <th>Private</th>\n",
       "      <th>Apps</th>\n",
       "      <th>Accept</th>\n",
       "      <th>Enroll</th>\n",
       "      <th>Top10perc</th>\n",
       "      <th>Top25perc</th>\n",
       "      <th>F_Undergrad</th>\n",
       "      <th>P_Undergrad</th>\n",
       "      <th>Outstate</th>\n",
       "      <th>Room_Board</th>\n",
       "      <th>Books</th>\n",
       "      <th>Personal</th>\n",
       "      <th>PhD</th>\n",
       "      <th>Terminal</th>\n",
       "      <th>S_F_Ratio</th>\n",
       "      <th>perc_alumni</th>\n",
       "      <th>Expend</th>\n",
       "      <th>Grad_Rate</th>\n",
       "    </tr>\n",
       "  </thead>\n",
       "  <tbody>\n",
       "    <tr>\n",
       "      <th>0</th>\n",
       "      <td>Abilene Christian University</td>\n",
       "      <td>Yes</td>\n",
       "      <td>1660</td>\n",
       "      <td>1232</td>\n",
       "      <td>721</td>\n",
       "      <td>23</td>\n",
       "      <td>52</td>\n",
       "      <td>2885</td>\n",
       "      <td>537</td>\n",
       "      <td>7440</td>\n",
       "      <td>3300</td>\n",
       "      <td>450</td>\n",
       "      <td>2200</td>\n",
       "      <td>70</td>\n",
       "      <td>78</td>\n",
       "      <td>18.1</td>\n",
       "      <td>12</td>\n",
       "      <td>7041</td>\n",
       "      <td>60</td>\n",
       "    </tr>\n",
       "    <tr>\n",
       "      <th>1</th>\n",
       "      <td>Adelphi University</td>\n",
       "      <td>Yes</td>\n",
       "      <td>2186</td>\n",
       "      <td>1924</td>\n",
       "      <td>512</td>\n",
       "      <td>16</td>\n",
       "      <td>29</td>\n",
       "      <td>2683</td>\n",
       "      <td>1227</td>\n",
       "      <td>12280</td>\n",
       "      <td>6450</td>\n",
       "      <td>750</td>\n",
       "      <td>1500</td>\n",
       "      <td>29</td>\n",
       "      <td>30</td>\n",
       "      <td>12.2</td>\n",
       "      <td>16</td>\n",
       "      <td>10527</td>\n",
       "      <td>56</td>\n",
       "    </tr>\n",
       "    <tr>\n",
       "      <th>2</th>\n",
       "      <td>Adrian College</td>\n",
       "      <td>Yes</td>\n",
       "      <td>1428</td>\n",
       "      <td>1097</td>\n",
       "      <td>336</td>\n",
       "      <td>22</td>\n",
       "      <td>50</td>\n",
       "      <td>1036</td>\n",
       "      <td>99</td>\n",
       "      <td>11250</td>\n",
       "      <td>3750</td>\n",
       "      <td>400</td>\n",
       "      <td>1165</td>\n",
       "      <td>53</td>\n",
       "      <td>66</td>\n",
       "      <td>12.9</td>\n",
       "      <td>30</td>\n",
       "      <td>8735</td>\n",
       "      <td>54</td>\n",
       "    </tr>\n",
       "    <tr>\n",
       "      <th>3</th>\n",
       "      <td>Agnes Scott College</td>\n",
       "      <td>Yes</td>\n",
       "      <td>417</td>\n",
       "      <td>349</td>\n",
       "      <td>137</td>\n",
       "      <td>60</td>\n",
       "      <td>89</td>\n",
       "      <td>510</td>\n",
       "      <td>63</td>\n",
       "      <td>12960</td>\n",
       "      <td>5450</td>\n",
       "      <td>450</td>\n",
       "      <td>875</td>\n",
       "      <td>92</td>\n",
       "      <td>97</td>\n",
       "      <td>7.7</td>\n",
       "      <td>37</td>\n",
       "      <td>19016</td>\n",
       "      <td>59</td>\n",
       "    </tr>\n",
       "    <tr>\n",
       "      <th>4</th>\n",
       "      <td>Alaska Pacific University</td>\n",
       "      <td>Yes</td>\n",
       "      <td>193</td>\n",
       "      <td>146</td>\n",
       "      <td>55</td>\n",
       "      <td>16</td>\n",
       "      <td>44</td>\n",
       "      <td>249</td>\n",
       "      <td>869</td>\n",
       "      <td>7560</td>\n",
       "      <td>4120</td>\n",
       "      <td>800</td>\n",
       "      <td>1500</td>\n",
       "      <td>76</td>\n",
       "      <td>72</td>\n",
       "      <td>11.9</td>\n",
       "      <td>2</td>\n",
       "      <td>10922</td>\n",
       "      <td>15</td>\n",
       "    </tr>\n",
       "  </tbody>\n",
       "</table>\n",
       "</div>"
      ],
      "text/plain": [
       "                   College name Private  Apps  Accept  Enroll  Top10perc  \\\n",
       "0  Abilene Christian University     Yes  1660    1232     721         23   \n",
       "1            Adelphi University     Yes  2186    1924     512         16   \n",
       "2                Adrian College     Yes  1428    1097     336         22   \n",
       "3           Agnes Scott College     Yes   417     349     137         60   \n",
       "4     Alaska Pacific University     Yes   193     146      55         16   \n",
       "\n",
       "   Top25perc  F_Undergrad  P_Undergrad  Outstate  Room_Board  Books  Personal  \\\n",
       "0         52         2885          537      7440        3300    450      2200   \n",
       "1         29         2683         1227     12280        6450    750      1500   \n",
       "2         50         1036           99     11250        3750    400      1165   \n",
       "3         89          510           63     12960        5450    450       875   \n",
       "4         44          249          869      7560        4120    800      1500   \n",
       "\n",
       "   PhD  Terminal  S_F_Ratio  perc_alumni  Expend  Grad_Rate  \n",
       "0   70        78       18.1           12    7041         60  \n",
       "1   29        30       12.2           16   10527         56  \n",
       "2   53        66       12.9           30    8735         54  \n",
       "3   92        97        7.7           37   19016         59  \n",
       "4   76        72       11.9            2   10922         15  "
      ]
     },
     "execution_count": 2,
     "metadata": {},
     "output_type": "execute_result"
    }
   ],
   "source": [
    "data = pd.read_csv(\"College.csv\")\n",
    "#No dataSet original, temos colunas com os nomes separados com um \".\", por exemplo, Grad.Rate, e isso estava nos dando alguns problemas, então resolvemos renomear as colunas e trocar esse \".\" por um \"_\"\n",
    "data = data.rename(columns={'Unnamed: 0':'College name','F.Undergrad':'F_Undergrad','P.Undergrad':'P_Undergrad','Room.Board':'Room_Board','S.F.Ratio':'S_F_Ratio','perc.alumni':'perc_alumni','Grad.Rate':'Grad_Rate'})\n",
    "data.head()"
   ]
  },
  {
   "cell_type": "code",
   "execution_count": 3,
   "id": "bigger-premium",
   "metadata": {},
   "outputs": [
    {
     "name": "stdout",
     "output_type": "stream",
     "text": [
      "<class 'pandas.core.frame.DataFrame'>\n",
      "RangeIndex: 777 entries, 0 to 776\n",
      "Data columns (total 18 columns):\n",
      " #   Column       Non-Null Count  Dtype  \n",
      "---  ------       --------------  -----  \n",
      " 0   Private      777 non-null    object \n",
      " 1   Apps         777 non-null    int64  \n",
      " 2   Accept       777 non-null    int64  \n",
      " 3   Enroll       777 non-null    int64  \n",
      " 4   Top10perc    777 non-null    int64  \n",
      " 5   Top25perc    777 non-null    int64  \n",
      " 6   F_Undergrad  777 non-null    int64  \n",
      " 7   P_Undergrad  777 non-null    int64  \n",
      " 8   Outstate     777 non-null    int64  \n",
      " 9   Room_Board   777 non-null    int64  \n",
      " 10  Books        777 non-null    int64  \n",
      " 11  Personal     777 non-null    int64  \n",
      " 12  PhD          777 non-null    int64  \n",
      " 13  Terminal     777 non-null    int64  \n",
      " 14  S_F_Ratio    777 non-null    float64\n",
      " 15  perc_alumni  777 non-null    int64  \n",
      " 16  Expend       777 non-null    int64  \n",
      " 17  Grad_Rate    777 non-null    int64  \n",
      "dtypes: float64(1), int64(16), object(1)\n",
      "memory usage: 109.4+ KB\n"
     ]
    }
   ],
   "source": [
    "data.drop([\"College name\"], axis=1, inplace=True)\n",
    "data.info()"
   ]
  },
  {
   "cell_type": "markdown",
   "id": "worth-bridge",
   "metadata": {},
   "source": [
    "**Os dados que serão utilizados**<br>\n",
    "    **Private** A factor with levels No and Yes indicating private or public university     \n",
    "    **Apps** Number of applications received     \n",
    "    **Accept** Number of applications accepted     \n",
    "    **Enroll Number** of new students enrolled     \n",
    "    **Top10perc** Pct. new students from top 10% of H.S. class     \n",
    "    **Top25perc** Pct. new students from top 25% of H.S. class     \n",
    "    **F_Undergrad** Number of fulltime undergraduates     \n",
    "    **P_Undergrad** Number of parttime undergraduates     \n",
    "    **Outstate** Out-of-state tuition     \n",
    "    **Room_Board** Room and board costs     \n",
    "    **Books** Estimated book costs     \n",
    "    **Personal** Estimated personal spending     \n",
    "    **PhD Pct.** of faculty with Ph.D.’s     \n",
    "    **Terminal Pct.** of faculty with terminal degree     \n",
    "    **S_F_Ratio** Student/faculty ratio     \n",
    "    **perc_alumni** Pct. alumni who donate     \n",
    "    **Expend Instructional** expenditure per student     \n",
    "    **Grad_Rate** Graduation rate<br>\n",
    "**Observe que temos 18 variáveis**"
   ]
  },
  {
   "cell_type": "markdown",
   "id": "valuable-decade",
   "metadata": {},
   "source": [
    "### **Explorando o banco de dados**"
   ]
  },
  {
   "cell_type": "markdown",
   "id": "extensive-physics",
   "metadata": {},
   "source": [
    "**Uma comparação entre o número de estudantes \"fulltime\" e \"parttime\" de universidade privadas e universidades públicas.**"
   ]
  },
  {
   "cell_type": "code",
   "execution_count": 4,
   "id": "attached-prisoner",
   "metadata": {},
   "outputs": [
    {
     "data": {
      "text/plain": [
       "<matplotlib.legend.Legend at 0x187757305b0>"
      ]
     },
     "execution_count": 4,
     "metadata": {},
     "output_type": "execute_result"
    },
    {
     "data": {
      "image/png": "[encoded data removed]",
      "text/plain": [
       "<Figure size 864x576 with 1 Axes>"
      ]
     },
     "metadata": {
      "needs_background": "light"
     },
     "output_type": "display_data"
    }
   ],
   "source": [
    "plt.figure(figsize=(12, 8))\n",
    "\n",
    "data.loc[data.Private == 'Yes', 'F_Undergrad'].hist(label=\"Universidades privadas F_Undergrad\", bins=30)\n",
    "data.loc[data.Private == 'Yes', 'P_Undergrad'].hist(label=\"Universidades privadas P_Undergrad\", bins=30)\n",
    "data.loc[data.Private == 'No', 'F_Undergrad'].hist(label=\"Universidades públicas F_Undergrad\", bins=30)\n",
    "data.loc[data.Private == 'No', 'P_Undergrad'].hist(label=\"Universidades privadas P_Undergrad\", bins=30)\n",
    "\n",
    "plt.xlabel('F_Undergrad vs P_Undergrad')\n",
    "plt.legend()\n"
   ]
  },
  {
   "cell_type": "code",
   "execution_count": 5,
   "id": "brief-accordance",
   "metadata": {},
   "outputs": [
    {
     "name": "stdout",
     "output_type": "stream",
     "text": [
      "Yes    565\n",
      "No     212\n",
      "Name: Private, dtype: int64\n"
     ]
    }
   ],
   "source": [
    "result = data['Private'].value_counts()\n",
    "print(result)"
   ]
  },
  {
   "cell_type": "markdown",
   "id": "polyphonic-eight",
   "metadata": {},
   "source": [
    "**Uma comparação entre a taxa de graduação em universidades privadas e universidades públicas**"
   ]
  },
  {
   "cell_type": "code",
   "execution_count": 6,
   "id": "logical-chocolate",
   "metadata": {},
   "outputs": [
    {
     "data": {
      "text/plain": [
       "<matplotlib.legend.Legend at 0x18708f1a5e0>"
      ]
     },
     "execution_count": 6,
     "metadata": {},
     "output_type": "execute_result"
    },
    {
     "data": {
      "image/png": "[encoded data removed]",
      "text/plain": [
       "<Figure size 864x576 with 1 Axes>"
      ]
     },
     "metadata": {
      "needs_background": "light"
     },
     "output_type": "display_data"
    }
   ],
   "source": [
    "plt.figure(figsize=(12, 8))\n",
    "\n",
    "data.loc[data.Private == 'Yes', 'Grad_Rate'].hist(label=\"Universidades privadas\", bins=30)\n",
    "data.loc[data.Private == 'No', 'Grad_Rate'].hist(label=\"Universidades públicas\", bins=30)\n",
    "\n",
    "plt.xlabel('Taxa de graduação')\n",
    "plt.legend()"
   ]
  },
  {
   "cell_type": "markdown",
   "id": "religious-enough",
   "metadata": {},
   "source": [
    "Ao analisar o histograma, percebemos que tem uma universidade com uma taxa de graduação acima de 100%. Temos que saber qual é essa universidade e \"setar\" que a taxa de graduação é de 100%, pois isso faz mais sentido para nossa análise.\n"
   ]
  },
  {
   "cell_type": "code",
   "execution_count": 7,
   "id": "annoying-usage",
   "metadata": {},
   "outputs": [
    {
     "data": {
      "text/html": [
       "<div>\n",
       "<style scoped>\n",
       "    .dataframe tbody tr th:only-of-type {\n",
       "        vertical-align: middle;\n",
       "    }\n",
       "\n",
       "    .dataframe tbody tr th {\n",
       "        vertical-align: top;\n",
       "    }\n",
       "\n",
       "    .dataframe thead th {\n",
       "        text-align: right;\n",
       "    }\n",
       "</style>\n",
       "<table border=\"1\" class=\"dataframe\">\n",
       "  <thead>\n",
       "    <tr style=\"text-align: right;\">\n",
       "      <th></th>\n",
       "      <th>Private</th>\n",
       "      <th>Apps</th>\n",
       "      <th>Accept</th>\n",
       "      <th>Enroll</th>\n",
       "      <th>Top10perc</th>\n",
       "      <th>Top25perc</th>\n",
       "      <th>F_Undergrad</th>\n",
       "      <th>P_Undergrad</th>\n",
       "      <th>Outstate</th>\n",
       "      <th>Room_Board</th>\n",
       "      <th>Books</th>\n",
       "      <th>Personal</th>\n",
       "      <th>PhD</th>\n",
       "      <th>Terminal</th>\n",
       "      <th>S_F_Ratio</th>\n",
       "      <th>perc_alumni</th>\n",
       "      <th>Expend</th>\n",
       "      <th>Grad_Rate</th>\n",
       "    </tr>\n",
       "  </thead>\n",
       "  <tbody>\n",
       "    <tr>\n",
       "      <th>95</th>\n",
       "      <td>Yes</td>\n",
       "      <td>3847</td>\n",
       "      <td>3433</td>\n",
       "      <td>527</td>\n",
       "      <td>9</td>\n",
       "      <td>35</td>\n",
       "      <td>1010</td>\n",
       "      <td>12</td>\n",
       "      <td>9384</td>\n",
       "      <td>4840</td>\n",
       "      <td>600</td>\n",
       "      <td>500</td>\n",
       "      <td>22</td>\n",
       "      <td>47</td>\n",
       "      <td>14.3</td>\n",
       "      <td>20</td>\n",
       "      <td>7697</td>\n",
       "      <td>118</td>\n",
       "    </tr>\n",
       "  </tbody>\n",
       "</table>\n",
       "</div>"
      ],
      "text/plain": [
       "   Private  Apps  Accept  Enroll  Top10perc  Top25perc  F_Undergrad  \\\n",
       "95     Yes  3847    3433     527          9         35         1010   \n",
       "\n",
       "    P_Undergrad  Outstate  Room_Board  Books  Personal  PhD  Terminal  \\\n",
       "95           12      9384        4840    600       500   22        47   \n",
       "\n",
       "    S_F_Ratio  perc_alumni  Expend  Grad_Rate  \n",
       "95       14.3           20    7697        118  "
      ]
     },
     "execution_count": 7,
     "metadata": {},
     "output_type": "execute_result"
    }
   ],
   "source": [
    "data.loc[data.Grad_Rate > 100]"
   ]
  },
  {
   "cell_type": "markdown",
   "id": "figured-march",
   "metadata": {},
   "source": [
    "Ao fazer a busca, temos que a *Cazenovia College* é a universidade pela qual estamos procurando, então iremos 'setar' a taxa de graduação dela pra 100%.\n"
   ]
  },
  {
   "cell_type": "code",
   "execution_count": 8,
   "id": "clean-performer",
   "metadata": {},
   "outputs": [],
   "source": [
    "data.loc[data.Grad_Rate > 100, 'Grad_Rate'] = 100"
   ]
  },
  {
   "cell_type": "markdown",
   "id": "artificial-publicity",
   "metadata": {},
   "source": [
    "**E agora faremos a comparação novamente**"
   ]
  },
  {
   "cell_type": "code",
   "execution_count": 9,
   "id": "inclusive-variety",
   "metadata": {},
   "outputs": [
    {
     "data": {
      "text/plain": [
       "<matplotlib.legend.Legend at 0x18706cdd040>"
      ]
     },
     "execution_count": 9,
     "metadata": {},
     "output_type": "execute_result"
    },
    {
     "data": {
      "image/png": "[encoded data removed]",
      "text/plain": [
       "<Figure size 864x576 with 1 Axes>"
      ]
     },
     "metadata": {
      "needs_background": "light"
     },
     "output_type": "display_data"
    }
   ],
   "source": [
    "plt.figure(figsize=(12, 8))\n",
    "\n",
    "data.loc[data.Private == 'Yes', 'Grad_Rate'].hist(label=\"Universidades privadas\", bins=30)\n",
    "data.loc[data.Private == 'No', 'Grad_Rate'].hist(label=\"Universidades públicas\", bins=30)\n",
    "\n",
    "plt.xlabel('Taxa de graduação')\n",
    "plt.legend()"
   ]
  },
  {
   "cell_type": "markdown",
   "id": "static-criminal",
   "metadata": {},
   "source": [
    "### Experimentos:"
   ]
  },
  {
   "cell_type": "markdown",
   "id": "numerical-carpet",
   "metadata": {},
   "source": [
    "#### Para os experimentos serão utilizados os seguintes parâmetros da função \"*KMeans*\": *n_clusters, init, n_init, max_iter e random_state*."
   ]
  },
  {
   "cell_type": "markdown",
   "id": "timely-prison",
   "metadata": {},
   "source": [
    "*n_clusters*: Número de centróides que serão gerados. Padrão = 8.\n",
    "\n",
    "*init*: Método para inicialização. Pode ser do tipo \"*k_means++*\", onde seleciona de maneira inteligente os centróides iniciais para acelerar a convergência, e do tipo \"*random*\", onde é escolhido aleatoriamente \"*n_clusters*\" linhas do banco de dados para serem os centróides iniciais. Padrão = \"*k_means++*\".\n",
    "\n",
    "*n_init*: Número de vezes que o algoritmo K-Means executará com diferentes centróides iniciais. Padrão = 10.\n",
    "\n",
    "*max_iter*: Número máximo de iterações que o algoritmo K-Means irá executar. Padrão = 300.\n",
    "\n",
    "*random_state*: Número aleatório para geração inicial dos centróides. Padrão = *None*."
   ]
  },
  {
   "cell_type": "code",
   "execution_count": 10,
   "id": "realistic-vegetable",
   "metadata": {},
   "outputs": [],
   "source": [
    "#Transformando a columa em 1 pra yes e 0 pra no\n",
    "data['Private'].replace(['Yes','No'],[1,0],inplace=True)"
   ]
  },
  {
   "cell_type": "code",
   "execution_count": 11,
   "id": "inner-schema",
   "metadata": {},
   "outputs": [],
   "source": [
    "#selecionando apenas as colunas com valores numéricos\n",
    "X = data.iloc[:, [1,2,3,4,5,6,7,8,9,10,11,12,13,14,15,16,17]].values"
   ]
  },
  {
   "cell_type": "markdown",
   "id": "requested-semester",
   "metadata": {},
   "source": [
    "**Criando uma instância do k-means com k = 2**"
   ]
  },
  {
   "cell_type": "code",
   "execution_count": 12,
   "id": "enhanced-shuttle",
   "metadata": {},
   "outputs": [],
   "source": [
    "kmeans = KMeans(n_clusters = 2)\n",
    "#ajustando o k-means\n",
    "y_kmeans = kmeans.fit_predict(X)"
   ]
  },
  {
   "cell_type": "code",
   "execution_count": 13,
   "id": "polish-husband",
   "metadata": {},
   "outputs": [
    {
     "name": "stdout",
     "output_type": "stream",
     "text": [
      "              precision    recall  f1-score   support\n",
      "\n",
      "           0       0.69      0.35      0.46       212\n",
      "           1       0.79      0.94      0.86       565\n",
      "\n",
      "    accuracy                           0.78       777\n",
      "   macro avg       0.74      0.64      0.66       777\n",
      "weighted avg       0.76      0.78      0.75       777\n",
      "\n"
     ]
    }
   ],
   "source": [
    "print(classification_report(data.Private, kmeans.labels_))"
   ]
  },
  {
   "cell_type": "markdown",
   "id": "meaningful-brazil",
   "metadata": {},
   "source": [
    "Com esssa primeira instância do K-means, com o K = 2, não obtivemos um resultado muito bom. Faremos outros experimentos, para verificar o que acontece com o *precision*, *recall* e *accuracy*."
   ]
  },
  {
   "cell_type": "code",
   "execution_count": 14,
   "id": "collected-turkey",
   "metadata": {},
   "outputs": [
    {
     "data": {
      "image/png": "[encoded data removed]",
      "text/plain": [
       "<Figure size 1296x504 with 1 Axes>"
      ]
     },
     "metadata": {
      "needs_background": "light"
     },
     "output_type": "display_data"
    },
    {
     "data": {
      "image/png": "[encoded data removed]",
      "text/plain": [
       "<Figure size 1296x504 with 1 Axes>"
      ]
     },
     "metadata": {
      "needs_background": "light"
     },
     "output_type": "display_data"
    },
    {
     "data": {
      "image/png": "[encoded data removed]",
      "text/plain": [
       "<Figure size 1296x504 with 1 Axes>"
      ]
     },
     "metadata": {
      "needs_background": "light"
     },
     "output_type": "display_data"
    },
    {
     "data": {
      "image/png": "[encoded data removed]",
      "text/plain": [
       "<Figure size 1296x504 with 1 Axes>"
      ]
     },
     "metadata": {
      "needs_background": "light"
     },
     "output_type": "display_data"
    },
    {
     "data": {
      "image/png": "[encoded data removed]",
      "text/plain": [
       "<Figure size 1296x504 with 1 Axes>"
      ]
     },
     "metadata": {
      "needs_background": "light"
     },
     "output_type": "display_data"
    },
    {
     "data": {
      "image/png": "[encoded data removed]",
      "text/plain": [
       "<Figure size 1296x504 with 1 Axes>"
      ]
     },
     "metadata": {
      "needs_background": "light"
     },
     "output_type": "display_data"
    }
   ],
   "source": [
    "from sklearn.metrics import silhouette_samples, silhouette_score\n",
    "# data_investigation = pd.read_csv(\"College.csv\")\n",
    "# #No dataSet original, temos colunas com os nomes separados com um \".\", por exemplo, Grad.Rate, e isso estava nos dando alguns problemas, então resolvemos renomear as colunas e trocar esse \".\" por um \"_\"\n",
    "# data_investigation = data_investigation.rename(columns={'Unnamed: 0':'College name','F.Undergrad':'F_Undergrad','P.Undergrad':'P_Undergrad','Room.Board':'Room_Board','S.F.Ratio':'S_F_Ratio','perc.alumni':'perc_alumni','Grad.Rate':'Grad_Rate'})\n",
    "# #Removendo a coluna que classifica as universidades\n",
    "# data_investigation.drop('Private', axis='columns', inplace=True)\n",
    "# X = data_investigation.iloc[:, [1,2,3,4,5,6,7,8,9,10,11,12,13,14,15,16,17]].values\n",
    "for i, k in enumerate([2, 3, 4, 5, 6, 7]):\n",
    "    fig, (ax1) = plt.subplots(1)\n",
    "    fig.set_size_inches(18, 7)\n",
    "    \n",
    "    # Run the Kmeans algorithm\n",
    "    km = KMeans(n_clusters=k)\n",
    "    labels = km.fit_predict(X)\n",
    "    centroids = km.cluster_centers_\n",
    "\n",
    "    # Get silhouette samples\n",
    "    silhouette_vals = silhouette_samples(X, labels)\n",
    "\n",
    "    # Silhouette plot\n",
    "    y_ticks = []\n",
    "    y_lower, y_upper = 0, 0\n",
    "    for i, cluster in enumerate(np.unique(labels)):\n",
    "        cluster_silhouette_vals = silhouette_vals[labels == cluster]\n",
    "        cluster_silhouette_vals.sort()\n",
    "        y_upper += len(cluster_silhouette_vals)\n",
    "        ax1.barh(range(y_lower, y_upper), cluster_silhouette_vals, edgecolor='none', height=1)\n",
    "        ax1.text(-0.03, (y_lower + y_upper) / 2, str(i + 1))\n",
    "        y_lower += len(cluster_silhouette_vals)\n",
    "\n",
    "    # Get the average silhouette score and plot it\n",
    "    avg_score = np.mean(silhouette_vals)\n",
    "    ax1.axvline(avg_score, linestyle='--', linewidth=2, color='green')\n",
    "    ax1.set_yticks([])\n",
    "    ax1.set_xlim([-0.1, 1])\n",
    "    ax1.set_xlabel('Silhouette coefficient values')\n",
    "    ax1.set_ylabel('Cluster labels')\n",
    "    ax1.set_title('Silhouette plot for the various clusters', y=1.02);\n",
    "    \n",
    "    plt.tight_layout\n",
    "    plt.suptitle(f'Silhouette analysis using k = {k}',\n",
    "                 fontsize=16, fontweight='semibold', y=1.05);"
   ]
  },
  {
   "cell_type": "markdown",
   "id": "objective-pantyhose",
   "metadata": {},
   "source": [
    "Consideramos que a quantidade de clusters ideal tem todos os clusters acima da média do silhouette score e um silhouette socore médio acima de 0.5. Fica claro que com dois clusters o silhouette socore médio tem o melhor resultado, ficando próximo a 0.6, entretanto um dos clusters tem o score sempre menor que a média, o que não é o ideal. Mais investigação deve ser feita sobre o data set."
   ]
  },
  {
   "cell_type": "markdown",
   "id": "seventh-farmer",
   "metadata": {},
   "source": [
    "#### Para os experimentos também serão utilizados os seguintes parâmetros da função \"*train_test_split*\": *train_size* e *random_state*."
   ]
  },
  {
   "cell_type": "markdown",
   "id": "authentic-madagascar",
   "metadata": {},
   "source": [
    "*train_size*: Representa a porcentagem do banco de dados utilizada para treinamento, o restante fica alocado para teste. Padrão: *None*.\n",
    "\n",
    "*random_state*: Número para aleatorizar as observações selecionadas do banco de dados *x* e *y*. Padrão: *None*."
   ]
  },
  {
   "cell_type": "code",
   "execution_count": 15,
   "id": "assured-tuner",
   "metadata": {},
   "outputs": [
    {
     "data": {
      "text/plain": [
       "1    565\n",
       "0    212\n",
       "Name: Private, dtype: int64"
      ]
     },
     "execution_count": 15,
     "metadata": {},
     "output_type": "execute_result"
    }
   ],
   "source": [
    "x = data.drop(['Private'],axis=1)\n",
    "y = data[\"Private\"]\n",
    "y.value_counts()"
   ]
  },
  {
   "cell_type": "markdown",
   "id": "literary-session",
   "metadata": {},
   "source": [
    "#### Variando *train_size*:"
   ]
  },
  {
   "cell_type": "code",
   "execution_count": 16,
   "id": "federal-constitution",
   "metadata": {},
   "outputs": [
    {
     "name": "stdout",
     "output_type": "stream",
     "text": [
      "0.35732647814910024\n",
      "              precision    recall  f1-score   support\n",
      "\n",
      "           0       0.86      0.17      0.29       104\n",
      "           1       0.97      0.42      0.59       285\n",
      "           2       0.00      0.00      0.00         0\n",
      "           3       0.00      0.00      0.00         0\n",
      "           4       0.00      0.00      0.00         0\n",
      "           6       0.00      0.00      0.00         0\n",
      "           7       0.00      0.00      0.00         0\n",
      "\n",
      "    accuracy                           0.36       389\n",
      "   macro avg       0.26      0.09      0.13       389\n",
      "weighted avg       0.94      0.36      0.51       389\n",
      "\n"
     ]
    },
    {
     "name": "stderr",
     "output_type": "stream",
     "text": [
      "c:\\users\\jeff\\appdata\\local\\programs\\python\\python39\\lib\\site-packages\\sklearn\\metrics\\_classification.py:1245: UndefinedMetricWarning: Recall and F-score are ill-defined and being set to 0.0 in labels with no true samples. Use `zero_division` parameter to control this behavior.\n",
      "  _warn_prf(average, modifier, msg_start, len(result))\n",
      "c:\\users\\jeff\\appdata\\local\\programs\\python\\python39\\lib\\site-packages\\sklearn\\metrics\\_classification.py:1245: UndefinedMetricWarning: Recall and F-score are ill-defined and being set to 0.0 in labels with no true samples. Use `zero_division` parameter to control this behavior.\n",
      "  _warn_prf(average, modifier, msg_start, len(result))\n",
      "c:\\users\\jeff\\appdata\\local\\programs\\python\\python39\\lib\\site-packages\\sklearn\\metrics\\_classification.py:1245: UndefinedMetricWarning: Recall and F-score are ill-defined and being set to 0.0 in labels with no true samples. Use `zero_division` parameter to control this behavior.\n",
      "  _warn_prf(average, modifier, msg_start, len(result))\n"
     ]
    }
   ],
   "source": [
    "x_train, x_test, y_train, y_test = train_test_split(x, y, train_size=0.50, random_state=None)\n",
    "kmeans = KMeans(n_clusters=8, init=\"k-means++\", n_init=10, max_iter=300, random_state = None)\n",
    "kmeans.fit(x_train)\n",
    "predicted = kmeans.predict(x_test)\n",
    "print(accuracy_score(y_test, predicted))\n",
    "print(classification_report(y_test,predicted))"
   ]
  },
  {
   "cell_type": "markdown",
   "id": "fallen-highlight",
   "metadata": {},
   "source": [
    "Obtiveram-se esses *warnings* pois como foi passado *n_clusters=8*, o algoritmo \"*KMeans*\" tentará segregar o banco de dados que o foi passado em 8 diferentes classificações, entretanto o banco de dados utilizado possui apenas 2 classificações, \"1\" para faculadade privada e \"0\" para faculdade pública, logo, deve-se utilizar *n_clusters=2* para os experimentos."
   ]
  },
  {
   "cell_type": "code",
   "execution_count": 17,
   "id": "expired-regular",
   "metadata": {},
   "outputs": [
    {
     "name": "stdout",
     "output_type": "stream",
     "text": [
      "0.2262210796915167\n",
      "              precision    recall  f1-score   support\n",
      "\n",
      "           0       0.20      0.66      0.31       102\n",
      "           1       0.38      0.07      0.12       287\n",
      "\n",
      "    accuracy                           0.23       389\n",
      "   macro avg       0.29      0.37      0.22       389\n",
      "weighted avg       0.33      0.23      0.17       389\n",
      "\n"
     ]
    }
   ],
   "source": [
    "x_train, x_test, y_train, y_test = train_test_split(x, y, train_size=0.50, random_state=None)\n",
    "kmeans = KMeans(n_clusters=2, init=\"k-means++\", n_init=10, max_iter=300, random_state = None)\n",
    "kmeans.fit(x_train)\n",
    "predicted = kmeans.predict(x_test)\n",
    "print(accuracy_score(y_test, predicted))\n",
    "print(classification_report(y_test,predicted))"
   ]
  },
  {
   "cell_type": "code",
   "execution_count": 18,
   "id": "heavy-adobe",
   "metadata": {},
   "outputs": [
    {
     "name": "stdout",
     "output_type": "stream",
     "text": [
      "0.7588424437299035\n",
      "              precision    recall  f1-score   support\n",
      "\n",
      "           0       0.69      0.27      0.39        88\n",
      "           1       0.77      0.95      0.85       223\n",
      "\n",
      "    accuracy                           0.76       311\n",
      "   macro avg       0.73      0.61      0.62       311\n",
      "weighted avg       0.74      0.76      0.72       311\n",
      "\n"
     ]
    }
   ],
   "source": [
    "x_train, x_test, y_train, y_test = train_test_split(x, y, train_size=0.6, random_state=None)\n",
    "kmeans = KMeans(n_clusters=2, init=\"k-means++\", n_init=10, max_iter=300, random_state = None)\n",
    "kmeans.fit(x_train)\n",
    "predicted = kmeans.predict(x_test)\n",
    "print(accuracy_score(y_test, predicted))\n",
    "print(classification_report(y_test,predicted))"
   ]
  },
  {
   "cell_type": "code",
   "execution_count": 19,
   "id": "cordless-determination",
   "metadata": {},
   "outputs": [
    {
     "name": "stdout",
     "output_type": "stream",
     "text": [
      "0.8\n",
      "              precision    recall  f1-score   support\n",
      "\n",
      "           0       0.76      0.32      0.45        50\n",
      "           1       0.80      0.97      0.88       145\n",
      "\n",
      "    accuracy                           0.80       195\n",
      "   macro avg       0.78      0.64      0.66       195\n",
      "weighted avg       0.79      0.80      0.77       195\n",
      "\n"
     ]
    }
   ],
   "source": [
    "x_train, x_test, y_train, y_test = train_test_split(x, y, train_size=0.75, random_state=None)\n",
    "kmeans = KMeans(n_clusters=2, init=\"k-means++\", n_init=10, max_iter=300, random_state = None)\n",
    "kmeans.fit(x_train)\n",
    "predicted = kmeans.predict(x_test)\n",
    "print(accuracy_score(y_test, predicted))\n",
    "print(classification_report(y_test,predicted))"
   ]
  },
  {
   "cell_type": "markdown",
   "id": "static-viking",
   "metadata": {},
   "source": [
    "*train_size=0.75* apresentou o melhor resultado."
   ]
  },
  {
   "cell_type": "markdown",
   "id": "interested-residence",
   "metadata": {},
   "source": [
    "#### Variando *random_state* de *train_test_split*:"
   ]
  },
  {
   "cell_type": "code",
   "execution_count": 20,
   "id": "unnecessary-italic",
   "metadata": {},
   "outputs": [
    {
     "name": "stdout",
     "output_type": "stream",
     "text": [
      "0.19487179487179487\n",
      "              precision    recall  f1-score   support\n",
      "\n",
      "           0       0.19      0.62      0.30        53\n",
      "           1       0.20      0.04      0.06       142\n",
      "\n",
      "    accuracy                           0.19       195\n",
      "   macro avg       0.20      0.33      0.18       195\n",
      "weighted avg       0.20      0.19      0.12       195\n",
      "\n"
     ]
    }
   ],
   "source": [
    "x_train, x_test, y_train, y_test = train_test_split(x, y, train_size=0.75, random_state=0)\n",
    "kmeans = KMeans(n_clusters=2, init=\"k-means++\", n_init=10, max_iter=300, random_state = None)\n",
    "kmeans.fit(x_train)\n",
    "predicted = kmeans.predict(x_test)\n",
    "print(accuracy_score(y_test, predicted))\n",
    "print(classification_report(y_test,predicted))"
   ]
  },
  {
   "cell_type": "code",
   "execution_count": 21,
   "id": "given-excerpt",
   "metadata": {},
   "outputs": [
    {
     "name": "stdout",
     "output_type": "stream",
     "text": [
      "0.23076923076923078\n",
      "              precision    recall  f1-score   support\n",
      "\n",
      "           0       0.21      0.71      0.32        51\n",
      "           1       0.38      0.06      0.11       144\n",
      "\n",
      "    accuracy                           0.23       195\n",
      "   macro avg       0.29      0.38      0.22       195\n",
      "weighted avg       0.33      0.23      0.16       195\n",
      "\n"
     ]
    }
   ],
   "source": [
    "x_train, x_test, y_train, y_test = train_test_split(x, y, train_size=0.75, random_state=1)\n",
    "kmeans = KMeans(n_clusters=2, init=\"k-means++\", n_init=10, max_iter=300, random_state = None)\n",
    "kmeans.fit(x_train)\n",
    "predicted = kmeans.predict(x_test)\n",
    "print(accuracy_score(y_test, predicted))\n",
    "print(classification_report(y_test,predicted))"
   ]
  },
  {
   "cell_type": "code",
   "execution_count": 22,
   "id": "charitable-dancing",
   "metadata": {},
   "outputs": [
    {
     "name": "stdout",
     "output_type": "stream",
     "text": [
      "0.7743589743589744\n",
      "              precision    recall  f1-score   support\n",
      "\n",
      "           0       0.73      0.38      0.50        58\n",
      "           1       0.78      0.94      0.85       137\n",
      "\n",
      "    accuracy                           0.77       195\n",
      "   macro avg       0.76      0.66      0.68       195\n",
      "weighted avg       0.77      0.77      0.75       195\n",
      "\n"
     ]
    }
   ],
   "source": [
    "x_train, x_test, y_train, y_test = train_test_split(x, y, train_size=0.75, random_state=15)\n",
    "kmeans = KMeans(n_clusters=2, init=\"k-means++\", n_init=10, max_iter=300, random_state = None)\n",
    "kmeans.fit(x_train)\n",
    "predicted = kmeans.predict(x_test)\n",
    "print(accuracy_score(y_test, predicted))\n",
    "print(classification_report(y_test,predicted))"
   ]
  },
  {
   "cell_type": "code",
   "execution_count": 23,
   "id": "humanitarian-avatar",
   "metadata": {},
   "outputs": [
    {
     "name": "stdout",
     "output_type": "stream",
     "text": [
      "0.21025641025641026\n",
      "              precision    recall  f1-score   support\n",
      "\n",
      "           0       0.21      0.59      0.31        58\n",
      "           1       0.23      0.05      0.08       137\n",
      "\n",
      "    accuracy                           0.21       195\n",
      "   macro avg       0.22      0.32      0.19       195\n",
      "weighted avg       0.22      0.21      0.15       195\n",
      "\n"
     ]
    }
   ],
   "source": [
    "x_train, x_test, y_train, y_test = train_test_split(x, y, train_size=0.75, random_state=42)\n",
    "kmeans = KMeans(n_clusters=2, init=\"k-means++\", n_init=10, max_iter=300, random_state = None)\n",
    "kmeans.fit(x_train)\n",
    "predicted = kmeans.predict(x_test)\n",
    "print(accuracy_score(y_test, predicted))\n",
    "print(classification_report(y_test,predicted))"
   ]
  },
  {
   "cell_type": "markdown",
   "id": "passive-publicity",
   "metadata": {},
   "source": [
    "O *random_state=0* apresentou os melhores resultados."
   ]
  },
  {
   "cell_type": "markdown",
   "id": "arbitrary-english",
   "metadata": {},
   "source": [
    "#### Variando *init*:"
   ]
  },
  {
   "cell_type": "code",
   "execution_count": 24,
   "id": "strategic-cleanup",
   "metadata": {},
   "outputs": [
    {
     "name": "stdout",
     "output_type": "stream",
     "text": [
      "0.8051282051282052\n",
      "              precision    recall  f1-score   support\n",
      "\n",
      "           0       0.80      0.38      0.51        53\n",
      "           1       0.81      0.96      0.88       142\n",
      "\n",
      "    accuracy                           0.81       195\n",
      "   macro avg       0.80      0.67      0.70       195\n",
      "weighted avg       0.80      0.81      0.78       195\n",
      "\n"
     ]
    }
   ],
   "source": [
    "x_train, x_test, y_train, y_test = train_test_split(x, y, train_size=0.75, random_state=0)\n",
    "kmeans = KMeans(n_clusters=2, init=\"random\", n_init=10, max_iter=300, random_state = None)\n",
    "kmeans.fit(x_train)\n",
    "predicted = kmeans.predict(x_test)\n",
    "print(accuracy_score(y_test, predicted))\n",
    "print(classification_report(y_test,predicted))"
   ]
  },
  {
   "cell_type": "markdown",
   "id": "intense-notice",
   "metadata": {},
   "source": [
    "Obtiveram-se os mesmos resultados."
   ]
  },
  {
   "cell_type": "markdown",
   "id": "laughing-beginning",
   "metadata": {},
   "source": [
    "#### Variando *n_init*:"
   ]
  },
  {
   "cell_type": "code",
   "execution_count": 25,
   "id": "distant-daughter",
   "metadata": {},
   "outputs": [
    {
     "name": "stdout",
     "output_type": "stream",
     "text": [
      "0.19487179487179487\n",
      "              precision    recall  f1-score   support\n",
      "\n",
      "           0       0.19      0.62      0.30        53\n",
      "           1       0.20      0.04      0.06       142\n",
      "\n",
      "    accuracy                           0.19       195\n",
      "   macro avg       0.20      0.33      0.18       195\n",
      "weighted avg       0.20      0.19      0.12       195\n",
      "\n"
     ]
    }
   ],
   "source": [
    "x_train, x_test, y_train, y_test = train_test_split(x, y, train_size=0.75, random_state=0)\n",
    "kmeans = KMeans(n_clusters=2, init=\"k-means++\", n_init=5, max_iter=300, random_state = None)\n",
    "kmeans.fit(x_train)\n",
    "predicted = kmeans.predict(x_test)\n",
    "print(accuracy_score(y_test, predicted))\n",
    "print(classification_report(y_test,predicted))"
   ]
  },
  {
   "cell_type": "code",
   "execution_count": 26,
   "id": "damaged-edition",
   "metadata": {},
   "outputs": [
    {
     "name": "stdout",
     "output_type": "stream",
     "text": [
      "0.8051282051282052\n",
      "              precision    recall  f1-score   support\n",
      "\n",
      "           0       0.80      0.38      0.51        53\n",
      "           1       0.81      0.96      0.88       142\n",
      "\n",
      "    accuracy                           0.81       195\n",
      "   macro avg       0.80      0.67      0.70       195\n",
      "weighted avg       0.80      0.81      0.78       195\n",
      "\n"
     ]
    }
   ],
   "source": [
    "x_train, x_test, y_train, y_test = train_test_split(x, y, train_size=0.75, random_state=0)\n",
    "kmeans = KMeans(n_clusters=2, init=\"k-means++\", n_init=15, max_iter=300, random_state = None)\n",
    "kmeans.fit(x_train)\n",
    "predicted = kmeans.predict(x_test)\n",
    "print(accuracy_score(y_test, predicted))\n",
    "print(classification_report(y_test,predicted))"
   ]
  },
  {
   "cell_type": "markdown",
   "id": "english-specific",
   "metadata": {},
   "source": [
    "A alteração de *n_init* não proporcionou uma melhora no resultado."
   ]
  },
  {
   "cell_type": "markdown",
   "id": "corrected-newcastle",
   "metadata": {},
   "source": [
    "#### Variando *max_iter*:"
   ]
  },
  {
   "cell_type": "code",
   "execution_count": 27,
   "id": "handled-journalism",
   "metadata": {},
   "outputs": [
    {
     "name": "stdout",
     "output_type": "stream",
     "text": [
      "0.19487179487179487\n",
      "              precision    recall  f1-score   support\n",
      "\n",
      "           0       0.19      0.62      0.30        53\n",
      "           1       0.20      0.04      0.06       142\n",
      "\n",
      "    accuracy                           0.19       195\n",
      "   macro avg       0.20      0.33      0.18       195\n",
      "weighted avg       0.20      0.19      0.12       195\n",
      "\n"
     ]
    }
   ],
   "source": [
    "x_train, x_test, y_train, y_test = train_test_split(x, y, train_size=0.75, random_state=0)\n",
    "kmeans = KMeans(n_clusters=2, init=\"k-means++\", n_init=10, max_iter=50, random_state = None)\n",
    "kmeans.fit(x_train)\n",
    "predicted = kmeans.predict(x_test)\n",
    "print(accuracy_score(y_test, predicted))\n",
    "print(classification_report(y_test,predicted))"
   ]
  },
  {
   "cell_type": "code",
   "execution_count": 28,
   "id": "bound-retirement",
   "metadata": {},
   "outputs": [
    {
     "name": "stdout",
     "output_type": "stream",
     "text": [
      "0.19487179487179487\n",
      "              precision    recall  f1-score   support\n",
      "\n",
      "           0       0.19      0.62      0.30        53\n",
      "           1       0.20      0.04      0.06       142\n",
      "\n",
      "    accuracy                           0.19       195\n",
      "   macro avg       0.20      0.33      0.18       195\n",
      "weighted avg       0.20      0.19      0.12       195\n",
      "\n"
     ]
    }
   ],
   "source": [
    "x_train, x_test, y_train, y_test = train_test_split(x, y, train_size=0.75, random_state=0)\n",
    "kmeans = KMeans(n_clusters=2, init=\"k-means++\", n_init=10, max_iter=100, random_state = None)\n",
    "kmeans.fit(x_train)\n",
    "predicted = kmeans.predict(x_test)\n",
    "print(accuracy_score(y_test, predicted))\n",
    "print(classification_report(y_test,predicted))"
   ]
  },
  {
   "cell_type": "code",
   "execution_count": 29,
   "id": "alone-punishment",
   "metadata": {},
   "outputs": [
    {
     "name": "stdout",
     "output_type": "stream",
     "text": [
      "0.19487179487179487\n",
      "              precision    recall  f1-score   support\n",
      "\n",
      "           0       0.19      0.62      0.30        53\n",
      "           1       0.20      0.04      0.06       142\n",
      "\n",
      "    accuracy                           0.19       195\n",
      "   macro avg       0.20      0.33      0.18       195\n",
      "weighted avg       0.20      0.19      0.12       195\n",
      "\n"
     ]
    }
   ],
   "source": [
    "x_train, x_test, y_train, y_test = train_test_split(x, y, train_size=0.75, random_state=0)\n",
    "kmeans = KMeans(n_clusters=2, init=\"k-means++\", n_init=10, max_iter=400, random_state = None)\n",
    "kmeans.fit(x_train)\n",
    "predicted = kmeans.predict(x_test)\n",
    "print(accuracy_score(y_test, predicted))\n",
    "print(classification_report(y_test,predicted))"
   ]
  },
  {
   "cell_type": "code",
   "execution_count": 30,
   "id": "common-affairs",
   "metadata": {},
   "outputs": [
    {
     "name": "stdout",
     "output_type": "stream",
     "text": [
      "0.8051282051282052\n",
      "              precision    recall  f1-score   support\n",
      "\n",
      "           0       0.80      0.38      0.51        53\n",
      "           1       0.81      0.96      0.88       142\n",
      "\n",
      "    accuracy                           0.81       195\n",
      "   macro avg       0.80      0.67      0.70       195\n",
      "weighted avg       0.80      0.81      0.78       195\n",
      "\n"
     ]
    }
   ],
   "source": [
    "x_train, x_test, y_train, y_test = train_test_split(x, y, train_size=0.75, random_state=0)\n",
    "kmeans = KMeans(n_clusters=2, init=\"k-means++\", n_init=10, max_iter=500, random_state = None)\n",
    "kmeans.fit(x_train)\n",
    "predicted = kmeans.predict(x_test)\n",
    "print(accuracy_score(y_test, predicted))\n",
    "print(classification_report(y_test,predicted))"
   ]
  },
  {
   "cell_type": "markdown",
   "id": "tired-church",
   "metadata": {},
   "source": [
    "Um aumento no valor de *max_iter* resultou em uma piora dos resultados."
   ]
  },
  {
   "cell_type": "markdown",
   "id": "owned-seating",
   "metadata": {},
   "source": [
    "#### Variando *random_state* da função \"*KMeans*\":"
   ]
  },
  {
   "cell_type": "code",
   "execution_count": 31,
   "id": "mobile-traveler",
   "metadata": {},
   "outputs": [
    {
     "name": "stdout",
     "output_type": "stream",
     "text": [
      "0.19487179487179487\n",
      "              precision    recall  f1-score   support\n",
      "\n",
      "           0       0.19      0.62      0.30        53\n",
      "           1       0.20      0.04      0.06       142\n",
      "\n",
      "    accuracy                           0.19       195\n",
      "   macro avg       0.20      0.33      0.18       195\n",
      "weighted avg       0.20      0.19      0.12       195\n",
      "\n"
     ]
    }
   ],
   "source": [
    "x_train, x_test, y_train, y_test = train_test_split(x, y, train_size=0.75, random_state=0)\n",
    "kmeans = KMeans(n_clusters=2, init=\"k-means++\", n_init=10, max_iter=300, random_state = 0)\n",
    "kmeans.fit(x_train)\n",
    "predicted = kmeans.predict(x_test)\n",
    "print(accuracy_score(y_test, predicted))\n",
    "print(classification_report(y_test,predicted))"
   ]
  },
  {
   "cell_type": "code",
   "execution_count": 32,
   "id": "revised-precipitation",
   "metadata": {},
   "outputs": [
    {
     "name": "stdout",
     "output_type": "stream",
     "text": [
      "0.19487179487179487\n",
      "              precision    recall  f1-score   support\n",
      "\n",
      "           0       0.19      0.62      0.30        53\n",
      "           1       0.20      0.04      0.06       142\n",
      "\n",
      "    accuracy                           0.19       195\n",
      "   macro avg       0.20      0.33      0.18       195\n",
      "weighted avg       0.20      0.19      0.12       195\n",
      "\n"
     ]
    }
   ],
   "source": [
    "x_train, x_test, y_train, y_test = train_test_split(x, y, train_size=0.75, random_state=0)\n",
    "kmeans = KMeans(n_clusters=2, init=\"k-means++\", n_init=10, max_iter=300, random_state = 1)\n",
    "kmeans.fit(x_train)\n",
    "predicted = kmeans.predict(x_test)\n",
    "print(accuracy_score(y_test, predicted))\n",
    "print(classification_report(y_test,predicted))"
   ]
  },
  {
   "cell_type": "code",
   "execution_count": 33,
   "id": "international-listing",
   "metadata": {},
   "outputs": [
    {
     "name": "stdout",
     "output_type": "stream",
     "text": [
      "0.19487179487179487\n",
      "              precision    recall  f1-score   support\n",
      "\n",
      "           0       0.19      0.62      0.30        53\n",
      "           1       0.20      0.04      0.06       142\n",
      "\n",
      "    accuracy                           0.19       195\n",
      "   macro avg       0.20      0.33      0.18       195\n",
      "weighted avg       0.20      0.19      0.12       195\n",
      "\n"
     ]
    }
   ],
   "source": [
    "x_train, x_test, y_train, y_test = train_test_split(x, y, train_size=0.75, random_state=0)\n",
    "kmeans = KMeans(n_clusters=2, init=\"k-means++\", n_init=10, max_iter=300, random_state = 15)\n",
    "kmeans.fit(x_train)\n",
    "predicted = kmeans.predict(x_test)\n",
    "print(accuracy_score(y_test, predicted))\n",
    "print(classification_report(y_test,predicted))"
   ]
  },
  {
   "cell_type": "code",
   "execution_count": 34,
   "id": "optical-senator",
   "metadata": {},
   "outputs": [
    {
     "name": "stdout",
     "output_type": "stream",
     "text": [
      "0.19487179487179487\n",
      "              precision    recall  f1-score   support\n",
      "\n",
      "           0       0.19      0.62      0.30        53\n",
      "           1       0.20      0.04      0.06       142\n",
      "\n",
      "    accuracy                           0.19       195\n",
      "   macro avg       0.20      0.33      0.18       195\n",
      "weighted avg       0.20      0.19      0.12       195\n",
      "\n"
     ]
    }
   ],
   "source": [
    "x_train, x_test, y_train, y_test = train_test_split(x, y, train_size=0.75, random_state=0)\n",
    "kmeans = KMeans(n_clusters=2, init=\"k-means++\", n_init=10, max_iter=300, random_state = 42)\n",
    "kmeans.fit(x_train)\n",
    "predicted = kmeans.predict(x_test)\n",
    "print(accuracy_score(y_test, predicted))\n",
    "print(classification_report(y_test,predicted))"
   ]
  },
  {
   "cell_type": "markdown",
   "id": "framed-cabinet",
   "metadata": {},
   "source": [
    "Os resultados de *random_state=None* apresentaram-se os melhores entre os testados. O valor *None* significa que será usado a instância de estado aleatório global de *numpy.random*."
   ]
  },
  {
   "cell_type": "markdown",
   "id": "christian-ensemble",
   "metadata": {},
   "source": [
    "Portanto, os melhores resultados foram obtidos quando foram utilizados os parâmetros: *train_size=0.75*, *random_state* de *train_test_split* igual a 0 e *n_clusters=2*, *init=k-means++*, *n_init=10*, *max_iter=300* e *random_state* de *KMeans* igual a *None*."
   ]
  },
  {
   "cell_type": "markdown",
   "id": "collected-grace",
   "metadata": {},
   "source": [
    "### Tenta-se agora descobrir quais são as melhores variáveis para utilizar no banco de dados para tentar maximizar os resultados."
   ]
  },
  {
   "cell_type": "code",
   "execution_count": 35,
   "id": "super-empire",
   "metadata": {},
   "outputs": [
    {
     "data": {
      "image/png": "[encoded data removed]",
      "text/plain": [
       "<Figure size 432x288 with 1 Axes>"
      ]
     },
     "metadata": {
      "needs_background": "light"
     },
     "output_type": "display_data"
    }
   ],
   "source": [
    "from sklearn.ensemble import ExtraTreesClassifier\n",
    "import matplotlib.pyplot as plt\n",
    "model = ExtraTreesClassifier()\n",
    "model.fit(x,y)\n",
    "feat_importances = pd.Series(model.feature_importances_, index=x.columns)\n",
    "feat_importances.nlargest(12).plot(kind='barh')\n",
    "plt.show()"
   ]
  },
  {
   "cell_type": "markdown",
   "id": "marked-rwanda",
   "metadata": {},
   "source": [
    "### Irão ser utilizados somente as colunas \"*F.Undergrad*\", \"*Outstate*\" e \"*Enroll*\"."
   ]
  },
  {
   "cell_type": "code",
   "execution_count": 36,
   "id": "normal-thong",
   "metadata": {},
   "outputs": [],
   "source": [
    "data2 = pd.read_csv(\"College.csv\")\n",
    "data2.drop([\"Unnamed: 0\", \"Top10perc\", \"Expend\", \"Grad.Rate\", \"P.Undergrad\", \"Room.Board\", \"perc.alumni\", \"Accept\", \"Apps\", \"S.F.Ratio\"], axis=1, inplace=True)\n",
    "data2[\"Private\"].replace([\"Yes\", \"No\"], [1,0], inplace=True)\n",
    "x2 = data.drop(['Private'],axis=1)\n",
    "y2 = data[\"Private\"]"
   ]
  },
  {
   "cell_type": "markdown",
   "id": "ancient-compromise",
   "metadata": {},
   "source": [
    "### Realiza-se o experimento com os melhores parâmetros que foram obtidos anteriormente:"
   ]
  },
  {
   "cell_type": "code",
   "execution_count": 37,
   "id": "typical-trainer",
   "metadata": {},
   "outputs": [
    {
     "name": "stdout",
     "output_type": "stream",
     "text": [
      "0.19487179487179487\n",
      "              precision    recall  f1-score   support\n",
      "\n",
      "           0       0.19      0.62      0.30        53\n",
      "           1       0.20      0.04      0.06       142\n",
      "\n",
      "    accuracy                           0.19       195\n",
      "   macro avg       0.20      0.33      0.18       195\n",
      "weighted avg       0.20      0.19      0.12       195\n",
      "\n"
     ]
    }
   ],
   "source": [
    "x2_train, x2_test, y2_train, y2_test = train_test_split(x2, y2, train_size=0.75, random_state=0)\n",
    "kmeans2 = KMeans(n_clusters=2, init=\"k-means++\", n_init=10, max_iter=300, random_state = None)\n",
    "kmeans2.fit(x2_train)\n",
    "predicted2 = kmeans.predict(x2_test)\n",
    "print(accuracy_score(y2_test, predicted2))\n",
    "print(classification_report(y2_test,predicted2))"
   ]
  },
  {
   "cell_type": "markdown",
   "id": "running-saturday",
   "metadata": {},
   "source": [
    "Infelizmente com esse novo banco de dados não foi possível melhorar os resultados."
   ]
  }
 ],
 "metadata": {
  "kernelspec": {
   "display_name": "Python 3",
   "language": "python",
   "name": "python3"
  },
  "language_info": {
   "codemirror_mode": {
    "name": "ipython",
    "version": 3
   },
   "file_extension": ".py",
   "mimetype": "text/x-python",
   "name": "python",
   "nbconvert_exporter": "python",
   "pygments_lexer": "ipython3",
   "version": "3.9.1"
  }
 },
 "nbformat": 4,
 "nbformat_minor": 5
}
