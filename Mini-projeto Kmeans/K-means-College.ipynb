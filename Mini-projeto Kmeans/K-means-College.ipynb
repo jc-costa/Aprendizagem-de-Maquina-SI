{
 "cells": [
  {
   "cell_type": "markdown",
   "id": "structural-bobby",
   "metadata": {},
   "source": [
    "**Alunos: \n",
    "Jefferson Costa, \n",
    "Sávio Berdine, \n",
    "Amanda Lasserre,\n",
    "Kevin Andrews,\n",
    "Nicholas Henrique.**"
   ]
  },
  {
   "cell_type": "code",
   "execution_count": null,
   "id": "ceramic-roots",
   "metadata": {},
   "outputs": [],
   "source": [
    "#-*- coding:utf-8 -*-\n",
    "import pandas as pd\n",
    "import numpy as np\n",
    "import seaborn as sns\n",
    "import matplotlib.pyplot as plt\n",
    "from sklearn.cluster import KMeans\n",
    "from sklearn.model_selection import train_test_split\n",
    "from sklearn.metrics import classification_report, accuracy_score"
   ]
  },
  {
   "cell_type": "code",
   "execution_count": null,
   "id": "productive-arrangement",
   "metadata": {},
   "outputs": [],
   "source": [
    "data = pd.read_csv(\"College.csv\")\n",
    "#No dataSet original, temos colunas com os nomes separados com um \".\", por exemplo, Grad.Rate, e isso estava nos dando alguns problemas, então resolvemos renomear as colunas e trocar esse \".\" por um \"_\"\n",
    "data = data.rename(columns={'Unnamed: 0':'College name','F.Undergrad':'F_Undergrad','P.Undergrad':'P_Undergrad','Room.Board':'Room_Board','S.F.Ratio':'S_F_Ratio','perc.alumni':'perc_alumni','Grad.Rate':'Grad_Rate'})\n",
    "data.head()"
   ]
  },
  {
   "cell_type": "code",
   "execution_count": null,
   "id": "verbal-chance",
   "metadata": {},
   "outputs": [],
   "source": [
    "data.drop([\"College name\"], axis=1, inplace=True)\n",
    "data.info()"
   ]
  },
  {
   "cell_type": "markdown",
   "id": "coral-reunion",
   "metadata": {},
   "source": [
    "**Os dados que serão utilizados**<br>\n",
    "    **Private** A factor with levels No and Yes indicating private or public university     \n",
    "    **Apps** Number of applications received     \n",
    "    **Accept** Number of applications accepted     \n",
    "    **Enroll Number** of new students enrolled     \n",
    "    **Top10perc** Pct. new students from top 10% of H.S. class     \n",
    "    **Top25perc** Pct. new students from top 25% of H.S. class     \n",
    "    **F_Undergrad** Number of fulltime undergraduates     \n",
    "    **P_Undergrad** Number of parttime undergraduates     \n",
    "    **Outstate** Out-of-state tuition     \n",
    "    **Room_Board** Room and board costs     \n",
    "    **Books** Estimated book costs     \n",
    "    **Personal** Estimated personal spending     \n",
    "    **PhD Pct.** of faculty with Ph.D.’s     \n",
    "    **Terminal Pct.** of faculty with terminal degree     \n",
    "    **S_F_Ratio** Student/faculty ratio     \n",
    "    **perc_alumni** Pct. alumni who donate     \n",
    "    **Expend Instructional** expenditure per student     \n",
    "    **Grad_Rate** Graduation rate<br>\n",
    "**Observe que temos 18 variáveis**"
   ]
  },
  {
   "cell_type": "markdown",
   "id": "direct-sarah",
   "metadata": {},
   "source": [
    "### **Explorando o banco de dados**"
   ]
  },
  {
   "cell_type": "markdown",
   "id": "floating-parish",
   "metadata": {},
   "source": [
    "**Uma comparação entre o número de estudantes \"fulltime\" e \"parttime\" de universidade privadas e universidades públicas.**"
   ]
  },
  {
   "cell_type": "code",
   "execution_count": null,
   "id": "modified-placement",
   "metadata": {},
   "outputs": [],
   "source": [
    "plt.figure(figsize=(12, 8))\n",
    "\n",
    "data.loc[data.Private == 'Yes', 'F_Undergrad'].hist(label=\"Universidades privadas F_Undergrad\", bins=30)\n",
    "data.loc[data.Private == 'Yes', 'P_Undergrad'].hist(label=\"Universidades privadas P_Undergrad\", bins=30)\n",
    "data.loc[data.Private == 'No', 'F_Undergrad'].hist(label=\"Universidades públicas F_Undergrad\", bins=30)\n",
    "data.loc[data.Private == 'No', 'P_Undergrad'].hist(label=\"Universidades privadas P_Undergrad\", bins=30)\n",
    "\n",
    "plt.xlabel('F_Undergrad vs P_Undergrad')\n",
    "plt.legend()\n"
   ]
  },
  {
   "cell_type": "code",
   "execution_count": null,
   "id": "endangered-nickname",
   "metadata": {},
   "outputs": [],
   "source": [
    "result = data['Private'].value_counts()\n",
    "print(result)"
   ]
  },
  {
   "cell_type": "markdown",
   "id": "civil-bosnia",
   "metadata": {},
   "source": [
    "**Uma comparação entre a taxa de graduação em universidades privadas e universidades públicas**"
   ]
  },
  {
   "cell_type": "code",
   "execution_count": null,
   "id": "abandoned-austria",
   "metadata": {},
   "outputs": [],
   "source": [
    "plt.figure(figsize=(12, 8))\n",
    "\n",
    "data.loc[data.Private == 'Yes', 'Grad_Rate'].hist(label=\"Universidades privadas\", bins=30)\n",
    "data.loc[data.Private == 'No', 'Grad_Rate'].hist(label=\"Universidades públicas\", bins=30)\n",
    "\n",
    "plt.xlabel('Taxa de graduação')\n",
    "plt.legend()"
   ]
  },
  {
   "cell_type": "markdown",
   "id": "nuclear-thumbnail",
   "metadata": {},
   "source": [
    "Ao analisar o histograma, percebemos que tem uma universidade com uma taxa de graduação acima de 100%. Temos que saber qual é essa universidade e \"setar\" que a taxa de graduação é de 100%, pois isso faz mais sentido para nossa análise.\n"
   ]
  },
  {
   "cell_type": "code",
   "execution_count": null,
   "id": "light-jenny",
   "metadata": {},
   "outputs": [],
   "source": [
    "data.loc[data.Grad_Rate > 100]"
   ]
  },
  {
   "cell_type": "markdown",
   "id": "fundamental-gabriel",
   "metadata": {},
   "source": [
    "Ao fazer a busca, temos que a *Cazenovia College* é a universidade pela qual estamos procurando, então iremos 'setar' a taxa de graduação dela pra 100%.\n"
   ]
  },
  {
   "cell_type": "code",
   "execution_count": null,
   "id": "comic-breakdown",
   "metadata": {},
   "outputs": [],
   "source": [
    "data.loc[data.Grad_Rate > 100, 'Grad_Rate'] = 100"
   ]
  },
  {
   "cell_type": "markdown",
   "id": "sapphire-cemetery",
   "metadata": {},
   "source": [
    "**E agora faremos a comparação novamente**"
   ]
  },
  {
   "cell_type": "code",
   "execution_count": null,
   "id": "broke-plymouth",
   "metadata": {},
   "outputs": [],
   "source": [
    "plt.figure(figsize=(12, 8))\n",
    "\n",
    "data.loc[data.Private == 'Yes', 'Grad_Rate'].hist(label=\"Universidades privadas\", bins=30)\n",
    "data.loc[data.Private == 'No', 'Grad_Rate'].hist(label=\"Universidades públicas\", bins=30)\n",
    "\n",
    "plt.xlabel('Taxa de graduação')\n",
    "plt.legend()"
   ]
  },
  {
   "cell_type": "markdown",
   "id": "wicked-tracker",
   "metadata": {},
   "source": [
    "### Experimentos:"
   ]
  },
  {
   "cell_type": "markdown",
   "id": "detailed-syracuse",
   "metadata": {},
   "source": [
    "#### Para os experimentos serão utilizados os seguintes parâmetros da função \"*KMeans*\": *n_clusters, init, n_init, max_iter e random_state*."
   ]
  },
  {
   "cell_type": "markdown",
   "id": "progressive-terrorism",
   "metadata": {},
   "source": [
    "*n_clusters*: Número de centróides que serão gerados. Padrão = 8.\n",
    "\n",
    "*init*: Método para inicialização. Pode ser do tipo \"*k_means++*\", onde seleciona de maneira inteligente os centróides iniciais para acelerar a convergência, e do tipo \"*random*\", onde é escolhido aleatoriamente \"*n_clusters*\" linhas do banco de dados para serem os centróides iniciais. Padrão = \"*k_means++*\".\n",
    "\n",
    "*n_init*: Número de vezes que o algoritmo K-Means executará com diferentes centróides iniciais. Padrão = 10.\n",
    "\n",
    "*max_iter*: Número máximo de iterações que o algoritmo K-Means irá executar. Padrão = 300.\n",
    "\n",
    "*random_state*: Número aleatório para geração inicial dos centróides. Padrão = *None*."
   ]
  },
  {
   "cell_type": "code",
   "execution_count": null,
   "id": "prime-union",
   "metadata": {},
   "outputs": [],
   "source": [
    "#Transformando a columa em 1 pra yes e 0 pra no\n",
    "data['Private'].replace(['Yes','No'],[1,0],inplace=True)"
   ]
  },
  {
   "cell_type": "code",
   "execution_count": null,
   "id": "every-mother",
   "metadata": {},
   "outputs": [],
   "source": [
    "#selecionando apenas as colunas com valores numéricos\n",
    "X = data.iloc[:, [1,2,3,4,5,6,7,8,9,10,11,12,13,14,15,16,17]].values"
   ]
  },
  {
   "cell_type": "markdown",
   "id": "domestic-office",
   "metadata": {},
   "source": [
    "**Criando uma instância do k-means com k = 2**"
   ]
  },
  {
   "cell_type": "code",
   "execution_count": null,
   "id": "permanent-destruction",
   "metadata": {},
   "outputs": [],
   "source": [
    "kmeans = KMeans(n_clusters = 2)\n",
    "#ajustando o k-means\n",
    "y_kmeans = kmeans.fit_predict(X)"
   ]
  },
  {
   "cell_type": "code",
   "execution_count": null,
   "id": "outstanding-possession",
   "metadata": {},
   "outputs": [],
   "source": [
    "print(classification_report(data.Private, kmeans.labels_))"
   ]
  },
  {
   "cell_type": "markdown",
   "id": "differential-toyota",
   "metadata": {},
   "source": [
    "Com esssa primeira instância do K-means, com o K = 2, não obtivemos um resultado muito bom. Faremos outros experimentos, para verificar o que acontece com o *precision*, *recall* e *accuracy*."
   ]
  },
  {
   "cell_type": "code",
   "execution_count": null,
   "id": "numerical-course",
   "metadata": {},
   "outputs": [],
   "source": [
    "from sklearn.metrics import silhouette_samples, silhouette_score\n",
    "# data_investigation = pd.read_csv(\"College.csv\")\n",
    "# #No dataSet original, temos colunas com os nomes separados com um \".\", por exemplo, Grad.Rate, e isso estava nos dando alguns problemas, então resolvemos renomear as colunas e trocar esse \".\" por um \"_\"\n",
    "# data_investigation = data_investigation.rename(columns={'Unnamed: 0':'College name','F.Undergrad':'F_Undergrad','P.Undergrad':'P_Undergrad','Room.Board':'Room_Board','S.F.Ratio':'S_F_Ratio','perc.alumni':'perc_alumni','Grad.Rate':'Grad_Rate'})\n",
    "# #Removendo a coluna que classifica as universidades\n",
    "# data_investigation.drop('Private', axis='columns', inplace=True)\n",
    "# X = data_investigation.iloc[:, [1,2,3,4,5,6,7,8,9,10,11,12,13,14,15,16,17]].values\n",
    "for i, k in enumerate([2, 3, 4, 5, 6, 7]):\n",
    "    fig, (ax1) = plt.subplots(1)\n",
    "    fig.set_size_inches(18, 7)\n",
    "    \n",
    "    # Run the Kmeans algorithm\n",
    "    km = KMeans(n_clusters=k)\n",
    "    labels = km.fit_predict(X)\n",
    "    centroids = km.cluster_centers_\n",
    "\n",
    "    # Get silhouette samples\n",
    "    silhouette_vals = silhouette_samples(X, labels)\n",
    "\n",
    "    # Silhouette plot\n",
    "    y_ticks = []\n",
    "    y_lower, y_upper = 0, 0\n",
    "    for i, cluster in enumerate(np.unique(labels)):\n",
    "        cluster_silhouette_vals = silhouette_vals[labels == cluster]\n",
    "        cluster_silhouette_vals.sort()\n",
    "        y_upper += len(cluster_silhouette_vals)\n",
    "        ax1.barh(range(y_lower, y_upper), cluster_silhouette_vals, edgecolor='none', height=1)\n",
    "        ax1.text(-0.03, (y_lower + y_upper) / 2, str(i + 1))\n",
    "        y_lower += len(cluster_silhouette_vals)\n",
    "\n",
    "    # Get the average silhouette score and plot it\n",
    "    avg_score = np.mean(silhouette_vals)\n",
    "    ax1.axvline(avg_score, linestyle='--', linewidth=2, color='green')\n",
    "    ax1.set_yticks([])\n",
    "    ax1.set_xlim([-0.1, 1])\n",
    "    ax1.set_xlabel('Silhouette coefficient values')\n",
    "    ax1.set_ylabel('Cluster labels')\n",
    "    ax1.set_title('Silhouette plot for the various clusters', y=1.02);\n",
    "    \n",
    "    plt.tight_layout\n",
    "    plt.suptitle(f'Silhouette analysis using k = {k}',\n",
    "                 fontsize=16, fontweight='semibold', y=1.05);"
   ]
  },
  {
   "cell_type": "markdown",
   "id": "cosmetic-carrier",
   "metadata": {},
   "source": [
    "Consideramos que a quantidade de clusters ideal tem todos os clusters acima da média do silhouette score e um silhouette socore médio acima de 0.5. Fica claro que com dois clusters o silhouette socore médio tem o melhor resultado, ficando próximo a 0.6, entretanto um dos clusters tem o score sempre menor que a média, o que não é o ideal. Mais investigação deve ser feita sobre o data set."
   ]
  },
  {
   "cell_type": "markdown",
   "id": "honey-priest",
   "metadata": {},
   "source": [
    "#### Para os experimentos também serão utilizados os seguintes parâmetros da função \"*train_test_split*\": *train_size* e *random_state*."
   ]
  },
  {
   "cell_type": "markdown",
   "id": "opponent-charles",
   "metadata": {},
   "source": [
    "*train_size*: Representa a porcentagem do banco de dados utilizada para treinamento, o restante fica alocado para teste. Padrão: *None*.\n",
    "\n",
    "*random_state*: Número para aleatorizar as observações selecionadas do banco de dados *x* e *y*. Padrão: *None*."
   ]
  },
  {
   "cell_type": "code",
   "execution_count": null,
   "id": "convinced-business",
   "metadata": {},
   "outputs": [],
   "source": [
    "x = data.drop(['Private'],axis=1)\n",
    "y = data[\"Private\"]\n",
    "y.value_counts()"
   ]
  },
  {
   "cell_type": "markdown",
   "id": "private-harvey",
   "metadata": {},
   "source": [
    "#### Variando *train_size*:"
   ]
  },
  {
   "cell_type": "code",
   "execution_count": null,
   "id": "obvious-concept",
   "metadata": {},
   "outputs": [],
   "source": [
    "x_train, x_test, y_train, y_test = train_test_split(x, y, train_size=0.50, random_state=None)\n",
    "kmeans = KMeans(n_clusters=8, init=\"k-means++\", n_init=10, max_iter=300, random_state = None)\n",
    "kmeans.fit(x_train)\n",
    "predicted = kmeans.predict(x_test)\n",
    "print(accuracy_score(y_test, predicted))\n",
    "print(classification_report(y_test,predicted))"
   ]
  },
  {
   "cell_type": "markdown",
   "id": "heard-petersburg",
   "metadata": {},
   "source": [
    "Obtiveram-se esses *warnings* pois como foi passado *n_clusters=8*, o algoritmo \"*KMeans*\" tentará segregar o banco de dados que o foi passado em 8 diferentes classificações, entretanto o banco de dados utilizado possui apenas 2 classificações, \"1\" para faculadade privada e \"0\" para faculdade pública, logo, deve-se utilizar *n_clusters=2* para os experimentos."
   ]
  },
  {
   "cell_type": "code",
   "execution_count": null,
   "id": "coupled-account",
   "metadata": {},
   "outputs": [],
   "source": [
    "x_train, x_test, y_train, y_test = train_test_split(x, y, train_size=0.50, random_state=None)\n",
    "kmeans = KMeans(n_clusters=2, init=\"k-means++\", n_init=10, max_iter=300, random_state = None)\n",
    "kmeans.fit(x_train)\n",
    "predicted = kmeans.predict(x_test)\n",
    "print(accuracy_score(y_test, predicted))\n",
    "print(classification_report(y_test,predicted))"
   ]
  },
  {
   "cell_type": "code",
   "execution_count": null,
   "id": "advanced-virginia",
   "metadata": {},
   "outputs": [],
   "source": [
    "x_train, x_test, y_train, y_test = train_test_split(x, y, train_size=0.6, random_state=None)\n",
    "kmeans = KMeans(n_clusters=2, init=\"k-means++\", n_init=10, max_iter=300, random_state = None)\n",
    "kmeans.fit(x_train)\n",
    "predicted = kmeans.predict(x_test)\n",
    "print(accuracy_score(y_test, predicted))\n",
    "print(classification_report(y_test,predicted))"
   ]
  },
  {
   "cell_type": "code",
   "execution_count": null,
   "id": "stuffed-entry",
   "metadata": {},
   "outputs": [],
   "source": [
    "x_train, x_test, y_train, y_test = train_test_split(x, y, train_size=0.75, random_state=None)\n",
    "kmeans = KMeans(n_clusters=2, init=\"k-means++\", n_init=10, max_iter=300, random_state = None)\n",
    "kmeans.fit(x_train)\n",
    "predicted = kmeans.predict(x_test)\n",
    "print(accuracy_score(y_test, predicted))\n",
    "print(classification_report(y_test,predicted))"
   ]
  },
  {
   "cell_type": "markdown",
   "id": "natural-fever",
   "metadata": {},
   "source": [
    "*train_size=0.75* apresentou o melhor resultado."
   ]
  },
  {
   "cell_type": "markdown",
   "id": "sufficient-drill",
   "metadata": {},
   "source": [
    "#### Variando *random_state* de *train_test_split*:"
   ]
  },
  {
   "cell_type": "code",
   "execution_count": null,
   "id": "precise-transportation",
   "metadata": {},
   "outputs": [],
   "source": [
    "x_train, x_test, y_train, y_test = train_test_split(x, y, train_size=0.75, random_state=0)\n",
    "kmeans = KMeans(n_clusters=2, init=\"k-means++\", n_init=10, max_iter=300, random_state = None)\n",
    "kmeans.fit(x_train)\n",
    "predicted = kmeans.predict(x_test)\n",
    "print(accuracy_score(y_test, predicted))\n",
    "print(classification_report(y_test,predicted))"
   ]
  },
  {
   "cell_type": "code",
   "execution_count": null,
   "id": "whole-integer",
   "metadata": {},
   "outputs": [],
   "source": [
    "x_train, x_test, y_train, y_test = train_test_split(x, y, train_size=0.75, random_state=1)\n",
    "kmeans = KMeans(n_clusters=2, init=\"k-means++\", n_init=10, max_iter=300, random_state = None)\n",
    "kmeans.fit(x_train)\n",
    "predicted = kmeans.predict(x_test)\n",
    "print(accuracy_score(y_test, predicted))\n",
    "print(classification_report(y_test,predicted))"
   ]
  },
  {
   "cell_type": "code",
   "execution_count": null,
   "id": "certified-gardening",
   "metadata": {},
   "outputs": [],
   "source": [
    "x_train, x_test, y_train, y_test = train_test_split(x, y, train_size=0.75, random_state=15)\n",
    "kmeans = KMeans(n_clusters=2, init=\"k-means++\", n_init=10, max_iter=300, random_state = None)\n",
    "kmeans.fit(x_train)\n",
    "predicted = kmeans.predict(x_test)\n",
    "print(accuracy_score(y_test, predicted))\n",
    "print(classification_report(y_test,predicted))"
   ]
  },
  {
   "cell_type": "code",
   "execution_count": null,
   "id": "tamil-destiny",
   "metadata": {},
   "outputs": [],
   "source": [
    "x_train, x_test, y_train, y_test = train_test_split(x, y, train_size=0.75, random_state=42)\n",
    "kmeans = KMeans(n_clusters=2, init=\"k-means++\", n_init=10, max_iter=300, random_state = None)\n",
    "kmeans.fit(x_train)\n",
    "predicted = kmeans.predict(x_test)\n",
    "print(accuracy_score(y_test, predicted))\n",
    "print(classification_report(y_test,predicted))"
   ]
  },
  {
   "cell_type": "markdown",
   "id": "creative-draft",
   "metadata": {},
   "source": [
    "O *random_state=0* apresentou os melhores resultados."
   ]
  },
  {
   "cell_type": "markdown",
   "id": "ethical-setting",
   "metadata": {},
   "source": [
    "#### Variando *init*:"
   ]
  },
  {
   "cell_type": "code",
   "execution_count": null,
   "id": "tribal-motorcycle",
   "metadata": {},
   "outputs": [],
   "source": [
    "x_train, x_test, y_train, y_test = train_test_split(x, y, train_size=0.75, random_state=0)\n",
    "kmeans = KMeans(n_clusters=2, init=\"random\", n_init=10, max_iter=300, random_state = None)\n",
    "kmeans.fit(x_train)\n",
    "predicted = kmeans.predict(x_test)\n",
    "print(accuracy_score(y_test, predicted))\n",
    "print(classification_report(y_test,predicted))"
   ]
  },
  {
   "cell_type": "markdown",
   "id": "biblical-setup",
   "metadata": {},
   "source": [
    "Obtiveram-se os mesmos resultados."
   ]
  },
  {
   "cell_type": "markdown",
   "id": "floating-island",
   "metadata": {},
   "source": [
    "#### Variando *n_init*:"
   ]
  },
  {
   "cell_type": "code",
   "execution_count": null,
   "id": "wound-platform",
   "metadata": {},
   "outputs": [],
   "source": [
    "x_train, x_test, y_train, y_test = train_test_split(x, y, train_size=0.75, random_state=0)\n",
    "kmeans = KMeans(n_clusters=2, init=\"k-means++\", n_init=5, max_iter=300, random_state = None)\n",
    "kmeans.fit(x_train)\n",
    "predicted = kmeans.predict(x_test)\n",
    "print(accuracy_score(y_test, predicted))\n",
    "print(classification_report(y_test,predicted))"
   ]
  },
  {
   "cell_type": "code",
   "execution_count": null,
   "id": "piano-fashion",
   "metadata": {},
   "outputs": [],
   "source": [
    "x_train, x_test, y_train, y_test = train_test_split(x, y, train_size=0.75, random_state=0)\n",
    "kmeans = KMeans(n_clusters=2, init=\"k-means++\", n_init=15, max_iter=300, random_state = None)\n",
    "kmeans.fit(x_train)\n",
    "predicted = kmeans.predict(x_test)\n",
    "print(accuracy_score(y_test, predicted))\n",
    "print(classification_report(y_test,predicted))"
   ]
  },
  {
   "cell_type": "markdown",
   "id": "above-inside",
   "metadata": {},
   "source": [
    "A alteração de *n_init* não proporcionou uma melhora no resultado."
   ]
  },
  {
   "cell_type": "markdown",
   "id": "angry-livestock",
   "metadata": {},
   "source": [
    "#### Variando *max_iter*:"
   ]
  },
  {
   "cell_type": "code",
   "execution_count": null,
   "id": "sustained-documentation",
   "metadata": {},
   "outputs": [],
   "source": [
    "x_train, x_test, y_train, y_test = train_test_split(x, y, train_size=0.75, random_state=0)\n",
    "kmeans = KMeans(n_clusters=2, init=\"k-means++\", n_init=10, max_iter=50, random_state = None)\n",
    "kmeans.fit(x_train)\n",
    "predicted = kmeans.predict(x_test)\n",
    "print(accuracy_score(y_test, predicted))\n",
    "print(classification_report(y_test,predicted))"
   ]
  },
  {
   "cell_type": "code",
   "execution_count": null,
   "id": "capital-local",
   "metadata": {},
   "outputs": [],
   "source": [
    "x_train, x_test, y_train, y_test = train_test_split(x, y, train_size=0.75, random_state=0)\n",
    "kmeans = KMeans(n_clusters=2, init=\"k-means++\", n_init=10, max_iter=100, random_state = None)\n",
    "kmeans.fit(x_train)\n",
    "predicted = kmeans.predict(x_test)\n",
    "print(accuracy_score(y_test, predicted))\n",
    "print(classification_report(y_test,predicted))"
   ]
  },
  {
   "cell_type": "code",
   "execution_count": null,
   "id": "apparent-liverpool",
   "metadata": {},
   "outputs": [],
   "source": [
    "x_train, x_test, y_train, y_test = train_test_split(x, y, train_size=0.75, random_state=0)\n",
    "kmeans = KMeans(n_clusters=2, init=\"k-means++\", n_init=10, max_iter=400, random_state = None)\n",
    "kmeans.fit(x_train)\n",
    "predicted = kmeans.predict(x_test)\n",
    "print(accuracy_score(y_test, predicted))\n",
    "print(classification_report(y_test,predicted))"
   ]
  },
  {
   "cell_type": "code",
   "execution_count": null,
   "id": "apart-termination",
   "metadata": {},
   "outputs": [],
   "source": [
    "x_train, x_test, y_train, y_test = train_test_split(x, y, train_size=0.75, random_state=0)\n",
    "kmeans = KMeans(n_clusters=2, init=\"k-means++\", n_init=10, max_iter=500, random_state = None)\n",
    "kmeans.fit(x_train)\n",
    "predicted = kmeans.predict(x_test)\n",
    "print(accuracy_score(y_test, predicted))\n",
    "print(classification_report(y_test,predicted))"
   ]
  },
  {
   "cell_type": "markdown",
   "id": "generous-glory",
   "metadata": {},
   "source": [
    "Um aumento no valor de *max_iter* resultou em uma piora dos resultados."
   ]
  },
  {
   "cell_type": "markdown",
   "id": "universal-newspaper",
   "metadata": {},
   "source": [
    "#### Variando *random_state* da função \"*KMeans*\":"
   ]
  },
  {
   "cell_type": "code",
   "execution_count": null,
   "id": "silver-truth",
   "metadata": {},
   "outputs": [],
   "source": [
    "x_train, x_test, y_train, y_test = train_test_split(x, y, train_size=0.75, random_state=0)\n",
    "kmeans = KMeans(n_clusters=2, init=\"k-means++\", n_init=10, max_iter=300, random_state = 0)\n",
    "kmeans.fit(x_train)\n",
    "predicted = kmeans.predict(x_test)\n",
    "print(accuracy_score(y_test, predicted))\n",
    "print(classification_report(y_test,predicted))"
   ]
  },
  {
   "cell_type": "code",
   "execution_count": null,
   "id": "final-medication",
   "metadata": {},
   "outputs": [],
   "source": [
    "x_train, x_test, y_train, y_test = train_test_split(x, y, train_size=0.75, random_state=0)\n",
    "kmeans = KMeans(n_clusters=2, init=\"k-means++\", n_init=10, max_iter=300, random_state = 1)\n",
    "kmeans.fit(x_train)\n",
    "predicted = kmeans.predict(x_test)\n",
    "print(accuracy_score(y_test, predicted))\n",
    "print(classification_report(y_test,predicted))"
   ]
  },
  {
   "cell_type": "code",
   "execution_count": null,
   "id": "boolean-andrew",
   "metadata": {},
   "outputs": [],
   "source": [
    "x_train, x_test, y_train, y_test = train_test_split(x, y, train_size=0.75, random_state=0)\n",
    "kmeans = KMeans(n_clusters=2, init=\"k-means++\", n_init=10, max_iter=300, random_state = 15)\n",
    "kmeans.fit(x_train)\n",
    "predicted = kmeans.predict(x_test)\n",
    "print(accuracy_score(y_test, predicted))\n",
    "print(classification_report(y_test,predicted))"
   ]
  },
  {
   "cell_type": "code",
   "execution_count": null,
   "id": "accomplished-allah",
   "metadata": {},
   "outputs": [],
   "source": [
    "x_train, x_test, y_train, y_test = train_test_split(x, y, train_size=0.75, random_state=0)\n",
    "kmeans = KMeans(n_clusters=2, init=\"k-means++\", n_init=10, max_iter=300, random_state = 42)\n",
    "kmeans.fit(x_train)\n",
    "predicted = kmeans.predict(x_test)\n",
    "print(accuracy_score(y_test, predicted))\n",
    "print(classification_report(y_test,predicted))"
   ]
  },
  {
   "cell_type": "markdown",
   "id": "balanced-participant",
   "metadata": {},
   "source": [
    "Os resultados de *random_state=None* apresentaram-se os melhores entre os testados. O valor *None* significa que será usado a instância de estado aleatório global de *numpy.random*."
   ]
  },
  {
   "cell_type": "markdown",
   "id": "chubby-guatemala",
   "metadata": {},
   "source": [
    "Portanto, os melhores resultados foram obtidos quando foram utilizados os parâmetros: *train_size=0.75*, *random_state* de *train_test_split* igual a 0 e *n_clusters=2*, *init=k-means++*, *n_init=10*, *max_iter=300* e *random_state* de *KMeans* igual a *None*."
   ]
  },
  {
   "cell_type": "markdown",
   "id": "biological-statement",
   "metadata": {},
   "source": [
    "### Tenta-se agora descobrir quais são as melhores variáveis para utilizar no banco de dados para tentar maximizar os resultados."
   ]
  },
  {
   "cell_type": "code",
   "execution_count": null,
   "id": "executed-ocean",
   "metadata": {},
   "outputs": [],
   "source": [
    "from sklearn.ensemble import ExtraTreesClassifier\n",
    "import matplotlib.pyplot as plt\n",
    "model = ExtraTreesClassifier()\n",
    "model.fit(x,y)\n",
    "feat_importances = pd.Series(model.feature_importances_, index=x.columns)\n",
    "feat_importances.nlargest(12).plot(kind='barh')\n",
    "plt.show()"
   ]
  },
  {
   "cell_type": "markdown",
   "id": "cutting-breast",
   "metadata": {},
   "source": [
    "### Irão ser utilizados somente as colunas \"*F.Undergrad*\", \"*Outstate*\" e \"*Enroll*\"."
   ]
  },
  {
   "cell_type": "code",
   "execution_count": null,
   "id": "thousand-quantum",
   "metadata": {},
   "outputs": [],
   "source": [
    "data2 = pd.read_csv(\"College.csv\")\n",
    "data2.drop([\"Unnamed: 0\", \"Top10perc\", \"Expend\", \"Grad.Rate\", \"P.Undergrad\", \"Room.Board\", \"perc.alumni\", \"Accept\", \"Apps\", \"S.F.Ratio\"], axis=1, inplace=True)\n",
    "data2[\"Private\"].replace([\"Yes\", \"No\"], [1,0], inplace=True)\n",
    "x2 = data.drop(['Private'],axis=1)\n",
    "y2 = data[\"Private\"]"
   ]
  },
  {
   "cell_type": "markdown",
   "id": "circular-wilson",
   "metadata": {},
   "source": [
    "### Realiza-se o experimento com os melhores parâmetros que foram obtidos anteriormente:"
   ]
  },
  {
   "cell_type": "code",
   "execution_count": null,
   "id": "stunning-instrument",
   "metadata": {},
   "outputs": [],
   "source": [
    "x2_train, x2_test, y2_train, y2_test = train_test_split(x2, y2, train_size=0.75, random_state=0)\n",
    "kmeans2 = KMeans(n_clusters=2, init=\"k-means++\", n_init=10, max_iter=300, random_state = None)\n",
    "kmeans2.fit(x2_train)\n",
    "predicted2 = kmeans.predict(x2_test)\n",
    "print(accuracy_score(y2_test, predicted2))\n",
    "print(classification_report(y2_test,predicted2))"
   ]
  },
  {
   "cell_type": "markdown",
   "id": "critical-representation",
   "metadata": {},
   "source": [
    "Infelizmente com esse novo banco de dados não foi possível melhorar os resultados."
   ]
  }
 ],
 "metadata": {
  "kernelspec": {
   "display_name": "Python 3",
   "language": "python",
   "name": "python3"
  },
  "language_info": {
   "codemirror_mode": {
    "name": "ipython",
    "version": 3
   },
   "file_extension": ".py",
   "mimetype": "text/x-python",
   "name": "python",
   "nbconvert_exporter": "python",
   "pygments_lexer": "ipython3",
   "version": "3.9.1"
  }
 },
 "nbformat": 4,
 "nbformat_minor": 5
}
