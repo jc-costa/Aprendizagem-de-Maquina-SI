{
 "cells": [
  {
   "cell_type": "markdown",
   "metadata": {},
   "source": [
    "**Alunos: Jefferson Costa, Sávio Berdine, Amanda Lasserre, Kevin Andrews, Nicholas Henrique**"
   ]
  },
  {
   "cell_type": "code",
   "execution_count": 77,
   "metadata": {},
   "outputs": [],
   "source": [
    "from sklearn.tree import DecisionTreeClassifier\n",
    "from sklearn.model_selection import train_test_split\n",
    "from sklearn.metrics import accuracy_score, classification_report\n",
    "import matplotlib.pyplot as plt\n",
    "import numpy as np\n",
    "import seaborn as sns\n",
    "import pandas as pd"
   ]
  },
  {
   "cell_type": "markdown",
   "metadata": {},
   "source": [
    "### Leitura dos dados:"
   ]
  },
  {
   "cell_type": "code",
   "execution_count": 78,
   "metadata": {},
   "outputs": [
    {
     "data": {
      "text/html": [
       "<div>\n",
       "<style scoped>\n",
       "    .dataframe tbody tr th:only-of-type {\n",
       "        vertical-align: middle;\n",
       "    }\n",
       "\n",
       "    .dataframe tbody tr th {\n",
       "        vertical-align: top;\n",
       "    }\n",
       "\n",
       "    .dataframe thead th {\n",
       "        text-align: right;\n",
       "    }\n",
       "</style>\n",
       "<table border=\"1\" class=\"dataframe\">\n",
       "  <thead>\n",
       "    <tr style=\"text-align: right;\">\n",
       "      <th></th>\n",
       "      <th>Survived</th>\n",
       "      <th>Pclass</th>\n",
       "      <th>Name</th>\n",
       "      <th>Sex</th>\n",
       "      <th>Age</th>\n",
       "      <th>SibSp</th>\n",
       "      <th>Parch</th>\n",
       "      <th>Ticket</th>\n",
       "      <th>Fare</th>\n",
       "      <th>Cabin</th>\n",
       "      <th>Embarked</th>\n",
       "    </tr>\n",
       "    <tr>\n",
       "      <th>PassengerId</th>\n",
       "      <th></th>\n",
       "      <th></th>\n",
       "      <th></th>\n",
       "      <th></th>\n",
       "      <th></th>\n",
       "      <th></th>\n",
       "      <th></th>\n",
       "      <th></th>\n",
       "      <th></th>\n",
       "      <th></th>\n",
       "      <th></th>\n",
       "    </tr>\n",
       "  </thead>\n",
       "  <tbody>\n",
       "    <tr>\n",
       "      <th>1</th>\n",
       "      <td>0</td>\n",
       "      <td>3</td>\n",
       "      <td>Braund, Mr. Owen Harris</td>\n",
       "      <td>male</td>\n",
       "      <td>22.0</td>\n",
       "      <td>1</td>\n",
       "      <td>0</td>\n",
       "      <td>A/5 21171</td>\n",
       "      <td>7.2500</td>\n",
       "      <td>NaN</td>\n",
       "      <td>S</td>\n",
       "    </tr>\n",
       "    <tr>\n",
       "      <th>2</th>\n",
       "      <td>1</td>\n",
       "      <td>1</td>\n",
       "      <td>Cumings, Mrs. John Bradley (Florence Briggs Th...</td>\n",
       "      <td>female</td>\n",
       "      <td>38.0</td>\n",
       "      <td>1</td>\n",
       "      <td>0</td>\n",
       "      <td>PC 17599</td>\n",
       "      <td>71.2833</td>\n",
       "      <td>C85</td>\n",
       "      <td>C</td>\n",
       "    </tr>\n",
       "    <tr>\n",
       "      <th>3</th>\n",
       "      <td>1</td>\n",
       "      <td>3</td>\n",
       "      <td>Heikkinen, Miss. Laina</td>\n",
       "      <td>female</td>\n",
       "      <td>26.0</td>\n",
       "      <td>0</td>\n",
       "      <td>0</td>\n",
       "      <td>STON/O2. 3101282</td>\n",
       "      <td>7.9250</td>\n",
       "      <td>NaN</td>\n",
       "      <td>S</td>\n",
       "    </tr>\n",
       "    <tr>\n",
       "      <th>4</th>\n",
       "      <td>1</td>\n",
       "      <td>1</td>\n",
       "      <td>Futrelle, Mrs. Jacques Heath (Lily May Peel)</td>\n",
       "      <td>female</td>\n",
       "      <td>35.0</td>\n",
       "      <td>1</td>\n",
       "      <td>0</td>\n",
       "      <td>113803</td>\n",
       "      <td>53.1000</td>\n",
       "      <td>C123</td>\n",
       "      <td>S</td>\n",
       "    </tr>\n",
       "    <tr>\n",
       "      <th>5</th>\n",
       "      <td>0</td>\n",
       "      <td>3</td>\n",
       "      <td>Allen, Mr. William Henry</td>\n",
       "      <td>male</td>\n",
       "      <td>35.0</td>\n",
       "      <td>0</td>\n",
       "      <td>0</td>\n",
       "      <td>373450</td>\n",
       "      <td>8.0500</td>\n",
       "      <td>NaN</td>\n",
       "      <td>S</td>\n",
       "    </tr>\n",
       "  </tbody>\n",
       "</table>\n",
       "</div>"
      ],
      "text/plain": [
       "             Survived  Pclass  \\\n",
       "PassengerId                     \n",
       "1                   0       3   \n",
       "2                   1       1   \n",
       "3                   1       3   \n",
       "4                   1       1   \n",
       "5                   0       3   \n",
       "\n",
       "                                                          Name     Sex   Age  \\\n",
       "PassengerId                                                                    \n",
       "1                                      Braund, Mr. Owen Harris    male  22.0   \n",
       "2            Cumings, Mrs. John Bradley (Florence Briggs Th...  female  38.0   \n",
       "3                                       Heikkinen, Miss. Laina  female  26.0   \n",
       "4                 Futrelle, Mrs. Jacques Heath (Lily May Peel)  female  35.0   \n",
       "5                                     Allen, Mr. William Henry    male  35.0   \n",
       "\n",
       "             SibSp  Parch            Ticket     Fare Cabin Embarked  \n",
       "PassengerId                                                          \n",
       "1                1      0         A/5 21171   7.2500   NaN        S  \n",
       "2                1      0          PC 17599  71.2833   C85        C  \n",
       "3                0      0  STON/O2. 3101282   7.9250   NaN        S  \n",
       "4                1      0            113803  53.1000  C123        S  \n",
       "5                0      0            373450   8.0500   NaN        S  "
      ]
     },
     "execution_count": 78,
     "metadata": {},
     "output_type": "execute_result"
    }
   ],
   "source": [
    "data = pd.read_csv('train.csv', index_col='PassengerId')\n",
    "data.head()"
   ]
  },
  {
   "cell_type": "code",
   "execution_count": 3,
   "metadata": {},
   "outputs": [
    {
     "name": "stdout",
     "output_type": "stream",
     "text": [
      "<class 'pandas.core.frame.DataFrame'>\n",
      "Int64Index: 891 entries, 1 to 891\n",
      "Data columns (total 11 columns):\n",
      " #   Column    Non-Null Count  Dtype  \n",
      "---  ------    --------------  -----  \n",
      " 0   Survived  891 non-null    int64  \n",
      " 1   Pclass    891 non-null    int64  \n",
      " 2   Name      891 non-null    object \n",
      " 3   Sex       891 non-null    object \n",
      " 4   Age       714 non-null    float64\n",
      " 5   SibSp     891 non-null    int64  \n",
      " 6   Parch     891 non-null    int64  \n",
      " 7   Ticket    891 non-null    object \n",
      " 8   Fare      891 non-null    float64\n",
      " 9   Cabin     204 non-null    object \n",
      " 10  Embarked  889 non-null    object \n",
      "dtypes: float64(2), int64(4), object(5)\n",
      "memory usage: 83.5+ KB\n"
     ]
    }
   ],
   "source": [
    "data.info()"
   ]
  },
  {
   "cell_type": "code",
   "execution_count": null,
   "metadata": {},
   "outputs": [],
   "source": [
    "Observando uma correlação das features, para assim selecionarmos quais serão utilizada "
   ]
  },
  {
   "cell_type": "code",
   "execution_count": 80,
   "metadata": {},
   "outputs": [
    {
     "data": {
      "text/html": [
       "<style  type=\"text/css\" >\n",
       "#T_b42b3_row0_col0,#T_b42b3_row1_col1,#T_b42b3_row2_col2,#T_b42b3_row3_col3,#T_b42b3_row4_col4,#T_b42b3_row5_col5,#T_b42b3_row6_col6,#T_b42b3_row7_col7,#T_b42b3_row8_col8,#T_b42b3_row9_col9{\n",
       "            background-color:  #b40426;\n",
       "            color:  #f1f1f1;\n",
       "        }#T_b42b3_row0_col1{\n",
       "            background-color:  #e2dad5;\n",
       "            color:  #000000;\n",
       "        }#T_b42b3_row0_col2{\n",
       "            background-color:  #f2c9b4;\n",
       "            color:  #000000;\n",
       "        }#T_b42b3_row0_col3,#T_b42b3_row8_col6{\n",
       "            background-color:  #f6bfa6;\n",
       "            color:  #000000;\n",
       "        }#T_b42b3_row0_col4{\n",
       "            background-color:  #c9d7f0;\n",
       "            color:  #000000;\n",
       "        }#T_b42b3_row0_col5,#T_b42b3_row0_col6,#T_b42b3_row2_col3,#T_b42b3_row2_col9,#T_b42b3_row3_col2,#T_b42b3_row4_col7,#T_b42b3_row4_col8,#T_b42b3_row6_col0,#T_b42b3_row6_col1,#T_b42b3_row8_col4{\n",
       "            background-color:  #3b4cc0;\n",
       "            color:  #f1f1f1;\n",
       "        }#T_b42b3_row0_col7{\n",
       "            background-color:  #f7ba9f;\n",
       "            color:  #000000;\n",
       "        }#T_b42b3_row0_col8{\n",
       "            background-color:  #5b7ae5;\n",
       "            color:  #000000;\n",
       "        }#T_b42b3_row0_col9,#T_b42b3_row5_col0{\n",
       "            background-color:  #9abbff;\n",
       "            color:  #000000;\n",
       "        }#T_b42b3_row1_col0{\n",
       "            background-color:  #f4c5ad;\n",
       "            color:  #000000;\n",
       "        }#T_b42b3_row1_col2{\n",
       "            background-color:  #6c8ff1;\n",
       "            color:  #000000;\n",
       "        }#T_b42b3_row1_col3{\n",
       "            background-color:  #f7a688;\n",
       "            color:  #000000;\n",
       "        }#T_b42b3_row1_col4{\n",
       "            background-color:  #7da0f9;\n",
       "            color:  #000000;\n",
       "        }#T_b42b3_row1_col5{\n",
       "            background-color:  #dcdddd;\n",
       "            color:  #000000;\n",
       "        }#T_b42b3_row1_col6{\n",
       "            background-color:  #80a3fa;\n",
       "            color:  #000000;\n",
       "        }#T_b42b3_row1_col7{\n",
       "            background-color:  #f39475;\n",
       "            color:  #000000;\n",
       "        }#T_b42b3_row1_col8{\n",
       "            background-color:  #e6d7cf;\n",
       "            color:  #000000;\n",
       "        }#T_b42b3_row1_col9{\n",
       "            background-color:  #c5d6f2;\n",
       "            color:  #000000;\n",
       "        }#T_b42b3_row2_col0,#T_b42b3_row3_col7,#T_b42b3_row7_col3{\n",
       "            background-color:  #f7bca1;\n",
       "            color:  #000000;\n",
       "        }#T_b42b3_row2_col1,#T_b42b3_row4_col1,#T_b42b3_row7_col4{\n",
       "            background-color:  #4b64d5;\n",
       "            color:  #f1f1f1;\n",
       "        }#T_b42b3_row2_col4,#T_b42b3_row9_col8{\n",
       "            background-color:  #d6dce4;\n",
       "            color:  #000000;\n",
       "        }#T_b42b3_row2_col5{\n",
       "            background-color:  #516ddb;\n",
       "            color:  #000000;\n",
       "        }#T_b42b3_row2_col6{\n",
       "            background-color:  #b6cefa;\n",
       "            color:  #000000;\n",
       "        }#T_b42b3_row2_col7,#T_b42b3_row7_col2{\n",
       "            background-color:  #b1cbfc;\n",
       "            color:  #000000;\n",
       "        }#T_b42b3_row2_col8{\n",
       "            background-color:  #5d7ce6;\n",
       "            color:  #000000;\n",
       "        }#T_b42b3_row3_col0,#T_b42b3_row3_col1{\n",
       "            background-color:  #f7b194;\n",
       "            color:  #000000;\n",
       "        }#T_b42b3_row3_col4{\n",
       "            background-color:  #89acfd;\n",
       "            color:  #000000;\n",
       "        }#T_b42b3_row3_col5{\n",
       "            background-color:  #3c4ec2;\n",
       "            color:  #f1f1f1;\n",
       "        }#T_b42b3_row3_col6{\n",
       "            background-color:  #6788ee;\n",
       "            color:  #000000;\n",
       "        }#T_b42b3_row3_col8{\n",
       "            background-color:  #ead5c9;\n",
       "            color:  #000000;\n",
       "        }#T_b42b3_row3_col9{\n",
       "            background-color:  #f2cbb7;\n",
       "            color:  #000000;\n",
       "        }#T_b42b3_row4_col0{\n",
       "            background-color:  #d3dbe7;\n",
       "            color:  #000000;\n",
       "        }#T_b42b3_row4_col2{\n",
       "            background-color:  #cdd9ec;\n",
       "            color:  #000000;\n",
       "        }#T_b42b3_row4_col3{\n",
       "            background-color:  #7a9df8;\n",
       "            color:  #000000;\n",
       "        }#T_b42b3_row4_col5{\n",
       "            background-color:  #5a78e4;\n",
       "            color:  #000000;\n",
       "        }#T_b42b3_row4_col6{\n",
       "            background-color:  #abc8fd;\n",
       "            color:  #000000;\n",
       "        }#T_b42b3_row4_col9,#T_b42b3_row7_col6{\n",
       "            background-color:  #6687ed;\n",
       "            color:  #000000;\n",
       "        }#T_b42b3_row5_col1{\n",
       "            background-color:  #e9d5cb;\n",
       "            color:  #000000;\n",
       "        }#T_b42b3_row5_col2{\n",
       "            background-color:  #8db0fe;\n",
       "            color:  #000000;\n",
       "        }#T_b42b3_row5_col3{\n",
       "            background-color:  #799cf8;\n",
       "            color:  #000000;\n",
       "        }#T_b42b3_row5_col4{\n",
       "            background-color:  #a3c2fe;\n",
       "            color:  #000000;\n",
       "        }#T_b42b3_row5_col6,#T_b42b3_row9_col1{\n",
       "            background-color:  #c1d4f4;\n",
       "            color:  #000000;\n",
       "        }#T_b42b3_row5_col7,#T_b42b3_row9_col7{\n",
       "            background-color:  #f4c6af;\n",
       "            color:  #000000;\n",
       "        }#T_b42b3_row5_col8{\n",
       "            background-color:  #dfdbd9;\n",
       "            color:  #000000;\n",
       "        }#T_b42b3_row5_col9{\n",
       "            background-color:  #aec9fc;\n",
       "            color:  #000000;\n",
       "        }#T_b42b3_row6_col2{\n",
       "            background-color:  #98b9ff;\n",
       "            color:  #000000;\n",
       "        }#T_b42b3_row6_col3{\n",
       "            background-color:  #4358cb;\n",
       "            color:  #f1f1f1;\n",
       "        }#T_b42b3_row6_col4{\n",
       "            background-color:  #9bbcff;\n",
       "            color:  #000000;\n",
       "        }#T_b42b3_row6_col5,#T_b42b3_row8_col0{\n",
       "            background-color:  #6f92f3;\n",
       "            color:  #000000;\n",
       "        }#T_b42b3_row6_col7{\n",
       "            background-color:  #3f53c6;\n",
       "            color:  #f1f1f1;\n",
       "        }#T_b42b3_row6_col8,#T_b42b3_row7_col8{\n",
       "            background-color:  #f3c7b1;\n",
       "            color:  #000000;\n",
       "        }#T_b42b3_row6_col9{\n",
       "            background-color:  #4055c8;\n",
       "            color:  #f1f1f1;\n",
       "        }#T_b42b3_row7_col0{\n",
       "            background-color:  #f7ad90;\n",
       "            color:  #000000;\n",
       "        }#T_b42b3_row7_col1{\n",
       "            background-color:  #f59f80;\n",
       "            color:  #000000;\n",
       "        }#T_b42b3_row7_col5{\n",
       "            background-color:  #e4d9d2;\n",
       "            color:  #000000;\n",
       "        }#T_b42b3_row7_col9{\n",
       "            background-color:  #efcfbf;\n",
       "            color:  #000000;\n",
       "        }#T_b42b3_row8_col1{\n",
       "            background-color:  #cfdaea;\n",
       "            color:  #000000;\n",
       "        }#T_b42b3_row8_col2{\n",
       "            background-color:  #4c66d6;\n",
       "            color:  #000000;\n",
       "        }#T_b42b3_row8_col3{\n",
       "            background-color:  #e3d9d3;\n",
       "            color:  #000000;\n",
       "        }#T_b42b3_row8_col5{\n",
       "            background-color:  #b2ccfb;\n",
       "            color:  #000000;\n",
       "        }#T_b42b3_row8_col7{\n",
       "            background-color:  #f1cdba;\n",
       "            color:  #000000;\n",
       "        }#T_b42b3_row8_col9{\n",
       "            background-color:  #bbd1f8;\n",
       "            color:  #000000;\n",
       "        }#T_b42b3_row9_col0{\n",
       "            background-color:  #cad8ef;\n",
       "            color:  #000000;\n",
       "        }#T_b42b3_row9_col2{\n",
       "            background-color:  #5673e0;\n",
       "            color:  #000000;\n",
       "        }#T_b42b3_row9_col3{\n",
       "            background-color:  #f5c0a7;\n",
       "            color:  #000000;\n",
       "        }#T_b42b3_row9_col4{\n",
       "            background-color:  #92b4fe;\n",
       "            color:  #000000;\n",
       "        }#T_b42b3_row9_col5{\n",
       "            background-color:  #93b5fe;\n",
       "            color:  #000000;\n",
       "        }#T_b42b3_row9_col6{\n",
       "            background-color:  #81a4fb;\n",
       "            color:  #000000;\n",
       "        }</style><table id=\"T_b42b3_\" ><thead>    <tr>        <th class=\"blank level0\" ></th>        <th class=\"col_heading level0 col0\" >0</th>        <th class=\"col_heading level0 col1\" >1</th>        <th class=\"col_heading level0 col2\" >2</th>        <th class=\"col_heading level0 col3\" >3</th>        <th class=\"col_heading level0 col4\" >4</th>        <th class=\"col_heading level0 col5\" >5</th>        <th class=\"col_heading level0 col6\" >6</th>        <th class=\"col_heading level0 col7\" >7</th>        <th class=\"col_heading level0 col8\" >8</th>        <th class=\"col_heading level0 col9\" >9</th>    </tr></thead><tbody>\n",
       "                <tr>\n",
       "                        <th id=\"T_b42b3_level0_row0\" class=\"row_heading level0 row0\" >0</th>\n",
       "                        <td id=\"T_b42b3_row0_col0\" class=\"data row0 col0\" >1.000000</td>\n",
       "                        <td id=\"T_b42b3_row0_col1\" class=\"data row0 col1\" >0.347533</td>\n",
       "                        <td id=\"T_b42b3_row0_col2\" class=\"data row0 col2\" >0.398948</td>\n",
       "                        <td id=\"T_b42b3_row0_col3\" class=\"data row0 col3\" >0.455743</td>\n",
       "                        <td id=\"T_b42b3_row0_col4\" class=\"data row0 col4\" >0.072914</td>\n",
       "                        <td id=\"T_b42b3_row0_col5\" class=\"data row0 col5\" >-0.233402</td>\n",
       "                        <td id=\"T_b42b3_row0_col6\" class=\"data row0 col6\" >-0.731222</td>\n",
       "                        <td id=\"T_b42b3_row0_col7\" class=\"data row0 col7\" >0.477978</td>\n",
       "                        <td id=\"T_b42b3_row0_col8\" class=\"data row0 col8\" >-0.442621</td>\n",
       "                        <td id=\"T_b42b3_row0_col9\" class=\"data row0 col9\" >0.015185</td>\n",
       "            </tr>\n",
       "            <tr>\n",
       "                        <th id=\"T_b42b3_level0_row1\" class=\"row_heading level0 row1\" >1</th>\n",
       "                        <td id=\"T_b42b3_row1_col0\" class=\"data row1 col0\" >0.347533</td>\n",
       "                        <td id=\"T_b42b3_row1_col1\" class=\"data row1 col1\" >1.000000</td>\n",
       "                        <td id=\"T_b42b3_row1_col2\" class=\"data row1 col2\" >-0.284056</td>\n",
       "                        <td id=\"T_b42b3_row1_col3\" class=\"data row1 col3\" >0.571003</td>\n",
       "                        <td id=\"T_b42b3_row1_col4\" class=\"data row1 col4\" >-0.285483</td>\n",
       "                        <td id=\"T_b42b3_row1_col5\" class=\"data row1 col5\" >0.382480</td>\n",
       "                        <td id=\"T_b42b3_row1_col6\" class=\"data row1 col6\" >-0.362842</td>\n",
       "                        <td id=\"T_b42b3_row1_col7\" class=\"data row1 col7\" >0.642578</td>\n",
       "                        <td id=\"T_b42b3_row1_col8\" class=\"data row1 col8\" >0.252556</td>\n",
       "                        <td id=\"T_b42b3_row1_col9\" class=\"data row1 col9\" >0.190047</td>\n",
       "            </tr>\n",
       "            <tr>\n",
       "                        <th id=\"T_b42b3_level0_row2\" class=\"row_heading level0 row2\" >2</th>\n",
       "                        <td id=\"T_b42b3_row2_col0\" class=\"data row2 col0\" >0.398948</td>\n",
       "                        <td id=\"T_b42b3_row2_col1\" class=\"data row2 col1\" >-0.284056</td>\n",
       "                        <td id=\"T_b42b3_row2_col2\" class=\"data row2 col2\" >1.000000</td>\n",
       "                        <td id=\"T_b42b3_row2_col3\" class=\"data row2 col3\" >-0.523649</td>\n",
       "                        <td id=\"T_b42b3_row2_col4\" class=\"data row2 col4\" >0.152937</td>\n",
       "                        <td id=\"T_b42b3_row2_col5\" class=\"data row2 col5\" >-0.139176</td>\n",
       "                        <td id=\"T_b42b3_row2_col6\" class=\"data row2 col6\" >-0.092895</td>\n",
       "                        <td id=\"T_b42b3_row2_col7\" class=\"data row2 col7\" >0.016266</td>\n",
       "                        <td id=\"T_b42b3_row2_col8\" class=\"data row2 col8\" >-0.434016</td>\n",
       "                        <td id=\"T_b42b3_row2_col9\" class=\"data row2 col9\" >-0.383585</td>\n",
       "            </tr>\n",
       "            <tr>\n",
       "                        <th id=\"T_b42b3_level0_row3\" class=\"row_heading level0 row3\" >3</th>\n",
       "                        <td id=\"T_b42b3_row3_col0\" class=\"data row3 col0\" >0.455743</td>\n",
       "                        <td id=\"T_b42b3_row3_col1\" class=\"data row3 col1\" >0.571003</td>\n",
       "                        <td id=\"T_b42b3_row3_col2\" class=\"data row3 col2\" >-0.523649</td>\n",
       "                        <td id=\"T_b42b3_row3_col3\" class=\"data row3 col3\" >1.000000</td>\n",
       "                        <td id=\"T_b42b3_row3_col4\" class=\"data row3 col4\" >-0.225343</td>\n",
       "                        <td id=\"T_b42b3_row3_col5\" class=\"data row3 col5\" >-0.227577</td>\n",
       "                        <td id=\"T_b42b3_row3_col6\" class=\"data row3 col6\" >-0.481548</td>\n",
       "                        <td id=\"T_b42b3_row3_col7\" class=\"data row3 col7\" >0.473286</td>\n",
       "                        <td id=\"T_b42b3_row3_col8\" class=\"data row3 col8\" >0.279258</td>\n",
       "                        <td id=\"T_b42b3_row3_col9\" class=\"data row3 col9\" >0.446650</td>\n",
       "            </tr>\n",
       "            <tr>\n",
       "                        <th id=\"T_b42b3_level0_row4\" class=\"row_heading level0 row4\" >4</th>\n",
       "                        <td id=\"T_b42b3_row4_col0\" class=\"data row4 col0\" >0.072914</td>\n",
       "                        <td id=\"T_b42b3_row4_col1\" class=\"data row4 col1\" >-0.285483</td>\n",
       "                        <td id=\"T_b42b3_row4_col2\" class=\"data row4 col2\" >0.152937</td>\n",
       "                        <td id=\"T_b42b3_row4_col3\" class=\"data row4 col3\" >-0.225343</td>\n",
       "                        <td id=\"T_b42b3_row4_col4\" class=\"data row4 col4\" >1.000000</td>\n",
       "                        <td id=\"T_b42b3_row4_col5\" class=\"data row4 col5\" >-0.104438</td>\n",
       "                        <td id=\"T_b42b3_row4_col6\" class=\"data row4 col6\" >-0.147477</td>\n",
       "                        <td id=\"T_b42b3_row4_col7\" class=\"data row4 col7\" >-0.523283</td>\n",
       "                        <td id=\"T_b42b3_row4_col8\" class=\"data row4 col8\" >-0.614603</td>\n",
       "                        <td id=\"T_b42b3_row4_col9\" class=\"data row4 col9\" >-0.189916</td>\n",
       "            </tr>\n",
       "            <tr>\n",
       "                        <th id=\"T_b42b3_level0_row5\" class=\"row_heading level0 row5\" >5</th>\n",
       "                        <td id=\"T_b42b3_row5_col0\" class=\"data row5 col0\" >-0.233402</td>\n",
       "                        <td id=\"T_b42b3_row5_col1\" class=\"data row5 col1\" >0.382480</td>\n",
       "                        <td id=\"T_b42b3_row5_col2\" class=\"data row5 col2\" >-0.139176</td>\n",
       "                        <td id=\"T_b42b3_row5_col3\" class=\"data row5 col3\" >-0.227577</td>\n",
       "                        <td id=\"T_b42b3_row5_col4\" class=\"data row5 col4\" >-0.104438</td>\n",
       "                        <td id=\"T_b42b3_row5_col5\" class=\"data row5 col5\" >1.000000</td>\n",
       "                        <td id=\"T_b42b3_row5_col6\" class=\"data row5 col6\" >-0.030252</td>\n",
       "                        <td id=\"T_b42b3_row5_col7\" class=\"data row5 col7\" >0.417640</td>\n",
       "                        <td id=\"T_b42b3_row5_col8\" class=\"data row5 col8\" >0.205851</td>\n",
       "                        <td id=\"T_b42b3_row5_col9\" class=\"data row5 col9\" >0.095084</td>\n",
       "            </tr>\n",
       "            <tr>\n",
       "                        <th id=\"T_b42b3_level0_row6\" class=\"row_heading level0 row6\" >6</th>\n",
       "                        <td id=\"T_b42b3_row6_col0\" class=\"data row6 col0\" >-0.731222</td>\n",
       "                        <td id=\"T_b42b3_row6_col1\" class=\"data row6 col1\" >-0.362842</td>\n",
       "                        <td id=\"T_b42b3_row6_col2\" class=\"data row6 col2\" >-0.092895</td>\n",
       "                        <td id=\"T_b42b3_row6_col3\" class=\"data row6 col3\" >-0.481548</td>\n",
       "                        <td id=\"T_b42b3_row6_col4\" class=\"data row6 col4\" >-0.147477</td>\n",
       "                        <td id=\"T_b42b3_row6_col5\" class=\"data row6 col5\" >-0.030252</td>\n",
       "                        <td id=\"T_b42b3_row6_col6\" class=\"data row6 col6\" >1.000000</td>\n",
       "                        <td id=\"T_b42b3_row6_col7\" class=\"data row6 col7\" >-0.494440</td>\n",
       "                        <td id=\"T_b42b3_row6_col8\" class=\"data row6 col8\" >0.381407</td>\n",
       "                        <td id=\"T_b42b3_row6_col9\" class=\"data row6 col9\" >-0.353652</td>\n",
       "            </tr>\n",
       "            <tr>\n",
       "                        <th id=\"T_b42b3_level0_row7\" class=\"row_heading level0 row7\" >7</th>\n",
       "                        <td id=\"T_b42b3_row7_col0\" class=\"data row7 col0\" >0.477978</td>\n",
       "                        <td id=\"T_b42b3_row7_col1\" class=\"data row7 col1\" >0.642578</td>\n",
       "                        <td id=\"T_b42b3_row7_col2\" class=\"data row7 col2\" >0.016266</td>\n",
       "                        <td id=\"T_b42b3_row7_col3\" class=\"data row7 col3\" >0.473286</td>\n",
       "                        <td id=\"T_b42b3_row7_col4\" class=\"data row7 col4\" >-0.523283</td>\n",
       "                        <td id=\"T_b42b3_row7_col5\" class=\"data row7 col5\" >0.417640</td>\n",
       "                        <td id=\"T_b42b3_row7_col6\" class=\"data row7 col6\" >-0.494440</td>\n",
       "                        <td id=\"T_b42b3_row7_col7\" class=\"data row7 col7\" >1.000000</td>\n",
       "                        <td id=\"T_b42b3_row7_col8\" class=\"data row7 col8\" >0.375873</td>\n",
       "                        <td id=\"T_b42b3_row7_col9\" class=\"data row7 col9\" >0.417863</td>\n",
       "            </tr>\n",
       "            <tr>\n",
       "                        <th id=\"T_b42b3_level0_row8\" class=\"row_heading level0 row8\" >8</th>\n",
       "                        <td id=\"T_b42b3_row8_col0\" class=\"data row8 col0\" >-0.442621</td>\n",
       "                        <td id=\"T_b42b3_row8_col1\" class=\"data row8 col1\" >0.252556</td>\n",
       "                        <td id=\"T_b42b3_row8_col2\" class=\"data row8 col2\" >-0.434016</td>\n",
       "                        <td id=\"T_b42b3_row8_col3\" class=\"data row8 col3\" >0.279258</td>\n",
       "                        <td id=\"T_b42b3_row8_col4\" class=\"data row8 col4\" >-0.614603</td>\n",
       "                        <td id=\"T_b42b3_row8_col5\" class=\"data row8 col5\" >0.205851</td>\n",
       "                        <td id=\"T_b42b3_row8_col6\" class=\"data row8 col6\" >0.381407</td>\n",
       "                        <td id=\"T_b42b3_row8_col7\" class=\"data row8 col7\" >0.375873</td>\n",
       "                        <td id=\"T_b42b3_row8_col8\" class=\"data row8 col8\" >1.000000</td>\n",
       "                        <td id=\"T_b42b3_row8_col9\" class=\"data row8 col9\" >0.150421</td>\n",
       "            </tr>\n",
       "            <tr>\n",
       "                        <th id=\"T_b42b3_level0_row9\" class=\"row_heading level0 row9\" >9</th>\n",
       "                        <td id=\"T_b42b3_row9_col0\" class=\"data row9 col0\" >0.015185</td>\n",
       "                        <td id=\"T_b42b3_row9_col1\" class=\"data row9 col1\" >0.190047</td>\n",
       "                        <td id=\"T_b42b3_row9_col2\" class=\"data row9 col2\" >-0.383585</td>\n",
       "                        <td id=\"T_b42b3_row9_col3\" class=\"data row9 col3\" >0.446650</td>\n",
       "                        <td id=\"T_b42b3_row9_col4\" class=\"data row9 col4\" >-0.189916</td>\n",
       "                        <td id=\"T_b42b3_row9_col5\" class=\"data row9 col5\" >0.095084</td>\n",
       "                        <td id=\"T_b42b3_row9_col6\" class=\"data row9 col6\" >-0.353652</td>\n",
       "                        <td id=\"T_b42b3_row9_col7\" class=\"data row9 col7\" >0.417863</td>\n",
       "                        <td id=\"T_b42b3_row9_col8\" class=\"data row9 col8\" >0.150421</td>\n",
       "                        <td id=\"T_b42b3_row9_col9\" class=\"data row9 col9\" >1.000000</td>\n",
       "            </tr>\n",
       "    </tbody></table>"
      ],
      "text/plain": [
       "<pandas.io.formats.style.Styler at 0x2101f66adf0>"
      ]
     },
     "execution_count": 80,
     "metadata": {},
     "output_type": "execute_result"
    }
   ],
   "source": [
    "rs = np.random.RandomState(0)\n",
    "df = pd.DataFrame(rs.rand(10, 10))\n",
    "corr = df.corr()\n",
    "corr.style.background_gradient(cmap='coolwarm')"
   ]
  },
  {
   "cell_type": "markdown",
   "metadata": {},
   "source": [
    "### Banco de Dados"
   ]
  },
  {
   "cell_type": "markdown",
   "metadata": {},
   "source": [
    "Para termos um banco de dados consistente, deleta-se as colunas que não possui uma quantidade de valores iguais ao número de casos do banco de dados original e que não possuem um valor interessante para ser analisado. Após isso, deleta-se todas as linhas que possuem algum atributo com valor nulo, para que todas as colunas tenham um número de valores igual."
   ]
  },
  {
   "cell_type": "code",
   "execution_count": 4,
   "metadata": {},
   "outputs": [
    {
     "name": "stdout",
     "output_type": "stream",
     "text": [
      "<class 'pandas.core.frame.DataFrame'>\n",
      "Int64Index: 714 entries, 1 to 891\n",
      "Data columns (total 7 columns):\n",
      " #   Column    Non-Null Count  Dtype  \n",
      "---  ------    --------------  -----  \n",
      " 0   Pclass    714 non-null    int64  \n",
      " 1   Sex       714 non-null    object \n",
      " 2   Age       714 non-null    float64\n",
      " 3   SibSp     714 non-null    int64  \n",
      " 4   Parch     714 non-null    int64  \n",
      " 5   Fare      714 non-null    float64\n",
      " 6   Survived  714 non-null    int64  \n",
      "dtypes: float64(2), int64(4), object(1)\n",
      "memory usage: 44.6+ KB\n"
     ]
    }
   ],
   "source": [
    "new_data = data[['Pclass', 'Sex', 'Age', 'SibSp', 'Parch', 'Fare', 'Survived']]\n",
    "new_data = new_data.dropna()\n",
    "new_data.info()"
   ]
  },
  {
   "cell_type": "markdown",
   "metadata": {},
   "source": [
    "Transforma-se a coluna \"Sex\" em valores númericos:"
   ]
  },
  {
   "cell_type": "code",
   "execution_count": 5,
   "metadata": {},
   "outputs": [
    {
     "data": {
      "text/html": [
       "<div>\n",
       "<style scoped>\n",
       "    .dataframe tbody tr th:only-of-type {\n",
       "        vertical-align: middle;\n",
       "    }\n",
       "\n",
       "    .dataframe tbody tr th {\n",
       "        vertical-align: top;\n",
       "    }\n",
       "\n",
       "    .dataframe thead th {\n",
       "        text-align: right;\n",
       "    }\n",
       "</style>\n",
       "<table border=\"1\" class=\"dataframe\">\n",
       "  <thead>\n",
       "    <tr style=\"text-align: right;\">\n",
       "      <th></th>\n",
       "      <th>Pclass</th>\n",
       "      <th>Sex</th>\n",
       "      <th>Age</th>\n",
       "      <th>SibSp</th>\n",
       "      <th>Parch</th>\n",
       "      <th>Fare</th>\n",
       "      <th>Survived</th>\n",
       "    </tr>\n",
       "    <tr>\n",
       "      <th>PassengerId</th>\n",
       "      <th></th>\n",
       "      <th></th>\n",
       "      <th></th>\n",
       "      <th></th>\n",
       "      <th></th>\n",
       "      <th></th>\n",
       "      <th></th>\n",
       "    </tr>\n",
       "  </thead>\n",
       "  <tbody>\n",
       "    <tr>\n",
       "      <th>1</th>\n",
       "      <td>3</td>\n",
       "      <td>0</td>\n",
       "      <td>22.0</td>\n",
       "      <td>1</td>\n",
       "      <td>0</td>\n",
       "      <td>7.2500</td>\n",
       "      <td>0</td>\n",
       "    </tr>\n",
       "    <tr>\n",
       "      <th>2</th>\n",
       "      <td>1</td>\n",
       "      <td>1</td>\n",
       "      <td>38.0</td>\n",
       "      <td>1</td>\n",
       "      <td>0</td>\n",
       "      <td>71.2833</td>\n",
       "      <td>1</td>\n",
       "    </tr>\n",
       "    <tr>\n",
       "      <th>3</th>\n",
       "      <td>3</td>\n",
       "      <td>1</td>\n",
       "      <td>26.0</td>\n",
       "      <td>0</td>\n",
       "      <td>0</td>\n",
       "      <td>7.9250</td>\n",
       "      <td>1</td>\n",
       "    </tr>\n",
       "    <tr>\n",
       "      <th>4</th>\n",
       "      <td>1</td>\n",
       "      <td>1</td>\n",
       "      <td>35.0</td>\n",
       "      <td>1</td>\n",
       "      <td>0</td>\n",
       "      <td>53.1000</td>\n",
       "      <td>1</td>\n",
       "    </tr>\n",
       "    <tr>\n",
       "      <th>5</th>\n",
       "      <td>3</td>\n",
       "      <td>0</td>\n",
       "      <td>35.0</td>\n",
       "      <td>0</td>\n",
       "      <td>0</td>\n",
       "      <td>8.0500</td>\n",
       "      <td>0</td>\n",
       "    </tr>\n",
       "  </tbody>\n",
       "</table>\n",
       "</div>"
      ],
      "text/plain": [
       "             Pclass  Sex   Age  SibSp  Parch     Fare  Survived\n",
       "PassengerId                                                    \n",
       "1                 3    0  22.0      1      0   7.2500         0\n",
       "2                 1    1  38.0      1      0  71.2833         1\n",
       "3                 3    1  26.0      0      0   7.9250         1\n",
       "4                 1    1  35.0      1      0  53.1000         1\n",
       "5                 3    0  35.0      0      0   8.0500         0"
      ]
     },
     "execution_count": 5,
     "metadata": {},
     "output_type": "execute_result"
    }
   ],
   "source": [
    "new_data['Sex'].replace(['female','male'],[1,0],inplace=True)\n",
    "new_data.head()"
   ]
  },
  {
   "cell_type": "code",
   "execution_count": 65,
   "metadata": {},
   "outputs": [
    {
     "data": {
      "image/png": "[encoded data removed]",
      "text/plain": [
       "<Figure size 432x288 with 1 Axes>"
      ]
     },
     "metadata": {
      "needs_background": "light"
     },
     "output_type": "display_data"
    }
   ],
   "source": [
    "sns.countplot(x='Sex', data= new_data);"
   ]
  },
  {
   "cell_type": "code",
   "execution_count": 6,
   "metadata": {},
   "outputs": [
    {
     "data": {
      "text/plain": [
       "0    424\n",
       "1    290\n",
       "Name: Survived, dtype: int64"
      ]
     },
     "execution_count": 6,
     "metadata": {},
     "output_type": "execute_result"
    }
   ],
   "source": [
    "x = new_data.drop('Survived', axis=1)\n",
    "y = new_data['Survived']\n",
    "y.value_counts()\n"
   ]
  },
  {
   "cell_type": "markdown",
   "metadata": {},
   "source": [
    "Como pode-se ver, infelizmente tem-se uma quantidade maior de casos 0 (pessoa não sobreviveu) do que 1 (pessoa sobreviveu), e isso fará com que a Árvore de Decisão fique melhor treinada para casos 0 do que 1, devido ao desbalanceamento dos casos."
   ]
  },
  {
   "cell_type": "markdown",
   "metadata": {},
   "source": [
    "#### Experimentos"
   ]
  },
  {
   "cell_type": "markdown",
   "metadata": {},
   "source": [
    "Primeiramente, configura-se a Árvore de Decisão com um conjunto de treinamento correspondendo a 50% das observações do banco de dados, e o resto das observações para o conjunto de teste, também é configurado a função como sendo a de Entropia e o número máximo de profundidade da árvore como 5:"
   ]
  },
  {
   "cell_type": "code",
   "execution_count": 7,
   "metadata": {},
   "outputs": [
    {
     "name": "stdout",
     "output_type": "stream",
     "text": [
      "0.8235294117647058\n",
      "              precision    recall  f1-score   support\n",
      "\n",
      "           0       0.83      0.89      0.86       211\n",
      "           1       0.82      0.73      0.77       146\n",
      "\n",
      "    accuracy                           0.82       357\n",
      "   macro avg       0.82      0.81      0.81       357\n",
      "weighted avg       0.82      0.82      0.82       357\n",
      "\n"
     ]
    }
   ],
   "source": [
    "x_train, x_val, y_train, y_val = train_test_split(x, y, train_size=0.5, random_state=1)\n",
    "tree = DecisionTreeClassifier(criterion='entropy', max_depth=5, max_leaf_nodes=None, min_samples_leaf=1, min_samples_split=2)\n",
    "tree.fit(x_train,y_train)\n",
    "predicted = tree.predict(x_val)\n",
    "a_s = accuracy_score(y_val, predicted)\n",
    "print(a_s)\n",
    "report = classification_report(y_val, predicted)\n",
    "print(report)"
   ]
  },
  {
   "cell_type": "markdown",
   "metadata": {},
   "source": [
    "Altera-se o número da profundidade da árvore para 10:"
   ]
  },
  {
   "cell_type": "code",
   "execution_count": 8,
   "metadata": {},
   "outputs": [
    {
     "name": "stdout",
     "output_type": "stream",
     "text": [
      "0.7843137254901961\n",
      "              precision    recall  f1-score   support\n",
      "\n",
      "           0       0.80      0.84      0.82       211\n",
      "           1       0.75      0.71      0.73       146\n",
      "\n",
      "    accuracy                           0.78       357\n",
      "   macro avg       0.78      0.77      0.77       357\n",
      "weighted avg       0.78      0.78      0.78       357\n",
      "\n"
     ]
    }
   ],
   "source": [
    "x_train, x_val, y_train, y_val = train_test_split(x, y, train_size=0.5, random_state=1)\n",
    "tree = DecisionTreeClassifier(criterion='entropy', max_depth=10, max_leaf_nodes=None, min_samples_leaf=1, min_samples_split=2)\n",
    "tree.fit(x_train,y_train)\n",
    "predicted = tree.predict(x_val)\n",
    "a_s = accuracy_score(y_val, predicted)\n",
    "print(a_s)\n",
    "report = classification_report(y_val, predicted)\n",
    "print(report)"
   ]
  },
  {
   "cell_type": "markdown",
   "metadata": {},
   "source": [
    "Altera-se o número da profundidade da árvore para 15:"
   ]
  },
  {
   "cell_type": "code",
   "execution_count": 9,
   "metadata": {},
   "outputs": [
    {
     "name": "stdout",
     "output_type": "stream",
     "text": [
      "0.7563025210084033\n",
      "              precision    recall  f1-score   support\n",
      "\n",
      "           0       0.80      0.78      0.79       211\n",
      "           1       0.69      0.73      0.71       146\n",
      "\n",
      "    accuracy                           0.76       357\n",
      "   macro avg       0.75      0.75      0.75       357\n",
      "weighted avg       0.76      0.76      0.76       357\n",
      "\n"
     ]
    }
   ],
   "source": [
    "x_train, x_val, y_train, y_val = train_test_split(x, y, train_size=0.5, random_state=1)\n",
    "tree = DecisionTreeClassifier(criterion='entropy', max_depth=15, max_leaf_nodes=None, min_samples_leaf=1, min_samples_split=2)\n",
    "tree.fit(x_train,y_train)\n",
    "predicted = tree.predict(x_val)\n",
    "a_s = accuracy_score(y_val, predicted)\n",
    "print(a_s)\n",
    "report = classification_report(y_val, predicted)\n",
    "print(report)"
   ]
  },
  {
   "cell_type": "markdown",
   "metadata": {},
   "source": [
    "Como pôde-se ver, uma maior profundidade da Árvore de Decisão resulta em uma menor *accuracy*, *precision* e *recall*."
   ]
  },
  {
   "cell_type": "markdown",
   "metadata": {},
   "source": [
    "Em seguida, altera-se a porcentagem do conjunto de treinamento para 75% do banco de dados, sendo o restante para o conjunto de teste:"
   ]
  },
  {
   "cell_type": "code",
   "execution_count": 10,
   "metadata": {},
   "outputs": [
    {
     "name": "stdout",
     "output_type": "stream",
     "text": [
      "0.8435754189944135\n",
      "              precision    recall  f1-score   support\n",
      "\n",
      "           0       0.82      0.96      0.89       112\n",
      "           1       0.91      0.64      0.75        67\n",
      "\n",
      "    accuracy                           0.84       179\n",
      "   macro avg       0.87      0.80      0.82       179\n",
      "weighted avg       0.85      0.84      0.84       179\n",
      "\n"
     ]
    }
   ],
   "source": [
    "x_train, x_val, y_train, y_val = train_test_split(x, y, train_size=0.75, random_state=1)\n",
    "tree = DecisionTreeClassifier(criterion='entropy', max_depth=5, max_leaf_nodes=None, min_samples_leaf=1, min_samples_split=2)\n",
    "tree.fit(x_train,y_train)\n",
    "predicted = tree.predict(x_val)\n",
    "a_s = accuracy_score(y_val, predicted)\n",
    "print(a_s)\n",
    "report = classification_report(y_val, predicted)\n",
    "print(report)"
   ]
  },
  {
   "cell_type": "markdown",
   "metadata": {},
   "source": [
    "Altera-se o número da profundidade da árvore para 4:"
   ]
  },
  {
   "cell_type": "code",
   "execution_count": 11,
   "metadata": {},
   "outputs": [
    {
     "name": "stdout",
     "output_type": "stream",
     "text": [
      "0.8491620111731844\n",
      "              precision    recall  f1-score   support\n",
      "\n",
      "           0       0.88      0.88      0.88       112\n",
      "           1       0.80      0.79      0.80        67\n",
      "\n",
      "    accuracy                           0.85       179\n",
      "   macro avg       0.84      0.84      0.84       179\n",
      "weighted avg       0.85      0.85      0.85       179\n",
      "\n"
     ]
    }
   ],
   "source": [
    "x_train, x_val, y_train, y_val = train_test_split(x, y, train_size=0.75, random_state=1)\n",
    "tree = DecisionTreeClassifier(criterion='entropy', max_depth=4, max_leaf_nodes=None, min_samples_leaf=1, min_samples_split=2)\n",
    "tree.fit(x_train,y_train)\n",
    "predicted = tree.predict(x_val)\n",
    "a_s = accuracy_score(y_val, predicted)\n",
    "print(a_s)\n",
    "report = classification_report(y_val, predicted)\n",
    "print(report)"
   ]
  },
  {
   "cell_type": "markdown",
   "metadata": {},
   "source": [
    "Altera-se a função para a Gini:"
   ]
  },
  {
   "cell_type": "code",
   "execution_count": 12,
   "metadata": {},
   "outputs": [
    {
     "name": "stdout",
     "output_type": "stream",
     "text": [
      "0.8547486033519553\n",
      "              precision    recall  f1-score   support\n",
      "\n",
      "           0       0.86      0.92      0.89       112\n",
      "           1       0.85      0.75      0.79        67\n",
      "\n",
      "    accuracy                           0.85       179\n",
      "   macro avg       0.85      0.83      0.84       179\n",
      "weighted avg       0.85      0.85      0.85       179\n",
      "\n"
     ]
    }
   ],
   "source": [
    "x_train, x_val, y_train, y_val = train_test_split(x, y, train_size=0.75, random_state=1)\n",
    "tree = DecisionTreeClassifier(max_depth=4, max_leaf_nodes=None, min_samples_leaf=1, min_samples_split=2)\n",
    "tree.fit(x_train,y_train)\n",
    "predicted = tree.predict(x_val)\n",
    "a_s = accuracy_score(y_val, predicted)\n",
    "print(a_s)\n",
    "report = classification_report(y_val, predicted)\n",
    "print(report)"
   ]
  },
  {
   "cell_type": "markdown",
   "metadata": {},
   "source": [
    "Nos próximos testes foi-se alterado o valor de *random_state* para variar a seleção dos casos para *x_train*, *x_test*, *y_train* e *y_test*."
   ]
  },
  {
   "cell_type": "code",
   "execution_count": 13,
   "metadata": {},
   "outputs": [
    {
     "name": "stdout",
     "output_type": "stream",
     "text": [
      "0.8044692737430168\n",
      "              precision    recall  f1-score   support\n",
      "\n",
      "           0       0.80      0.87      0.84       103\n",
      "           1       0.81      0.71      0.76        76\n",
      "\n",
      "    accuracy                           0.80       179\n",
      "   macro avg       0.80      0.79      0.80       179\n",
      "weighted avg       0.80      0.80      0.80       179\n",
      "\n"
     ]
    }
   ],
   "source": [
    "x_train, x_val, y_train, y_val = train_test_split(x, y, train_size=0.75, random_state=0)\n",
    "tree = DecisionTreeClassifier(max_depth=4, max_leaf_nodes=None, min_samples_leaf=1, min_samples_split=2)\n",
    "tree.fit(x_train,y_train)\n",
    "predicted = tree.predict(x_val)\n",
    "a_s = accuracy_score(y_val, predicted)\n",
    "print(a_s)\n",
    "report = classification_report(y_val, predicted)\n",
    "print(report)"
   ]
  },
  {
   "cell_type": "code",
   "execution_count": 14,
   "metadata": {},
   "outputs": [
    {
     "name": "stdout",
     "output_type": "stream",
     "text": [
      "0.7541899441340782\n",
      "              precision    recall  f1-score   support\n",
      "\n",
      "           0       0.80      0.77      0.78       103\n",
      "           1       0.70      0.74      0.72        76\n",
      "\n",
      "    accuracy                           0.75       179\n",
      "   macro avg       0.75      0.75      0.75       179\n",
      "weighted avg       0.76      0.75      0.75       179\n",
      "\n"
     ]
    }
   ],
   "source": [
    "x_train, x_val, y_train, y_val = train_test_split(x, y, train_size=0.75, random_state=25)\n",
    "tree = DecisionTreeClassifier(max_depth=4, max_leaf_nodes=None, min_samples_leaf=1, min_samples_split=2)\n",
    "tree.fit(x_train,y_train)\n",
    "predicted = tree.predict(x_val)\n",
    "a_s = accuracy_score(y_val, predicted)\n",
    "print(a_s)\n",
    "report = classification_report(y_val, predicted)\n",
    "print(report)"
   ]
  },
  {
   "cell_type": "code",
   "execution_count": 15,
   "metadata": {},
   "outputs": [
    {
     "name": "stdout",
     "output_type": "stream",
     "text": [
      "0.7932960893854749\n",
      "              precision    recall  f1-score   support\n",
      "\n",
      "           0       0.81      0.83      0.82       101\n",
      "           1       0.77      0.74      0.76        78\n",
      "\n",
      "    accuracy                           0.79       179\n",
      "   macro avg       0.79      0.79      0.79       179\n",
      "weighted avg       0.79      0.79      0.79       179\n",
      "\n"
     ]
    }
   ],
   "source": [
    "x_train, x_val, y_train, y_val = train_test_split(x, y, train_size=0.75, random_state=40)\n",
    "tree = DecisionTreeClassifier(max_depth=4, max_leaf_nodes=None, min_samples_leaf=1, min_samples_split=2)\n",
    "tree.fit(x_train,y_train)\n",
    "predicted = tree.predict(x_val)\n",
    "a_s = accuracy_score(y_val, predicted)\n",
    "print(a_s)\n",
    "report = classification_report(y_val, predicted)\n",
    "print(report)"
   ]
  },
  {
   "cell_type": "code",
   "execution_count": 16,
   "metadata": {},
   "outputs": [
    {
     "name": "stdout",
     "output_type": "stream",
     "text": [
      "0.8044692737430168\n",
      "              precision    recall  f1-score   support\n",
      "\n",
      "           0       0.78      0.91      0.84       103\n",
      "           1       0.85      0.66      0.74        76\n",
      "\n",
      "    accuracy                           0.80       179\n",
      "   macro avg       0.82      0.79      0.79       179\n",
      "weighted avg       0.81      0.80      0.80       179\n",
      "\n"
     ]
    }
   ],
   "source": [
    "x_train, x_val, y_train, y_val = train_test_split(x, y, train_size=0.75, random_state=13)\n",
    "tree = DecisionTreeClassifier(max_depth=4, max_leaf_nodes=None, min_samples_leaf=1, min_samples_split=2)\n",
    "tree.fit(x_train,y_train)\n",
    "predicted = tree.predict(x_val)\n",
    "a_s = accuracy_score(y_val, predicted)\n",
    "print(a_s)\n",
    "report = classification_report(y_val, predicted)\n",
    "print(report)"
   ]
  },
  {
   "cell_type": "markdown",
   "metadata": {},
   "source": [
    "O *random_state=1* mostrou os melhores resultados."
   ]
  },
  {
   "cell_type": "markdown",
   "metadata": {},
   "source": [
    "Altera-se a profundidade máxima da árvore para 5:"
   ]
  },
  {
   "cell_type": "code",
   "execution_count": 17,
   "metadata": {},
   "outputs": [
    {
     "name": "stdout",
     "output_type": "stream",
     "text": [
      "0.8547486033519553\n",
      "              precision    recall  f1-score   support\n",
      "\n",
      "           0       0.86      0.91      0.89       112\n",
      "           1       0.84      0.76      0.80        67\n",
      "\n",
      "    accuracy                           0.85       179\n",
      "   macro avg       0.85      0.84      0.84       179\n",
      "weighted avg       0.85      0.85      0.85       179\n",
      "\n"
     ]
    }
   ],
   "source": [
    "x_train, x_val, y_train, y_val = train_test_split(x, y, train_size=0.75, random_state=1)\n",
    "tree = DecisionTreeClassifier(max_depth=5, max_leaf_nodes=None, min_samples_leaf=1, min_samples_split=2)\n",
    "tree.fit(x_train,y_train)\n",
    "predicted = tree.predict(x_val)\n",
    "a_s = accuracy_score(y_val, predicted)\n",
    "print(a_s)\n",
    "report = classification_report(y_val, predicted)\n",
    "print(report)"
   ]
  },
  {
   "cell_type": "markdown",
   "metadata": {},
   "source": [
    "Como pôde-se ver, a melhor Árvore de Decisão que foi obtida foi a que teve os seguintes parâmetros: *train_size=0.75*, *random_state=1*, *max_depth=5* e *criterion=gini*."
   ]
  },
  {
   "cell_type": "markdown",
   "metadata": {},
   "source": [
    "Alteram-se os valores de *max_leaf_nodes* (número máximo de folhas), *min_samples_leaf* (número mínimo de amostras para o nó ser considerado uma folha) e *min_samples_split* (número mínimo de amostras para dividir um nó interno):"
   ]
  },
  {
   "cell_type": "code",
   "execution_count": 18,
   "metadata": {},
   "outputs": [
    {
     "name": "stdout",
     "output_type": "stream",
     "text": [
      "0.8212290502793296\n",
      "              precision    recall  f1-score   support\n",
      "\n",
      "           0       0.80      0.96      0.87       112\n",
      "           1       0.89      0.60      0.71        67\n",
      "\n",
      "    accuracy                           0.82       179\n",
      "   macro avg       0.84      0.78      0.79       179\n",
      "weighted avg       0.83      0.82      0.81       179\n",
      "\n"
     ]
    }
   ],
   "source": [
    "x_train, x_val, y_train, y_val = train_test_split(x, y, train_size=0.75, random_state=1)\n",
    "tree = DecisionTreeClassifier(max_depth=4, max_leaf_nodes=5, min_samples_leaf=1, min_samples_split=2)\n",
    "tree.fit(x_train,y_train)\n",
    "predicted = tree.predict(x_val)\n",
    "a_s = accuracy_score(y_val, predicted)\n",
    "print(a_s)\n",
    "report = classification_report(y_val, predicted)\n",
    "print(report)"
   ]
  },
  {
   "cell_type": "code",
   "execution_count": 19,
   "metadata": {},
   "outputs": [
    {
     "name": "stdout",
     "output_type": "stream",
     "text": [
      "0.8547486033519553\n",
      "              precision    recall  f1-score   support\n",
      "\n",
      "           0       0.86      0.92      0.89       112\n",
      "           1       0.85      0.75      0.79        67\n",
      "\n",
      "    accuracy                           0.85       179\n",
      "   macro avg       0.85      0.83      0.84       179\n",
      "weighted avg       0.85      0.85      0.85       179\n",
      "\n"
     ]
    }
   ],
   "source": [
    "x_train, x_val, y_train, y_val = train_test_split(x, y, train_size=0.75, random_state=1)\n",
    "tree = DecisionTreeClassifier(max_depth=4, max_leaf_nodes=10, min_samples_leaf=1, min_samples_split=2)\n",
    "tree.fit(x_train,y_train)\n",
    "predicted = tree.predict(x_val)\n",
    "a_s = accuracy_score(y_val, predicted)\n",
    "print(a_s)\n",
    "report = classification_report(y_val, predicted)\n",
    "print(report)"
   ]
  },
  {
   "cell_type": "code",
   "execution_count": 20,
   "metadata": {},
   "outputs": [
    {
     "name": "stdout",
     "output_type": "stream",
     "text": [
      "0.8547486033519553\n",
      "              precision    recall  f1-score   support\n",
      "\n",
      "           0       0.86      0.92      0.89       112\n",
      "           1       0.85      0.75      0.79        67\n",
      "\n",
      "    accuracy                           0.85       179\n",
      "   macro avg       0.85      0.83      0.84       179\n",
      "weighted avg       0.85      0.85      0.85       179\n",
      "\n"
     ]
    }
   ],
   "source": [
    "x_train, x_val, y_train, y_val = train_test_split(x, y, train_size=0.75, random_state=1)\n",
    "tree = DecisionTreeClassifier(max_depth=4, max_leaf_nodes=10, min_samples_leaf=5, min_samples_split=2)\n",
    "tree.fit(x_train,y_train)\n",
    "predicted = tree.predict(x_val)\n",
    "a_s = accuracy_score(y_val, predicted)\n",
    "print(a_s)\n",
    "report = classification_report(y_val, predicted)\n",
    "print(report)"
   ]
  },
  {
   "cell_type": "code",
   "execution_count": 21,
   "metadata": {},
   "outputs": [
    {
     "name": "stdout",
     "output_type": "stream",
     "text": [
      "0.8268156424581006\n",
      "              precision    recall  f1-score   support\n",
      "\n",
      "           0       0.85      0.88      0.86       112\n",
      "           1       0.78      0.75      0.76        67\n",
      "\n",
      "    accuracy                           0.83       179\n",
      "   macro avg       0.82      0.81      0.81       179\n",
      "weighted avg       0.83      0.83      0.83       179\n",
      "\n"
     ]
    }
   ],
   "source": [
    "x_train, x_val, y_train, y_val = train_test_split(x, y, train_size=0.75, random_state=1)\n",
    "tree = DecisionTreeClassifier(max_depth=4, max_leaf_nodes=10, min_samples_leaf=10, min_samples_split=2)\n",
    "tree.fit(x_train,y_train)\n",
    "predicted = tree.predict(x_val)\n",
    "a_s = accuracy_score(y_val, predicted)\n",
    "print(a_s)\n",
    "report = classification_report(y_val, predicted)\n",
    "print(report)"
   ]
  },
  {
   "cell_type": "code",
   "execution_count": 22,
   "metadata": {},
   "outputs": [
    {
     "name": "stdout",
     "output_type": "stream",
     "text": [
      "0.8547486033519553\n",
      "              precision    recall  f1-score   support\n",
      "\n",
      "           0       0.86      0.92      0.89       112\n",
      "           1       0.85      0.75      0.79        67\n",
      "\n",
      "    accuracy                           0.85       179\n",
      "   macro avg       0.85      0.83      0.84       179\n",
      "weighted avg       0.85      0.85      0.85       179\n",
      "\n"
     ]
    }
   ],
   "source": [
    "x_train, x_val, y_train, y_val = train_test_split(x, y, train_size=0.75, random_state=1)\n",
    "tree = DecisionTreeClassifier(max_depth=4, max_leaf_nodes=10, min_samples_leaf=1, min_samples_split=10)\n",
    "tree.fit(x_train,y_train)\n",
    "predicted = tree.predict(x_val)\n",
    "a_s = accuracy_score(y_val, predicted)\n",
    "print(a_s)\n",
    "report = classification_report(y_val, predicted)\n",
    "print(report)"
   ]
  },
  {
   "cell_type": "code",
   "execution_count": 23,
   "metadata": {},
   "outputs": [
    {
     "name": "stdout",
     "output_type": "stream",
     "text": [
      "0.8547486033519553\n",
      "              precision    recall  f1-score   support\n",
      "\n",
      "           0       0.86      0.92      0.89       112\n",
      "           1       0.85      0.75      0.79        67\n",
      "\n",
      "    accuracy                           0.85       179\n",
      "   macro avg       0.85      0.83      0.84       179\n",
      "weighted avg       0.85      0.85      0.85       179\n",
      "\n"
     ]
    }
   ],
   "source": [
    "x_train, x_val, y_train, y_val = train_test_split(x, y, train_size=0.75, random_state=1)\n",
    "tree = DecisionTreeClassifier(max_depth=4, max_leaf_nodes=10, min_samples_leaf=1, min_samples_split=15)\n",
    "tree.fit(x_train,y_train)\n",
    "predicted = tree.predict(x_val)\n",
    "a_s = accuracy_score(y_val, predicted)\n",
    "print(a_s)\n",
    "report = classification_report(y_val, predicted)\n",
    "print(report)"
   ]
  },
  {
   "cell_type": "markdown",
   "metadata": {},
   "source": [
    "Analisando-se os experimentos, pode-se ver que um aumento no *max_leaf_nodes* provoca uma melhora nos resultados, enquanto um aumento no *min_samples_leaf* provoca uma piora nos resultados, já a alteração em *min_samples_split* não provoca nenhuma mudança nos resultados."
   ]
  },
  {
   "cell_type": "markdown",
   "metadata": {},
   "source": [
    "### Utiliza-se uma nova base de dados:"
   ]
  },
  {
   "cell_type": "code",
   "execution_count": 24,
   "metadata": {},
   "outputs": [
    {
     "name": "stdout",
     "output_type": "stream",
     "text": [
      "<class 'pandas.core.frame.DataFrame'>\n",
      "Int64Index: 712 entries, 1 to 891\n",
      "Data columns (total 8 columns):\n",
      " #   Column    Non-Null Count  Dtype  \n",
      "---  ------    --------------  -----  \n",
      " 0   Pclass    712 non-null    int64  \n",
      " 1   Sex       712 non-null    int64  \n",
      " 2   Age       712 non-null    float64\n",
      " 3   SibSp     712 non-null    int64  \n",
      " 4   Parch     712 non-null    int64  \n",
      " 5   Fare      712 non-null    float64\n",
      " 6   Embarked  712 non-null    int64  \n",
      " 7   Survived  712 non-null    int64  \n",
      "dtypes: float64(2), int64(6)\n",
      "memory usage: 50.1 KB\n"
     ]
    },
    {
     "data": {
      "text/html": [
       "<div>\n",
       "<style scoped>\n",
       "    .dataframe tbody tr th:only-of-type {\n",
       "        vertical-align: middle;\n",
       "    }\n",
       "\n",
       "    .dataframe tbody tr th {\n",
       "        vertical-align: top;\n",
       "    }\n",
       "\n",
       "    .dataframe thead th {\n",
       "        text-align: right;\n",
       "    }\n",
       "</style>\n",
       "<table border=\"1\" class=\"dataframe\">\n",
       "  <thead>\n",
       "    <tr style=\"text-align: right;\">\n",
       "      <th></th>\n",
       "      <th>Pclass</th>\n",
       "      <th>Sex</th>\n",
       "      <th>Age</th>\n",
       "      <th>SibSp</th>\n",
       "      <th>Parch</th>\n",
       "      <th>Fare</th>\n",
       "      <th>Embarked</th>\n",
       "      <th>Survived</th>\n",
       "    </tr>\n",
       "    <tr>\n",
       "      <th>PassengerId</th>\n",
       "      <th></th>\n",
       "      <th></th>\n",
       "      <th></th>\n",
       "      <th></th>\n",
       "      <th></th>\n",
       "      <th></th>\n",
       "      <th></th>\n",
       "      <th></th>\n",
       "    </tr>\n",
       "  </thead>\n",
       "  <tbody>\n",
       "    <tr>\n",
       "      <th>1</th>\n",
       "      <td>3</td>\n",
       "      <td>0</td>\n",
       "      <td>22.0</td>\n",
       "      <td>1</td>\n",
       "      <td>0</td>\n",
       "      <td>7.2500</td>\n",
       "      <td>0</td>\n",
       "      <td>0</td>\n",
       "    </tr>\n",
       "    <tr>\n",
       "      <th>2</th>\n",
       "      <td>1</td>\n",
       "      <td>1</td>\n",
       "      <td>38.0</td>\n",
       "      <td>1</td>\n",
       "      <td>0</td>\n",
       "      <td>71.2833</td>\n",
       "      <td>1</td>\n",
       "      <td>1</td>\n",
       "    </tr>\n",
       "    <tr>\n",
       "      <th>3</th>\n",
       "      <td>3</td>\n",
       "      <td>1</td>\n",
       "      <td>26.0</td>\n",
       "      <td>0</td>\n",
       "      <td>0</td>\n",
       "      <td>7.9250</td>\n",
       "      <td>0</td>\n",
       "      <td>1</td>\n",
       "    </tr>\n",
       "    <tr>\n",
       "      <th>4</th>\n",
       "      <td>1</td>\n",
       "      <td>1</td>\n",
       "      <td>35.0</td>\n",
       "      <td>1</td>\n",
       "      <td>0</td>\n",
       "      <td>53.1000</td>\n",
       "      <td>0</td>\n",
       "      <td>1</td>\n",
       "    </tr>\n",
       "    <tr>\n",
       "      <th>5</th>\n",
       "      <td>3</td>\n",
       "      <td>0</td>\n",
       "      <td>35.0</td>\n",
       "      <td>0</td>\n",
       "      <td>0</td>\n",
       "      <td>8.0500</td>\n",
       "      <td>0</td>\n",
       "      <td>0</td>\n",
       "    </tr>\n",
       "  </tbody>\n",
       "</table>\n",
       "</div>"
      ],
      "text/plain": [
       "             Pclass  Sex   Age  SibSp  Parch     Fare  Embarked  Survived\n",
       "PassengerId                                                              \n",
       "1                 3    0  22.0      1      0   7.2500         0         0\n",
       "2                 1    1  38.0      1      0  71.2833         1         1\n",
       "3                 3    1  26.0      0      0   7.9250         0         1\n",
       "4                 1    1  35.0      1      0  53.1000         0         1\n",
       "5                 3    0  35.0      0      0   8.0500         0         0"
      ]
     },
     "execution_count": 24,
     "metadata": {},
     "output_type": "execute_result"
    }
   ],
   "source": [
    "new_data2 = data[['Pclass', 'Sex', 'Age', 'SibSp', 'Parch', 'Fare', 'Embarked', 'Survived']]\n",
    "new_data2 = new_data2.dropna()\n",
    "new_data2['Sex'].replace(['female','male'],[1,0],inplace=True)\n",
    "new_data2['Embarked'].replace(['S','C', 'Q'],[0,1,2],inplace=True)\n",
    "new_data2.info()\n",
    "new_data2.head()"
   ]
  },
  {
   "cell_type": "code",
   "execution_count": 67,
   "metadata": {},
   "outputs": [
    {
     "data": {
      "image/png": "[encoded data removed]",
      "text/plain": [
       "<Figure size 432x288 with 1 Axes>"
      ]
     },
     "metadata": {
      "needs_background": "light"
     },
     "output_type": "display_data"
    }
   ],
   "source": [
    "sns.countplot(x='Sex', data= new_data2);"
   ]
  },
  {
   "cell_type": "code",
   "execution_count": 25,
   "metadata": {},
   "outputs": [],
   "source": [
    "x = new_data2.drop('Survived', axis=1)\n",
    "y = new_data2['Survived']"
   ]
  },
  {
   "cell_type": "markdown",
   "metadata": {},
   "source": [
    "#### Experimentos"
   ]
  },
  {
   "cell_type": "code",
   "execution_count": 26,
   "metadata": {},
   "outputs": [
    {
     "name": "stdout",
     "output_type": "stream",
     "text": [
      "0.7921348314606742\n",
      "              precision    recall  f1-score   support\n",
      "\n",
      "           0       0.78      0.88      0.83       102\n",
      "           1       0.81      0.67      0.73        76\n",
      "\n",
      "    accuracy                           0.79       178\n",
      "   macro avg       0.80      0.78      0.78       178\n",
      "weighted avg       0.79      0.79      0.79       178\n",
      "\n"
     ]
    }
   ],
   "source": [
    "x_train, x_val, y_train, y_val = train_test_split(x, y, train_size=0.75, random_state=1)\n",
    "tree = DecisionTreeClassifier(max_depth=4, max_leaf_nodes=None, min_samples_leaf=1, min_samples_split=2)\n",
    "tree.fit(x_train,y_train)\n",
    "predicted = tree.predict(x_val)\n",
    "a_s = accuracy_score(y_val, predicted)\n",
    "print(a_s)\n",
    "report = classification_report(y_val, predicted)\n",
    "print(report)"
   ]
  },
  {
   "cell_type": "markdown",
   "metadata": {},
   "source": [
    "Alteram-se os valores de *random_state* :"
   ]
  },
  {
   "cell_type": "code",
   "execution_count": 27,
   "metadata": {},
   "outputs": [
    {
     "name": "stdout",
     "output_type": "stream",
     "text": [
      "0.8033707865168539\n",
      "              precision    recall  f1-score   support\n",
      "\n",
      "           0       0.81      0.88      0.84       104\n",
      "           1       0.80      0.70      0.75        74\n",
      "\n",
      "    accuracy                           0.80       178\n",
      "   macro avg       0.80      0.79      0.79       178\n",
      "weighted avg       0.80      0.80      0.80       178\n",
      "\n"
     ]
    }
   ],
   "source": [
    "x_train, x_val, y_train, y_val = train_test_split(x, y, train_size=0.75, random_state=0)\n",
    "tree = DecisionTreeClassifier(max_depth=4, max_leaf_nodes=None, min_samples_leaf=1, min_samples_split=2)\n",
    "tree.fit(x_train,y_train)\n",
    "predicted = tree.predict(x_val)\n",
    "a_s = accuracy_score(y_val, predicted)\n",
    "print(a_s)\n",
    "report = classification_report(y_val, predicted)\n",
    "print(report)"
   ]
  },
  {
   "cell_type": "code",
   "execution_count": 28,
   "metadata": {},
   "outputs": [
    {
     "name": "stdout",
     "output_type": "stream",
     "text": [
      "0.8033707865168539\n",
      "              precision    recall  f1-score   support\n",
      "\n",
      "           0       0.86      0.81      0.83       108\n",
      "           1       0.73      0.80      0.76        70\n",
      "\n",
      "    accuracy                           0.80       178\n",
      "   macro avg       0.79      0.80      0.80       178\n",
      "weighted avg       0.81      0.80      0.80       178\n",
      "\n"
     ]
    }
   ],
   "source": [
    "x_train, x_val, y_train, y_val = train_test_split(x, y, train_size=0.75, random_state=13)\n",
    "tree = DecisionTreeClassifier(max_depth=4, max_leaf_nodes=None, min_samples_leaf=1, min_samples_split=2)\n",
    "tree.fit(x_train,y_train)\n",
    "predicted = tree.predict(x_val)\n",
    "a_s = accuracy_score(y_val, predicted)\n",
    "print(a_s)\n",
    "report = classification_report(y_val, predicted)\n",
    "print(report)"
   ]
  },
  {
   "cell_type": "code",
   "execution_count": 29,
   "metadata": {},
   "outputs": [
    {
     "name": "stdout",
     "output_type": "stream",
     "text": [
      "0.7865168539325843\n",
      "              precision    recall  f1-score   support\n",
      "\n",
      "           0       0.78      0.92      0.84       110\n",
      "           1       0.81      0.57      0.67        68\n",
      "\n",
      "    accuracy                           0.79       178\n",
      "   macro avg       0.79      0.75      0.76       178\n",
      "weighted avg       0.79      0.79      0.78       178\n",
      "\n"
     ]
    }
   ],
   "source": [
    "x_train, x_val, y_train, y_val = train_test_split(x, y, train_size=0.75, random_state=40)\n",
    "tree = DecisionTreeClassifier(max_depth=4, max_leaf_nodes=None, min_samples_leaf=1, min_samples_split=2)\n",
    "tree.fit(x_train,y_train)\n",
    "predicted = tree.predict(x_val)\n",
    "a_s = accuracy_score(y_val, predicted)\n",
    "print(a_s)\n",
    "report = classification_report(y_val, predicted)\n",
    "print(report)"
   ]
  },
  {
   "cell_type": "markdown",
   "metadata": {},
   "source": [
    "Altera-se a função para Entropia:"
   ]
  },
  {
   "cell_type": "code",
   "execution_count": 30,
   "metadata": {},
   "outputs": [
    {
     "name": "stdout",
     "output_type": "stream",
     "text": [
      "0.7921348314606742\n",
      "              precision    recall  f1-score   support\n",
      "\n",
      "           0       0.78      0.90      0.84       104\n",
      "           1       0.82      0.64      0.72        74\n",
      "\n",
      "    accuracy                           0.79       178\n",
      "   macro avg       0.80      0.77      0.78       178\n",
      "weighted avg       0.80      0.79      0.79       178\n",
      "\n"
     ]
    }
   ],
   "source": [
    "x_train, x_val, y_train, y_val = train_test_split(x, y, train_size=0.75, random_state=0)\n",
    "tree = DecisionTreeClassifier(criterion='entropy', max_depth=4, max_leaf_nodes=None, min_samples_leaf=1, min_samples_split=2)\n",
    "tree.fit(x_train,y_train)\n",
    "predicted = tree.predict(x_val)\n",
    "a_s = accuracy_score(y_val, predicted)\n",
    "print(a_s)\n",
    "report = classification_report(y_val, predicted)\n",
    "print(report)"
   ]
  },
  {
   "cell_type": "markdown",
   "metadata": {},
   "source": [
    "Conclui-se que o uso de um novo banco de dados não trouxe melhoras nos resultados obtidos."
   ]
  },
  {
   "cell_type": "markdown",
   "metadata": {},
   "source": [
    "### Utiliza-se uma base de dados balanciada por replicação:"
   ]
  },
  {
   "cell_type": "markdown",
   "metadata": {},
   "source": [
    "Como a base de dados é desbalanceada, podemos tentar um balanceamento na base antes de testar, inicialmente repetiremos os primeiros experimentos com uma base de dados balanceada a partir de repetição de dados que faltam."
   ]
  },
  {
   "cell_type": "code",
   "execution_count": 31,
   "metadata": {},
   "outputs": [
    {
     "name": "stdout",
     "output_type": "stream",
     "text": [
      "<class 'pandas.core.frame.DataFrame'>\n",
      "Int64Index: 895 entries, 0 to 1097\n",
      "Data columns (total 7 columns):\n",
      " #   Column    Non-Null Count  Dtype  \n",
      "---  ------    --------------  -----  \n",
      " 0   Pclass    895 non-null    int64  \n",
      " 1   Sex       895 non-null    int64  \n",
      " 2   Age       895 non-null    float64\n",
      " 3   SibSp     895 non-null    int64  \n",
      " 4   Parch     895 non-null    int64  \n",
      " 5   Fare      895 non-null    float64\n",
      " 6   Survived  895 non-null    int64  \n",
      "dtypes: float64(2), int64(5)\n",
      "memory usage: 55.9 KB\n"
     ]
    },
    {
     "data": {
      "text/html": [
       "<div>\n",
       "<style scoped>\n",
       "    .dataframe tbody tr th:only-of-type {\n",
       "        vertical-align: middle;\n",
       "    }\n",
       "\n",
       "    .dataframe tbody tr th {\n",
       "        vertical-align: top;\n",
       "    }\n",
       "\n",
       "    .dataframe thead th {\n",
       "        text-align: right;\n",
       "    }\n",
       "</style>\n",
       "<table border=\"1\" class=\"dataframe\">\n",
       "  <thead>\n",
       "    <tr style=\"text-align: right;\">\n",
       "      <th></th>\n",
       "      <th>Pclass</th>\n",
       "      <th>Sex</th>\n",
       "      <th>Age</th>\n",
       "      <th>SibSp</th>\n",
       "      <th>Parch</th>\n",
       "      <th>Fare</th>\n",
       "      <th>Survived</th>\n",
       "    </tr>\n",
       "  </thead>\n",
       "  <tbody>\n",
       "    <tr>\n",
       "      <th>0</th>\n",
       "      <td>3</td>\n",
       "      <td>0</td>\n",
       "      <td>22.0</td>\n",
       "      <td>1</td>\n",
       "      <td>0</td>\n",
       "      <td>7.2500</td>\n",
       "      <td>0</td>\n",
       "    </tr>\n",
       "    <tr>\n",
       "      <th>1</th>\n",
       "      <td>3</td>\n",
       "      <td>0</td>\n",
       "      <td>32.0</td>\n",
       "      <td>0</td>\n",
       "      <td>0</td>\n",
       "      <td>7.8958</td>\n",
       "      <td>0</td>\n",
       "    </tr>\n",
       "    <tr>\n",
       "      <th>2</th>\n",
       "      <td>3</td>\n",
       "      <td>0</td>\n",
       "      <td>22.0</td>\n",
       "      <td>0</td>\n",
       "      <td>0</td>\n",
       "      <td>7.8958</td>\n",
       "      <td>0</td>\n",
       "    </tr>\n",
       "    <tr>\n",
       "      <th>5</th>\n",
       "      <td>3</td>\n",
       "      <td>0</td>\n",
       "      <td>40.5</td>\n",
       "      <td>0</td>\n",
       "      <td>0</td>\n",
       "      <td>7.7500</td>\n",
       "      <td>0</td>\n",
       "    </tr>\n",
       "    <tr>\n",
       "      <th>7</th>\n",
       "      <td>3</td>\n",
       "      <td>0</td>\n",
       "      <td>39.0</td>\n",
       "      <td>0</td>\n",
       "      <td>0</td>\n",
       "      <td>7.9250</td>\n",
       "      <td>0</td>\n",
       "    </tr>\n",
       "  </tbody>\n",
       "</table>\n",
       "</div>"
      ],
      "text/plain": [
       "   Pclass  Sex   Age  SibSp  Parch    Fare  Survived\n",
       "0       3    0  22.0      1      0  7.2500         0\n",
       "1       3    0  32.0      0      0  7.8958         0\n",
       "2       3    0  22.0      0      0  7.8958         0\n",
       "5       3    0  40.5      0      0  7.7500         0\n",
       "7       3    0  39.0      0      0  7.9250         0"
      ]
     },
     "execution_count": 31,
     "metadata": {},
     "output_type": "execute_result"
    }
   ],
   "source": [
    "new_data3 = data[['Pclass', 'Sex', 'Age', 'SibSp', 'Parch', 'Fare', 'Survived']].sort_values(by= ['Survived'])\n",
    "\n",
    "new_data3['Sex'].replace(['female','male'],[1,0],inplace=True)\n",
    "\n",
    "new_data4 = new_data3.copy()\n",
    "\n",
    "\n",
    "toomany1 = 0\n",
    "for i in range(891):\n",
    "    s = new_data3['Survived']\n",
    "    if(s[i+1] == 0):\n",
    "        new_data3.drop((i+1),axis=0,inplace=True)\n",
    "    elif(s[i+1] == 1 and toomany1 < 135):\n",
    "        new_data3.drop((i+1),axis=0,inplace=True)\n",
    "        toomany1 = toomany1 + 1\n",
    "    \n",
    "new_data4 = new_data4.append(new_data3, ignore_index=True)\n",
    "\n",
    "new_data4 = new_data4.dropna()\n",
    "new_data4.info()\n",
    "new_data4.head()\n"
   ]
  },
  {
   "cell_type": "code",
   "execution_count": 68,
   "metadata": {},
   "outputs": [
    {
     "data": {
      "image/png": "[encoded data removed]",
      "text/plain": [
       "<Figure size 432x288 with 1 Axes>"
      ]
     },
     "metadata": {
      "needs_background": "light"
     },
     "output_type": "display_data"
    }
   ],
   "source": [
    "sns.countplot(x='Sex', data= new_data4);"
   ]
  },
  {
   "cell_type": "code",
   "execution_count": 32,
   "metadata": {},
   "outputs": [],
   "source": [
    "x = new_data4.drop('Survived', axis=1)\n",
    "y = new_data4['Survived']"
   ]
  },
  {
   "cell_type": "markdown",
   "metadata": {},
   "source": [
    "#### Experimentos [Dataset balanceado através da replicação de casos 1]"
   ]
  },
  {
   "cell_type": "markdown",
   "metadata": {},
   "source": [
    "Refazemos os experimentos utilizando o dataset balanceado"
   ]
  },
  {
   "cell_type": "code",
   "execution_count": 33,
   "metadata": {},
   "outputs": [
    {
     "name": "stdout",
     "output_type": "stream",
     "text": [
      "0.8660714285714286\n",
      "              precision    recall  f1-score   support\n",
      "\n",
      "           0       0.85      0.85      0.85       102\n",
      "           1       0.88      0.88      0.88       122\n",
      "\n",
      "    accuracy                           0.87       224\n",
      "   macro avg       0.86      0.86      0.86       224\n",
      "weighted avg       0.87      0.87      0.87       224\n",
      "\n"
     ]
    }
   ],
   "source": [
    "x_train, x_val, y_train, y_val = train_test_split(x, y, train_size=0.75, random_state=1)\n",
    "tree = DecisionTreeClassifier(max_depth=4, max_leaf_nodes=None, min_samples_leaf=1, min_samples_split=2)\n",
    "tree.fit(x_train,y_train)\n",
    "predicted = tree.predict(x_val)\n",
    "a_s = accuracy_score(y_val, predicted)\n",
    "print(a_s)\n",
    "report = classification_report(y_val, predicted)\n",
    "print(report)"
   ]
  },
  {
   "cell_type": "markdown",
   "metadata": {},
   "source": [
    "Alteram-se os valores de *random_state* :"
   ]
  },
  {
   "cell_type": "code",
   "execution_count": 34,
   "metadata": {},
   "outputs": [
    {
     "name": "stdout",
     "output_type": "stream",
     "text": [
      "0.8214285714285714\n",
      "              precision    recall  f1-score   support\n",
      "\n",
      "           0       0.82      0.81      0.81       109\n",
      "           1       0.82      0.83      0.83       115\n",
      "\n",
      "    accuracy                           0.82       224\n",
      "   macro avg       0.82      0.82      0.82       224\n",
      "weighted avg       0.82      0.82      0.82       224\n",
      "\n"
     ]
    }
   ],
   "source": [
    "x_train, x_val, y_train, y_val = train_test_split(x, y, train_size=0.75, random_state=0)\n",
    "tree = DecisionTreeClassifier(max_depth=4, max_leaf_nodes=None, min_samples_leaf=1, min_samples_split=2)\n",
    "tree.fit(x_train,y_train)\n",
    "predicted = tree.predict(x_val)\n",
    "a_s = accuracy_score(y_val, predicted)\n",
    "print(a_s)\n",
    "report = classification_report(y_val, predicted)\n",
    "print(report)"
   ]
  },
  {
   "cell_type": "code",
   "execution_count": 35,
   "metadata": {},
   "outputs": [
    {
     "name": "stdout",
     "output_type": "stream",
     "text": [
      "0.78125\n",
      "              precision    recall  f1-score   support\n",
      "\n",
      "           0       0.75      0.82      0.78       108\n",
      "           1       0.82      0.74      0.78       116\n",
      "\n",
      "    accuracy                           0.78       224\n",
      "   macro avg       0.78      0.78      0.78       224\n",
      "weighted avg       0.78      0.78      0.78       224\n",
      "\n"
     ]
    }
   ],
   "source": [
    "x_train, x_val, y_train, y_val = train_test_split(x, y, train_size=0.75, random_state=13)\n",
    "tree = DecisionTreeClassifier(max_depth=4, max_leaf_nodes=None, min_samples_leaf=1, min_samples_split=2)\n",
    "tree.fit(x_train,y_train)\n",
    "predicted = tree.predict(x_val)\n",
    "a_s = accuracy_score(y_val, predicted)\n",
    "print(a_s)\n",
    "report = classification_report(y_val, predicted)\n",
    "print(report)"
   ]
  },
  {
   "cell_type": "code",
   "execution_count": 36,
   "metadata": {},
   "outputs": [
    {
     "name": "stdout",
     "output_type": "stream",
     "text": [
      "0.7901785714285714\n",
      "              precision    recall  f1-score   support\n",
      "\n",
      "           0       0.77      0.80      0.78       106\n",
      "           1       0.81      0.78      0.80       118\n",
      "\n",
      "    accuracy                           0.79       224\n",
      "   macro avg       0.79      0.79      0.79       224\n",
      "weighted avg       0.79      0.79      0.79       224\n",
      "\n"
     ]
    }
   ],
   "source": [
    "x_train, x_val, y_train, y_val = train_test_split(x, y, train_size=0.75, random_state=40)\n",
    "tree = DecisionTreeClassifier(max_depth=4, max_leaf_nodes=None, min_samples_leaf=1, min_samples_split=2)\n",
    "tree.fit(x_train,y_train)\n",
    "predicted = tree.predict(x_val)\n",
    "a_s = accuracy_score(y_val, predicted)\n",
    "print(a_s)\n",
    "report = classification_report(y_val, predicted)\n",
    "print(report)"
   ]
  },
  {
   "cell_type": "markdown",
   "metadata": {},
   "source": [
    "Altera-se a função para Entropia:"
   ]
  },
  {
   "cell_type": "code",
   "execution_count": 37,
   "metadata": {},
   "outputs": [
    {
     "name": "stdout",
     "output_type": "stream",
     "text": [
      "0.8303571428571429\n",
      "              precision    recall  f1-score   support\n",
      "\n",
      "           0       0.77      0.94      0.84       109\n",
      "           1       0.92      0.73      0.82       115\n",
      "\n",
      "    accuracy                           0.83       224\n",
      "   macro avg       0.84      0.83      0.83       224\n",
      "weighted avg       0.85      0.83      0.83       224\n",
      "\n"
     ]
    }
   ],
   "source": [
    "x_train, x_val, y_train, y_val = train_test_split(x, y, train_size=0.75, random_state=0)\n",
    "tree = DecisionTreeClassifier(criterion='entropy', max_depth=4, max_leaf_nodes=None, min_samples_leaf=1, min_samples_split=2)\n",
    "tree.fit(x_train,y_train)\n",
    "predicted = tree.predict(x_val)\n",
    "a_s = accuracy_score(y_val, predicted)\n",
    "print(a_s)\n",
    "report = classification_report(y_val, predicted)\n",
    "print(report)"
   ]
  },
  {
   "cell_type": "markdown",
   "metadata": {},
   "source": [
    "Nota-se algumas mudanças, os resultados tendem a melhorar quando comparado com seus semelhantes não-balanceados, porém é uma melhora pequena."
   ]
  },
  {
   "cell_type": "markdown",
   "metadata": {},
   "source": [
    "### Utiliza-se uma base de dados balanciada por remoção:"
   ]
  },
  {
   "cell_type": "markdown",
   "metadata": {},
   "source": [
    "Agora fazemos um novo dataset balanceado, dessa vez nos removeremos dados com 'Survived' == 0 até que o dataset fique igual"
   ]
  },
  {
   "cell_type": "code",
   "execution_count": 38,
   "metadata": {},
   "outputs": [
    {
     "name": "stdout",
     "output_type": "stream",
     "text": [
      "<class 'pandas.core.frame.DataFrame'>\n",
      "Int64Index: 605 entries, 520 to 446\n",
      "Data columns (total 7 columns):\n",
      " #   Column    Non-Null Count  Dtype  \n",
      "---  ------    --------------  -----  \n",
      " 0   Pclass    605 non-null    int64  \n",
      " 1   Sex       605 non-null    int64  \n",
      " 2   Age       605 non-null    float64\n",
      " 3   SibSp     605 non-null    int64  \n",
      " 4   Parch     605 non-null    int64  \n",
      " 5   Fare      605 non-null    float64\n",
      " 6   Survived  605 non-null    int64  \n",
      "dtypes: float64(2), int64(5)\n",
      "memory usage: 37.8 KB\n"
     ]
    },
    {
     "data": {
      "text/html": [
       "<div>\n",
       "<style scoped>\n",
       "    .dataframe tbody tr th:only-of-type {\n",
       "        vertical-align: middle;\n",
       "    }\n",
       "\n",
       "    .dataframe tbody tr th {\n",
       "        vertical-align: top;\n",
       "    }\n",
       "\n",
       "    .dataframe thead th {\n",
       "        text-align: right;\n",
       "    }\n",
       "</style>\n",
       "<table border=\"1\" class=\"dataframe\">\n",
       "  <thead>\n",
       "    <tr style=\"text-align: right;\">\n",
       "      <th></th>\n",
       "      <th>Pclass</th>\n",
       "      <th>Sex</th>\n",
       "      <th>Age</th>\n",
       "      <th>SibSp</th>\n",
       "      <th>Parch</th>\n",
       "      <th>Fare</th>\n",
       "      <th>Survived</th>\n",
       "    </tr>\n",
       "    <tr>\n",
       "      <th>PassengerId</th>\n",
       "      <th></th>\n",
       "      <th></th>\n",
       "      <th></th>\n",
       "      <th></th>\n",
       "      <th></th>\n",
       "      <th></th>\n",
       "      <th></th>\n",
       "    </tr>\n",
       "  </thead>\n",
       "  <tbody>\n",
       "    <tr>\n",
       "      <th>520</th>\n",
       "      <td>3</td>\n",
       "      <td>0</td>\n",
       "      <td>32.0</td>\n",
       "      <td>0</td>\n",
       "      <td>0</td>\n",
       "      <td>7.8958</td>\n",
       "      <td>0</td>\n",
       "    </tr>\n",
       "    <tr>\n",
       "      <th>522</th>\n",
       "      <td>3</td>\n",
       "      <td>0</td>\n",
       "      <td>22.0</td>\n",
       "      <td>0</td>\n",
       "      <td>0</td>\n",
       "      <td>7.8958</td>\n",
       "      <td>0</td>\n",
       "    </tr>\n",
       "    <tr>\n",
       "      <th>526</th>\n",
       "      <td>3</td>\n",
       "      <td>0</td>\n",
       "      <td>40.5</td>\n",
       "      <td>0</td>\n",
       "      <td>0</td>\n",
       "      <td>7.7500</td>\n",
       "      <td>0</td>\n",
       "    </tr>\n",
       "    <tr>\n",
       "      <th>529</th>\n",
       "      <td>3</td>\n",
       "      <td>0</td>\n",
       "      <td>39.0</td>\n",
       "      <td>0</td>\n",
       "      <td>0</td>\n",
       "      <td>7.9250</td>\n",
       "      <td>0</td>\n",
       "    </tr>\n",
       "    <tr>\n",
       "      <th>530</th>\n",
       "      <td>2</td>\n",
       "      <td>0</td>\n",
       "      <td>23.0</td>\n",
       "      <td>2</td>\n",
       "      <td>1</td>\n",
       "      <td>11.5000</td>\n",
       "      <td>0</td>\n",
       "    </tr>\n",
       "  </tbody>\n",
       "</table>\n",
       "</div>"
      ],
      "text/plain": [
       "             Pclass  Sex   Age  SibSp  Parch     Fare  Survived\n",
       "PassengerId                                                    \n",
       "520               3    0  32.0      0      0   7.8958         0\n",
       "522               3    0  22.0      0      0   7.8958         0\n",
       "526               3    0  40.5      0      0   7.7500         0\n",
       "529               3    0  39.0      0      0   7.9250         0\n",
       "530               2    0  23.0      2      1  11.5000         0"
      ]
     },
     "execution_count": 38,
     "metadata": {},
     "output_type": "execute_result"
    }
   ],
   "source": [
    "new_data5 = data[['Pclass', 'Sex', 'Age', 'SibSp', 'Parch', 'Fare', 'Survived']].sort_values(by= ['Survived'])\n",
    "\n",
    "new_data5['Sex'].replace(['female','male'],[1,0],inplace=True)\n",
    "\n",
    "\n",
    "toomany0 = 0\n",
    "for i in range(891):\n",
    "    s = new_data5['Survived']\n",
    "    if(s[i+1] == 0 and toomany0 < 135):\n",
    "        new_data5.drop((i+1),axis=0,inplace=True)\n",
    "        toomany0 = toomany0 + 1\n",
    "    \n",
    "new_data5 = new_data5.dropna()\n",
    "new_data5.info()\n",
    "new_data5.head()"
   ]
  },
  {
   "cell_type": "code",
   "execution_count": 69,
   "metadata": {},
   "outputs": [
    {
     "data": {
      "image/png": "[encoded data removed]",
      "text/plain": [
       "<Figure size 432x288 with 1 Axes>"
      ]
     },
     "metadata": {
      "needs_background": "light"
     },
     "output_type": "display_data"
    }
   ],
   "source": [
    "sns.countplot(x='Sex', data= new_data5);"
   ]
  },
  {
   "cell_type": "code",
   "execution_count": 39,
   "metadata": {},
   "outputs": [],
   "source": [
    "x = new_data5.drop('Survived', axis=1)\n",
    "y = new_data5['Survived']"
   ]
  },
  {
   "cell_type": "markdown",
   "metadata": {},
   "source": [
    "#### Experimentos [Dataset balanceado através da remoção de casos 0]"
   ]
  },
  {
   "cell_type": "markdown",
   "metadata": {},
   "source": [
    "Refazemos os experimentos utilizando o este dataset"
   ]
  },
  {
   "cell_type": "code",
   "execution_count": 40,
   "metadata": {},
   "outputs": [
    {
     "name": "stdout",
     "output_type": "stream",
     "text": [
      "0.7894736842105263\n",
      "              precision    recall  f1-score   support\n",
      "\n",
      "           0       0.85      0.72      0.78        80\n",
      "           1       0.74      0.86      0.79        72\n",
      "\n",
      "    accuracy                           0.79       152\n",
      "   macro avg       0.80      0.79      0.79       152\n",
      "weighted avg       0.80      0.79      0.79       152\n",
      "\n"
     ]
    }
   ],
   "source": [
    "x_train, x_val, y_train, y_val = train_test_split(x, y, train_size=0.75, random_state=1)\n",
    "tree = DecisionTreeClassifier(max_depth=4, max_leaf_nodes=None, min_samples_leaf=1, min_samples_split=2)\n",
    "tree.fit(x_train,y_train)\n",
    "predicted = tree.predict(x_val)\n",
    "a_s = accuracy_score(y_val, predicted)\n",
    "print(a_s)\n",
    "report = classification_report(y_val, predicted)\n",
    "print(report)"
   ]
  },
  {
   "cell_type": "markdown",
   "metadata": {},
   "source": [
    "Alteram-se os valores de *random_state* :"
   ]
  },
  {
   "cell_type": "code",
   "execution_count": 41,
   "metadata": {},
   "outputs": [
    {
     "name": "stdout",
     "output_type": "stream",
     "text": [
      "0.7697368421052632\n",
      "              precision    recall  f1-score   support\n",
      "\n",
      "           0       0.82      0.71      0.76        78\n",
      "           1       0.73      0.84      0.78        74\n",
      "\n",
      "    accuracy                           0.77       152\n",
      "   macro avg       0.78      0.77      0.77       152\n",
      "weighted avg       0.78      0.77      0.77       152\n",
      "\n"
     ]
    }
   ],
   "source": [
    "x_train, x_val, y_train, y_val = train_test_split(x, y, train_size=0.75, random_state=0)\n",
    "tree = DecisionTreeClassifier(max_depth=4, max_leaf_nodes=None, min_samples_leaf=1, min_samples_split=2)\n",
    "tree.fit(x_train,y_train)\n",
    "predicted = tree.predict(x_val)\n",
    "a_s = accuracy_score(y_val, predicted)\n",
    "print(a_s)\n",
    "report = classification_report(y_val, predicted)\n",
    "print(report)"
   ]
  },
  {
   "cell_type": "code",
   "execution_count": 42,
   "metadata": {},
   "outputs": [
    {
     "name": "stdout",
     "output_type": "stream",
     "text": [
      "0.7960526315789473\n",
      "              precision    recall  f1-score   support\n",
      "\n",
      "           0       0.81      0.82      0.82        84\n",
      "           1       0.78      0.76      0.77        68\n",
      "\n",
      "    accuracy                           0.80       152\n",
      "   macro avg       0.79      0.79      0.79       152\n",
      "weighted avg       0.80      0.80      0.80       152\n",
      "\n"
     ]
    }
   ],
   "source": [
    "x_train, x_val, y_train, y_val = train_test_split(x, y, train_size=0.75, random_state=13)\n",
    "tree = DecisionTreeClassifier(max_depth=4, max_leaf_nodes=None, min_samples_leaf=1, min_samples_split=2)\n",
    "tree.fit(x_train,y_train)\n",
    "predicted = tree.predict(x_val)\n",
    "a_s = accuracy_score(y_val, predicted)\n",
    "print(a_s)\n",
    "report = classification_report(y_val, predicted)\n",
    "print(report)"
   ]
  },
  {
   "cell_type": "code",
   "execution_count": 43,
   "metadata": {},
   "outputs": [
    {
     "name": "stdout",
     "output_type": "stream",
     "text": [
      "0.7828947368421053\n",
      "              precision    recall  f1-score   support\n",
      "\n",
      "           0       0.85      0.76      0.80        87\n",
      "           1       0.72      0.82      0.76        65\n",
      "\n",
      "    accuracy                           0.78       152\n",
      "   macro avg       0.78      0.79      0.78       152\n",
      "weighted avg       0.79      0.78      0.78       152\n",
      "\n"
     ]
    }
   ],
   "source": [
    "x_train, x_val, y_train, y_val = train_test_split(x, y, train_size=0.75, random_state=40)\n",
    "tree = DecisionTreeClassifier(max_depth=4, max_leaf_nodes=None, min_samples_leaf=1, min_samples_split=2)\n",
    "tree.fit(x_train,y_train)\n",
    "predicted = tree.predict(x_val)\n",
    "a_s = accuracy_score(y_val, predicted)\n",
    "print(a_s)\n",
    "report = classification_report(y_val, predicted)\n",
    "print(report)"
   ]
  },
  {
   "cell_type": "code",
   "execution_count": 44,
   "metadata": {},
   "outputs": [
    {
     "name": "stdout",
     "output_type": "stream",
     "text": [
      "0.756578947368421\n",
      "              precision    recall  f1-score   support\n",
      "\n",
      "           0       0.83      0.67      0.74        78\n",
      "           1       0.71      0.85      0.77        74\n",
      "\n",
      "    accuracy                           0.76       152\n",
      "   macro avg       0.77      0.76      0.76       152\n",
      "weighted avg       0.77      0.76      0.75       152\n",
      "\n"
     ]
    }
   ],
   "source": [
    "x_train, x_val, y_train, y_val = train_test_split(x, y, train_size=0.75, random_state=0)\n",
    "tree = DecisionTreeClassifier(criterion='entropy', max_depth=4, max_leaf_nodes=None, min_samples_leaf=1, min_samples_split=2)\n",
    "tree.fit(x_train,y_train)\n",
    "predicted = tree.predict(x_val)\n",
    "a_s = accuracy_score(y_val, predicted)\n",
    "print(a_s)\n",
    "report = classification_report(y_val, predicted)\n",
    "print(report)"
   ]
  },
  {
   "cell_type": "markdown",
   "metadata": {},
   "source": [
    "Os resultados desse dataset deixam a desejar, sendo piores que os iniciais, provavelmente pela baixo número de dados."
   ]
  },
  {
   "cell_type": "markdown",
   "metadata": {},
   "source": [
    "**Usaremos o banco de dados original para fazer experimentos com o parâmetro *min_samples_leaf*, que é o parâmetro que\n",
    "indica o número mínimo de amostras necessárias para estar em uma folha, e o *min_samples_split* que nos diz o número mínimo de amostrar necessárias para dividir um nó interno**"
   ]
  },
  {
   "cell_type": "code",
   "execution_count": 45,
   "metadata": {},
   "outputs": [
    {
     "name": "stdout",
     "output_type": "stream",
     "text": [
      "<class 'pandas.core.frame.DataFrame'>\n",
      "Int64Index: 714 entries, 1 to 891\n",
      "Data columns (total 7 columns):\n",
      " #   Column    Non-Null Count  Dtype  \n",
      "---  ------    --------------  -----  \n",
      " 0   Pclass    714 non-null    int64  \n",
      " 1   Sex       714 non-null    object \n",
      " 2   Age       714 non-null    float64\n",
      " 3   SibSp     714 non-null    int64  \n",
      " 4   Parch     714 non-null    int64  \n",
      " 5   Fare      714 non-null    float64\n",
      " 6   Survived  714 non-null    int64  \n",
      "dtypes: float64(2), int64(4), object(1)\n",
      "memory usage: 44.6+ KB\n"
     ]
    }
   ],
   "source": [
    "new_data = data[['Pclass', 'Sex', 'Age', 'SibSp', 'Parch', 'Fare', 'Survived']]\n",
    "new_data = new_data.dropna()\n",
    "new_data.info()"
   ]
  },
  {
   "cell_type": "code",
   "execution_count": 46,
   "metadata": {},
   "outputs": [
    {
     "data": {
      "text/html": [
       "<div>\n",
       "<style scoped>\n",
       "    .dataframe tbody tr th:only-of-type {\n",
       "        vertical-align: middle;\n",
       "    }\n",
       "\n",
       "    .dataframe tbody tr th {\n",
       "        vertical-align: top;\n",
       "    }\n",
       "\n",
       "    .dataframe thead th {\n",
       "        text-align: right;\n",
       "    }\n",
       "</style>\n",
       "<table border=\"1\" class=\"dataframe\">\n",
       "  <thead>\n",
       "    <tr style=\"text-align: right;\">\n",
       "      <th></th>\n",
       "      <th>Pclass</th>\n",
       "      <th>Sex</th>\n",
       "      <th>Age</th>\n",
       "      <th>SibSp</th>\n",
       "      <th>Parch</th>\n",
       "      <th>Fare</th>\n",
       "      <th>Survived</th>\n",
       "    </tr>\n",
       "    <tr>\n",
       "      <th>PassengerId</th>\n",
       "      <th></th>\n",
       "      <th></th>\n",
       "      <th></th>\n",
       "      <th></th>\n",
       "      <th></th>\n",
       "      <th></th>\n",
       "      <th></th>\n",
       "    </tr>\n",
       "  </thead>\n",
       "  <tbody>\n",
       "    <tr>\n",
       "      <th>1</th>\n",
       "      <td>3</td>\n",
       "      <td>0</td>\n",
       "      <td>22.0</td>\n",
       "      <td>1</td>\n",
       "      <td>0</td>\n",
       "      <td>7.2500</td>\n",
       "      <td>0</td>\n",
       "    </tr>\n",
       "    <tr>\n",
       "      <th>2</th>\n",
       "      <td>1</td>\n",
       "      <td>1</td>\n",
       "      <td>38.0</td>\n",
       "      <td>1</td>\n",
       "      <td>0</td>\n",
       "      <td>71.2833</td>\n",
       "      <td>1</td>\n",
       "    </tr>\n",
       "    <tr>\n",
       "      <th>3</th>\n",
       "      <td>3</td>\n",
       "      <td>1</td>\n",
       "      <td>26.0</td>\n",
       "      <td>0</td>\n",
       "      <td>0</td>\n",
       "      <td>7.9250</td>\n",
       "      <td>1</td>\n",
       "    </tr>\n",
       "    <tr>\n",
       "      <th>4</th>\n",
       "      <td>1</td>\n",
       "      <td>1</td>\n",
       "      <td>35.0</td>\n",
       "      <td>1</td>\n",
       "      <td>0</td>\n",
       "      <td>53.1000</td>\n",
       "      <td>1</td>\n",
       "    </tr>\n",
       "    <tr>\n",
       "      <th>5</th>\n",
       "      <td>3</td>\n",
       "      <td>0</td>\n",
       "      <td>35.0</td>\n",
       "      <td>0</td>\n",
       "      <td>0</td>\n",
       "      <td>8.0500</td>\n",
       "      <td>0</td>\n",
       "    </tr>\n",
       "  </tbody>\n",
       "</table>\n",
       "</div>"
      ],
      "text/plain": [
       "             Pclass  Sex   Age  SibSp  Parch     Fare  Survived\n",
       "PassengerId                                                    \n",
       "1                 3    0  22.0      1      0   7.2500         0\n",
       "2                 1    1  38.0      1      0  71.2833         1\n",
       "3                 3    1  26.0      0      0   7.9250         1\n",
       "4                 1    1  35.0      1      0  53.1000         1\n",
       "5                 3    0  35.0      0      0   8.0500         0"
      ]
     },
     "execution_count": 46,
     "metadata": {},
     "output_type": "execute_result"
    }
   ],
   "source": [
    "new_data['Sex'].replace(['female','male'],[1,0],inplace=True)\n",
    "new_data.head()"
   ]
  },
  {
   "cell_type": "code",
   "execution_count": 47,
   "metadata": {},
   "outputs": [],
   "source": [
    "x = new_data.drop('Survived', axis=1)\n",
    "y = new_data['Survived']"
   ]
  },
  {
   "cell_type": "code",
   "execution_count": 48,
   "metadata": {},
   "outputs": [
    {
     "name": "stdout",
     "output_type": "stream",
     "text": [
      "0.8044692737430168\n",
      "              precision    recall  f1-score   support\n",
      "\n",
      "           0       0.77      0.99      0.86       112\n",
      "           1       0.97      0.49      0.65        67\n",
      "\n",
      "    accuracy                           0.80       179\n",
      "   macro avg       0.87      0.74      0.76       179\n",
      "weighted avg       0.84      0.80      0.79       179\n",
      "\n"
     ]
    }
   ],
   "source": [
    "x_train, x_val, y_train, y_val = train_test_split(x, y, train_size=0.75, random_state=1)\n",
    "tree = DecisionTreeClassifier(max_depth=5, max_leaf_nodes=None, min_samples_leaf = 50, min_samples_split=50)\n",
    "tree.fit(x_train,y_train)\n",
    "predicted = tree.predict(x_val)\n",
    "a_s = accuracy_score(y_val, predicted)\n",
    "print(a_s)\n",
    "report = classification_report(y_val, predicted)\n",
    "print(report)"
   ]
  },
  {
   "cell_type": "code",
   "execution_count": 49,
   "metadata": {},
   "outputs": [
    {
     "name": "stdout",
     "output_type": "stream",
     "text": [
      "0.8044692737430168\n",
      "              precision    recall  f1-score   support\n",
      "\n",
      "           0       0.77      0.99      0.86       112\n",
      "           1       0.97      0.49      0.65        67\n",
      "\n",
      "    accuracy                           0.80       179\n",
      "   macro avg       0.87      0.74      0.76       179\n",
      "weighted avg       0.84      0.80      0.79       179\n",
      "\n"
     ]
    }
   ],
   "source": [
    "x_train, x_val, y_train, y_val = train_test_split(x, y, train_size=0.75, random_state=1)\n",
    "tree = DecisionTreeClassifier(criterion='entropy', max_depth=5, max_leaf_nodes=None, min_samples_leaf = 50, min_samples_split = 50)\n",
    "tree.fit(x_train,y_train)\n",
    "predicted = tree.predict(x_val)\n",
    "a_s = accuracy_score(y_val, predicted)\n",
    "print(a_s)\n",
    "report = classification_report(y_val, predicted)\n",
    "print(report)"
   ]
  },
  {
   "cell_type": "markdown",
   "metadata": {},
   "source": [
    "Obtivemos resultados idênticos tanto para o critério *gini* quanto para o *entropy* quando consideramos o *min_samples_leaf* e o *min_samples_split* de mesmo tamanho."
   ]
  },
  {
   "cell_type": "markdown",
   "metadata": {},
   "source": [
    "Agora testaremos se obteremos resultados idênticos para ambos os critérios se diminuirmos tanto *min_samples_leaf* quanto *min_samples_split* pela metade."
   ]
  },
  {
   "cell_type": "code",
   "execution_count": 50,
   "metadata": {},
   "outputs": [
    {
     "name": "stdout",
     "output_type": "stream",
     "text": [
      "0.7821229050279329\n",
      "              precision    recall  f1-score   support\n",
      "\n",
      "           0       0.81      0.86      0.83       112\n",
      "           1       0.73      0.66      0.69        67\n",
      "\n",
      "    accuracy                           0.78       179\n",
      "   macro avg       0.77      0.76      0.76       179\n",
      "weighted avg       0.78      0.78      0.78       179\n",
      "\n"
     ]
    }
   ],
   "source": [
    "x_train, x_val, y_train, y_val = train_test_split(x, y, train_size=0.75, random_state=1)\n",
    "tree = DecisionTreeClassifier(max_depth=5, max_leaf_nodes=None, min_samples_leaf = 25, min_samples_split = 25)\n",
    "tree.fit(x_train,y_train)\n",
    "predicted = tree.predict(x_val)\n",
    "a_s = accuracy_score(y_val, predicted)\n",
    "print(a_s)\n",
    "report = classification_report(y_val, predicted)\n",
    "print(report)"
   ]
  },
  {
   "cell_type": "code",
   "execution_count": 51,
   "metadata": {},
   "outputs": [
    {
     "name": "stdout",
     "output_type": "stream",
     "text": [
      "0.7821229050279329\n",
      "              precision    recall  f1-score   support\n",
      "\n",
      "           0       0.81      0.86      0.83       112\n",
      "           1       0.73      0.66      0.69        67\n",
      "\n",
      "    accuracy                           0.78       179\n",
      "   macro avg       0.77      0.76      0.76       179\n",
      "weighted avg       0.78      0.78      0.78       179\n",
      "\n"
     ]
    }
   ],
   "source": [
    "x_train, x_val, y_train, y_val = train_test_split(x, y, train_size=0.75, random_state=1)\n",
    "tree = DecisionTreeClassifier(criterion='entropy', max_depth=5, max_leaf_nodes=None, min_samples_leaf = 25, min_samples_split = 25)\n",
    "tree.fit(x_train,y_train)\n",
    "predicted = tree.predict(x_val)\n",
    "a_s = accuracy_score(y_val, predicted)\n",
    "print(a_s)\n",
    "report = classification_report(y_val, predicted)\n",
    "print(report)"
   ]
  },
  {
   "cell_type": "markdown",
   "metadata": {},
   "source": [
    "Observarmos que se mantivermos um mesmo valor para os parâmetros *min_samples_leaf* e *min_samples_split*, a nossa árvore de decisão será a mesma independente do critério escolhido."
   ]
  },
  {
   "cell_type": "markdown",
   "metadata": {},
   "source": [
    "**Faremos agora o mesmo experimento com o segundo dataSet**"
   ]
  },
  {
   "cell_type": "code",
   "execution_count": 52,
   "metadata": {},
   "outputs": [
    {
     "name": "stdout",
     "output_type": "stream",
     "text": [
      "<class 'pandas.core.frame.DataFrame'>\n",
      "Int64Index: 712 entries, 1 to 891\n",
      "Data columns (total 8 columns):\n",
      " #   Column    Non-Null Count  Dtype  \n",
      "---  ------    --------------  -----  \n",
      " 0   Pclass    712 non-null    int64  \n",
      " 1   Sex       712 non-null    int64  \n",
      " 2   Age       712 non-null    float64\n",
      " 3   SibSp     712 non-null    int64  \n",
      " 4   Parch     712 non-null    int64  \n",
      " 5   Fare      712 non-null    float64\n",
      " 6   Embarked  712 non-null    int64  \n",
      " 7   Survived  712 non-null    int64  \n",
      "dtypes: float64(2), int64(6)\n",
      "memory usage: 50.1 KB\n"
     ]
    },
    {
     "data": {
      "text/html": [
       "<div>\n",
       "<style scoped>\n",
       "    .dataframe tbody tr th:only-of-type {\n",
       "        vertical-align: middle;\n",
       "    }\n",
       "\n",
       "    .dataframe tbody tr th {\n",
       "        vertical-align: top;\n",
       "    }\n",
       "\n",
       "    .dataframe thead th {\n",
       "        text-align: right;\n",
       "    }\n",
       "</style>\n",
       "<table border=\"1\" class=\"dataframe\">\n",
       "  <thead>\n",
       "    <tr style=\"text-align: right;\">\n",
       "      <th></th>\n",
       "      <th>Pclass</th>\n",
       "      <th>Sex</th>\n",
       "      <th>Age</th>\n",
       "      <th>SibSp</th>\n",
       "      <th>Parch</th>\n",
       "      <th>Fare</th>\n",
       "      <th>Embarked</th>\n",
       "      <th>Survived</th>\n",
       "    </tr>\n",
       "    <tr>\n",
       "      <th>PassengerId</th>\n",
       "      <th></th>\n",
       "      <th></th>\n",
       "      <th></th>\n",
       "      <th></th>\n",
       "      <th></th>\n",
       "      <th></th>\n",
       "      <th></th>\n",
       "      <th></th>\n",
       "    </tr>\n",
       "  </thead>\n",
       "  <tbody>\n",
       "    <tr>\n",
       "      <th>1</th>\n",
       "      <td>3</td>\n",
       "      <td>0</td>\n",
       "      <td>22.0</td>\n",
       "      <td>1</td>\n",
       "      <td>0</td>\n",
       "      <td>7.2500</td>\n",
       "      <td>0</td>\n",
       "      <td>0</td>\n",
       "    </tr>\n",
       "    <tr>\n",
       "      <th>2</th>\n",
       "      <td>1</td>\n",
       "      <td>1</td>\n",
       "      <td>38.0</td>\n",
       "      <td>1</td>\n",
       "      <td>0</td>\n",
       "      <td>71.2833</td>\n",
       "      <td>1</td>\n",
       "      <td>1</td>\n",
       "    </tr>\n",
       "    <tr>\n",
       "      <th>3</th>\n",
       "      <td>3</td>\n",
       "      <td>1</td>\n",
       "      <td>26.0</td>\n",
       "      <td>0</td>\n",
       "      <td>0</td>\n",
       "      <td>7.9250</td>\n",
       "      <td>0</td>\n",
       "      <td>1</td>\n",
       "    </tr>\n",
       "    <tr>\n",
       "      <th>4</th>\n",
       "      <td>1</td>\n",
       "      <td>1</td>\n",
       "      <td>35.0</td>\n",
       "      <td>1</td>\n",
       "      <td>0</td>\n",
       "      <td>53.1000</td>\n",
       "      <td>0</td>\n",
       "      <td>1</td>\n",
       "    </tr>\n",
       "    <tr>\n",
       "      <th>5</th>\n",
       "      <td>3</td>\n",
       "      <td>0</td>\n",
       "      <td>35.0</td>\n",
       "      <td>0</td>\n",
       "      <td>0</td>\n",
       "      <td>8.0500</td>\n",
       "      <td>0</td>\n",
       "      <td>0</td>\n",
       "    </tr>\n",
       "  </tbody>\n",
       "</table>\n",
       "</div>"
      ],
      "text/plain": [
       "             Pclass  Sex   Age  SibSp  Parch     Fare  Embarked  Survived\n",
       "PassengerId                                                              \n",
       "1                 3    0  22.0      1      0   7.2500         0         0\n",
       "2                 1    1  38.0      1      0  71.2833         1         1\n",
       "3                 3    1  26.0      0      0   7.9250         0         1\n",
       "4                 1    1  35.0      1      0  53.1000         0         1\n",
       "5                 3    0  35.0      0      0   8.0500         0         0"
      ]
     },
     "execution_count": 52,
     "metadata": {},
     "output_type": "execute_result"
    }
   ],
   "source": [
    "new_data2 = data[['Pclass', 'Sex', 'Age', 'SibSp', 'Parch', 'Fare', 'Embarked', 'Survived']]\n",
    "new_data2 = new_data2.dropna()\n",
    "new_data2['Sex'].replace(['female','male'],[1,0],inplace=True)\n",
    "new_data2['Embarked'].replace(['S','C', 'Q'],[0,1,2],inplace=True)\n",
    "new_data2.info()\n",
    "new_data2.head()"
   ]
  },
  {
   "cell_type": "code",
   "execution_count": 53,
   "metadata": {},
   "outputs": [],
   "source": [
    "x = new_data2.drop('Survived', axis=1)\n",
    "y = new_data2['Survived']"
   ]
  },
  {
   "cell_type": "code",
   "execution_count": 54,
   "metadata": {},
   "outputs": [
    {
     "name": "stdout",
     "output_type": "stream",
     "text": [
      "0.7921348314606742\n",
      "              precision    recall  f1-score   support\n",
      "\n",
      "           0       0.74      0.98      0.84       102\n",
      "           1       0.95      0.54      0.69        76\n",
      "\n",
      "    accuracy                           0.79       178\n",
      "   macro avg       0.85      0.76      0.77       178\n",
      "weighted avg       0.83      0.79      0.78       178\n",
      "\n"
     ]
    }
   ],
   "source": [
    "x_train, x_val, y_train, y_val = train_test_split(x, y, train_size=0.75, random_state=1)\n",
    "tree = DecisionTreeClassifier(max_depth=5, max_leaf_nodes=None, min_samples_leaf = 50, min_samples_split=50)\n",
    "tree.fit(x_train,y_train)\n",
    "predicted = tree.predict(x_val)\n",
    "a_s = accuracy_score(y_val, predicted)\n",
    "print(a_s)\n",
    "report = classification_report(y_val, predicted)\n",
    "print(report)"
   ]
  },
  {
   "cell_type": "code",
   "execution_count": 55,
   "metadata": {},
   "outputs": [
    {
     "name": "stdout",
     "output_type": "stream",
     "text": [
      "0.7921348314606742\n",
      "              precision    recall  f1-score   support\n",
      "\n",
      "           0       0.74      0.98      0.84       102\n",
      "           1       0.95      0.54      0.69        76\n",
      "\n",
      "    accuracy                           0.79       178\n",
      "   macro avg       0.85      0.76      0.77       178\n",
      "weighted avg       0.83      0.79      0.78       178\n",
      "\n"
     ]
    }
   ],
   "source": [
    "x_train, x_val, y_train, y_val = train_test_split(x, y, train_size=0.75, random_state=1)\n",
    "tree = DecisionTreeClassifier(criterion='entropy', max_depth=5, max_leaf_nodes=None, min_samples_leaf = 50, min_samples_split = 50)\n",
    "tree.fit(x_train,y_train)\n",
    "predicted = tree.predict(x_val)\n",
    "a_s = accuracy_score(y_val, predicted)\n",
    "print(a_s)\n",
    "report = classification_report(y_val, predicted)\n",
    "print(report)"
   ]
  },
  {
   "cell_type": "markdown",
   "metadata": {},
   "source": [
    "Mais uma vez obtivemos resultados idênticos tanto para o critério *gini* quanto para o *entropy* quando consideramos o *min_samples_leaf* e o *min_samples_split* de mesmo tamanho."
   ]
  },
  {
   "cell_type": "markdown",
   "metadata": {},
   "source": [
    "Agora testaremos se obteremos resultados idênticos para ambos os critérios se diminuirmos tanto *min_samples_leaf* quanto *min_samples_split* pela metade."
   ]
  },
  {
   "cell_type": "code",
   "execution_count": 56,
   "metadata": {},
   "outputs": [
    {
     "name": "stdout",
     "output_type": "stream",
     "text": [
      "0.7921348314606742\n",
      "              precision    recall  f1-score   support\n",
      "\n",
      "           0       0.85      0.77      0.81       102\n",
      "           1       0.73      0.82      0.77        76\n",
      "\n",
      "    accuracy                           0.79       178\n",
      "   macro avg       0.79      0.80      0.79       178\n",
      "weighted avg       0.80      0.79      0.79       178\n",
      "\n"
     ]
    }
   ],
   "source": [
    "x_train, x_val, y_train, y_val = train_test_split(x, y, train_size=0.75, random_state=1)\n",
    "tree = DecisionTreeClassifier(max_depth=5, max_leaf_nodes=None, min_samples_leaf = 25, min_samples_split = 25)\n",
    "tree.fit(x_train,y_train)\n",
    "predicted = tree.predict(x_val)\n",
    "a_s = accuracy_score(y_val, predicted)\n",
    "print(a_s)\n",
    "report = classification_report(y_val, predicted)\n",
    "print(report)"
   ]
  },
  {
   "cell_type": "code",
   "execution_count": 57,
   "metadata": {},
   "outputs": [
    {
     "name": "stdout",
     "output_type": "stream",
     "text": [
      "0.7921348314606742\n",
      "              precision    recall  f1-score   support\n",
      "\n",
      "           0       0.85      0.77      0.81       102\n",
      "           1       0.73      0.82      0.77        76\n",
      "\n",
      "    accuracy                           0.79       178\n",
      "   macro avg       0.79      0.80      0.79       178\n",
      "weighted avg       0.80      0.79      0.79       178\n",
      "\n"
     ]
    }
   ],
   "source": [
    "x_train, x_val, y_train, y_val = train_test_split(x, y, train_size=0.75, random_state=1)\n",
    "tree = DecisionTreeClassifier(criterion='entropy', max_depth=5, max_leaf_nodes=None, min_samples_leaf = 25, min_samples_split = 25)\n",
    "tree.fit(x_train,y_train)\n",
    "predicted = tree.predict(x_val)\n",
    "a_s = accuracy_score(y_val, predicted)\n",
    "print(a_s)\n",
    "report = classification_report(y_val, predicted)\n",
    "print(report)"
   ]
  },
  {
   "cell_type": "markdown",
   "metadata": {},
   "source": [
    "Observarmos que se mantivermos um mesmo valor para os parâmetros *min_samples_leaf* e *min_samples_split*, a nossa árvore de decisão será a mesma independente do critério escolhido também para este conjunto."
   ]
  },
  {
   "cell_type": "markdown",
   "metadata": {},
   "source": [
    "**Faremos agora o mesmo experimento usando o dataSet que foi criado com a ideia da replicação**"
   ]
  },
  {
   "cell_type": "code",
   "execution_count": 58,
   "metadata": {},
   "outputs": [
    {
     "name": "stdout",
     "output_type": "stream",
     "text": [
      "<class 'pandas.core.frame.DataFrame'>\n",
      "Int64Index: 895 entries, 0 to 1097\n",
      "Data columns (total 7 columns):\n",
      " #   Column    Non-Null Count  Dtype  \n",
      "---  ------    --------------  -----  \n",
      " 0   Pclass    895 non-null    int64  \n",
      " 1   Sex       895 non-null    int64  \n",
      " 2   Age       895 non-null    float64\n",
      " 3   SibSp     895 non-null    int64  \n",
      " 4   Parch     895 non-null    int64  \n",
      " 5   Fare      895 non-null    float64\n",
      " 6   Survived  895 non-null    int64  \n",
      "dtypes: float64(2), int64(5)\n",
      "memory usage: 55.9 KB\n"
     ]
    },
    {
     "data": {
      "text/html": [
       "<div>\n",
       "<style scoped>\n",
       "    .dataframe tbody tr th:only-of-type {\n",
       "        vertical-align: middle;\n",
       "    }\n",
       "\n",
       "    .dataframe tbody tr th {\n",
       "        vertical-align: top;\n",
       "    }\n",
       "\n",
       "    .dataframe thead th {\n",
       "        text-align: right;\n",
       "    }\n",
       "</style>\n",
       "<table border=\"1\" class=\"dataframe\">\n",
       "  <thead>\n",
       "    <tr style=\"text-align: right;\">\n",
       "      <th></th>\n",
       "      <th>Pclass</th>\n",
       "      <th>Sex</th>\n",
       "      <th>Age</th>\n",
       "      <th>SibSp</th>\n",
       "      <th>Parch</th>\n",
       "      <th>Fare</th>\n",
       "      <th>Survived</th>\n",
       "    </tr>\n",
       "  </thead>\n",
       "  <tbody>\n",
       "    <tr>\n",
       "      <th>0</th>\n",
       "      <td>3</td>\n",
       "      <td>0</td>\n",
       "      <td>22.0</td>\n",
       "      <td>1</td>\n",
       "      <td>0</td>\n",
       "      <td>7.2500</td>\n",
       "      <td>0</td>\n",
       "    </tr>\n",
       "    <tr>\n",
       "      <th>1</th>\n",
       "      <td>3</td>\n",
       "      <td>0</td>\n",
       "      <td>32.0</td>\n",
       "      <td>0</td>\n",
       "      <td>0</td>\n",
       "      <td>7.8958</td>\n",
       "      <td>0</td>\n",
       "    </tr>\n",
       "    <tr>\n",
       "      <th>2</th>\n",
       "      <td>3</td>\n",
       "      <td>0</td>\n",
       "      <td>22.0</td>\n",
       "      <td>0</td>\n",
       "      <td>0</td>\n",
       "      <td>7.8958</td>\n",
       "      <td>0</td>\n",
       "    </tr>\n",
       "    <tr>\n",
       "      <th>5</th>\n",
       "      <td>3</td>\n",
       "      <td>0</td>\n",
       "      <td>40.5</td>\n",
       "      <td>0</td>\n",
       "      <td>0</td>\n",
       "      <td>7.7500</td>\n",
       "      <td>0</td>\n",
       "    </tr>\n",
       "    <tr>\n",
       "      <th>7</th>\n",
       "      <td>3</td>\n",
       "      <td>0</td>\n",
       "      <td>39.0</td>\n",
       "      <td>0</td>\n",
       "      <td>0</td>\n",
       "      <td>7.9250</td>\n",
       "      <td>0</td>\n",
       "    </tr>\n",
       "  </tbody>\n",
       "</table>\n",
       "</div>"
      ],
      "text/plain": [
       "   Pclass  Sex   Age  SibSp  Parch    Fare  Survived\n",
       "0       3    0  22.0      1      0  7.2500         0\n",
       "1       3    0  32.0      0      0  7.8958         0\n",
       "2       3    0  22.0      0      0  7.8958         0\n",
       "5       3    0  40.5      0      0  7.7500         0\n",
       "7       3    0  39.0      0      0  7.9250         0"
      ]
     },
     "execution_count": 58,
     "metadata": {},
     "output_type": "execute_result"
    }
   ],
   "source": [
    "new_data3 = data[['Pclass', 'Sex', 'Age', 'SibSp', 'Parch', 'Fare', 'Survived']].sort_values(by= ['Survived'])\n",
    "\n",
    "new_data3['Sex'].replace(['female','male'],[1,0],inplace=True)\n",
    "\n",
    "new_data4 = new_data3.copy()\n",
    "\n",
    "\n",
    "toomany1 = 0\n",
    "for i in range(891):\n",
    "    s = new_data3['Survived']\n",
    "    if(s[i+1] == 0):\n",
    "        new_data3.drop((i+1),axis=0,inplace=True)\n",
    "    elif(s[i+1] == 1 and toomany1 < 135):\n",
    "        new_data3.drop((i+1),axis=0,inplace=True)\n",
    "        toomany1 = toomany1 + 1\n",
    "    \n",
    "new_data4 = new_data4.append(new_data3, ignore_index=True)\n",
    "\n",
    "new_data4 = new_data4.dropna()\n",
    "new_data4.info()\n",
    "new_data4.head()"
   ]
  },
  {
   "cell_type": "code",
   "execution_count": 59,
   "metadata": {},
   "outputs": [],
   "source": [
    "x = new_data4.drop('Survived', axis=1)\n",
    "y = new_data4['Survived']"
   ]
  },
  {
   "cell_type": "code",
   "execution_count": 60,
   "metadata": {},
   "outputs": [
    {
     "name": "stdout",
     "output_type": "stream",
     "text": [
      "0.8169642857142857\n",
      "              precision    recall  f1-score   support\n",
      "\n",
      "           0       0.77      0.84      0.81       102\n",
      "           1       0.86      0.80      0.83       122\n",
      "\n",
      "    accuracy                           0.82       224\n",
      "   macro avg       0.82      0.82      0.82       224\n",
      "weighted avg       0.82      0.82      0.82       224\n",
      "\n"
     ]
    }
   ],
   "source": [
    "x_train, x_val, y_train, y_val = train_test_split(x, y, train_size=0.75, random_state=1)\n",
    "tree = DecisionTreeClassifier(max_depth=5, max_leaf_nodes=None, min_samples_leaf = 50, min_samples_split=50)\n",
    "tree.fit(x_train,y_train)\n",
    "predicted = tree.predict(x_val)\n",
    "a_s = accuracy_score(y_val, predicted)\n",
    "print(a_s)\n",
    "report = classification_report(y_val, predicted)\n",
    "print(report)"
   ]
  },
  {
   "cell_type": "code",
   "execution_count": 61,
   "metadata": {},
   "outputs": [
    {
     "name": "stdout",
     "output_type": "stream",
     "text": [
      "0.8169642857142857\n",
      "              precision    recall  f1-score   support\n",
      "\n",
      "           0       0.77      0.84      0.81       102\n",
      "           1       0.86      0.80      0.83       122\n",
      "\n",
      "    accuracy                           0.82       224\n",
      "   macro avg       0.82      0.82      0.82       224\n",
      "weighted avg       0.82      0.82      0.82       224\n",
      "\n"
     ]
    }
   ],
   "source": [
    "x_train, x_val, y_train, y_val = train_test_split(x, y, train_size=0.75, random_state=1)\n",
    "tree = DecisionTreeClassifier(criterion='entropy', max_depth=5, max_leaf_nodes=None, min_samples_leaf = 50, min_samples_split = 50)\n",
    "tree.fit(x_train,y_train)\n",
    "predicted = tree.predict(x_val)\n",
    "a_s = accuracy_score(y_val, predicted)\n",
    "print(a_s)\n",
    "report = classification_report(y_val, predicted)\n",
    "print(report)"
   ]
  },
  {
   "cell_type": "markdown",
   "metadata": {},
   "source": [
    "Mais uma vez obtivemos resultados idênticos tanto para o critério *gini* quanto para o *entropy* quando consideramos o *min_samples_leaf* e o *min_samples_split* de mesmo tamanho."
   ]
  },
  {
   "cell_type": "markdown",
   "metadata": {},
   "source": [
    "Agora testaremos se obteremos resultados idênticos para ambos os critérios se diminuirmos tanto *min_samples_leaf* quanto *min_samples_split* pela metade."
   ]
  },
  {
   "cell_type": "code",
   "execution_count": 62,
   "metadata": {},
   "outputs": [
    {
     "name": "stdout",
     "output_type": "stream",
     "text": [
      "0.7946428571428571\n",
      "              precision    recall  f1-score   support\n",
      "\n",
      "           0       0.77      0.78      0.78       102\n",
      "           1       0.82      0.80      0.81       122\n",
      "\n",
      "    accuracy                           0.79       224\n",
      "   macro avg       0.79      0.79      0.79       224\n",
      "weighted avg       0.80      0.79      0.79       224\n",
      "\n"
     ]
    }
   ],
   "source": [
    "x_train, x_val, y_train, y_val = train_test_split(x, y, train_size=0.75, random_state=1)\n",
    "tree = DecisionTreeClassifier(max_depth=5, max_leaf_nodes=None, min_samples_leaf = 25, min_samples_split = 25)\n",
    "tree.fit(x_train,y_train)\n",
    "predicted = tree.predict(x_val)\n",
    "a_s = accuracy_score(y_val, predicted)\n",
    "print(a_s)\n",
    "report = classification_report(y_val, predicted)\n",
    "print(report)"
   ]
  },
  {
   "cell_type": "code",
   "execution_count": 63,
   "metadata": {},
   "outputs": [
    {
     "name": "stdout",
     "output_type": "stream",
     "text": [
      "0.7946428571428571\n",
      "              precision    recall  f1-score   support\n",
      "\n",
      "           0       0.77      0.78      0.78       102\n",
      "           1       0.82      0.80      0.81       122\n",
      "\n",
      "    accuracy                           0.79       224\n",
      "   macro avg       0.79      0.79      0.79       224\n",
      "weighted avg       0.80      0.79      0.79       224\n",
      "\n"
     ]
    }
   ],
   "source": [
    "x_train, x_val, y_train, y_val = train_test_split(x, y, train_size=0.75, random_state=1)\n",
    "tree = DecisionTreeClassifier(criterion='entropy', max_depth=5, max_leaf_nodes=None, min_samples_leaf = 25, min_samples_split = 25)\n",
    "tree.fit(x_train,y_train)\n",
    "predicted = tree.predict(x_val)\n",
    "a_s = accuracy_score(y_val, predicted)\n",
    "print(a_s)\n",
    "report = classification_report(y_val, predicted)\n",
    "print(report)"
   ]
  },
  {
   "cell_type": "markdown",
   "metadata": {},
   "source": [
    "Realizamos o mesmo experimentos para três dataSets distintos e percebemos que independe do dataset que usarmos, os resultados são idênticos tanto para o critério *gini* quanto para o *entropy* quando consideramos o *min_samples_leaf* e o *min_samples_split* de mesmo tamanho."
   ]
  }
 ],
 "metadata": {
  "kernelspec": {
   "display_name": "Python 3",
   "language": "python",
   "name": "python3"
  },
  "language_info": {
   "codemirror_mode": {
    "name": "ipython",
    "version": 3
   },
   "file_extension": ".py",
   "mimetype": "text/x-python",
   "name": "python",
   "nbconvert_exporter": "python",
   "pygments_lexer": "ipython3",
   "version": "3.9.1"
  },
  "metadata": {
   "interpreter": {
    "hash": "3ef7935b13617fabe734c4a9dee0ded502b7e7ddad9ea0181f384dd40d88ac4e"
   }
  }
 },
 "nbformat": 4,
 "nbformat_minor": 4
}
