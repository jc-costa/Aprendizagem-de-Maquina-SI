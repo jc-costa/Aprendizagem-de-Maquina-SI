{
 "cells": [
  {
   "cell_type": "markdown",
   "metadata": {},
   "source": [
    "### Importação das bibliotecas necessárias:"
   ]
  },
  {
   "cell_type": "code",
   "execution_count": 1,
   "metadata": {},
   "outputs": [],
   "source": [
    "from sklearn.tree import DecisionTreeClassifier\n",
    "from sklearn.model_selection import train_test_split\n",
    "from sklearn.metrics import accuracy_score, classification_report\n",
    "import pandas as pd"
   ]
  },
  {
   "cell_type": "markdown",
   "metadata": {},
   "source": [
    "### Leitura dos dados:"
   ]
  },
  {
   "cell_type": "code",
   "execution_count": 2,
   "metadata": {},
   "outputs": [
    {
     "output_type": "execute_result",
     "data": {
      "text/plain": [
       "             Survived  Pclass  \\\n",
       "PassengerId                     \n",
       "1                   0       3   \n",
       "2                   1       1   \n",
       "3                   1       3   \n",
       "4                   1       1   \n",
       "5                   0       3   \n",
       "\n",
       "                                                          Name     Sex   Age  \\\n",
       "PassengerId                                                                    \n",
       "1                                      Braund, Mr. Owen Harris    male  22.0   \n",
       "2            Cumings, Mrs. John Bradley (Florence Briggs Th...  female  38.0   \n",
       "3                                       Heikkinen, Miss. Laina  female  26.0   \n",
       "4                 Futrelle, Mrs. Jacques Heath (Lily May Peel)  female  35.0   \n",
       "5                                     Allen, Mr. William Henry    male  35.0   \n",
       "\n",
       "             SibSp  Parch            Ticket     Fare Cabin Embarked  \n",
       "PassengerId                                                          \n",
       "1                1      0         A/5 21171   7.2500   NaN        S  \n",
       "2                1      0          PC 17599  71.2833   C85        C  \n",
       "3                0      0  STON/O2. 3101282   7.9250   NaN        S  \n",
       "4                1      0            113803  53.1000  C123        S  \n",
       "5                0      0            373450   8.0500   NaN        S  "
      ],
      "text/html": "<div>\n<style scoped>\n    .dataframe tbody tr th:only-of-type {\n        vertical-align: middle;\n    }\n\n    .dataframe tbody tr th {\n        vertical-align: top;\n    }\n\n    .dataframe thead th {\n        text-align: right;\n    }\n</style>\n<table border=\"1\" class=\"dataframe\">\n  <thead>\n    <tr style=\"text-align: right;\">\n      <th></th>\n      <th>Survived</th>\n      <th>Pclass</th>\n      <th>Name</th>\n      <th>Sex</th>\n      <th>Age</th>\n      <th>SibSp</th>\n      <th>Parch</th>\n      <th>Ticket</th>\n      <th>Fare</th>\n      <th>Cabin</th>\n      <th>Embarked</th>\n    </tr>\n    <tr>\n      <th>PassengerId</th>\n      <th></th>\n      <th></th>\n      <th></th>\n      <th></th>\n      <th></th>\n      <th></th>\n      <th></th>\n      <th></th>\n      <th></th>\n      <th></th>\n      <th></th>\n    </tr>\n  </thead>\n  <tbody>\n    <tr>\n      <th>1</th>\n      <td>0</td>\n      <td>3</td>\n      <td>Braund, Mr. Owen Harris</td>\n      <td>male</td>\n      <td>22.0</td>\n      <td>1</td>\n      <td>0</td>\n      <td>A/5 21171</td>\n      <td>7.2500</td>\n      <td>NaN</td>\n      <td>S</td>\n    </tr>\n    <tr>\n      <th>2</th>\n      <td>1</td>\n      <td>1</td>\n      <td>Cumings, Mrs. John Bradley (Florence Briggs Th...</td>\n      <td>female</td>\n      <td>38.0</td>\n      <td>1</td>\n      <td>0</td>\n      <td>PC 17599</td>\n      <td>71.2833</td>\n      <td>C85</td>\n      <td>C</td>\n    </tr>\n    <tr>\n      <th>3</th>\n      <td>1</td>\n      <td>3</td>\n      <td>Heikkinen, Miss. Laina</td>\n      <td>female</td>\n      <td>26.0</td>\n      <td>0</td>\n      <td>0</td>\n      <td>STON/O2. 3101282</td>\n      <td>7.9250</td>\n      <td>NaN</td>\n      <td>S</td>\n    </tr>\n    <tr>\n      <th>4</th>\n      <td>1</td>\n      <td>1</td>\n      <td>Futrelle, Mrs. Jacques Heath (Lily May Peel)</td>\n      <td>female</td>\n      <td>35.0</td>\n      <td>1</td>\n      <td>0</td>\n      <td>113803</td>\n      <td>53.1000</td>\n      <td>C123</td>\n      <td>S</td>\n    </tr>\n    <tr>\n      <th>5</th>\n      <td>0</td>\n      <td>3</td>\n      <td>Allen, Mr. William Henry</td>\n      <td>male</td>\n      <td>35.0</td>\n      <td>0</td>\n      <td>0</td>\n      <td>373450</td>\n      <td>8.0500</td>\n      <td>NaN</td>\n      <td>S</td>\n    </tr>\n  </tbody>\n</table>\n</div>"
     },
     "metadata": {},
     "execution_count": 2
    }
   ],
   "source": [
    "data = pd.read_csv('train.csv', index_col='PassengerId')\n",
    "data.head()"
   ]
  },
  {
   "cell_type": "code",
   "execution_count": 10,
   "metadata": {},
   "outputs": [
    {
     "name": "stdout",
     "output_type": "stream",
     "text": [
      "<class 'pandas.core.frame.DataFrame'>\n",
      "Int64Index: 891 entries, 1 to 891\n",
      "Data columns (total 11 columns):\n",
      " #   Column    Non-Null Count  Dtype  \n",
      "---  ------    --------------  -----  \n",
      " 0   Survived  891 non-null    int64  \n",
      " 1   Pclass    891 non-null    int64  \n",
      " 2   Name      891 non-null    object \n",
      " 3   Sex       891 non-null    object \n",
      " 4   Age       714 non-null    float64\n",
      " 5   SibSp     891 non-null    int64  \n",
      " 6   Parch     891 non-null    int64  \n",
      " 7   Ticket    891 non-null    object \n",
      " 8   Fare      891 non-null    float64\n",
      " 9   Cabin     204 non-null    object \n",
      " 10  Embarked  889 non-null    object \n",
      "dtypes: float64(2), int64(4), object(5)\n",
      "memory usage: 83.5+ KB\n"
     ]
    }
   ],
   "source": [
    "data.info()"
   ]
  },
  {
   "cell_type": "markdown",
   "metadata": {},
   "source": [
    "### Banco de Dados"
   ]
  },
  {
   "cell_type": "markdown",
   "metadata": {},
   "source": [
    "Para termos um banco de dados consistente, deleta-se as colunas que não possui uma quantidade de valores iguais ao número de casos do banco de dados original e que não possuem um valor interessante para ser analisado. Após isso, deleta-se todas as linhas que possuem algum atributo com valor nulo, para que todas as colunas tenham um número de valores igual."
   ]
  },
  {
   "cell_type": "code",
   "execution_count": 3,
   "metadata": {},
   "outputs": [
    {
     "output_type": "stream",
     "name": "stdout",
     "text": [
      "<class 'pandas.core.frame.DataFrame'>\nInt64Index: 714 entries, 1 to 891\nData columns (total 7 columns):\n #   Column    Non-Null Count  Dtype  \n---  ------    --------------  -----  \n 0   Pclass    714 non-null    int64  \n 1   Sex       714 non-null    object \n 2   Age       714 non-null    float64\n 3   SibSp     714 non-null    int64  \n 4   Parch     714 non-null    int64  \n 5   Fare      714 non-null    float64\n 6   Survived  714 non-null    int64  \ndtypes: float64(2), int64(4), object(1)\nmemory usage: 44.6+ KB\n"
     ]
    }
   ],
   "source": [
    "new_data = data[['Pclass', 'Sex', 'Age', 'SibSp', 'Parch', 'Fare', 'Survived']]\n",
    "new_data = new_data.dropna()\n",
    "new_data.info()"
   ]
  },
  {
   "cell_type": "markdown",
   "metadata": {},
   "source": [
    "Transforma-se a coluna \"Sex\" em valores númericos:"
   ]
  },
  {
   "cell_type": "code",
   "execution_count": 9,
   "metadata": {},
   "outputs": [
    {
     "output_type": "execute_result",
     "data": {
      "text/plain": [
       "             Pclass  Sex   Age  SibSp  Parch     Fare  Survived\n",
       "PassengerId                                                    \n",
       "1                 3    0  22.0      1      0   7.2500         0\n",
       "2                 1    1  38.0      1      0  71.2833         1\n",
       "3                 3    1  26.0      0      0   7.9250         1\n",
       "4                 1    1  35.0      1      0  53.1000         1\n",
       "5                 3    0  35.0      0      0   8.0500         0"
      ],
      "text/html": "<div>\n<style scoped>\n    .dataframe tbody tr th:only-of-type {\n        vertical-align: middle;\n    }\n\n    .dataframe tbody tr th {\n        vertical-align: top;\n    }\n\n    .dataframe thead th {\n        text-align: right;\n    }\n</style>\n<table border=\"1\" class=\"dataframe\">\n  <thead>\n    <tr style=\"text-align: right;\">\n      <th></th>\n      <th>Pclass</th>\n      <th>Sex</th>\n      <th>Age</th>\n      <th>SibSp</th>\n      <th>Parch</th>\n      <th>Fare</th>\n      <th>Survived</th>\n    </tr>\n    <tr>\n      <th>PassengerId</th>\n      <th></th>\n      <th></th>\n      <th></th>\n      <th></th>\n      <th></th>\n      <th></th>\n      <th></th>\n    </tr>\n  </thead>\n  <tbody>\n    <tr>\n      <th>1</th>\n      <td>3</td>\n      <td>0</td>\n      <td>22.0</td>\n      <td>1</td>\n      <td>0</td>\n      <td>7.2500</td>\n      <td>0</td>\n    </tr>\n    <tr>\n      <th>2</th>\n      <td>1</td>\n      <td>1</td>\n      <td>38.0</td>\n      <td>1</td>\n      <td>0</td>\n      <td>71.2833</td>\n      <td>1</td>\n    </tr>\n    <tr>\n      <th>3</th>\n      <td>3</td>\n      <td>1</td>\n      <td>26.0</td>\n      <td>0</td>\n      <td>0</td>\n      <td>7.9250</td>\n      <td>1</td>\n    </tr>\n    <tr>\n      <th>4</th>\n      <td>1</td>\n      <td>1</td>\n      <td>35.0</td>\n      <td>1</td>\n      <td>0</td>\n      <td>53.1000</td>\n      <td>1</td>\n    </tr>\n    <tr>\n      <th>5</th>\n      <td>3</td>\n      <td>0</td>\n      <td>35.0</td>\n      <td>0</td>\n      <td>0</td>\n      <td>8.0500</td>\n      <td>0</td>\n    </tr>\n  </tbody>\n</table>\n</div>"
     },
     "metadata": {},
     "execution_count": 9
    }
   ],
   "source": [
    "new_data['Sex'].replace(['female','male'],[1,0],inplace=True)\n",
    "new_data.head()"
   ]
  },
  {
   "cell_type": "code",
   "execution_count": 10,
   "metadata": {},
   "outputs": [
    {
     "output_type": "execute_result",
     "data": {
      "text/plain": [
       "0    424\n",
       "1    290\n",
       "Name: Survived, dtype: int64"
      ]
     },
     "metadata": {},
     "execution_count": 10
    }
   ],
   "source": [
    "x = new_data.drop('Survived', axis=1)\n",
    "y = new_data['Survived']\n",
    "y.value_counts()\n"
   ]
  },
  {
   "cell_type": "markdown",
   "metadata": {},
   "source": [
    "Como pode-se ver, infelizmente tem-se uma quantidade maior de casos 0 (pessoa não sobreviveu) do que 1 (pessoa sobreviveu), e isso fará com que a Árvore de Decisão fique melhor treinada para casos 0 do que 1, devido ao desbalanceamento dos casos."
   ]
  },
  {
   "cell_type": "markdown",
   "metadata": {},
   "source": [
    "#### Experimentos"
   ]
  },
  {
   "cell_type": "markdown",
   "metadata": {},
   "source": [
    "Primeiramente, configura-se a Árvore de Decisão com um conjunto de treinamento correspondendo a 50% das observações do banco de dados, e o resto das observações para o conjunto de teste, também é configurado a função como sendo a de Entropia e o número máximo de profundidade da árvore como 5:"
   ]
  },
  {
   "cell_type": "code",
   "execution_count": 14,
   "metadata": {},
   "outputs": [
    {
     "output_type": "stream",
     "name": "stdout",
     "text": [
      "0.8207282913165266\n              precision    recall  f1-score   support\n\n           0       0.83      0.88      0.85       211\n           1       0.81      0.74      0.77       146\n\n    accuracy                           0.82       357\n   macro avg       0.82      0.81      0.81       357\nweighted avg       0.82      0.82      0.82       357\n\n"
     ]
    }
   ],
   "source": [
    "x_train, x_val, y_train, y_val = train_test_split(x, y, train_size=0.5, random_state=1)\n",
    "tree = DecisionTreeClassifier(criterion='entropy', max_depth=5, max_leaf_nodes=None, min_samples_leaf=1, min_samples_split=2)\n",
    "tree.fit(x_train,y_train)\n",
    "predicted = tree.predict(x_val)\n",
    "a_s = accuracy_score(y_val, predicted)\n",
    "print(a_s)\n",
    "report = classification_report(y_val, predicted)\n",
    "print(report)"
   ]
  },
  {
   "cell_type": "markdown",
   "metadata": {},
   "source": [
    "Altera-se o número da profundidade da árvore para 10:"
   ]
  },
  {
   "cell_type": "code",
   "execution_count": 15,
   "metadata": {},
   "outputs": [
    {
     "output_type": "stream",
     "name": "stdout",
     "text": [
      "0.7927170868347339\n              precision    recall  f1-score   support\n\n           0       0.81      0.85      0.83       211\n           1       0.76      0.71      0.74       146\n\n    accuracy                           0.79       357\n   macro avg       0.79      0.78      0.78       357\nweighted avg       0.79      0.79      0.79       357\n\n"
     ]
    }
   ],
   "source": [
    "x_train, x_val, y_train, y_val = train_test_split(x, y, train_size=0.5, random_state=1)\n",
    "tree = DecisionTreeClassifier(criterion='entropy', max_depth=10, max_leaf_nodes=None, min_samples_leaf=1, min_samples_split=2)\n",
    "tree.fit(x_train,y_train)\n",
    "predicted = tree.predict(x_val)\n",
    "a_s = accuracy_score(y_val, predicted)\n",
    "print(a_s)\n",
    "report = classification_report(y_val, predicted)\n",
    "print(report)"
   ]
  },
  {
   "cell_type": "markdown",
   "metadata": {},
   "source": [
    "Altera-se o número da profundidade da árvore para 15:"
   ]
  },
  {
   "cell_type": "code",
   "execution_count": 16,
   "metadata": {},
   "outputs": [
    {
     "output_type": "stream",
     "name": "stdout",
     "text": [
      "0.7563025210084033\n              precision    recall  f1-score   support\n\n           0       0.80      0.78      0.79       211\n           1       0.69      0.73      0.71       146\n\n    accuracy                           0.76       357\n   macro avg       0.75      0.75      0.75       357\nweighted avg       0.76      0.76      0.76       357\n\n"
     ]
    }
   ],
   "source": [
    "x_train, x_val, y_train, y_val = train_test_split(x, y, train_size=0.5, random_state=1)\n",
    "tree = DecisionTreeClassifier(criterion='entropy', max_depth=15, max_leaf_nodes=None, min_samples_leaf=1, min_samples_split=2)\n",
    "tree.fit(x_train,y_train)\n",
    "predicted = tree.predict(x_val)\n",
    "a_s = accuracy_score(y_val, predicted)\n",
    "print(a_s)\n",
    "report = classification_report(y_val, predicted)\n",
    "print(report)"
   ]
  },
  {
   "cell_type": "markdown",
   "metadata": {},
   "source": [
    "Como pôde-se ver, uma maior profundidade da Árvore de Decisão resulta em uma menor *accuracy*, *precision* e *recall*."
   ]
  },
  {
   "cell_type": "markdown",
   "metadata": {},
   "source": [
    "Em seguida, altera-se a porcentagem do conjunto de treinamento para 75% do banco de dados, sendo o restante para o conjunto de teste:"
   ]
  },
  {
   "cell_type": "code",
   "execution_count": 17,
   "metadata": {},
   "outputs": [
    {
     "output_type": "stream",
     "name": "stdout",
     "text": [
      "0.8435754189944135\n              precision    recall  f1-score   support\n\n           0       0.82      0.96      0.89       112\n           1       0.91      0.64      0.75        67\n\n    accuracy                           0.84       179\n   macro avg       0.87      0.80      0.82       179\nweighted avg       0.85      0.84      0.84       179\n\n"
     ]
    }
   ],
   "source": [
    "x_train, x_val, y_train, y_val = train_test_split(x, y, train_size=0.75, random_state=1)\n",
    "tree = DecisionTreeClassifier(criterion='entropy', max_depth=5, max_leaf_nodes=None, min_samples_leaf=1, min_samples_split=2)\n",
    "tree.fit(x_train,y_train)\n",
    "predicted = tree.predict(x_val)\n",
    "a_s = accuracy_score(y_val, predicted)\n",
    "print(a_s)\n",
    "report = classification_report(y_val, predicted)\n",
    "print(report)"
   ]
  },
  {
   "cell_type": "markdown",
   "metadata": {},
   "source": [
    "Altera-se o número da profundidade da árvore para 4:"
   ]
  },
  {
   "cell_type": "code",
   "execution_count": 18,
   "metadata": {},
   "outputs": [
    {
     "output_type": "stream",
     "name": "stdout",
     "text": [
      "0.8491620111731844\n              precision    recall  f1-score   support\n\n           0       0.88      0.88      0.88       112\n           1       0.80      0.79      0.80        67\n\n    accuracy                           0.85       179\n   macro avg       0.84      0.84      0.84       179\nweighted avg       0.85      0.85      0.85       179\n\n"
     ]
    }
   ],
   "source": [
    "x_train, x_val, y_train, y_val = train_test_split(x, y, train_size=0.75, random_state=1)\n",
    "tree = DecisionTreeClassifier(criterion='entropy', max_depth=4, max_leaf_nodes=None, min_samples_leaf=1, min_samples_split=2)\n",
    "tree.fit(x_train,y_train)\n",
    "predicted = tree.predict(x_val)\n",
    "a_s = accuracy_score(y_val, predicted)\n",
    "print(a_s)\n",
    "report = classification_report(y_val, predicted)\n",
    "print(report)"
   ]
  },
  {
   "cell_type": "markdown",
   "metadata": {},
   "source": [
    "Altera-se a função para a Gini:"
   ]
  },
  {
   "cell_type": "code",
   "execution_count": 19,
   "metadata": {},
   "outputs": [
    {
     "output_type": "stream",
     "name": "stdout",
     "text": [
      "0.8547486033519553\n              precision    recall  f1-score   support\n\n           0       0.86      0.92      0.89       112\n           1       0.85      0.75      0.79        67\n\n    accuracy                           0.85       179\n   macro avg       0.85      0.83      0.84       179\nweighted avg       0.85      0.85      0.85       179\n\n"
     ]
    }
   ],
   "source": [
    "x_train, x_val, y_train, y_val = train_test_split(x, y, train_size=0.75, random_state=1)\n",
    "tree = DecisionTreeClassifier(max_depth=4, max_leaf_nodes=None, min_samples_leaf=1, min_samples_split=2)\n",
    "tree.fit(x_train,y_train)\n",
    "predicted = tree.predict(x_val)\n",
    "a_s = accuracy_score(y_val, predicted)\n",
    "print(a_s)\n",
    "report = classification_report(y_val, predicted)\n",
    "print(report)"
   ]
  },
  {
   "cell_type": "markdown",
   "metadata": {},
   "source": [
    "Nos próximos testes foi-se alterado o valor de *random_state* para variar a seleção dos casos para *x_train*, *x_test*, *y_train* e *y_test*."
   ]
  },
  {
   "cell_type": "code",
   "execution_count": 20,
   "metadata": {},
   "outputs": [
    {
     "output_type": "stream",
     "name": "stdout",
     "text": [
      "0.8044692737430168\n              precision    recall  f1-score   support\n\n           0       0.80      0.87      0.84       103\n           1       0.81      0.71      0.76        76\n\n    accuracy                           0.80       179\n   macro avg       0.80      0.79      0.80       179\nweighted avg       0.80      0.80      0.80       179\n\n"
     ]
    }
   ],
   "source": [
    "x_train, x_val, y_train, y_val = train_test_split(x, y, train_size=0.75, random_state=0)\n",
    "tree = DecisionTreeClassifier(max_depth=4, max_leaf_nodes=None, min_samples_leaf=1, min_samples_split=2)\n",
    "tree.fit(x_train,y_train)\n",
    "predicted = tree.predict(x_val)\n",
    "a_s = accuracy_score(y_val, predicted)\n",
    "print(a_s)\n",
    "report = classification_report(y_val, predicted)\n",
    "print(report)"
   ]
  },
  {
   "cell_type": "code",
   "execution_count": 21,
   "metadata": {},
   "outputs": [
    {
     "output_type": "stream",
     "name": "stdout",
     "text": [
      "0.7541899441340782\n              precision    recall  f1-score   support\n\n           0       0.80      0.77      0.78       103\n           1       0.70      0.74      0.72        76\n\n    accuracy                           0.75       179\n   macro avg       0.75      0.75      0.75       179\nweighted avg       0.76      0.75      0.75       179\n\n"
     ]
    }
   ],
   "source": [
    "x_train, x_val, y_train, y_val = train_test_split(x, y, train_size=0.75, random_state=25)\n",
    "tree = DecisionTreeClassifier(max_depth=4, max_leaf_nodes=None, min_samples_leaf=1, min_samples_split=2)\n",
    "tree.fit(x_train,y_train)\n",
    "predicted = tree.predict(x_val)\n",
    "a_s = accuracy_score(y_val, predicted)\n",
    "print(a_s)\n",
    "report = classification_report(y_val, predicted)\n",
    "print(report)"
   ]
  },
  {
   "cell_type": "code",
   "execution_count": 22,
   "metadata": {},
   "outputs": [
    {
     "output_type": "stream",
     "name": "stdout",
     "text": [
      "0.7988826815642458\n              precision    recall  f1-score   support\n\n           0       0.81      0.84      0.83       101\n           1       0.78      0.74      0.76        78\n\n    accuracy                           0.80       179\n   macro avg       0.80      0.79      0.79       179\nweighted avg       0.80      0.80      0.80       179\n\n"
     ]
    }
   ],
   "source": [
    "x_train, x_val, y_train, y_val = train_test_split(x, y, train_size=0.75, random_state=40)\n",
    "tree = DecisionTreeClassifier(max_depth=4, max_leaf_nodes=None, min_samples_leaf=1, min_samples_split=2)\n",
    "tree.fit(x_train,y_train)\n",
    "predicted = tree.predict(x_val)\n",
    "a_s = accuracy_score(y_val, predicted)\n",
    "print(a_s)\n",
    "report = classification_report(y_val, predicted)\n",
    "print(report)"
   ]
  },
  {
   "cell_type": "code",
   "execution_count": 23,
   "metadata": {},
   "outputs": [
    {
     "output_type": "stream",
     "name": "stdout",
     "text": [
      "0.8044692737430168\n              precision    recall  f1-score   support\n\n           0       0.78      0.91      0.84       103\n           1       0.85      0.66      0.74        76\n\n    accuracy                           0.80       179\n   macro avg       0.82      0.79      0.79       179\nweighted avg       0.81      0.80      0.80       179\n\n"
     ]
    }
   ],
   "source": [
    "x_train, x_val, y_train, y_val = train_test_split(x, y, train_size=0.75, random_state=13)\n",
    "tree = DecisionTreeClassifier(max_depth=4, max_leaf_nodes=None, min_samples_leaf=1, min_samples_split=2)\n",
    "tree.fit(x_train,y_train)\n",
    "predicted = tree.predict(x_val)\n",
    "a_s = accuracy_score(y_val, predicted)\n",
    "print(a_s)\n",
    "report = classification_report(y_val, predicted)\n",
    "print(report)"
   ]
  },
  {
   "cell_type": "markdown",
   "metadata": {},
   "source": [
    "O *random_state=1* mostrou os melhores resultados."
   ]
  },
  {
   "cell_type": "markdown",
   "metadata": {},
   "source": [
    "Altera-se a profundidade máxima da árvore para 5:"
   ]
  },
  {
   "cell_type": "code",
   "execution_count": 24,
   "metadata": {},
   "outputs": [
    {
     "output_type": "stream",
     "name": "stdout",
     "text": [
      "0.8547486033519553\n              precision    recall  f1-score   support\n\n           0       0.86      0.91      0.89       112\n           1       0.84      0.76      0.80        67\n\n    accuracy                           0.85       179\n   macro avg       0.85      0.84      0.84       179\nweighted avg       0.85      0.85      0.85       179\n\n"
     ]
    }
   ],
   "source": [
    "x_train, x_val, y_train, y_val = train_test_split(x, y, train_size=0.75, random_state=1)\n",
    "tree = DecisionTreeClassifier(max_depth=5, max_leaf_nodes=None, min_samples_leaf=1, min_samples_split=2)\n",
    "tree.fit(x_train,y_train)\n",
    "predicted = tree.predict(x_val)\n",
    "a_s = accuracy_score(y_val, predicted)\n",
    "print(a_s)\n",
    "report = classification_report(y_val, predicted)\n",
    "print(report)"
   ]
  },
  {
   "cell_type": "markdown",
   "metadata": {},
   "source": [
    "Como pôde-se ver, a melhor Árvore de Decisão que foi obtida foi a que teve os seguintes parâmetros: *train_size=0.75*, *random_state=1*, *max_depth=5* e *criterion=gini*."
   ]
  },
  {
   "cell_type": "markdown",
   "metadata": {},
   "source": [
    "Alteram-se os valores de *max_leaf_nodes* (número máximo de folhas), *min_samples_leaf* (número mínimo de amostras para o nó ser considerado uma folha) e *min_samples_split* (número mínimo de amostras para dividir um nó interno):"
   ]
  },
  {
   "cell_type": "code",
   "execution_count": 25,
   "metadata": {},
   "outputs": [
    {
     "output_type": "stream",
     "name": "stdout",
     "text": [
      "0.8212290502793296\n              precision    recall  f1-score   support\n\n           0       0.80      0.96      0.87       112\n           1       0.89      0.60      0.71        67\n\n    accuracy                           0.82       179\n   macro avg       0.84      0.78      0.79       179\nweighted avg       0.83      0.82      0.81       179\n\n"
     ]
    }
   ],
   "source": [
    "x_train, x_val, y_train, y_val = train_test_split(x, y, train_size=0.75, random_state=1)\n",
    "tree = DecisionTreeClassifier(max_depth=4, max_leaf_nodes=5, min_samples_leaf=1, min_samples_split=2)\n",
    "tree.fit(x_train,y_train)\n",
    "predicted = tree.predict(x_val)\n",
    "a_s = accuracy_score(y_val, predicted)\n",
    "print(a_s)\n",
    "report = classification_report(y_val, predicted)\n",
    "print(report)"
   ]
  },
  {
   "cell_type": "code",
   "execution_count": 26,
   "metadata": {},
   "outputs": [
    {
     "output_type": "stream",
     "name": "stdout",
     "text": [
      "0.8547486033519553\n              precision    recall  f1-score   support\n\n           0       0.86      0.92      0.89       112\n           1       0.85      0.75      0.79        67\n\n    accuracy                           0.85       179\n   macro avg       0.85      0.83      0.84       179\nweighted avg       0.85      0.85      0.85       179\n\n"
     ]
    }
   ],
   "source": [
    "x_train, x_val, y_train, y_val = train_test_split(x, y, train_size=0.75, random_state=1)\n",
    "tree = DecisionTreeClassifier(max_depth=4, max_leaf_nodes=10, min_samples_leaf=1, min_samples_split=2)\n",
    "tree.fit(x_train,y_train)\n",
    "predicted = tree.predict(x_val)\n",
    "a_s = accuracy_score(y_val, predicted)\n",
    "print(a_s)\n",
    "report = classification_report(y_val, predicted)\n",
    "print(report)"
   ]
  },
  {
   "cell_type": "code",
   "execution_count": 27,
   "metadata": {},
   "outputs": [
    {
     "output_type": "stream",
     "name": "stdout",
     "text": [
      "0.8547486033519553\n              precision    recall  f1-score   support\n\n           0       0.86      0.92      0.89       112\n           1       0.85      0.75      0.79        67\n\n    accuracy                           0.85       179\n   macro avg       0.85      0.83      0.84       179\nweighted avg       0.85      0.85      0.85       179\n\n"
     ]
    }
   ],
   "source": [
    "x_train, x_val, y_train, y_val = train_test_split(x, y, train_size=0.75, random_state=1)\n",
    "tree = DecisionTreeClassifier(max_depth=4, max_leaf_nodes=10, min_samples_leaf=5, min_samples_split=2)\n",
    "tree.fit(x_train,y_train)\n",
    "predicted = tree.predict(x_val)\n",
    "a_s = accuracy_score(y_val, predicted)\n",
    "print(a_s)\n",
    "report = classification_report(y_val, predicted)\n",
    "print(report)"
   ]
  },
  {
   "cell_type": "code",
   "execution_count": 28,
   "metadata": {},
   "outputs": [
    {
     "output_type": "stream",
     "name": "stdout",
     "text": [
      "0.8268156424581006\n              precision    recall  f1-score   support\n\n           0       0.85      0.88      0.86       112\n           1       0.78      0.75      0.76        67\n\n    accuracy                           0.83       179\n   macro avg       0.82      0.81      0.81       179\nweighted avg       0.83      0.83      0.83       179\n\n"
     ]
    }
   ],
   "source": [
    "x_train, x_val, y_train, y_val = train_test_split(x, y, train_size=0.75, random_state=1)\n",
    "tree = DecisionTreeClassifier(max_depth=4, max_leaf_nodes=10, min_samples_leaf=10, min_samples_split=2)\n",
    "tree.fit(x_train,y_train)\n",
    "predicted = tree.predict(x_val)\n",
    "a_s = accuracy_score(y_val, predicted)\n",
    "print(a_s)\n",
    "report = classification_report(y_val, predicted)\n",
    "print(report)"
   ]
  },
  {
   "cell_type": "code",
   "execution_count": 29,
   "metadata": {},
   "outputs": [
    {
     "output_type": "stream",
     "name": "stdout",
     "text": [
      "0.8547486033519553\n              precision    recall  f1-score   support\n\n           0       0.86      0.92      0.89       112\n           1       0.85      0.75      0.79        67\n\n    accuracy                           0.85       179\n   macro avg       0.85      0.83      0.84       179\nweighted avg       0.85      0.85      0.85       179\n\n"
     ]
    }
   ],
   "source": [
    "x_train, x_val, y_train, y_val = train_test_split(x, y, train_size=0.75, random_state=1)\n",
    "tree = DecisionTreeClassifier(max_depth=4, max_leaf_nodes=10, min_samples_leaf=1, min_samples_split=10)\n",
    "tree.fit(x_train,y_train)\n",
    "predicted = tree.predict(x_val)\n",
    "a_s = accuracy_score(y_val, predicted)\n",
    "print(a_s)\n",
    "report = classification_report(y_val, predicted)\n",
    "print(report)"
   ]
  },
  {
   "cell_type": "code",
   "execution_count": 30,
   "metadata": {},
   "outputs": [
    {
     "output_type": "stream",
     "name": "stdout",
     "text": [
      "0.8547486033519553\n              precision    recall  f1-score   support\n\n           0       0.86      0.92      0.89       112\n           1       0.85      0.75      0.79        67\n\n    accuracy                           0.85       179\n   macro avg       0.85      0.83      0.84       179\nweighted avg       0.85      0.85      0.85       179\n\n"
     ]
    }
   ],
   "source": [
    "x_train, x_val, y_train, y_val = train_test_split(x, y, train_size=0.75, random_state=1)\n",
    "tree = DecisionTreeClassifier(max_depth=4, max_leaf_nodes=10, min_samples_leaf=1, min_samples_split=15)\n",
    "tree.fit(x_train,y_train)\n",
    "predicted = tree.predict(x_val)\n",
    "a_s = accuracy_score(y_val, predicted)\n",
    "print(a_s)\n",
    "report = classification_report(y_val, predicted)\n",
    "print(report)"
   ]
  },
  {
   "cell_type": "markdown",
   "metadata": {},
   "source": [
    "Analisando-se os experimentos, pode-se ver que um aumento no *max_leaf_nodes* provoca uma melhora nos resultados, enquanto um aumento no *min_samples_leaf* provoca uma piora nos resultados, já a alteração em *min_samples_split* não provoca nenhuma mudança nos resultados."
   ]
  },
  {
   "cell_type": "markdown",
   "metadata": {},
   "source": [
    "### Utiliza-se uma nova base de dados:"
   ]
  },
  {
   "cell_type": "code",
   "execution_count": 31,
   "metadata": {},
   "outputs": [
    {
     "output_type": "stream",
     "name": "stdout",
     "text": [
      "<class 'pandas.core.frame.DataFrame'>\nInt64Index: 712 entries, 1 to 891\nData columns (total 8 columns):\n #   Column    Non-Null Count  Dtype  \n---  ------    --------------  -----  \n 0   Pclass    712 non-null    int64  \n 1   Sex       712 non-null    int64  \n 2   Age       712 non-null    float64\n 3   SibSp     712 non-null    int64  \n 4   Parch     712 non-null    int64  \n 5   Fare      712 non-null    float64\n 6   Embarked  712 non-null    int64  \n 7   Survived  712 non-null    int64  \ndtypes: float64(2), int64(6)\nmemory usage: 50.1 KB\n"
     ]
    },
    {
     "output_type": "execute_result",
     "data": {
      "text/plain": [
       "             Pclass  Sex   Age  SibSp  Parch     Fare  Embarked  Survived\n",
       "PassengerId                                                              \n",
       "1                 3    0  22.0      1      0   7.2500         0         0\n",
       "2                 1    1  38.0      1      0  71.2833         1         1\n",
       "3                 3    1  26.0      0      0   7.9250         0         1\n",
       "4                 1    1  35.0      1      0  53.1000         0         1\n",
       "5                 3    0  35.0      0      0   8.0500         0         0"
      ],
      "text/html": "<div>\n<style scoped>\n    .dataframe tbody tr th:only-of-type {\n        vertical-align: middle;\n    }\n\n    .dataframe tbody tr th {\n        vertical-align: top;\n    }\n\n    .dataframe thead th {\n        text-align: right;\n    }\n</style>\n<table border=\"1\" class=\"dataframe\">\n  <thead>\n    <tr style=\"text-align: right;\">\n      <th></th>\n      <th>Pclass</th>\n      <th>Sex</th>\n      <th>Age</th>\n      <th>SibSp</th>\n      <th>Parch</th>\n      <th>Fare</th>\n      <th>Embarked</th>\n      <th>Survived</th>\n    </tr>\n    <tr>\n      <th>PassengerId</th>\n      <th></th>\n      <th></th>\n      <th></th>\n      <th></th>\n      <th></th>\n      <th></th>\n      <th></th>\n      <th></th>\n    </tr>\n  </thead>\n  <tbody>\n    <tr>\n      <th>1</th>\n      <td>3</td>\n      <td>0</td>\n      <td>22.0</td>\n      <td>1</td>\n      <td>0</td>\n      <td>7.2500</td>\n      <td>0</td>\n      <td>0</td>\n    </tr>\n    <tr>\n      <th>2</th>\n      <td>1</td>\n      <td>1</td>\n      <td>38.0</td>\n      <td>1</td>\n      <td>0</td>\n      <td>71.2833</td>\n      <td>1</td>\n      <td>1</td>\n    </tr>\n    <tr>\n      <th>3</th>\n      <td>3</td>\n      <td>1</td>\n      <td>26.0</td>\n      <td>0</td>\n      <td>0</td>\n      <td>7.9250</td>\n      <td>0</td>\n      <td>1</td>\n    </tr>\n    <tr>\n      <th>4</th>\n      <td>1</td>\n      <td>1</td>\n      <td>35.0</td>\n      <td>1</td>\n      <td>0</td>\n      <td>53.1000</td>\n      <td>0</td>\n      <td>1</td>\n    </tr>\n    <tr>\n      <th>5</th>\n      <td>3</td>\n      <td>0</td>\n      <td>35.0</td>\n      <td>0</td>\n      <td>0</td>\n      <td>8.0500</td>\n      <td>0</td>\n      <td>0</td>\n    </tr>\n  </tbody>\n</table>\n</div>"
     },
     "metadata": {},
     "execution_count": 31
    }
   ],
   "source": [
    "new_data2 = data[['Pclass', 'Sex', 'Age', 'SibSp', 'Parch', 'Fare', 'Embarked', 'Survived']]\n",
    "new_data2 = new_data2.dropna()\n",
    "new_data2['Sex'].replace(['female','male'],[1,0],inplace=True)\n",
    "new_data2['Embarked'].replace(['S','C', 'Q'],[0,1,2],inplace=True)\n",
    "new_data2.info()\n",
    "new_data2.head()"
   ]
  },
  {
   "cell_type": "code",
   "execution_count": 34,
   "metadata": {},
   "outputs": [],
   "source": [
    "x = new_data2.drop('Survived', axis=1)\n",
    "y = new_data2['Survived']"
   ]
  },
  {
   "cell_type": "markdown",
   "metadata": {},
   "source": [
    "#### Experimentos"
   ]
  },
  {
   "cell_type": "code",
   "execution_count": 35,
   "metadata": {},
   "outputs": [
    {
     "output_type": "stream",
     "name": "stdout",
     "text": [
      "0.7921348314606742\n              precision    recall  f1-score   support\n\n           0       0.78      0.88      0.83       102\n           1       0.81      0.67      0.73        76\n\n    accuracy                           0.79       178\n   macro avg       0.80      0.78      0.78       178\nweighted avg       0.79      0.79      0.79       178\n\n"
     ]
    }
   ],
   "source": [
    "x_train, x_val, y_train, y_val = train_test_split(x, y, train_size=0.75, random_state=1)\n",
    "tree = DecisionTreeClassifier(max_depth=4, max_leaf_nodes=None, min_samples_leaf=1, min_samples_split=2)\n",
    "tree.fit(x_train,y_train)\n",
    "predicted = tree.predict(x_val)\n",
    "a_s = accuracy_score(y_val, predicted)\n",
    "print(a_s)\n",
    "report = classification_report(y_val, predicted)\n",
    "print(report)"
   ]
  },
  {
   "cell_type": "markdown",
   "metadata": {},
   "source": [
    "Alteram-se os valores de *random_state* :"
   ]
  },
  {
   "cell_type": "code",
   "execution_count": 37,
   "metadata": {},
   "outputs": [
    {
     "output_type": "stream",
     "name": "stdout",
     "text": [
      "0.8033707865168539\n              precision    recall  f1-score   support\n\n           0       0.81      0.88      0.84       104\n           1       0.80      0.70      0.75        74\n\n    accuracy                           0.80       178\n   macro avg       0.80      0.79      0.79       178\nweighted avg       0.80      0.80      0.80       178\n\n"
     ]
    }
   ],
   "source": [
    "x_train, x_val, y_train, y_val = train_test_split(x, y, train_size=0.75, random_state=0)\n",
    "tree = DecisionTreeClassifier(max_depth=4, max_leaf_nodes=None, min_samples_leaf=1, min_samples_split=2)\n",
    "tree.fit(x_train,y_train)\n",
    "predicted = tree.predict(x_val)\n",
    "a_s = accuracy_score(y_val, predicted)\n",
    "print(a_s)\n",
    "report = classification_report(y_val, predicted)\n",
    "print(report)"
   ]
  },
  {
   "cell_type": "code",
   "execution_count": 38,
   "metadata": {},
   "outputs": [
    {
     "output_type": "stream",
     "name": "stdout",
     "text": [
      "0.8033707865168539\n              precision    recall  f1-score   support\n\n           0       0.86      0.81      0.83       108\n           1       0.73      0.80      0.76        70\n\n    accuracy                           0.80       178\n   macro avg       0.79      0.80      0.80       178\nweighted avg       0.81      0.80      0.80       178\n\n"
     ]
    }
   ],
   "source": [
    "x_train, x_val, y_train, y_val = train_test_split(x, y, train_size=0.75, random_state=13)\n",
    "tree = DecisionTreeClassifier(max_depth=4, max_leaf_nodes=None, min_samples_leaf=1, min_samples_split=2)\n",
    "tree.fit(x_train,y_train)\n",
    "predicted = tree.predict(x_val)\n",
    "a_s = accuracy_score(y_val, predicted)\n",
    "print(a_s)\n",
    "report = classification_report(y_val, predicted)\n",
    "print(report)"
   ]
  },
  {
   "cell_type": "code",
   "execution_count": 39,
   "metadata": {},
   "outputs": [
    {
     "output_type": "stream",
     "name": "stdout",
     "text": [
      "0.7865168539325843\n              precision    recall  f1-score   support\n\n           0       0.78      0.92      0.84       110\n           1       0.81      0.57      0.67        68\n\n    accuracy                           0.79       178\n   macro avg       0.79      0.75      0.76       178\nweighted avg       0.79      0.79      0.78       178\n\n"
     ]
    }
   ],
   "source": [
    "x_train, x_val, y_train, y_val = train_test_split(x, y, train_size=0.75, random_state=40)\n",
    "tree = DecisionTreeClassifier(max_depth=4, max_leaf_nodes=None, min_samples_leaf=1, min_samples_split=2)\n",
    "tree.fit(x_train,y_train)\n",
    "predicted = tree.predict(x_val)\n",
    "a_s = accuracy_score(y_val, predicted)\n",
    "print(a_s)\n",
    "report = classification_report(y_val, predicted)\n",
    "print(report)"
   ]
  },
  {
   "cell_type": "markdown",
   "metadata": {},
   "source": [
    "Altera-se a função para Entropia:"
   ]
  },
  {
   "cell_type": "code",
   "execution_count": 40,
   "metadata": {},
   "outputs": [
    {
     "output_type": "stream",
     "name": "stdout",
     "text": [
      "0.7921348314606742\n              precision    recall  f1-score   support\n\n           0       0.78      0.90      0.84       104\n           1       0.82      0.64      0.72        74\n\n    accuracy                           0.79       178\n   macro avg       0.80      0.77      0.78       178\nweighted avg       0.80      0.79      0.79       178\n\n"
     ]
    }
   ],
   "source": [
    "x_train, x_val, y_train, y_val = train_test_split(x, y, train_size=0.75, random_state=0)\n",
    "tree = DecisionTreeClassifier(criterion='entropy', max_depth=4, max_leaf_nodes=None, min_samples_leaf=1, min_samples_split=2)\n",
    "tree.fit(x_train,y_train)\n",
    "predicted = tree.predict(x_val)\n",
    "a_s = accuracy_score(y_val, predicted)\n",
    "print(a_s)\n",
    "report = classification_report(y_val, predicted)\n",
    "print(report)"
   ]
  },
  {
   "cell_type": "markdown",
   "metadata": {},
   "source": [
    "Conclui-se que o uso de um novo banco de dados não trouxe melhoras nos resultados obtidos."
   ]
  }
 ],
 "metadata": {
  "kernelspec": {
   "name": "python391jvsc74a57bd0986b0c7b8b29e74871cb3108357fb33597f7492c86abd3ca73fbf185a6178975",
   "display_name": "Python 3.9.1 64-bit"
  },
  "language_info": {
   "codemirror_mode": {
    "name": "ipython",
    "version": 3
   },
   "file_extension": ".py",
   "mimetype": "text/x-python",
   "name": "python",
   "nbconvert_exporter": "python",
   "pygments_lexer": "ipython3",
   "version": "3.9.1"
  },
  "metadata": {
   "interpreter": {
    "hash": "3ef7935b13617fabe734c4a9dee0ded502b7e7ddad9ea0181f384dd40d88ac4e"
   }
  },
  "orig_nbformat": 2
 },
 "nbformat": 4,
 "nbformat_minor": 2
}