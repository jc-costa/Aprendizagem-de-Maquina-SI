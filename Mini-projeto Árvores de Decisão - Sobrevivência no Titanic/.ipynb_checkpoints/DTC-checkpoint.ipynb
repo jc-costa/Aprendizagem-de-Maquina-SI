{
 "cells": [
  {
   "cell_type": "markdown",
   "metadata": {},
   "source": [
    "### Importação das bibliotecas necessárias:"
   ]
  },
  {
   "cell_type": "code",
   "execution_count": 1,
   "metadata": {},
   "outputs": [],
   "source": [
    "from sklearn.tree import DecisionTreeClassifier\n",
    "from sklearn.model_selection import train_test_split\n",
    "from sklearn.metrics import accuracy_score, classification_report\n",
    "import pandas as pd"
   ]
  },
  {
   "cell_type": "markdown",
   "metadata": {},
   "source": [
    "### Leitura dos dados:"
   ]
  },
  {
   "cell_type": "code",
   "execution_count": 2,
   "metadata": {},
   "outputs": [
    {
     "data": {
      "text/html": [
       "<div>\n",
       "<style scoped>\n",
       "    .dataframe tbody tr th:only-of-type {\n",
       "        vertical-align: middle;\n",
       "    }\n",
       "\n",
       "    .dataframe tbody tr th {\n",
       "        vertical-align: top;\n",
       "    }\n",
       "\n",
       "    .dataframe thead th {\n",
       "        text-align: right;\n",
       "    }\n",
       "</style>\n",
       "<table border=\"1\" class=\"dataframe\">\n",
       "  <thead>\n",
       "    <tr style=\"text-align: right;\">\n",
       "      <th></th>\n",
       "      <th>Survived</th>\n",
       "      <th>Pclass</th>\n",
       "      <th>Name</th>\n",
       "      <th>Sex</th>\n",
       "      <th>Age</th>\n",
       "      <th>SibSp</th>\n",
       "      <th>Parch</th>\n",
       "      <th>Ticket</th>\n",
       "      <th>Fare</th>\n",
       "      <th>Cabin</th>\n",
       "      <th>Embarked</th>\n",
       "    </tr>\n",
       "    <tr>\n",
       "      <th>PassengerId</th>\n",
       "      <th></th>\n",
       "      <th></th>\n",
       "      <th></th>\n",
       "      <th></th>\n",
       "      <th></th>\n",
       "      <th></th>\n",
       "      <th></th>\n",
       "      <th></th>\n",
       "      <th></th>\n",
       "      <th></th>\n",
       "      <th></th>\n",
       "    </tr>\n",
       "  </thead>\n",
       "  <tbody>\n",
       "    <tr>\n",
       "      <th>1</th>\n",
       "      <td>0</td>\n",
       "      <td>3</td>\n",
       "      <td>Braund, Mr. Owen Harris</td>\n",
       "      <td>male</td>\n",
       "      <td>22.0</td>\n",
       "      <td>1</td>\n",
       "      <td>0</td>\n",
       "      <td>A/5 21171</td>\n",
       "      <td>7.2500</td>\n",
       "      <td>NaN</td>\n",
       "      <td>S</td>\n",
       "    </tr>\n",
       "    <tr>\n",
       "      <th>2</th>\n",
       "      <td>1</td>\n",
       "      <td>1</td>\n",
       "      <td>Cumings, Mrs. John Bradley (Florence Briggs Th...</td>\n",
       "      <td>female</td>\n",
       "      <td>38.0</td>\n",
       "      <td>1</td>\n",
       "      <td>0</td>\n",
       "      <td>PC 17599</td>\n",
       "      <td>71.2833</td>\n",
       "      <td>C85</td>\n",
       "      <td>C</td>\n",
       "    </tr>\n",
       "    <tr>\n",
       "      <th>3</th>\n",
       "      <td>1</td>\n",
       "      <td>3</td>\n",
       "      <td>Heikkinen, Miss. Laina</td>\n",
       "      <td>female</td>\n",
       "      <td>26.0</td>\n",
       "      <td>0</td>\n",
       "      <td>0</td>\n",
       "      <td>STON/O2. 3101282</td>\n",
       "      <td>7.9250</td>\n",
       "      <td>NaN</td>\n",
       "      <td>S</td>\n",
       "    </tr>\n",
       "    <tr>\n",
       "      <th>4</th>\n",
       "      <td>1</td>\n",
       "      <td>1</td>\n",
       "      <td>Futrelle, Mrs. Jacques Heath (Lily May Peel)</td>\n",
       "      <td>female</td>\n",
       "      <td>35.0</td>\n",
       "      <td>1</td>\n",
       "      <td>0</td>\n",
       "      <td>113803</td>\n",
       "      <td>53.1000</td>\n",
       "      <td>C123</td>\n",
       "      <td>S</td>\n",
       "    </tr>\n",
       "    <tr>\n",
       "      <th>5</th>\n",
       "      <td>0</td>\n",
       "      <td>3</td>\n",
       "      <td>Allen, Mr. William Henry</td>\n",
       "      <td>male</td>\n",
       "      <td>35.0</td>\n",
       "      <td>0</td>\n",
       "      <td>0</td>\n",
       "      <td>373450</td>\n",
       "      <td>8.0500</td>\n",
       "      <td>NaN</td>\n",
       "      <td>S</td>\n",
       "    </tr>\n",
       "  </tbody>\n",
       "</table>\n",
       "</div>"
      ],
      "text/plain": [
       "             Survived  Pclass  \\\n",
       "PassengerId                     \n",
       "1                   0       3   \n",
       "2                   1       1   \n",
       "3                   1       3   \n",
       "4                   1       1   \n",
       "5                   0       3   \n",
       "\n",
       "                                                          Name     Sex   Age  \\\n",
       "PassengerId                                                                    \n",
       "1                                      Braund, Mr. Owen Harris    male  22.0   \n",
       "2            Cumings, Mrs. John Bradley (Florence Briggs Th...  female  38.0   \n",
       "3                                       Heikkinen, Miss. Laina  female  26.0   \n",
       "4                 Futrelle, Mrs. Jacques Heath (Lily May Peel)  female  35.0   \n",
       "5                                     Allen, Mr. William Henry    male  35.0   \n",
       "\n",
       "             SibSp  Parch            Ticket     Fare Cabin Embarked  \n",
       "PassengerId                                                          \n",
       "1                1      0         A/5 21171   7.2500   NaN        S  \n",
       "2                1      0          PC 17599  71.2833   C85        C  \n",
       "3                0      0  STON/O2. 3101282   7.9250   NaN        S  \n",
       "4                1      0            113803  53.1000  C123        S  \n",
       "5                0      0            373450   8.0500   NaN        S  "
      ]
     },
     "execution_count": 2,
     "metadata": {},
     "output_type": "execute_result"
    }
   ],
   "source": [
    "data = pd.read_csv('train.csv', index_col='PassengerId')\n",
    "data.head()"
   ]
  },
  {
   "cell_type": "code",
   "execution_count": 3,
   "metadata": {},
   "outputs": [
    {
     "name": "stdout",
     "output_type": "stream",
     "text": [
      "<class 'pandas.core.frame.DataFrame'>\n",
      "Int64Index: 891 entries, 1 to 891\n",
      "Data columns (total 11 columns):\n",
      " #   Column    Non-Null Count  Dtype  \n",
      "---  ------    --------------  -----  \n",
      " 0   Survived  891 non-null    int64  \n",
      " 1   Pclass    891 non-null    int64  \n",
      " 2   Name      891 non-null    object \n",
      " 3   Sex       891 non-null    object \n",
      " 4   Age       714 non-null    float64\n",
      " 5   SibSp     891 non-null    int64  \n",
      " 6   Parch     891 non-null    int64  \n",
      " 7   Ticket    891 non-null    object \n",
      " 8   Fare      891 non-null    float64\n",
      " 9   Cabin     204 non-null    object \n",
      " 10  Embarked  889 non-null    object \n",
      "dtypes: float64(2), int64(4), object(5)\n",
      "memory usage: 83.5+ KB\n"
     ]
    }
   ],
   "source": [
    "data.info()"
   ]
  },
  {
   "cell_type": "markdown",
   "metadata": {},
   "source": [
    "### Banco de Dados"
   ]
  },
  {
   "cell_type": "markdown",
   "metadata": {},
   "source": [
    "Para termos um banco de dados consistente, deleta-se as colunas que não possui uma quantidade de valores iguais ao número de casos do banco de dados original e que não possuem um valor interessante para ser analisado. Após isso, deleta-se todas as linhas que possuem algum atributo com valor nulo, para que todas as colunas tenham um número de valores igual."
   ]
  },
  {
   "cell_type": "code",
   "execution_count": 4,
   "metadata": {},
   "outputs": [
    {
     "name": "stdout",
     "output_type": "stream",
     "text": [
      "<class 'pandas.core.frame.DataFrame'>\n",
      "Int64Index: 714 entries, 1 to 891\n",
      "Data columns (total 7 columns):\n",
      " #   Column    Non-Null Count  Dtype  \n",
      "---  ------    --------------  -----  \n",
      " 0   Pclass    714 non-null    int64  \n",
      " 1   Sex       714 non-null    object \n",
      " 2   Age       714 non-null    float64\n",
      " 3   SibSp     714 non-null    int64  \n",
      " 4   Parch     714 non-null    int64  \n",
      " 5   Fare      714 non-null    float64\n",
      " 6   Survived  714 non-null    int64  \n",
      "dtypes: float64(2), int64(4), object(1)\n",
      "memory usage: 44.6+ KB\n"
     ]
    }
   ],
   "source": [
    "new_data = data[['Pclass', 'Sex', 'Age', 'SibSp', 'Parch', 'Fare', 'Survived']]\n",
    "new_data = new_data.dropna()\n",
    "new_data.info()"
   ]
  },
  {
   "cell_type": "markdown",
   "metadata": {},
   "source": [
    "Transforma-se a coluna \"Sex\" em valores númericos:"
   ]
  },
  {
   "cell_type": "code",
   "execution_count": 5,
   "metadata": {},
   "outputs": [
    {
     "data": {
      "text/html": [
       "<div>\n",
       "<style scoped>\n",
       "    .dataframe tbody tr th:only-of-type {\n",
       "        vertical-align: middle;\n",
       "    }\n",
       "\n",
       "    .dataframe tbody tr th {\n",
       "        vertical-align: top;\n",
       "    }\n",
       "\n",
       "    .dataframe thead th {\n",
       "        text-align: right;\n",
       "    }\n",
       "</style>\n",
       "<table border=\"1\" class=\"dataframe\">\n",
       "  <thead>\n",
       "    <tr style=\"text-align: right;\">\n",
       "      <th></th>\n",
       "      <th>Pclass</th>\n",
       "      <th>Sex</th>\n",
       "      <th>Age</th>\n",
       "      <th>SibSp</th>\n",
       "      <th>Parch</th>\n",
       "      <th>Fare</th>\n",
       "      <th>Survived</th>\n",
       "    </tr>\n",
       "    <tr>\n",
       "      <th>PassengerId</th>\n",
       "      <th></th>\n",
       "      <th></th>\n",
       "      <th></th>\n",
       "      <th></th>\n",
       "      <th></th>\n",
       "      <th></th>\n",
       "      <th></th>\n",
       "    </tr>\n",
       "  </thead>\n",
       "  <tbody>\n",
       "    <tr>\n",
       "      <th>1</th>\n",
       "      <td>3</td>\n",
       "      <td>0</td>\n",
       "      <td>22.0</td>\n",
       "      <td>1</td>\n",
       "      <td>0</td>\n",
       "      <td>7.2500</td>\n",
       "      <td>0</td>\n",
       "    </tr>\n",
       "    <tr>\n",
       "      <th>2</th>\n",
       "      <td>1</td>\n",
       "      <td>1</td>\n",
       "      <td>38.0</td>\n",
       "      <td>1</td>\n",
       "      <td>0</td>\n",
       "      <td>71.2833</td>\n",
       "      <td>1</td>\n",
       "    </tr>\n",
       "    <tr>\n",
       "      <th>3</th>\n",
       "      <td>3</td>\n",
       "      <td>1</td>\n",
       "      <td>26.0</td>\n",
       "      <td>0</td>\n",
       "      <td>0</td>\n",
       "      <td>7.9250</td>\n",
       "      <td>1</td>\n",
       "    </tr>\n",
       "    <tr>\n",
       "      <th>4</th>\n",
       "      <td>1</td>\n",
       "      <td>1</td>\n",
       "      <td>35.0</td>\n",
       "      <td>1</td>\n",
       "      <td>0</td>\n",
       "      <td>53.1000</td>\n",
       "      <td>1</td>\n",
       "    </tr>\n",
       "    <tr>\n",
       "      <th>5</th>\n",
       "      <td>3</td>\n",
       "      <td>0</td>\n",
       "      <td>35.0</td>\n",
       "      <td>0</td>\n",
       "      <td>0</td>\n",
       "      <td>8.0500</td>\n",
       "      <td>0</td>\n",
       "    </tr>\n",
       "  </tbody>\n",
       "</table>\n",
       "</div>"
      ],
      "text/plain": [
       "             Pclass  Sex   Age  SibSp  Parch     Fare  Survived\n",
       "PassengerId                                                    \n",
       "1                 3    0  22.0      1      0   7.2500         0\n",
       "2                 1    1  38.0      1      0  71.2833         1\n",
       "3                 3    1  26.0      0      0   7.9250         1\n",
       "4                 1    1  35.0      1      0  53.1000         1\n",
       "5                 3    0  35.0      0      0   8.0500         0"
      ]
     },
     "execution_count": 5,
     "metadata": {},
     "output_type": "execute_result"
    }
   ],
   "source": [
    "new_data['Sex'].replace(['female','male'],[1,0],inplace=True)\n",
    "new_data.head()"
   ]
  },
  {
   "cell_type": "code",
   "execution_count": 6,
   "metadata": {},
   "outputs": [
    {
     "data": {
      "text/plain": [
       "0    424\n",
       "1    290\n",
       "Name: Survived, dtype: int64"
      ]
     },
     "execution_count": 6,
     "metadata": {},
     "output_type": "execute_result"
    }
   ],
   "source": [
    "x = new_data.drop('Survived', axis=1)\n",
    "y = new_data['Survived']\n",
    "y.value_counts()\n"
   ]
  },
  {
   "cell_type": "markdown",
   "metadata": {},
   "source": [
    "Como pode-se ver, infelizmente tem-se uma quantidade maior de casos 0 (pessoa não sobreviveu) do que 1 (pessoa sobreviveu), e isso fará com que a Árvore de Decisão fique melhor treinada para casos 0 do que 1, devido ao desbalanceamento dos casos."
   ]
  },
  {
   "cell_type": "markdown",
   "metadata": {},
   "source": [
    "#### Experimentos"
   ]
  },
  {
   "cell_type": "markdown",
   "metadata": {},
   "source": [
    "Primeiramente, configura-se a Árvore de Decisão com um conjunto de treinamento correspondendo a 50% das observações do banco de dados, e o resto das observações para o conjunto de teste, também é configurado a função como sendo a de Entropia e o número máximo de profundidade da árvore como 5:"
   ]
  },
  {
   "cell_type": "code",
   "execution_count": 7,
   "metadata": {},
   "outputs": [
    {
     "name": "stdout",
     "output_type": "stream",
     "text": [
      "0.8207282913165266\n",
      "              precision    recall  f1-score   support\n",
      "\n",
      "           0       0.83      0.88      0.85       211\n",
      "           1       0.81      0.74      0.77       146\n",
      "\n",
      "    accuracy                           0.82       357\n",
      "   macro avg       0.82      0.81      0.81       357\n",
      "weighted avg       0.82      0.82      0.82       357\n",
      "\n"
     ]
    }
   ],
   "source": [
    "x_train, x_val, y_train, y_val = train_test_split(x, y, train_size=0.5, random_state=1)\n",
    "tree = DecisionTreeClassifier(criterion='entropy', max_depth=5, max_leaf_nodes=None, min_samples_leaf=1, min_samples_split=2)\n",
    "tree.fit(x_train,y_train)\n",
    "predicted = tree.predict(x_val)\n",
    "a_s = accuracy_score(y_val, predicted)\n",
    "print(a_s)\n",
    "report = classification_report(y_val, predicted)\n",
    "print(report)"
   ]
  },
  {
   "cell_type": "markdown",
   "metadata": {},
   "source": [
    "Altera-se o número da profundidade da árvore para 10:"
   ]
  },
  {
   "cell_type": "code",
   "execution_count": 8,
   "metadata": {},
   "outputs": [
    {
     "name": "stdout",
     "output_type": "stream",
     "text": [
      "0.7955182072829131\n",
      "              precision    recall  f1-score   support\n",
      "\n",
      "           0       0.81      0.86      0.83       211\n",
      "           1       0.77      0.71      0.74       146\n",
      "\n",
      "    accuracy                           0.80       357\n",
      "   macro avg       0.79      0.78      0.79       357\n",
      "weighted avg       0.79      0.80      0.79       357\n",
      "\n"
     ]
    }
   ],
   "source": [
    "x_train, x_val, y_train, y_val = train_test_split(x, y, train_size=0.5, random_state=1)\n",
    "tree = DecisionTreeClassifier(criterion='entropy', max_depth=10, max_leaf_nodes=None, min_samples_leaf=1, min_samples_split=2)\n",
    "tree.fit(x_train,y_train)\n",
    "predicted = tree.predict(x_val)\n",
    "a_s = accuracy_score(y_val, predicted)\n",
    "print(a_s)\n",
    "report = classification_report(y_val, predicted)\n",
    "print(report)"
   ]
  },
  {
   "cell_type": "markdown",
   "metadata": {},
   "source": [
    "Altera-se o número da profundidade da árvore para 15:"
   ]
  },
  {
   "cell_type": "code",
   "execution_count": 9,
   "metadata": {},
   "outputs": [
    {
     "name": "stdout",
     "output_type": "stream",
     "text": [
      "0.7535014005602241\n",
      "              precision    recall  f1-score   support\n",
      "\n",
      "           0       0.80      0.78      0.79       211\n",
      "           1       0.69      0.72      0.70       146\n",
      "\n",
      "    accuracy                           0.75       357\n",
      "   macro avg       0.75      0.75      0.75       357\n",
      "weighted avg       0.76      0.75      0.75       357\n",
      "\n"
     ]
    }
   ],
   "source": [
    "x_train, x_val, y_train, y_val = train_test_split(x, y, train_size=0.5, random_state=1)\n",
    "tree = DecisionTreeClassifier(criterion='entropy', max_depth=15, max_leaf_nodes=None, min_samples_leaf=1, min_samples_split=2)\n",
    "tree.fit(x_train,y_train)\n",
    "predicted = tree.predict(x_val)\n",
    "a_s = accuracy_score(y_val, predicted)\n",
    "print(a_s)\n",
    "report = classification_report(y_val, predicted)\n",
    "print(report)"
   ]
  },
  {
   "cell_type": "markdown",
   "metadata": {},
   "source": [
    "Como pôde-se ver, uma maior profundidade da Árvore de Decisão resulta em uma menor *accuracy*, *precision* e *recall*."
   ]
  },
  {
   "cell_type": "markdown",
   "metadata": {},
   "source": [
    "Em seguida, altera-se a porcentagem do conjunto de treinamento para 75% do banco de dados, sendo o restante para o conjunto de teste:"
   ]
  },
  {
   "cell_type": "code",
   "execution_count": 10,
   "metadata": {},
   "outputs": [
    {
     "name": "stdout",
     "output_type": "stream",
     "text": [
      "0.8435754189944135\n",
      "              precision    recall  f1-score   support\n",
      "\n",
      "           0       0.82      0.96      0.89       112\n",
      "           1       0.91      0.64      0.75        67\n",
      "\n",
      "    accuracy                           0.84       179\n",
      "   macro avg       0.87      0.80      0.82       179\n",
      "weighted avg       0.85      0.84      0.84       179\n",
      "\n"
     ]
    }
   ],
   "source": [
    "x_train, x_val, y_train, y_val = train_test_split(x, y, train_size=0.75, random_state=1)\n",
    "tree = DecisionTreeClassifier(criterion='entropy', max_depth=5, max_leaf_nodes=None, min_samples_leaf=1, min_samples_split=2)\n",
    "tree.fit(x_train,y_train)\n",
    "predicted = tree.predict(x_val)\n",
    "a_s = accuracy_score(y_val, predicted)\n",
    "print(a_s)\n",
    "report = classification_report(y_val, predicted)\n",
    "print(report)"
   ]
  },
  {
   "cell_type": "markdown",
   "metadata": {},
   "source": [
    "Altera-se o número da profundidade da árvore para 4:"
   ]
  },
  {
   "cell_type": "code",
   "execution_count": 11,
   "metadata": {},
   "outputs": [
    {
     "name": "stdout",
     "output_type": "stream",
     "text": [
      "0.8491620111731844\n",
      "              precision    recall  f1-score   support\n",
      "\n",
      "           0       0.88      0.88      0.88       112\n",
      "           1       0.80      0.79      0.80        67\n",
      "\n",
      "    accuracy                           0.85       179\n",
      "   macro avg       0.84      0.84      0.84       179\n",
      "weighted avg       0.85      0.85      0.85       179\n",
      "\n"
     ]
    }
   ],
   "source": [
    "x_train, x_val, y_train, y_val = train_test_split(x, y, train_size=0.75, random_state=1)\n",
    "tree = DecisionTreeClassifier(criterion='entropy', max_depth=4, max_leaf_nodes=None, min_samples_leaf=1, min_samples_split=2)\n",
    "tree.fit(x_train,y_train)\n",
    "predicted = tree.predict(x_val)\n",
    "a_s = accuracy_score(y_val, predicted)\n",
    "print(a_s)\n",
    "report = classification_report(y_val, predicted)\n",
    "print(report)"
   ]
  },
  {
   "cell_type": "markdown",
   "metadata": {},
   "source": [
    "Altera-se a função para a Gini:"
   ]
  },
  {
   "cell_type": "code",
   "execution_count": 12,
   "metadata": {},
   "outputs": [
    {
     "name": "stdout",
     "output_type": "stream",
     "text": [
      "0.8547486033519553\n",
      "              precision    recall  f1-score   support\n",
      "\n",
      "           0       0.86      0.92      0.89       112\n",
      "           1       0.85      0.75      0.79        67\n",
      "\n",
      "    accuracy                           0.85       179\n",
      "   macro avg       0.85      0.83      0.84       179\n",
      "weighted avg       0.85      0.85      0.85       179\n",
      "\n"
     ]
    }
   ],
   "source": [
    "x_train, x_val, y_train, y_val = train_test_split(x, y, train_size=0.75, random_state=1)\n",
    "tree = DecisionTreeClassifier(max_depth=4, max_leaf_nodes=None, min_samples_leaf=1, min_samples_split=2)\n",
    "tree.fit(x_train,y_train)\n",
    "predicted = tree.predict(x_val)\n",
    "a_s = accuracy_score(y_val, predicted)\n",
    "print(a_s)\n",
    "report = classification_report(y_val, predicted)\n",
    "print(report)"
   ]
  },
  {
   "cell_type": "markdown",
   "metadata": {},
   "source": [
    "Nos próximos testes foi-se alterado o valor de *random_state* para variar a seleção dos casos para *x_train*, *x_test*, *y_train* e *y_test*."
   ]
  },
  {
   "cell_type": "code",
   "execution_count": 13,
   "metadata": {},
   "outputs": [
    {
     "name": "stdout",
     "output_type": "stream",
     "text": [
      "0.8044692737430168\n",
      "              precision    recall  f1-score   support\n",
      "\n",
      "           0       0.80      0.87      0.84       103\n",
      "           1       0.81      0.71      0.76        76\n",
      "\n",
      "    accuracy                           0.80       179\n",
      "   macro avg       0.80      0.79      0.80       179\n",
      "weighted avg       0.80      0.80      0.80       179\n",
      "\n"
     ]
    }
   ],
   "source": [
    "x_train, x_val, y_train, y_val = train_test_split(x, y, train_size=0.75, random_state=0)\n",
    "tree = DecisionTreeClassifier(max_depth=4, max_leaf_nodes=None, min_samples_leaf=1, min_samples_split=2)\n",
    "tree.fit(x_train,y_train)\n",
    "predicted = tree.predict(x_val)\n",
    "a_s = accuracy_score(y_val, predicted)\n",
    "print(a_s)\n",
    "report = classification_report(y_val, predicted)\n",
    "print(report)"
   ]
  },
  {
   "cell_type": "code",
   "execution_count": 14,
   "metadata": {},
   "outputs": [
    {
     "name": "stdout",
     "output_type": "stream",
     "text": [
      "0.7541899441340782\n",
      "              precision    recall  f1-score   support\n",
      "\n",
      "           0       0.80      0.77      0.78       103\n",
      "           1       0.70      0.74      0.72        76\n",
      "\n",
      "    accuracy                           0.75       179\n",
      "   macro avg       0.75      0.75      0.75       179\n",
      "weighted avg       0.76      0.75      0.75       179\n",
      "\n"
     ]
    }
   ],
   "source": [
    "x_train, x_val, y_train, y_val = train_test_split(x, y, train_size=0.75, random_state=25)\n",
    "tree = DecisionTreeClassifier(max_depth=4, max_leaf_nodes=None, min_samples_leaf=1, min_samples_split=2)\n",
    "tree.fit(x_train,y_train)\n",
    "predicted = tree.predict(x_val)\n",
    "a_s = accuracy_score(y_val, predicted)\n",
    "print(a_s)\n",
    "report = classification_report(y_val, predicted)\n",
    "print(report)"
   ]
  },
  {
   "cell_type": "code",
   "execution_count": 15,
   "metadata": {},
   "outputs": [
    {
     "name": "stdout",
     "output_type": "stream",
     "text": [
      "0.7932960893854749\n",
      "              precision    recall  f1-score   support\n",
      "\n",
      "           0       0.81      0.83      0.82       101\n",
      "           1       0.77      0.74      0.76        78\n",
      "\n",
      "    accuracy                           0.79       179\n",
      "   macro avg       0.79      0.79      0.79       179\n",
      "weighted avg       0.79      0.79      0.79       179\n",
      "\n"
     ]
    }
   ],
   "source": [
    "x_train, x_val, y_train, y_val = train_test_split(x, y, train_size=0.75, random_state=40)\n",
    "tree = DecisionTreeClassifier(max_depth=4, max_leaf_nodes=None, min_samples_leaf=1, min_samples_split=2)\n",
    "tree.fit(x_train,y_train)\n",
    "predicted = tree.predict(x_val)\n",
    "a_s = accuracy_score(y_val, predicted)\n",
    "print(a_s)\n",
    "report = classification_report(y_val, predicted)\n",
    "print(report)"
   ]
  },
  {
   "cell_type": "code",
   "execution_count": 16,
   "metadata": {},
   "outputs": [
    {
     "name": "stdout",
     "output_type": "stream",
     "text": [
      "0.8044692737430168\n",
      "              precision    recall  f1-score   support\n",
      "\n",
      "           0       0.78      0.91      0.84       103\n",
      "           1       0.85      0.66      0.74        76\n",
      "\n",
      "    accuracy                           0.80       179\n",
      "   macro avg       0.82      0.79      0.79       179\n",
      "weighted avg       0.81      0.80      0.80       179\n",
      "\n"
     ]
    }
   ],
   "source": [
    "x_train, x_val, y_train, y_val = train_test_split(x, y, train_size=0.75, random_state=13)\n",
    "tree = DecisionTreeClassifier(max_depth=4, max_leaf_nodes=None, min_samples_leaf=1, min_samples_split=2)\n",
    "tree.fit(x_train,y_train)\n",
    "predicted = tree.predict(x_val)\n",
    "a_s = accuracy_score(y_val, predicted)\n",
    "print(a_s)\n",
    "report = classification_report(y_val, predicted)\n",
    "print(report)"
   ]
  },
  {
   "cell_type": "markdown",
   "metadata": {},
   "source": [
    "O *random_state=1* mostrou os melhores resultados."
   ]
  },
  {
   "cell_type": "markdown",
   "metadata": {},
   "source": [
    "Altera-se a profundidade máxima da árvore para 5:"
   ]
  },
  {
   "cell_type": "code",
   "execution_count": 17,
   "metadata": {},
   "outputs": [
    {
     "name": "stdout",
     "output_type": "stream",
     "text": [
      "0.8547486033519553\n",
      "              precision    recall  f1-score   support\n",
      "\n",
      "           0       0.86      0.91      0.89       112\n",
      "           1       0.84      0.76      0.80        67\n",
      "\n",
      "    accuracy                           0.85       179\n",
      "   macro avg       0.85      0.84      0.84       179\n",
      "weighted avg       0.85      0.85      0.85       179\n",
      "\n"
     ]
    }
   ],
   "source": [
    "x_train, x_val, y_train, y_val = train_test_split(x, y, train_size=0.75, random_state=1)\n",
    "tree = DecisionTreeClassifier(max_depth=5, max_leaf_nodes=None, min_samples_leaf=1, min_samples_split=2)\n",
    "tree.fit(x_train,y_train)\n",
    "predicted = tree.predict(x_val)\n",
    "a_s = accuracy_score(y_val, predicted)\n",
    "print(a_s)\n",
    "report = classification_report(y_val, predicted)\n",
    "print(report)"
   ]
  },
  {
   "cell_type": "markdown",
   "metadata": {},
   "source": [
    "Como pôde-se ver, a melhor Árvore de Decisão que foi obtida foi a que teve os seguintes parâmetros: *train_size=0.75*, *random_state=1*, *max_depth=5* e *criterion=gini*."
   ]
  },
  {
   "cell_type": "markdown",
   "metadata": {},
   "source": [
    "Alteram-se os valores de *max_leaf_nodes* (número máximo de folhas), *min_samples_leaf* (número mínimo de amostras para o nó ser considerado uma folha) e *min_samples_split* (número mínimo de amostras para dividir um nó interno):"
   ]
  },
  {
   "cell_type": "code",
   "execution_count": 18,
   "metadata": {},
   "outputs": [
    {
     "name": "stdout",
     "output_type": "stream",
     "text": [
      "0.8212290502793296\n",
      "              precision    recall  f1-score   support\n",
      "\n",
      "           0       0.80      0.96      0.87       112\n",
      "           1       0.89      0.60      0.71        67\n",
      "\n",
      "    accuracy                           0.82       179\n",
      "   macro avg       0.84      0.78      0.79       179\n",
      "weighted avg       0.83      0.82      0.81       179\n",
      "\n"
     ]
    }
   ],
   "source": [
    "x_train, x_val, y_train, y_val = train_test_split(x, y, train_size=0.75, random_state=1)\n",
    "tree = DecisionTreeClassifier(max_depth=4, max_leaf_nodes=5, min_samples_leaf=1, min_samples_split=2)\n",
    "tree.fit(x_train,y_train)\n",
    "predicted = tree.predict(x_val)\n",
    "a_s = accuracy_score(y_val, predicted)\n",
    "print(a_s)\n",
    "report = classification_report(y_val, predicted)\n",
    "print(report)"
   ]
  },
  {
   "cell_type": "code",
   "execution_count": 19,
   "metadata": {},
   "outputs": [
    {
     "name": "stdout",
     "output_type": "stream",
     "text": [
      "0.8547486033519553\n",
      "              precision    recall  f1-score   support\n",
      "\n",
      "           0       0.86      0.92      0.89       112\n",
      "           1       0.85      0.75      0.79        67\n",
      "\n",
      "    accuracy                           0.85       179\n",
      "   macro avg       0.85      0.83      0.84       179\n",
      "weighted avg       0.85      0.85      0.85       179\n",
      "\n"
     ]
    }
   ],
   "source": [
    "x_train, x_val, y_train, y_val = train_test_split(x, y, train_size=0.75, random_state=1)\n",
    "tree = DecisionTreeClassifier(max_depth=4, max_leaf_nodes=10, min_samples_leaf=1, min_samples_split=2)\n",
    "tree.fit(x_train,y_train)\n",
    "predicted = tree.predict(x_val)\n",
    "a_s = accuracy_score(y_val, predicted)\n",
    "print(a_s)\n",
    "report = classification_report(y_val, predicted)\n",
    "print(report)"
   ]
  },
  {
   "cell_type": "code",
   "execution_count": 20,
   "metadata": {},
   "outputs": [
    {
     "name": "stdout",
     "output_type": "stream",
     "text": [
      "0.8547486033519553\n",
      "              precision    recall  f1-score   support\n",
      "\n",
      "           0       0.86      0.92      0.89       112\n",
      "           1       0.85      0.75      0.79        67\n",
      "\n",
      "    accuracy                           0.85       179\n",
      "   macro avg       0.85      0.83      0.84       179\n",
      "weighted avg       0.85      0.85      0.85       179\n",
      "\n"
     ]
    }
   ],
   "source": [
    "x_train, x_val, y_train, y_val = train_test_split(x, y, train_size=0.75, random_state=1)\n",
    "tree = DecisionTreeClassifier(max_depth=4, max_leaf_nodes=10, min_samples_leaf=5, min_samples_split=2)\n",
    "tree.fit(x_train,y_train)\n",
    "predicted = tree.predict(x_val)\n",
    "a_s = accuracy_score(y_val, predicted)\n",
    "print(a_s)\n",
    "report = classification_report(y_val, predicted)\n",
    "print(report)"
   ]
  },
  {
   "cell_type": "code",
   "execution_count": 21,
   "metadata": {},
   "outputs": [
    {
     "name": "stdout",
     "output_type": "stream",
     "text": [
      "0.8268156424581006\n",
      "              precision    recall  f1-score   support\n",
      "\n",
      "           0       0.85      0.88      0.86       112\n",
      "           1       0.78      0.75      0.76        67\n",
      "\n",
      "    accuracy                           0.83       179\n",
      "   macro avg       0.82      0.81      0.81       179\n",
      "weighted avg       0.83      0.83      0.83       179\n",
      "\n"
     ]
    }
   ],
   "source": [
    "x_train, x_val, y_train, y_val = train_test_split(x, y, train_size=0.75, random_state=1)\n",
    "tree = DecisionTreeClassifier(max_depth=4, max_leaf_nodes=10, min_samples_leaf=10, min_samples_split=2)\n",
    "tree.fit(x_train,y_train)\n",
    "predicted = tree.predict(x_val)\n",
    "a_s = accuracy_score(y_val, predicted)\n",
    "print(a_s)\n",
    "report = classification_report(y_val, predicted)\n",
    "print(report)"
   ]
  },
  {
   "cell_type": "code",
   "execution_count": 22,
   "metadata": {},
   "outputs": [
    {
     "name": "stdout",
     "output_type": "stream",
     "text": [
      "0.8547486033519553\n",
      "              precision    recall  f1-score   support\n",
      "\n",
      "           0       0.86      0.92      0.89       112\n",
      "           1       0.85      0.75      0.79        67\n",
      "\n",
      "    accuracy                           0.85       179\n",
      "   macro avg       0.85      0.83      0.84       179\n",
      "weighted avg       0.85      0.85      0.85       179\n",
      "\n"
     ]
    }
   ],
   "source": [
    "x_train, x_val, y_train, y_val = train_test_split(x, y, train_size=0.75, random_state=1)\n",
    "tree = DecisionTreeClassifier(max_depth=4, max_leaf_nodes=10, min_samples_leaf=1, min_samples_split=10)\n",
    "tree.fit(x_train,y_train)\n",
    "predicted = tree.predict(x_val)\n",
    "a_s = accuracy_score(y_val, predicted)\n",
    "print(a_s)\n",
    "report = classification_report(y_val, predicted)\n",
    "print(report)"
   ]
  },
  {
   "cell_type": "code",
   "execution_count": 23,
   "metadata": {},
   "outputs": [
    {
     "name": "stdout",
     "output_type": "stream",
     "text": [
      "0.8547486033519553\n",
      "              precision    recall  f1-score   support\n",
      "\n",
      "           0       0.86      0.92      0.89       112\n",
      "           1       0.85      0.75      0.79        67\n",
      "\n",
      "    accuracy                           0.85       179\n",
      "   macro avg       0.85      0.83      0.84       179\n",
      "weighted avg       0.85      0.85      0.85       179\n",
      "\n"
     ]
    }
   ],
   "source": [
    "x_train, x_val, y_train, y_val = train_test_split(x, y, train_size=0.75, random_state=1)\n",
    "tree = DecisionTreeClassifier(max_depth=4, max_leaf_nodes=10, min_samples_leaf=1, min_samples_split=15)\n",
    "tree.fit(x_train,y_train)\n",
    "predicted = tree.predict(x_val)\n",
    "a_s = accuracy_score(y_val, predicted)\n",
    "print(a_s)\n",
    "report = classification_report(y_val, predicted)\n",
    "print(report)"
   ]
  },
  {
   "cell_type": "markdown",
   "metadata": {},
   "source": [
    "Analisando-se os experimentos, pode-se ver que um aumento no *max_leaf_nodes* provoca uma melhora nos resultados, enquanto um aumento no *min_samples_leaf* provoca uma piora nos resultados, já a alteração em *min_samples_split* não provoca nenhuma mudança nos resultados."
   ]
  },
  {
   "cell_type": "markdown",
   "metadata": {},
   "source": [
    "### Utiliza-se uma nova base de dados:"
   ]
  },
  {
   "cell_type": "code",
   "execution_count": 24,
   "metadata": {},
   "outputs": [
    {
     "name": "stdout",
     "output_type": "stream",
     "text": [
      "<class 'pandas.core.frame.DataFrame'>\n",
      "Int64Index: 712 entries, 1 to 891\n",
      "Data columns (total 8 columns):\n",
      " #   Column    Non-Null Count  Dtype  \n",
      "---  ------    --------------  -----  \n",
      " 0   Pclass    712 non-null    int64  \n",
      " 1   Sex       712 non-null    int64  \n",
      " 2   Age       712 non-null    float64\n",
      " 3   SibSp     712 non-null    int64  \n",
      " 4   Parch     712 non-null    int64  \n",
      " 5   Fare      712 non-null    float64\n",
      " 6   Embarked  712 non-null    int64  \n",
      " 7   Survived  712 non-null    int64  \n",
      "dtypes: float64(2), int64(6)\n",
      "memory usage: 50.1 KB\n"
     ]
    },
    {
     "data": {
      "text/html": [
       "<div>\n",
       "<style scoped>\n",
       "    .dataframe tbody tr th:only-of-type {\n",
       "        vertical-align: middle;\n",
       "    }\n",
       "\n",
       "    .dataframe tbody tr th {\n",
       "        vertical-align: top;\n",
       "    }\n",
       "\n",
       "    .dataframe thead th {\n",
       "        text-align: right;\n",
       "    }\n",
       "</style>\n",
       "<table border=\"1\" class=\"dataframe\">\n",
       "  <thead>\n",
       "    <tr style=\"text-align: right;\">\n",
       "      <th></th>\n",
       "      <th>Pclass</th>\n",
       "      <th>Sex</th>\n",
       "      <th>Age</th>\n",
       "      <th>SibSp</th>\n",
       "      <th>Parch</th>\n",
       "      <th>Fare</th>\n",
       "      <th>Embarked</th>\n",
       "      <th>Survived</th>\n",
       "    </tr>\n",
       "    <tr>\n",
       "      <th>PassengerId</th>\n",
       "      <th></th>\n",
       "      <th></th>\n",
       "      <th></th>\n",
       "      <th></th>\n",
       "      <th></th>\n",
       "      <th></th>\n",
       "      <th></th>\n",
       "      <th></th>\n",
       "    </tr>\n",
       "  </thead>\n",
       "  <tbody>\n",
       "    <tr>\n",
       "      <th>1</th>\n",
       "      <td>3</td>\n",
       "      <td>0</td>\n",
       "      <td>22.0</td>\n",
       "      <td>1</td>\n",
       "      <td>0</td>\n",
       "      <td>7.2500</td>\n",
       "      <td>0</td>\n",
       "      <td>0</td>\n",
       "    </tr>\n",
       "    <tr>\n",
       "      <th>2</th>\n",
       "      <td>1</td>\n",
       "      <td>1</td>\n",
       "      <td>38.0</td>\n",
       "      <td>1</td>\n",
       "      <td>0</td>\n",
       "      <td>71.2833</td>\n",
       "      <td>1</td>\n",
       "      <td>1</td>\n",
       "    </tr>\n",
       "    <tr>\n",
       "      <th>3</th>\n",
       "      <td>3</td>\n",
       "      <td>1</td>\n",
       "      <td>26.0</td>\n",
       "      <td>0</td>\n",
       "      <td>0</td>\n",
       "      <td>7.9250</td>\n",
       "      <td>0</td>\n",
       "      <td>1</td>\n",
       "    </tr>\n",
       "    <tr>\n",
       "      <th>4</th>\n",
       "      <td>1</td>\n",
       "      <td>1</td>\n",
       "      <td>35.0</td>\n",
       "      <td>1</td>\n",
       "      <td>0</td>\n",
       "      <td>53.1000</td>\n",
       "      <td>0</td>\n",
       "      <td>1</td>\n",
       "    </tr>\n",
       "    <tr>\n",
       "      <th>5</th>\n",
       "      <td>3</td>\n",
       "      <td>0</td>\n",
       "      <td>35.0</td>\n",
       "      <td>0</td>\n",
       "      <td>0</td>\n",
       "      <td>8.0500</td>\n",
       "      <td>0</td>\n",
       "      <td>0</td>\n",
       "    </tr>\n",
       "  </tbody>\n",
       "</table>\n",
       "</div>"
      ],
      "text/plain": [
       "             Pclass  Sex   Age  SibSp  Parch     Fare  Embarked  Survived\n",
       "PassengerId                                                              \n",
       "1                 3    0  22.0      1      0   7.2500         0         0\n",
       "2                 1    1  38.0      1      0  71.2833         1         1\n",
       "3                 3    1  26.0      0      0   7.9250         0         1\n",
       "4                 1    1  35.0      1      0  53.1000         0         1\n",
       "5                 3    0  35.0      0      0   8.0500         0         0"
      ]
     },
     "execution_count": 24,
     "metadata": {},
     "output_type": "execute_result"
    }
   ],
   "source": [
    "new_data2 = data[['Pclass', 'Sex', 'Age', 'SibSp', 'Parch', 'Fare', 'Embarked', 'Survived']]\n",
    "new_data2 = new_data2.dropna()\n",
    "new_data2['Sex'].replace(['female','male'],[1,0],inplace=True)\n",
    "new_data2['Embarked'].replace(['S','C', 'Q'],[0,1,2],inplace=True)\n",
    "new_data2.info()\n",
    "new_data2.head()"
   ]
  },
  {
   "cell_type": "code",
   "execution_count": 25,
   "metadata": {},
   "outputs": [],
   "source": [
    "x = new_data2.drop('Survived', axis=1)\n",
    "y = new_data2['Survived']"
   ]
  },
  {
   "cell_type": "markdown",
   "metadata": {},
   "source": [
    "#### Experimentos"
   ]
  },
  {
   "cell_type": "code",
   "execution_count": 26,
   "metadata": {},
   "outputs": [
    {
     "name": "stdout",
     "output_type": "stream",
     "text": [
      "0.7921348314606742\n",
      "              precision    recall  f1-score   support\n",
      "\n",
      "           0       0.78      0.88      0.83       102\n",
      "           1       0.81      0.67      0.73        76\n",
      "\n",
      "    accuracy                           0.79       178\n",
      "   macro avg       0.80      0.78      0.78       178\n",
      "weighted avg       0.79      0.79      0.79       178\n",
      "\n"
     ]
    }
   ],
   "source": [
    "x_train, x_val, y_train, y_val = train_test_split(x, y, train_size=0.75, random_state=1)\n",
    "tree = DecisionTreeClassifier(max_depth=4, max_leaf_nodes=None, min_samples_leaf=1, min_samples_split=2)\n",
    "tree.fit(x_train,y_train)\n",
    "predicted = tree.predict(x_val)\n",
    "a_s = accuracy_score(y_val, predicted)\n",
    "print(a_s)\n",
    "report = classification_report(y_val, predicted)\n",
    "print(report)"
   ]
  },
  {
   "cell_type": "markdown",
   "metadata": {
    "tags": []
   },
   "source": [
    "Alteram-se os valores de *random_state* :"
   ]
  },
  {
   "cell_type": "code",
   "execution_count": 27,
   "metadata": {
    "tags": []
   },
   "outputs": [
    {
     "name": "stdout",
     "output_type": "stream",
     "text": [
      "0.8033707865168539\n",
      "              precision    recall  f1-score   support\n",
      "\n",
      "           0       0.81      0.88      0.84       104\n",
      "           1       0.80      0.70      0.75        74\n",
      "\n",
      "    accuracy                           0.80       178\n",
      "   macro avg       0.80      0.79      0.79       178\n",
      "weighted avg       0.80      0.80      0.80       178\n",
      "\n"
     ]
    }
   ],
   "source": [
    "x_train, x_val, y_train, y_val = train_test_split(x, y, train_size=0.75, random_state=0)\n",
    "tree = DecisionTreeClassifier(max_depth=4, max_leaf_nodes=None, min_samples_leaf=1, min_samples_split=2)\n",
    "tree.fit(x_train,y_train)\n",
    "predicted = tree.predict(x_val)\n",
    "a_s = accuracy_score(y_val, predicted)\n",
    "print(a_s)\n",
    "report = classification_report(y_val, predicted)\n",
    "print(report)"
   ]
  },
  {
   "cell_type": "code",
   "execution_count": 28,
   "metadata": {},
   "outputs": [
    {
     "name": "stdout",
     "output_type": "stream",
     "text": [
      "0.797752808988764\n",
      "              precision    recall  f1-score   support\n",
      "\n",
      "           0       0.85      0.81      0.83       108\n",
      "           1       0.72      0.79      0.75        70\n",
      "\n",
      "    accuracy                           0.80       178\n",
      "   macro avg       0.79      0.80      0.79       178\n",
      "weighted avg       0.80      0.80      0.80       178\n",
      "\n"
     ]
    }
   ],
   "source": [
    "x_train, x_val, y_train, y_val = train_test_split(x, y, train_size=0.75, random_state=13)\n",
    "tree = DecisionTreeClassifier(max_depth=4, max_leaf_nodes=None, min_samples_leaf=1, min_samples_split=2)\n",
    "tree.fit(x_train,y_train)\n",
    "predicted = tree.predict(x_val)\n",
    "a_s = accuracy_score(y_val, predicted)\n",
    "print(a_s)\n",
    "report = classification_report(y_val, predicted)\n",
    "print(report)"
   ]
  },
  {
   "cell_type": "code",
   "execution_count": 29,
   "metadata": {},
   "outputs": [
    {
     "name": "stdout",
     "output_type": "stream",
     "text": [
      "0.7865168539325843\n",
      "              precision    recall  f1-score   support\n",
      "\n",
      "           0       0.78      0.92      0.84       110\n",
      "           1       0.81      0.57      0.67        68\n",
      "\n",
      "    accuracy                           0.79       178\n",
      "   macro avg       0.79      0.75      0.76       178\n",
      "weighted avg       0.79      0.79      0.78       178\n",
      "\n"
     ]
    }
   ],
   "source": [
    "x_train, x_val, y_train, y_val = train_test_split(x, y, train_size=0.75, random_state=40)\n",
    "tree = DecisionTreeClassifier(max_depth=4, max_leaf_nodes=None, min_samples_leaf=1, min_samples_split=2)\n",
    "tree.fit(x_train,y_train)\n",
    "predicted = tree.predict(x_val)\n",
    "a_s = accuracy_score(y_val, predicted)\n",
    "print(a_s)\n",
    "report = classification_report(y_val, predicted)\n",
    "print(report)"
   ]
  },
  {
   "cell_type": "markdown",
   "metadata": {},
   "source": [
    "Altera-se a função para Entropia:"
   ]
  },
  {
   "cell_type": "code",
   "execution_count": 30,
   "metadata": {},
   "outputs": [
    {
     "name": "stdout",
     "output_type": "stream",
     "text": [
      "0.7921348314606742\n",
      "              precision    recall  f1-score   support\n",
      "\n",
      "           0       0.78      0.90      0.84       104\n",
      "           1       0.82      0.64      0.72        74\n",
      "\n",
      "    accuracy                           0.79       178\n",
      "   macro avg       0.80      0.77      0.78       178\n",
      "weighted avg       0.80      0.79      0.79       178\n",
      "\n"
     ]
    }
   ],
   "source": [
    "x_train, x_val, y_train, y_val = train_test_split(x, y, train_size=0.75, random_state=0)\n",
    "tree = DecisionTreeClassifier(criterion='entropy', max_depth=4, max_leaf_nodes=None, min_samples_leaf=1, min_samples_split=2)\n",
    "tree.fit(x_train,y_train)\n",
    "predicted = tree.predict(x_val)\n",
    "a_s = accuracy_score(y_val, predicted)\n",
    "print(a_s)\n",
    "report = classification_report(y_val, predicted)\n",
    "print(report)"
   ]
  },
  {
   "cell_type": "markdown",
   "metadata": {},
   "source": [
    "Conclui-se que o uso de um novo banco de dados não trouxe melhoras nos resultados obtidos."
   ]
  },
  {
   "cell_type": "markdown",
   "metadata": {},
   "source": [
    "Como a base de dados é desbalanceada, podemos tentar um balanceamento na base antes de testar, inicialmente repetiremos os primeiros experimentos com uma base de dados balanceada a partir de repetição de dados que faltam."
   ]
  },
  {
   "cell_type": "code",
   "execution_count": 31,
   "metadata": {},
   "outputs": [
    {
     "name": "stdout",
     "output_type": "stream",
     "text": [
      "<class 'pandas.core.frame.DataFrame'>\n",
      "Int64Index: 895 entries, 0 to 1097\n",
      "Data columns (total 7 columns):\n",
      " #   Column    Non-Null Count  Dtype  \n",
      "---  ------    --------------  -----  \n",
      " 0   Pclass    895 non-null    int64  \n",
      " 1   Sex       895 non-null    int64  \n",
      " 2   Age       895 non-null    float64\n",
      " 3   SibSp     895 non-null    int64  \n",
      " 4   Parch     895 non-null    int64  \n",
      " 5   Fare      895 non-null    float64\n",
      " 6   Survived  895 non-null    int64  \n",
      "dtypes: float64(2), int64(5)\n",
      "memory usage: 55.9 KB\n"
     ]
    },
    {
     "data": {
      "text/html": [
       "<div>\n",
       "<style scoped>\n",
       "    .dataframe tbody tr th:only-of-type {\n",
       "        vertical-align: middle;\n",
       "    }\n",
       "\n",
       "    .dataframe tbody tr th {\n",
       "        vertical-align: top;\n",
       "    }\n",
       "\n",
       "    .dataframe thead th {\n",
       "        text-align: right;\n",
       "    }\n",
       "</style>\n",
       "<table border=\"1\" class=\"dataframe\">\n",
       "  <thead>\n",
       "    <tr style=\"text-align: right;\">\n",
       "      <th></th>\n",
       "      <th>Pclass</th>\n",
       "      <th>Sex</th>\n",
       "      <th>Age</th>\n",
       "      <th>SibSp</th>\n",
       "      <th>Parch</th>\n",
       "      <th>Fare</th>\n",
       "      <th>Survived</th>\n",
       "    </tr>\n",
       "  </thead>\n",
       "  <tbody>\n",
       "    <tr>\n",
       "      <th>0</th>\n",
       "      <td>3</td>\n",
       "      <td>0</td>\n",
       "      <td>22.0</td>\n",
       "      <td>1</td>\n",
       "      <td>0</td>\n",
       "      <td>7.2500</td>\n",
       "      <td>0</td>\n",
       "    </tr>\n",
       "    <tr>\n",
       "      <th>1</th>\n",
       "      <td>3</td>\n",
       "      <td>0</td>\n",
       "      <td>32.0</td>\n",
       "      <td>0</td>\n",
       "      <td>0</td>\n",
       "      <td>7.8958</td>\n",
       "      <td>0</td>\n",
       "    </tr>\n",
       "    <tr>\n",
       "      <th>2</th>\n",
       "      <td>3</td>\n",
       "      <td>0</td>\n",
       "      <td>22.0</td>\n",
       "      <td>0</td>\n",
       "      <td>0</td>\n",
       "      <td>7.8958</td>\n",
       "      <td>0</td>\n",
       "    </tr>\n",
       "    <tr>\n",
       "      <th>5</th>\n",
       "      <td>3</td>\n",
       "      <td>0</td>\n",
       "      <td>40.5</td>\n",
       "      <td>0</td>\n",
       "      <td>0</td>\n",
       "      <td>7.7500</td>\n",
       "      <td>0</td>\n",
       "    </tr>\n",
       "    <tr>\n",
       "      <th>7</th>\n",
       "      <td>3</td>\n",
       "      <td>0</td>\n",
       "      <td>39.0</td>\n",
       "      <td>0</td>\n",
       "      <td>0</td>\n",
       "      <td>7.9250</td>\n",
       "      <td>0</td>\n",
       "    </tr>\n",
       "  </tbody>\n",
       "</table>\n",
       "</div>"
      ],
      "text/plain": [
       "   Pclass  Sex   Age  SibSp  Parch    Fare  Survived\n",
       "0       3    0  22.0      1      0  7.2500         0\n",
       "1       3    0  32.0      0      0  7.8958         0\n",
       "2       3    0  22.0      0      0  7.8958         0\n",
       "5       3    0  40.5      0      0  7.7500         0\n",
       "7       3    0  39.0      0      0  7.9250         0"
      ]
     },
     "execution_count": 31,
     "metadata": {},
     "output_type": "execute_result"
    }
   ],
   "source": [
    "new_data3 = data[['Pclass', 'Sex', 'Age', 'SibSp', 'Parch', 'Fare', 'Survived']].sort_values(by= ['Survived'])\n",
    "\n",
    "new_data3['Sex'].replace(['female','male'],[1,0],inplace=True)\n",
    "\n",
    "new_data4 = new_data3.copy()\n",
    "\n",
    "\n",
    "toomany1 = 0\n",
    "for i in range(891):\n",
    "    s = new_data3['Survived']\n",
    "    if(s[i+1] == 0):\n",
    "        new_data3.drop((i+1),axis=0,inplace=True)\n",
    "    elif(s[i+1] == 1 and toomany1 < 135):\n",
    "        new_data3.drop((i+1),axis=0,inplace=True)\n",
    "        toomany1 = toomany1 + 1\n",
    "    \n",
    "new_data4 = new_data4.append(new_data3, ignore_index=True)\n",
    "\n",
    "new_data4 = new_data4.dropna()\n",
    "new_data4.info()\n",
    "new_data4.head()\n"
   ]
  },
  {
   "cell_type": "code",
   "execution_count": 32,
   "metadata": {},
   "outputs": [],
   "source": [
    "x = new_data4.drop('Survived', axis=1)\n",
    "y = new_data4['Survived']"
   ]
  },
  {
   "cell_type": "markdown",
   "metadata": {},
   "source": [
    "#### Experimentos [Dataset balanceado através da replicação de casos 1]"
   ]
  },
  {
   "cell_type": "markdown",
   "metadata": {},
   "source": [
    "Refazemos os experimentos utilizando o dataset balanceado"
   ]
  },
  {
   "cell_type": "code",
   "execution_count": 33,
   "metadata": {},
   "outputs": [
    {
     "name": "stdout",
     "output_type": "stream",
     "text": [
      "0.8660714285714286\n",
      "              precision    recall  f1-score   support\n",
      "\n",
      "           0       0.85      0.85      0.85       102\n",
      "           1       0.88      0.88      0.88       122\n",
      "\n",
      "    accuracy                           0.87       224\n",
      "   macro avg       0.86      0.86      0.86       224\n",
      "weighted avg       0.87      0.87      0.87       224\n",
      "\n"
     ]
    }
   ],
   "source": [
    "x_train, x_val, y_train, y_val = train_test_split(x, y, train_size=0.75, random_state=1)\n",
    "tree = DecisionTreeClassifier(max_depth=4, max_leaf_nodes=None, min_samples_leaf=1, min_samples_split=2)\n",
    "tree.fit(x_train,y_train)\n",
    "predicted = tree.predict(x_val)\n",
    "a_s = accuracy_score(y_val, predicted)\n",
    "print(a_s)\n",
    "report = classification_report(y_val, predicted)\n",
    "print(report)"
   ]
  },
  {
   "cell_type": "markdown",
   "metadata": {
    "tags": []
   },
   "source": [
    "Alteram-se os valores de *random_state* :"
   ]
  },
  {
   "cell_type": "code",
   "execution_count": 34,
   "metadata": {
    "tags": []
   },
   "outputs": [
    {
     "name": "stdout",
     "output_type": "stream",
     "text": [
      "0.8214285714285714\n",
      "              precision    recall  f1-score   support\n",
      "\n",
      "           0       0.82      0.81      0.81       109\n",
      "           1       0.82      0.83      0.83       115\n",
      "\n",
      "    accuracy                           0.82       224\n",
      "   macro avg       0.82      0.82      0.82       224\n",
      "weighted avg       0.82      0.82      0.82       224\n",
      "\n"
     ]
    }
   ],
   "source": [
    "x_train, x_val, y_train, y_val = train_test_split(x, y, train_size=0.75, random_state=0)\n",
    "tree = DecisionTreeClassifier(max_depth=4, max_leaf_nodes=None, min_samples_leaf=1, min_samples_split=2)\n",
    "tree.fit(x_train,y_train)\n",
    "predicted = tree.predict(x_val)\n",
    "a_s = accuracy_score(y_val, predicted)\n",
    "print(a_s)\n",
    "report = classification_report(y_val, predicted)\n",
    "print(report)"
   ]
  },
  {
   "cell_type": "code",
   "execution_count": 35,
   "metadata": {},
   "outputs": [
    {
     "name": "stdout",
     "output_type": "stream",
     "text": [
      "0.78125\n",
      "              precision    recall  f1-score   support\n",
      "\n",
      "           0       0.75      0.82      0.78       108\n",
      "           1       0.82      0.74      0.78       116\n",
      "\n",
      "    accuracy                           0.78       224\n",
      "   macro avg       0.78      0.78      0.78       224\n",
      "weighted avg       0.78      0.78      0.78       224\n",
      "\n"
     ]
    }
   ],
   "source": [
    "x_train, x_val, y_train, y_val = train_test_split(x, y, train_size=0.75, random_state=13)\n",
    "tree = DecisionTreeClassifier(max_depth=4, max_leaf_nodes=None, min_samples_leaf=1, min_samples_split=2)\n",
    "tree.fit(x_train,y_train)\n",
    "predicted = tree.predict(x_val)\n",
    "a_s = accuracy_score(y_val, predicted)\n",
    "print(a_s)\n",
    "report = classification_report(y_val, predicted)\n",
    "print(report)"
   ]
  },
  {
   "cell_type": "code",
   "execution_count": 36,
   "metadata": {},
   "outputs": [
    {
     "name": "stdout",
     "output_type": "stream",
     "text": [
      "0.7946428571428571\n",
      "              precision    recall  f1-score   support\n",
      "\n",
      "           0       0.77      0.80      0.79       106\n",
      "           1       0.82      0.79      0.80       118\n",
      "\n",
      "    accuracy                           0.79       224\n",
      "   macro avg       0.79      0.80      0.79       224\n",
      "weighted avg       0.80      0.79      0.79       224\n",
      "\n"
     ]
    }
   ],
   "source": [
    "x_train, x_val, y_train, y_val = train_test_split(x, y, train_size=0.75, random_state=40)\n",
    "tree = DecisionTreeClassifier(max_depth=4, max_leaf_nodes=None, min_samples_leaf=1, min_samples_split=2)\n",
    "tree.fit(x_train,y_train)\n",
    "predicted = tree.predict(x_val)\n",
    "a_s = accuracy_score(y_val, predicted)\n",
    "print(a_s)\n",
    "report = classification_report(y_val, predicted)\n",
    "print(report)"
   ]
  },
  {
   "cell_type": "markdown",
   "metadata": {},
   "source": [
    "Altera-se a função para Entropia:"
   ]
  },
  {
   "cell_type": "code",
   "execution_count": 37,
   "metadata": {},
   "outputs": [
    {
     "name": "stdout",
     "output_type": "stream",
     "text": [
      "0.8303571428571429\n",
      "              precision    recall  f1-score   support\n",
      "\n",
      "           0       0.77      0.94      0.84       109\n",
      "           1       0.92      0.73      0.82       115\n",
      "\n",
      "    accuracy                           0.83       224\n",
      "   macro avg       0.84      0.83      0.83       224\n",
      "weighted avg       0.85      0.83      0.83       224\n",
      "\n"
     ]
    }
   ],
   "source": [
    "x_train, x_val, y_train, y_val = train_test_split(x, y, train_size=0.75, random_state=0)\n",
    "tree = DecisionTreeClassifier(criterion='entropy', max_depth=4, max_leaf_nodes=None, min_samples_leaf=1, min_samples_split=2)\n",
    "tree.fit(x_train,y_train)\n",
    "predicted = tree.predict(x_val)\n",
    "a_s = accuracy_score(y_val, predicted)\n",
    "print(a_s)\n",
    "report = classification_report(y_val, predicted)\n",
    "print(report)"
   ]
  },
  {
   "cell_type": "markdown",
   "metadata": {},
   "source": [
    "Nota-se algumas mudanças, os resultados tendem a melhorar quando comparado com seus semelhantes não-balanceados, porém é uma melhora pequena."
   ]
  },
  {
   "cell_type": "markdown",
   "metadata": {},
   "source": [
    "Agora fazemos um novo dataset balanceado, dessa vez nos removeremos dados com 'Survived' == 0 até que o dataset fique igual"
   ]
  },
  {
   "cell_type": "code",
   "execution_count": 38,
   "metadata": {},
   "outputs": [
    {
     "name": "stdout",
     "output_type": "stream",
     "text": [
      "<class 'pandas.core.frame.DataFrame'>\n",
      "Int64Index: 605 entries, 520 to 446\n",
      "Data columns (total 7 columns):\n",
      " #   Column    Non-Null Count  Dtype  \n",
      "---  ------    --------------  -----  \n",
      " 0   Pclass    605 non-null    int64  \n",
      " 1   Sex       605 non-null    int64  \n",
      " 2   Age       605 non-null    float64\n",
      " 3   SibSp     605 non-null    int64  \n",
      " 4   Parch     605 non-null    int64  \n",
      " 5   Fare      605 non-null    float64\n",
      " 6   Survived  605 non-null    int64  \n",
      "dtypes: float64(2), int64(5)\n",
      "memory usage: 37.8 KB\n"
     ]
    },
    {
     "data": {
      "text/html": [
       "<div>\n",
       "<style scoped>\n",
       "    .dataframe tbody tr th:only-of-type {\n",
       "        vertical-align: middle;\n",
       "    }\n",
       "\n",
       "    .dataframe tbody tr th {\n",
       "        vertical-align: top;\n",
       "    }\n",
       "\n",
       "    .dataframe thead th {\n",
       "        text-align: right;\n",
       "    }\n",
       "</style>\n",
       "<table border=\"1\" class=\"dataframe\">\n",
       "  <thead>\n",
       "    <tr style=\"text-align: right;\">\n",
       "      <th></th>\n",
       "      <th>Pclass</th>\n",
       "      <th>Sex</th>\n",
       "      <th>Age</th>\n",
       "      <th>SibSp</th>\n",
       "      <th>Parch</th>\n",
       "      <th>Fare</th>\n",
       "      <th>Survived</th>\n",
       "    </tr>\n",
       "    <tr>\n",
       "      <th>PassengerId</th>\n",
       "      <th></th>\n",
       "      <th></th>\n",
       "      <th></th>\n",
       "      <th></th>\n",
       "      <th></th>\n",
       "      <th></th>\n",
       "      <th></th>\n",
       "    </tr>\n",
       "  </thead>\n",
       "  <tbody>\n",
       "    <tr>\n",
       "      <th>520</th>\n",
       "      <td>3</td>\n",
       "      <td>0</td>\n",
       "      <td>32.0</td>\n",
       "      <td>0</td>\n",
       "      <td>0</td>\n",
       "      <td>7.8958</td>\n",
       "      <td>0</td>\n",
       "    </tr>\n",
       "    <tr>\n",
       "      <th>522</th>\n",
       "      <td>3</td>\n",
       "      <td>0</td>\n",
       "      <td>22.0</td>\n",
       "      <td>0</td>\n",
       "      <td>0</td>\n",
       "      <td>7.8958</td>\n",
       "      <td>0</td>\n",
       "    </tr>\n",
       "    <tr>\n",
       "      <th>526</th>\n",
       "      <td>3</td>\n",
       "      <td>0</td>\n",
       "      <td>40.5</td>\n",
       "      <td>0</td>\n",
       "      <td>0</td>\n",
       "      <td>7.7500</td>\n",
       "      <td>0</td>\n",
       "    </tr>\n",
       "    <tr>\n",
       "      <th>529</th>\n",
       "      <td>3</td>\n",
       "      <td>0</td>\n",
       "      <td>39.0</td>\n",
       "      <td>0</td>\n",
       "      <td>0</td>\n",
       "      <td>7.9250</td>\n",
       "      <td>0</td>\n",
       "    </tr>\n",
       "    <tr>\n",
       "      <th>530</th>\n",
       "      <td>2</td>\n",
       "      <td>0</td>\n",
       "      <td>23.0</td>\n",
       "      <td>2</td>\n",
       "      <td>1</td>\n",
       "      <td>11.5000</td>\n",
       "      <td>0</td>\n",
       "    </tr>\n",
       "  </tbody>\n",
       "</table>\n",
       "</div>"
      ],
      "text/plain": [
       "             Pclass  Sex   Age  SibSp  Parch     Fare  Survived\n",
       "PassengerId                                                    \n",
       "520               3    0  32.0      0      0   7.8958         0\n",
       "522               3    0  22.0      0      0   7.8958         0\n",
       "526               3    0  40.5      0      0   7.7500         0\n",
       "529               3    0  39.0      0      0   7.9250         0\n",
       "530               2    0  23.0      2      1  11.5000         0"
      ]
     },
     "execution_count": 38,
     "metadata": {},
     "output_type": "execute_result"
    }
   ],
   "source": [
    "new_data5 = data[['Pclass', 'Sex', 'Age', 'SibSp', 'Parch', 'Fare', 'Survived']].sort_values(by= ['Survived'])\n",
    "\n",
    "new_data5['Sex'].replace(['female','male'],[1,0],inplace=True)\n",
    "\n",
    "\n",
    "toomany0 = 0\n",
    "for i in range(891):\n",
    "    s = new_data5['Survived']\n",
    "    if(s[i+1] == 0 and toomany0 < 135):\n",
    "        new_data5.drop((i+1),axis=0,inplace=True)\n",
    "        toomany0 = toomany0 + 1\n",
    "    \n",
    "new_data5 = new_data5.dropna()\n",
    "new_data5.info()\n",
    "new_data5.head()"
   ]
  },
  {
   "cell_type": "code",
   "execution_count": 39,
   "metadata": {},
   "outputs": [],
   "source": [
    "x = new_data5.drop('Survived', axis=1)\n",
    "y = new_data5['Survived']"
   ]
  },
  {
   "cell_type": "markdown",
   "metadata": {},
   "source": [
    "#### Experimentos [Dataset balanceado através da remoção de casos 0]"
   ]
  },
  {
   "cell_type": "markdown",
   "metadata": {},
   "source": [
    "Refazemos os experimentos utilizando o este dataset"
   ]
  },
  {
   "cell_type": "code",
   "execution_count": 40,
   "metadata": {},
   "outputs": [
    {
     "name": "stdout",
     "output_type": "stream",
     "text": [
      "0.7894736842105263\n",
      "              precision    recall  f1-score   support\n",
      "\n",
      "           0       0.84      0.74      0.79        80\n",
      "           1       0.74      0.85      0.79        72\n",
      "\n",
      "    accuracy                           0.79       152\n",
      "   macro avg       0.79      0.79      0.79       152\n",
      "weighted avg       0.80      0.79      0.79       152\n",
      "\n"
     ]
    }
   ],
   "source": [
    "x_train, x_val, y_train, y_val = train_test_split(x, y, train_size=0.75, random_state=1)\n",
    "tree = DecisionTreeClassifier(max_depth=4, max_leaf_nodes=None, min_samples_leaf=1, min_samples_split=2)\n",
    "tree.fit(x_train,y_train)\n",
    "predicted = tree.predict(x_val)\n",
    "a_s = accuracy_score(y_val, predicted)\n",
    "print(a_s)\n",
    "report = classification_report(y_val, predicted)\n",
    "print(report)"
   ]
  },
  {
   "cell_type": "markdown",
   "metadata": {
    "tags": []
   },
   "source": [
    "Alteram-se os valores de *random_state* :"
   ]
  },
  {
   "cell_type": "code",
   "execution_count": 41,
   "metadata": {
    "tags": []
   },
   "outputs": [
    {
     "name": "stdout",
     "output_type": "stream",
     "text": [
      "0.7697368421052632\n",
      "              precision    recall  f1-score   support\n",
      "\n",
      "           0       0.82      0.71      0.76        78\n",
      "           1       0.73      0.84      0.78        74\n",
      "\n",
      "    accuracy                           0.77       152\n",
      "   macro avg       0.78      0.77      0.77       152\n",
      "weighted avg       0.78      0.77      0.77       152\n",
      "\n"
     ]
    }
   ],
   "source": [
    "x_train, x_val, y_train, y_val = train_test_split(x, y, train_size=0.75, random_state=0)\n",
    "tree = DecisionTreeClassifier(max_depth=4, max_leaf_nodes=None, min_samples_leaf=1, min_samples_split=2)\n",
    "tree.fit(x_train,y_train)\n",
    "predicted = tree.predict(x_val)\n",
    "a_s = accuracy_score(y_val, predicted)\n",
    "print(a_s)\n",
    "report = classification_report(y_val, predicted)\n",
    "print(report)"
   ]
  },
  {
   "cell_type": "code",
   "execution_count": 42,
   "metadata": {},
   "outputs": [
    {
     "name": "stdout",
     "output_type": "stream",
     "text": [
      "0.7960526315789473\n",
      "              precision    recall  f1-score   support\n",
      "\n",
      "           0       0.81      0.82      0.82        84\n",
      "           1       0.78      0.76      0.77        68\n",
      "\n",
      "    accuracy                           0.80       152\n",
      "   macro avg       0.79      0.79      0.79       152\n",
      "weighted avg       0.80      0.80      0.80       152\n",
      "\n"
     ]
    }
   ],
   "source": [
    "x_train, x_val, y_train, y_val = train_test_split(x, y, train_size=0.75, random_state=13)\n",
    "tree = DecisionTreeClassifier(max_depth=4, max_leaf_nodes=None, min_samples_leaf=1, min_samples_split=2)\n",
    "tree.fit(x_train,y_train)\n",
    "predicted = tree.predict(x_val)\n",
    "a_s = accuracy_score(y_val, predicted)\n",
    "print(a_s)\n",
    "report = classification_report(y_val, predicted)\n",
    "print(report)"
   ]
  },
  {
   "cell_type": "code",
   "execution_count": 43,
   "metadata": {},
   "outputs": [
    {
     "name": "stdout",
     "output_type": "stream",
     "text": [
      "0.7828947368421053\n",
      "              precision    recall  f1-score   support\n",
      "\n",
      "           0       0.85      0.76      0.80        87\n",
      "           1       0.72      0.82      0.76        65\n",
      "\n",
      "    accuracy                           0.78       152\n",
      "   macro avg       0.78      0.79      0.78       152\n",
      "weighted avg       0.79      0.78      0.78       152\n",
      "\n"
     ]
    }
   ],
   "source": [
    "x_train, x_val, y_train, y_val = train_test_split(x, y, train_size=0.75, random_state=40)\n",
    "tree = DecisionTreeClassifier(max_depth=4, max_leaf_nodes=None, min_samples_leaf=1, min_samples_split=2)\n",
    "tree.fit(x_train,y_train)\n",
    "predicted = tree.predict(x_val)\n",
    "a_s = accuracy_score(y_val, predicted)\n",
    "print(a_s)\n",
    "report = classification_report(y_val, predicted)\n",
    "print(report)"
   ]
  },
  {
   "cell_type": "markdown",
   "metadata": {},
   "source": [
    "Altera-se a função para Entropia:"
   ]
  },
  {
   "cell_type": "code",
   "execution_count": 44,
   "metadata": {},
   "outputs": [
    {
     "name": "stdout",
     "output_type": "stream",
     "text": [
      "0.756578947368421\n",
      "              precision    recall  f1-score   support\n",
      "\n",
      "           0       0.83      0.67      0.74        78\n",
      "           1       0.71      0.85      0.77        74\n",
      "\n",
      "    accuracy                           0.76       152\n",
      "   macro avg       0.77      0.76      0.76       152\n",
      "weighted avg       0.77      0.76      0.75       152\n",
      "\n"
     ]
    }
   ],
   "source": [
    "x_train, x_val, y_train, y_val = train_test_split(x, y, train_size=0.75, random_state=0)\n",
    "tree = DecisionTreeClassifier(criterion='entropy', max_depth=4, max_leaf_nodes=None, min_samples_leaf=1, min_samples_split=2)\n",
    "tree.fit(x_train,y_train)\n",
    "predicted = tree.predict(x_val)\n",
    "a_s = accuracy_score(y_val, predicted)\n",
    "print(a_s)\n",
    "report = classification_report(y_val, predicted)\n",
    "print(report)"
   ]
  },
  {
   "cell_type": "markdown",
   "metadata": {},
   "source": [
    "Os resultados desse dataset deixam a desejar, sendo piores que os iniciais, provavelmente pela baixo número de dados."
   ]
  }
 ],
 "metadata": {
  "kernelspec": {
   "display_name": "Python 3",
   "language": "python",
   "name": "python3"
  },
  "language_info": {
   "codemirror_mode": {
    "name": "ipython",
    "version": 3
   },
   "file_extension": ".py",
   "mimetype": "text/x-python",
   "name": "python",
   "nbconvert_exporter": "python",
   "pygments_lexer": "ipython3",
   "version": "3.9.0"
  },
  "metadata": {
   "interpreter": {
    "hash": "3ef7935b13617fabe734c4a9dee0ded502b7e7ddad9ea0181f384dd40d88ac4e"
   }
  }
 },
 "nbformat": 4,
 "nbformat_minor": 4
}
