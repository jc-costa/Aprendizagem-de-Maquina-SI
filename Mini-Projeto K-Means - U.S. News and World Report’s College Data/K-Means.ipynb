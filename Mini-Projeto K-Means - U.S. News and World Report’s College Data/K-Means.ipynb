{
 "cells": [
  {
   "cell_type": "markdown",
   "metadata": {},
   "source": [
    "### Importação das bibliotecas necessárias:"
   ]
  },
  {
   "cell_type": "code",
   "execution_count": 12,
   "metadata": {},
   "outputs": [],
   "source": [
    "import pandas as pd\r\n",
    "from sklearn.cluster import KMeans\r\n",
    "from sklearn.model_selection import train_test_split\r\n",
    "from sklearn.metrics import classification_report, accuracy_score"
   ]
  },
  {
   "cell_type": "markdown",
   "metadata": {},
   "source": [
    "### Importação do banco de dados:"
   ]
  },
  {
   "cell_type": "code",
   "execution_count": 5,
   "metadata": {},
   "outputs": [
    {
     "data": {
      "text/html": "<div>\n<style scoped>\n    .dataframe tbody tr th:only-of-type {\n        vertical-align: middle;\n    }\n\n    .dataframe tbody tr th {\n        vertical-align: top;\n    }\n\n    .dataframe thead th {\n        text-align: right;\n    }\n</style>\n<table border=\"1\" class=\"dataframe\">\n  <thead>\n    <tr style=\"text-align: right;\">\n      <th></th>\n      <th>Unnamed: 0</th>\n      <th>Private</th>\n      <th>Apps</th>\n      <th>Accept</th>\n      <th>Enroll</th>\n      <th>Top10perc</th>\n      <th>Top25perc</th>\n      <th>F.Undergrad</th>\n      <th>P.Undergrad</th>\n      <th>Outstate</th>\n      <th>Room.Board</th>\n      <th>Books</th>\n      <th>Personal</th>\n      <th>PhD</th>\n      <th>Terminal</th>\n      <th>S.F.Ratio</th>\n      <th>perc.alumni</th>\n      <th>Expend</th>\n      <th>Grad.Rate</th>\n    </tr>\n  </thead>\n  <tbody>\n    <tr>\n      <th>0</th>\n      <td>Abilene Christian University</td>\n      <td>Yes</td>\n      <td>1660</td>\n      <td>1232</td>\n      <td>721</td>\n      <td>23</td>\n      <td>52</td>\n      <td>2885</td>\n      <td>537</td>\n      <td>7440</td>\n      <td>3300</td>\n      <td>450</td>\n      <td>2200</td>\n      <td>70</td>\n      <td>78</td>\n      <td>18.1</td>\n      <td>12</td>\n      <td>7041</td>\n      <td>60</td>\n    </tr>\n    <tr>\n      <th>1</th>\n      <td>Adelphi University</td>\n      <td>Yes</td>\n      <td>2186</td>\n      <td>1924</td>\n      <td>512</td>\n      <td>16</td>\n      <td>29</td>\n      <td>2683</td>\n      <td>1227</td>\n      <td>12280</td>\n      <td>6450</td>\n      <td>750</td>\n      <td>1500</td>\n      <td>29</td>\n      <td>30</td>\n      <td>12.2</td>\n      <td>16</td>\n      <td>10527</td>\n      <td>56</td>\n    </tr>\n    <tr>\n      <th>2</th>\n      <td>Adrian College</td>\n      <td>Yes</td>\n      <td>1428</td>\n      <td>1097</td>\n      <td>336</td>\n      <td>22</td>\n      <td>50</td>\n      <td>1036</td>\n      <td>99</td>\n      <td>11250</td>\n      <td>3750</td>\n      <td>400</td>\n      <td>1165</td>\n      <td>53</td>\n      <td>66</td>\n      <td>12.9</td>\n      <td>30</td>\n      <td>8735</td>\n      <td>54</td>\n    </tr>\n    <tr>\n      <th>3</th>\n      <td>Agnes Scott College</td>\n      <td>Yes</td>\n      <td>417</td>\n      <td>349</td>\n      <td>137</td>\n      <td>60</td>\n      <td>89</td>\n      <td>510</td>\n      <td>63</td>\n      <td>12960</td>\n      <td>5450</td>\n      <td>450</td>\n      <td>875</td>\n      <td>92</td>\n      <td>97</td>\n      <td>7.7</td>\n      <td>37</td>\n      <td>19016</td>\n      <td>59</td>\n    </tr>\n    <tr>\n      <th>4</th>\n      <td>Alaska Pacific University</td>\n      <td>Yes</td>\n      <td>193</td>\n      <td>146</td>\n      <td>55</td>\n      <td>16</td>\n      <td>44</td>\n      <td>249</td>\n      <td>869</td>\n      <td>7560</td>\n      <td>4120</td>\n      <td>800</td>\n      <td>1500</td>\n      <td>76</td>\n      <td>72</td>\n      <td>11.9</td>\n      <td>2</td>\n      <td>10922</td>\n      <td>15</td>\n    </tr>\n  </tbody>\n</table>\n</div>",
      "text/plain": "                     Unnamed: 0 Private  Apps  Accept  Enroll  Top10perc  \\\n0  Abilene Christian University     Yes  1660    1232     721         23   \n1            Adelphi University     Yes  2186    1924     512         16   \n2                Adrian College     Yes  1428    1097     336         22   \n3           Agnes Scott College     Yes   417     349     137         60   \n4     Alaska Pacific University     Yes   193     146      55         16   \n\n   Top25perc  F.Undergrad  P.Undergrad  Outstate  Room.Board  Books  Personal  \\\n0         52         2885          537      7440        3300    450      2200   \n1         29         2683         1227     12280        6450    750      1500   \n2         50         1036           99     11250        3750    400      1165   \n3         89          510           63     12960        5450    450       875   \n4         44          249          869      7560        4120    800      1500   \n\n   PhD  Terminal  S.F.Ratio  perc.alumni  Expend  Grad.Rate  \n0   70        78       18.1           12    7041         60  \n1   29        30       12.2           16   10527         56  \n2   53        66       12.9           30    8735         54  \n3   92        97        7.7           37   19016         59  \n4   76        72       11.9            2   10922         15  "
     },
     "execution_count": 5,
     "metadata": {},
     "output_type": "execute_result"
    }
   ],
   "source": [
    "data = pd.read_csv(\"College.csv\")\r\n",
    "data.head()"
   ]
  },
  {
   "cell_type": "code",
   "execution_count": 6,
   "metadata": {},
   "outputs": [
    {
     "name": "stdout",
     "output_type": "stream",
     "text": [
      "<class 'pandas.core.frame.DataFrame'>\n",
      "RangeIndex: 777 entries, 0 to 776\n",
      "Data columns (total 18 columns):\n",
      " #   Column       Non-Null Count  Dtype  \n",
      "---  ------       --------------  -----  \n",
      " 0   Private      777 non-null    object \n",
      " 1   Apps         777 non-null    int64  \n",
      " 2   Accept       777 non-null    int64  \n",
      " 3   Enroll       777 non-null    int64  \n",
      " 4   Top10perc    777 non-null    int64  \n",
      " 5   Top25perc    777 non-null    int64  \n",
      " 6   F.Undergrad  777 non-null    int64  \n",
      " 7   P.Undergrad  777 non-null    int64  \n",
      " 8   Outstate     777 non-null    int64  \n",
      " 9   Room.Board   777 non-null    int64  \n",
      " 10  Books        777 non-null    int64  \n",
      " 11  Personal     777 non-null    int64  \n",
      " 12  PhD          777 non-null    int64  \n",
      " 13  Terminal     777 non-null    int64  \n",
      " 14  S.F.Ratio    777 non-null    float64\n",
      " 15  perc.alumni  777 non-null    int64  \n",
      " 16  Expend       777 non-null    int64  \n",
      " 17  Grad.Rate    777 non-null    int64  \n",
      "dtypes: float64(1), int64(16), object(1)\n",
      "memory usage: 109.4+ KB\n"
     ]
    }
   ],
   "source": [
    "data.drop([\"Unnamed: 0\"], axis=1, inplace=True)\r\n",
    "data.info()"
   ]
  },
  {
   "cell_type": "markdown",
   "metadata": {},
   "source": [
    "### Conversão da coluna \"*Private*\" para valores numéricos:"
   ]
  },
  {
   "cell_type": "code",
   "execution_count": 7,
   "metadata": {},
   "outputs": [
    {
     "name": "stdout",
     "output_type": "stream",
     "text": [
      "<class 'pandas.core.frame.DataFrame'>\n",
      "RangeIndex: 777 entries, 0 to 776\n",
      "Data columns (total 18 columns):\n",
      " #   Column       Non-Null Count  Dtype  \n",
      "---  ------       --------------  -----  \n",
      " 0   Private      777 non-null    int64  \n",
      " 1   Apps         777 non-null    int64  \n",
      " 2   Accept       777 non-null    int64  \n",
      " 3   Enroll       777 non-null    int64  \n",
      " 4   Top10perc    777 non-null    int64  \n",
      " 5   Top25perc    777 non-null    int64  \n",
      " 6   F.Undergrad  777 non-null    int64  \n",
      " 7   P.Undergrad  777 non-null    int64  \n",
      " 8   Outstate     777 non-null    int64  \n",
      " 9   Room.Board   777 non-null    int64  \n",
      " 10  Books        777 non-null    int64  \n",
      " 11  Personal     777 non-null    int64  \n",
      " 12  PhD          777 non-null    int64  \n",
      " 13  Terminal     777 non-null    int64  \n",
      " 14  S.F.Ratio    777 non-null    float64\n",
      " 15  perc.alumni  777 non-null    int64  \n",
      " 16  Expend       777 non-null    int64  \n",
      " 17  Grad.Rate    777 non-null    int64  \n",
      "dtypes: float64(1), int64(17)\n",
      "memory usage: 109.4 KB\n"
     ]
    }
   ],
   "source": [
    "data[\"Private\"].replace([\"Yes\", \"No\"], [1,0], inplace=True)\r\n",
    "data.info()"
   ]
  },
  {
   "cell_type": "code",
   "execution_count": 9,
   "metadata": {},
   "outputs": [
    {
     "data": {
      "text/plain": "1    565\n0    212\nName: Private, dtype: int64"
     },
     "execution_count": 9,
     "metadata": {},
     "output_type": "execute_result"
    }
   ],
   "source": [
    "x = data.drop(['Private'],axis=1)\r\n",
    "y = data[\"Private\"]\r\n",
    "y.value_counts()"
   ]
  },
  {
   "cell_type": "markdown",
   "metadata": {},
   "source": [
    "O banco de dados é desbalanceado, possui mais casos do tipo \"1\" do que \"0\"."
   ]
  },
  {
   "cell_type": "markdown",
   "metadata": {},
   "source": [
    "### Experimentos:"
   ]
  },
  {
   "cell_type": "markdown",
   "metadata": {},
   "source": [
    "#### Para os experimentos serão utilizados os seguintes parâmetros da função \"*KMeans*\": *n_clusters, init, n_init, max_iter e random_state*."
   ]
  },
  {
   "cell_type": "markdown",
   "metadata": {},
   "source": [
    "*n_clusters*: Número de centróides que serão gerados. Padrão = 8.\r\n",
    "\r\n",
    "*init*: Método para inicialização. Pode ser do tipo \"*k_means++*\", onde seleciona de maneira inteligente os centróides iniciais para acelerar a convergência, e do tipo \"*random*\", onde é escolhido aleatoriamente \"*n_clusters*\" linhas do banco de dados para serem os centróides iniciais. Padrão = \"*k_means++*\".\r\n",
    "\r\n",
    "*n_init*: Número de vezes que o algoritmo K-Means executará com diferentes centróides iniciais. Padrão = 10.\r\n",
    "\r\n",
    "*max_iter*: Número máximo de iterações que o algoritmo K-Means irá executar. Padrão = 300.\r\n",
    "\r\n",
    "*random_state*: Número aleatório para geração inicial dos centróides. Padrão = *None*."
   ]
  },
  {
   "cell_type": "markdown",
   "metadata": {},
   "source": [
    "#### Para os experimentos também serão utilizados os seguintes parâmetros da função \"*train_test_split*\": *train_size* e *random_state*."
   ]
  },
  {
   "cell_type": "markdown",
   "metadata": {},
   "source": [
    "*train_size*: Representa a porcentagem do banco de dados utilizada para treinamento, o restante fica alocado para teste. Padrão: *None*.\r\n",
    "\r\n",
    "*random_state*: Número para aleatorizar as observações selecionadas do banco de dados *x* e *y*. Padrão: *None*."
   ]
  },
  {
   "cell_type": "markdown",
   "metadata": {},
   "source": [
    "#### Variando *train_size*:"
   ]
  },
  {
   "cell_type": "code",
   "execution_count": 29,
   "metadata": {},
   "outputs": [
    {
     "name": "stdout",
     "output_type": "stream",
     "text": [
      "0.012853470437017995\n",
      "              precision    recall  f1-score   support\n",
      "\n",
      "           0       0.00      0.00      0.00        97\n",
      "           1       0.13      0.02      0.03       292\n",
      "           2       0.00      0.00      0.00         0\n",
      "           3       0.00      0.00      0.00         0\n",
      "           4       0.00      0.00      0.00         0\n",
      "           5       0.00      0.00      0.00         0\n",
      "           6       0.00      0.00      0.00         0\n",
      "           7       0.00      0.00      0.00         0\n",
      "\n",
      "    accuracy                           0.01       389\n",
      "   macro avg       0.02      0.00      0.00       389\n",
      "weighted avg       0.10      0.01      0.02       389\n",
      "\n"
     ]
    },
    {
     "name": "stderr",
     "output_type": "stream",
     "text": [
      "C:\\Users\\nicho\\AppData\\Local\\Packages\\PythonSoftwareFoundation.Python.3.9_qbz5n2kfra8p0\\LocalCache\\local-packages\\Python39\\site-packages\\sklearn\\metrics\\_classification.py:1245: UndefinedMetricWarning: Recall and F-score are ill-defined and being set to 0.0 in labels with no true samples. Use `zero_division` parameter to control this behavior.\n",
      "  _warn_prf(average, modifier, msg_start, len(result))\n",
      "C:\\Users\\nicho\\AppData\\Local\\Packages\\PythonSoftwareFoundation.Python.3.9_qbz5n2kfra8p0\\LocalCache\\local-packages\\Python39\\site-packages\\sklearn\\metrics\\_classification.py:1245: UndefinedMetricWarning: Recall and F-score are ill-defined and being set to 0.0 in labels with no true samples. Use `zero_division` parameter to control this behavior.\n",
      "  _warn_prf(average, modifier, msg_start, len(result))\n",
      "C:\\Users\\nicho\\AppData\\Local\\Packages\\PythonSoftwareFoundation.Python.3.9_qbz5n2kfra8p0\\LocalCache\\local-packages\\Python39\\site-packages\\sklearn\\metrics\\_classification.py:1245: UndefinedMetricWarning: Recall and F-score are ill-defined and being set to 0.0 in labels with no true samples. Use `zero_division` parameter to control this behavior.\n",
      "  _warn_prf(average, modifier, msg_start, len(result))\n"
     ]
    }
   ],
   "source": [
    "x_train, x_test, y_train, y_test = train_test_split(x, y, train_size=0.50, random_state=None)\r\n",
    "kmeans = KMeans(n_clusters=8, init=\"k-means++\", n_init=10, max_iter=300, random_state = None)\r\n",
    "kmeans.fit(x_train)\r\n",
    "predicted = kmeans.predict(x_test)\r\n",
    "print(accuracy_score(y_test, predicted))\r\n",
    "print(classification_report(y_test,predicted))"
   ]
  },
  {
   "cell_type": "markdown",
   "metadata": {},
   "source": [
    "Obtiveram-se esses *warnings* pois como foi passado *n_clusters=8*, o algoritmo \"*KMeans*\" tentará segregar o banco de dados que o foi passado em 8 diferentes classificações, entretanto o banco de dados utilizado possui apenas 2 classificações, \"1\" para faculadade privada e \"0\" para faculdade pública, logo, deve-se utilizar *n_clusters=2* para os experimentos."
   ]
  },
  {
   "cell_type": "code",
   "execution_count": 32,
   "metadata": {},
   "outputs": [
    {
     "name": "stdout",
     "output_type": "stream",
     "text": [
      "0.2236503856041131\n",
      "              precision    recall  f1-score   support\n",
      "\n",
      "           0       0.21      0.72      0.33       102\n",
      "           1       0.33      0.05      0.08       287\n",
      "\n",
      "    accuracy                           0.22       389\n",
      "   macro avg       0.27      0.38      0.21       389\n",
      "weighted avg       0.30      0.22      0.15       389\n",
      "\n"
     ]
    }
   ],
   "source": [
    "x_train, x_test, y_train, y_test = train_test_split(x, y, train_size=0.50, random_state=None)\r\n",
    "kmeans = KMeans(n_clusters=2, init=\"k-means++\", n_init=10, max_iter=300, random_state = None)\r\n",
    "kmeans.fit(x_train)\r\n",
    "predicted = kmeans.predict(x_test)\r\n",
    "print(accuracy_score(y_test, predicted))\r\n",
    "print(classification_report(y_test,predicted))"
   ]
  },
  {
   "cell_type": "code",
   "execution_count": 37,
   "metadata": {},
   "outputs": [
    {
     "name": "stdout",
     "output_type": "stream",
     "text": [
      "0.1639871382636656\n",
      "              precision    recall  f1-score   support\n",
      "\n",
      "           0       0.17      0.62      0.27        76\n",
      "           1       0.12      0.02      0.03       235\n",
      "\n",
      "    accuracy                           0.16       311\n",
      "   macro avg       0.15      0.32      0.15       311\n",
      "weighted avg       0.13      0.16      0.09       311\n",
      "\n"
     ]
    }
   ],
   "source": [
    "x_train, x_test, y_train, y_test = train_test_split(x, y, train_size=0.6, random_state=None)\r\n",
    "kmeans = KMeans(n_clusters=2, init=\"k-means++\", n_init=10, max_iter=300, random_state = None)\r\n",
    "kmeans.fit(x_train)\r\n",
    "predicted = kmeans.predict(x_test)\r\n",
    "print(accuracy_score(y_test, predicted))\r\n",
    "print(classification_report(y_test,predicted))"
   ]
  },
  {
   "cell_type": "code",
   "execution_count": 36,
   "metadata": {},
   "outputs": [
    {
     "name": "stdout",
     "output_type": "stream",
     "text": [
      "0.7589743589743589\n",
      "              precision    recall  f1-score   support\n",
      "\n",
      "           0       0.73      0.28      0.41        57\n",
      "           1       0.76      0.96      0.85       138\n",
      "\n",
      "    accuracy                           0.76       195\n",
      "   macro avg       0.75      0.62      0.63       195\n",
      "weighted avg       0.75      0.76      0.72       195\n",
      "\n"
     ]
    }
   ],
   "source": [
    "x_train, x_test, y_train, y_test = train_test_split(x, y, train_size=0.75, random_state=None)\r\n",
    "kmeans = KMeans(n_clusters=2, init=\"k-means++\", n_init=10, max_iter=300, random_state = None)\r\n",
    "kmeans.fit(x_train)\r\n",
    "predicted = kmeans.predict(x_test)\r\n",
    "print(accuracy_score(y_test, predicted))\r\n",
    "print(classification_report(y_test,predicted))"
   ]
  },
  {
   "cell_type": "markdown",
   "metadata": {},
   "source": [
    "*train_size=0.75* apresentou o melhor resultado."
   ]
  },
  {
   "cell_type": "markdown",
   "metadata": {},
   "source": [
    "#### Variando *random_state* de *train_test_split*:"
   ]
  },
  {
   "cell_type": "code",
   "execution_count": 40,
   "metadata": {},
   "outputs": [
    {
     "name": "stdout",
     "output_type": "stream",
     "text": [
      "0.8051282051282052\n",
      "              precision    recall  f1-score   support\n",
      "\n",
      "           0       0.80      0.38      0.51        53\n",
      "           1       0.81      0.96      0.88       142\n",
      "\n",
      "    accuracy                           0.81       195\n",
      "   macro avg       0.80      0.67      0.70       195\n",
      "weighted avg       0.80      0.81      0.78       195\n",
      "\n"
     ]
    }
   ],
   "source": [
    "x_train, x_test, y_train, y_test = train_test_split(x, y, train_size=0.75, random_state=0)\r\n",
    "kmeans = KMeans(n_clusters=2, init=\"k-means++\", n_init=10, max_iter=300, random_state = None)\r\n",
    "kmeans.fit(x_train)\r\n",
    "predicted = kmeans.predict(x_test)\r\n",
    "print(accuracy_score(y_test, predicted))\r\n",
    "print(classification_report(y_test,predicted))"
   ]
  },
  {
   "cell_type": "code",
   "execution_count": 38,
   "metadata": {},
   "outputs": [
    {
     "name": "stdout",
     "output_type": "stream",
     "text": [
      "0.7692307692307693\n",
      "              precision    recall  f1-score   support\n",
      "\n",
      "           0       0.62      0.29      0.40        51\n",
      "           1       0.79      0.94      0.86       144\n",
      "\n",
      "    accuracy                           0.77       195\n",
      "   macro avg       0.71      0.62      0.63       195\n",
      "weighted avg       0.75      0.77      0.74       195\n",
      "\n"
     ]
    }
   ],
   "source": [
    "x_train, x_test, y_train, y_test = train_test_split(x, y, train_size=0.75, random_state=1)\r\n",
    "kmeans = KMeans(n_clusters=2, init=\"k-means++\", n_init=10, max_iter=300, random_state = None)\r\n",
    "kmeans.fit(x_train)\r\n",
    "predicted = kmeans.predict(x_test)\r\n",
    "print(accuracy_score(y_test, predicted))\r\n",
    "print(classification_report(y_test,predicted))"
   ]
  },
  {
   "cell_type": "code",
   "execution_count": 39,
   "metadata": {},
   "outputs": [
    {
     "name": "stdout",
     "output_type": "stream",
     "text": [
      "0.22564102564102564\n",
      "              precision    recall  f1-score   support\n",
      "\n",
      "           0       0.22      0.62      0.32        58\n",
      "           1       0.27      0.06      0.10       137\n",
      "\n",
      "    accuracy                           0.23       195\n",
      "   macro avg       0.24      0.34      0.21       195\n",
      "weighted avg       0.25      0.23      0.16       195\n",
      "\n"
     ]
    }
   ],
   "source": [
    "x_train, x_test, y_train, y_test = train_test_split(x, y, train_size=0.75, random_state=15)\r\n",
    "kmeans = KMeans(n_clusters=2, init=\"k-means++\", n_init=10, max_iter=300, random_state = None)\r\n",
    "kmeans.fit(x_train)\r\n",
    "predicted = kmeans.predict(x_test)\r\n",
    "print(accuracy_score(y_test, predicted))\r\n",
    "print(classification_report(y_test,predicted))"
   ]
  },
  {
   "cell_type": "code",
   "execution_count": 41,
   "metadata": {},
   "outputs": [
    {
     "name": "stdout",
     "output_type": "stream",
     "text": [
      "0.21025641025641026\n",
      "              precision    recall  f1-score   support\n",
      "\n",
      "           0       0.21      0.59      0.31        58\n",
      "           1       0.23      0.05      0.08       137\n",
      "\n",
      "    accuracy                           0.21       195\n",
      "   macro avg       0.22      0.32      0.19       195\n",
      "weighted avg       0.22      0.21      0.15       195\n",
      "\n"
     ]
    }
   ],
   "source": [
    "x_train, x_test, y_train, y_test = train_test_split(x, y, train_size=0.75, random_state=42)\r\n",
    "kmeans = KMeans(n_clusters=2, init=\"k-means++\", n_init=10, max_iter=300, random_state = None)\r\n",
    "kmeans.fit(x_train)\r\n",
    "predicted = kmeans.predict(x_test)\r\n",
    "print(accuracy_score(y_test, predicted))\r\n",
    "print(classification_report(y_test,predicted))"
   ]
  },
  {
   "cell_type": "markdown",
   "metadata": {},
   "source": [
    "O *random_state=0* apresentou os melhores resultados."
   ]
  },
  {
   "cell_type": "markdown",
   "metadata": {},
   "source": [
    "#### Variando *init*:"
   ]
  },
  {
   "cell_type": "code",
   "execution_count": 43,
   "metadata": {},
   "outputs": [
    {
     "name": "stdout",
     "output_type": "stream",
     "text": [
      "0.8051282051282052\n",
      "              precision    recall  f1-score   support\n",
      "\n",
      "           0       0.80      0.38      0.51        53\n",
      "           1       0.81      0.96      0.88       142\n",
      "\n",
      "    accuracy                           0.81       195\n",
      "   macro avg       0.80      0.67      0.70       195\n",
      "weighted avg       0.80      0.81      0.78       195\n",
      "\n"
     ]
    }
   ],
   "source": [
    "x_train, x_test, y_train, y_test = train_test_split(x, y, train_size=0.75, random_state=0)\r\n",
    "kmeans = KMeans(n_clusters=2, init=\"random\", n_init=10, max_iter=300, random_state = None)\r\n",
    "kmeans.fit(x_train)\r\n",
    "predicted = kmeans.predict(x_test)\r\n",
    "print(accuracy_score(y_test, predicted))\r\n",
    "print(classification_report(y_test,predicted))"
   ]
  },
  {
   "cell_type": "markdown",
   "metadata": {},
   "source": [
    "Obtiveram-se os mesmos resultados."
   ]
  },
  {
   "cell_type": "markdown",
   "metadata": {},
   "source": [
    "#### Variando *n_init*:"
   ]
  },
  {
   "cell_type": "code",
   "execution_count": 47,
   "metadata": {},
   "outputs": [
    {
     "name": "stdout",
     "output_type": "stream",
     "text": [
      "0.8051282051282052\n",
      "              precision    recall  f1-score   support\n",
      "\n",
      "           0       0.80      0.38      0.51        53\n",
      "           1       0.81      0.96      0.88       142\n",
      "\n",
      "    accuracy                           0.81       195\n",
      "   macro avg       0.80      0.67      0.70       195\n",
      "weighted avg       0.80      0.81      0.78       195\n",
      "\n"
     ]
    }
   ],
   "source": [
    "x_train, x_test, y_train, y_test = train_test_split(x, y, train_size=0.75, random_state=0)\r\n",
    "kmeans = KMeans(n_clusters=2, init=\"k-means++\", n_init=5, max_iter=300, random_state = None)\r\n",
    "kmeans.fit(x_train)\r\n",
    "predicted = kmeans.predict(x_test)\r\n",
    "print(accuracy_score(y_test, predicted))\r\n",
    "print(classification_report(y_test,predicted))"
   ]
  },
  {
   "cell_type": "code",
   "execution_count": 45,
   "metadata": {},
   "outputs": [
    {
     "name": "stdout",
     "output_type": "stream",
     "text": [
      "0.8051282051282052\n",
      "              precision    recall  f1-score   support\n",
      "\n",
      "           0       0.80      0.38      0.51        53\n",
      "           1       0.81      0.96      0.88       142\n",
      "\n",
      "    accuracy                           0.81       195\n",
      "   macro avg       0.80      0.67      0.70       195\n",
      "weighted avg       0.80      0.81      0.78       195\n",
      "\n"
     ]
    }
   ],
   "source": [
    "x_train, x_test, y_train, y_test = train_test_split(x, y, train_size=0.75, random_state=0)\r\n",
    "kmeans = KMeans(n_clusters=2, init=\"k-means++\", n_init=15, max_iter=300, random_state = None)\r\n",
    "kmeans.fit(x_train)\r\n",
    "predicted = kmeans.predict(x_test)\r\n",
    "print(accuracy_score(y_test, predicted))\r\n",
    "print(classification_report(y_test,predicted))"
   ]
  },
  {
   "cell_type": "markdown",
   "metadata": {},
   "source": [
    "A alteração de *n_init* não proporcionou uma melhora no resultado."
   ]
  },
  {
   "cell_type": "markdown",
   "metadata": {},
   "source": [
    "#### Variando *max_iter*:"
   ]
  },
  {
   "cell_type": "code",
   "execution_count": 57,
   "metadata": {},
   "outputs": [
    {
     "name": "stdout",
     "output_type": "stream",
     "text": [
      "0.8051282051282052\n",
      "              precision    recall  f1-score   support\n",
      "\n",
      "           0       0.80      0.38      0.51        53\n",
      "           1       0.81      0.96      0.88       142\n",
      "\n",
      "    accuracy                           0.81       195\n",
      "   macro avg       0.80      0.67      0.70       195\n",
      "weighted avg       0.80      0.81      0.78       195\n",
      "\n"
     ]
    }
   ],
   "source": [
    "x_train, x_test, y_train, y_test = train_test_split(x, y, train_size=0.75, random_state=0)\r\n",
    "kmeans = KMeans(n_clusters=2, init=\"k-means++\", n_init=10, max_iter=50, random_state = None)\r\n",
    "kmeans.fit(x_train)\r\n",
    "predicted = kmeans.predict(x_test)\r\n",
    "print(accuracy_score(y_test, predicted))\r\n",
    "print(classification_report(y_test,predicted))"
   ]
  },
  {
   "cell_type": "code",
   "execution_count": 52,
   "metadata": {},
   "outputs": [
    {
     "name": "stdout",
     "output_type": "stream",
     "text": [
      "0.8051282051282052\n",
      "              precision    recall  f1-score   support\n",
      "\n",
      "           0       0.80      0.38      0.51        53\n",
      "           1       0.81      0.96      0.88       142\n",
      "\n",
      "    accuracy                           0.81       195\n",
      "   macro avg       0.80      0.67      0.70       195\n",
      "weighted avg       0.80      0.81      0.78       195\n",
      "\n"
     ]
    }
   ],
   "source": [
    "x_train, x_test, y_train, y_test = train_test_split(x, y, train_size=0.75, random_state=0)\r\n",
    "kmeans = KMeans(n_clusters=2, init=\"k-means++\", n_init=10, max_iter=100, random_state = None)\r\n",
    "kmeans.fit(x_train)\r\n",
    "predicted = kmeans.predict(x_test)\r\n",
    "print(accuracy_score(y_test, predicted))\r\n",
    "print(classification_report(y_test,predicted))"
   ]
  },
  {
   "cell_type": "code",
   "execution_count": 56,
   "metadata": {},
   "outputs": [
    {
     "name": "stdout",
     "output_type": "stream",
     "text": [
      "0.19487179487179487\n",
      "              precision    recall  f1-score   support\n",
      "\n",
      "           0       0.19      0.62      0.30        53\n",
      "           1       0.20      0.04      0.06       142\n",
      "\n",
      "    accuracy                           0.19       195\n",
      "   macro avg       0.20      0.33      0.18       195\n",
      "weighted avg       0.20      0.19      0.12       195\n",
      "\n"
     ]
    }
   ],
   "source": [
    "x_train, x_test, y_train, y_test = train_test_split(x, y, train_size=0.75, random_state=0)\r\n",
    "kmeans = KMeans(n_clusters=2, init=\"k-means++\", n_init=10, max_iter=400, random_state = None)\r\n",
    "kmeans.fit(x_train)\r\n",
    "predicted = kmeans.predict(x_test)\r\n",
    "print(accuracy_score(y_test, predicted))\r\n",
    "print(classification_report(y_test,predicted))"
   ]
  },
  {
   "cell_type": "code",
   "execution_count": 58,
   "metadata": {},
   "outputs": [
    {
     "name": "stdout",
     "output_type": "stream",
     "text": [
      "0.19487179487179487\n",
      "              precision    recall  f1-score   support\n",
      "\n",
      "           0       0.19      0.62      0.30        53\n",
      "           1       0.20      0.04      0.06       142\n",
      "\n",
      "    accuracy                           0.19       195\n",
      "   macro avg       0.20      0.33      0.18       195\n",
      "weighted avg       0.20      0.19      0.12       195\n",
      "\n"
     ]
    }
   ],
   "source": [
    "x_train, x_test, y_train, y_test = train_test_split(x, y, train_size=0.75, random_state=0)\r\n",
    "kmeans = KMeans(n_clusters=2, init=\"k-means++\", n_init=10, max_iter=500, random_state = None)\r\n",
    "kmeans.fit(x_train)\r\n",
    "predicted = kmeans.predict(x_test)\r\n",
    "print(accuracy_score(y_test, predicted))\r\n",
    "print(classification_report(y_test,predicted))"
   ]
  },
  {
   "cell_type": "markdown",
   "metadata": {},
   "source": [
    "Um aumento no valor de *max_iter* resultou em uma piora dos resultados."
   ]
  },
  {
   "cell_type": "markdown",
   "metadata": {},
   "source": [
    "#### Variando *random_state* da função \"*KMeans*\":"
   ]
  },
  {
   "cell_type": "code",
   "execution_count": 59,
   "metadata": {},
   "outputs": [
    {
     "name": "stdout",
     "output_type": "stream",
     "text": [
      "0.19487179487179487\n",
      "              precision    recall  f1-score   support\n",
      "\n",
      "           0       0.19      0.62      0.30        53\n",
      "           1       0.20      0.04      0.06       142\n",
      "\n",
      "    accuracy                           0.19       195\n",
      "   macro avg       0.20      0.33      0.18       195\n",
      "weighted avg       0.20      0.19      0.12       195\n",
      "\n"
     ]
    }
   ],
   "source": [
    "x_train, x_test, y_train, y_test = train_test_split(x, y, train_size=0.75, random_state=0)\r\n",
    "kmeans = KMeans(n_clusters=2, init=\"k-means++\", n_init=10, max_iter=300, random_state = 0)\r\n",
    "kmeans.fit(x_train)\r\n",
    "predicted = kmeans.predict(x_test)\r\n",
    "print(accuracy_score(y_test, predicted))\r\n",
    "print(classification_report(y_test,predicted))"
   ]
  },
  {
   "cell_type": "code",
   "execution_count": 60,
   "metadata": {},
   "outputs": [
    {
     "name": "stdout",
     "output_type": "stream",
     "text": [
      "0.19487179487179487\n",
      "              precision    recall  f1-score   support\n",
      "\n",
      "           0       0.19      0.62      0.30        53\n",
      "           1       0.20      0.04      0.06       142\n",
      "\n",
      "    accuracy                           0.19       195\n",
      "   macro avg       0.20      0.33      0.18       195\n",
      "weighted avg       0.20      0.19      0.12       195\n",
      "\n"
     ]
    }
   ],
   "source": [
    "x_train, x_test, y_train, y_test = train_test_split(x, y, train_size=0.75, random_state=0)\r\n",
    "kmeans = KMeans(n_clusters=2, init=\"k-means++\", n_init=10, max_iter=300, random_state = 1)\r\n",
    "kmeans.fit(x_train)\r\n",
    "predicted = kmeans.predict(x_test)\r\n",
    "print(accuracy_score(y_test, predicted))\r\n",
    "print(classification_report(y_test,predicted))"
   ]
  },
  {
   "cell_type": "code",
   "execution_count": 61,
   "metadata": {},
   "outputs": [
    {
     "name": "stdout",
     "output_type": "stream",
     "text": [
      "0.19487179487179487\n",
      "              precision    recall  f1-score   support\n",
      "\n",
      "           0       0.19      0.62      0.30        53\n",
      "           1       0.20      0.04      0.06       142\n",
      "\n",
      "    accuracy                           0.19       195\n",
      "   macro avg       0.20      0.33      0.18       195\n",
      "weighted avg       0.20      0.19      0.12       195\n",
      "\n"
     ]
    }
   ],
   "source": [
    "x_train, x_test, y_train, y_test = train_test_split(x, y, train_size=0.75, random_state=0)\r\n",
    "kmeans = KMeans(n_clusters=2, init=\"k-means++\", n_init=10, max_iter=300, random_state = 15)\r\n",
    "kmeans.fit(x_train)\r\n",
    "predicted = kmeans.predict(x_test)\r\n",
    "print(accuracy_score(y_test, predicted))\r\n",
    "print(classification_report(y_test,predicted))"
   ]
  },
  {
   "cell_type": "code",
   "execution_count": 62,
   "metadata": {},
   "outputs": [
    {
     "name": "stdout",
     "output_type": "stream",
     "text": [
      "0.19487179487179487\n",
      "              precision    recall  f1-score   support\n",
      "\n",
      "           0       0.19      0.62      0.30        53\n",
      "           1       0.20      0.04      0.06       142\n",
      "\n",
      "    accuracy                           0.19       195\n",
      "   macro avg       0.20      0.33      0.18       195\n",
      "weighted avg       0.20      0.19      0.12       195\n",
      "\n"
     ]
    }
   ],
   "source": [
    "x_train, x_test, y_train, y_test = train_test_split(x, y, train_size=0.75, random_state=0)\r\n",
    "kmeans = KMeans(n_clusters=2, init=\"k-means++\", n_init=10, max_iter=300, random_state = 42)\r\n",
    "kmeans.fit(x_train)\r\n",
    "predicted = kmeans.predict(x_test)\r\n",
    "print(accuracy_score(y_test, predicted))\r\n",
    "print(classification_report(y_test,predicted))"
   ]
  },
  {
   "cell_type": "markdown",
   "metadata": {},
   "source": [
    "Os resultados de *random_state=None* apresentaram-se os melhores entre os testados. O valor *None* significa que será usado a instância de estado aleatório global de *numpy.random*."
   ]
  },
  {
   "cell_type": "markdown",
   "metadata": {},
   "source": [
    "Portanto, os melhores resultados foram obtidos quando foram utilizados os parâmetros: *train_size=0.75*, *random_state* de *train_test_split* igual a 0 e *n_clusters=2*, *init=k-means++*, *n_init=10*, *max_iter=300* e *random_state* de *KMeans* igual a *None*."
   ]
  },
  {
   "cell_type": "markdown",
   "metadata": {},
   "source": [
    "### Tenta-se agora descobrir quais são as melhores variáveis para utilizar no banco de dados para tentar maximizar os resultados."
   ]
  },
  {
   "cell_type": "code",
   "execution_count": 63,
   "metadata": {},
   "outputs": [
    {
     "data": {
      "image/png": "[encoded data removed]",
      "text/plain": "<Figure size 432x288 with 1 Axes>"
     },
     "metadata": {
      "needs_background": "light"
     },
     "output_type": "display_data"
    }
   ],
   "source": [
    "from sklearn.ensemble import ExtraTreesClassifier\r\n",
    "import matplotlib.pyplot as plt\r\n",
    "model = ExtraTreesClassifier()\r\n",
    "model.fit(x,y)\r\n",
    "feat_importances = pd.Series(model.feature_importances_, index=x.columns)\r\n",
    "feat_importances.nlargest(12).plot(kind='barh')\r\n",
    "plt.show()"
   ]
  },
  {
   "cell_type": "markdown",
   "metadata": {},
   "source": [
    "### Irão ser utilizados somente as colunas \"*F.Undergrad*\", \"*Outstate*\" e \"*Enroll*\"."
   ]
  },
  {
   "cell_type": "code",
   "execution_count": 64,
   "metadata": {},
   "outputs": [],
   "source": [
    "data2 = pd.read_csv(\"College.csv\")\r\n",
    "data2.drop([\"Unnamed: 0\", \"Top10perc\", \"Expend\", \"Grad.Rate\", \"P.Undergrad\", \"Room.Board\", \"perc.alumni\", \"Accept\", \"Apps\", \"S.F.Ratio\"], axis=1, inplace=True)\r\n",
    "data2[\"Private\"].replace([\"Yes\", \"No\"], [1,0], inplace=True)\r\n",
    "x2 = data.drop(['Private'],axis=1)\r\n",
    "y2 = data[\"Private\"]"
   ]
  },
  {
   "cell_type": "markdown",
   "metadata": {},
   "source": [
    "### Realiza-se o experimento com os melhores parâmetros que foram obtidos anteriormente:"
   ]
  },
  {
   "cell_type": "code",
   "execution_count": 65,
   "metadata": {},
   "outputs": [
    {
     "name": "stdout",
     "output_type": "stream",
     "text": [
      "0.19487179487179487\n",
      "              precision    recall  f1-score   support\n",
      "\n",
      "           0       0.19      0.62      0.30        53\n",
      "           1       0.20      0.04      0.06       142\n",
      "\n",
      "    accuracy                           0.19       195\n",
      "   macro avg       0.20      0.33      0.18       195\n",
      "weighted avg       0.20      0.19      0.12       195\n",
      "\n"
     ]
    }
   ],
   "source": [
    "x2_train, x2_test, y2_train, y2_test = train_test_split(x2, y2, train_size=0.75, random_state=0)\r\n",
    "kmeans2 = KMeans(n_clusters=2, init=\"k-means++\", n_init=10, max_iter=300, random_state = None)\r\n",
    "kmeans2.fit(x2_train)\r\n",
    "predicted2 = kmeans.predict(x2_test)\r\n",
    "print(accuracy_score(y2_test, predicted2))\r\n",
    "print(classification_report(y2_test,predicted2))"
   ]
  },
  {
   "cell_type": "markdown",
   "metadata": {},
   "source": [
    "Infelizmente com esse novo banco de dados não foi possível melhorar os resultados."
   ]
  }
 ],
 "metadata": {
  "kernelspec": {
   "display_name": "Python 3.9.2 64-bit",
   "name": "python392jvsc74a57bd0164f2195870a93dcfc5b5688fd4b0543bb175c2b9b9c7abceea5fe478d22057f"
  },
  "language_info": {
   "codemirror_mode": {
    "name": "ipython",
    "version": 3
   },
   "file_extension": ".py",
   "mimetype": "text/x-python",
   "name": "python",
   "nbconvert_exporter": "python",
   "pygments_lexer": "ipython3",
   "version": "3.9.4"
  },
  "metadata": {
   "interpreter": {
    "hash": "164f2195870a93dcfc5b5688fd4b0543bb175c2b9b9c7abceea5fe478d22057f"
   }
  },
  "orig_nbformat": 2
 },
 "nbformat": 4,
 "nbformat_minor": 2
}